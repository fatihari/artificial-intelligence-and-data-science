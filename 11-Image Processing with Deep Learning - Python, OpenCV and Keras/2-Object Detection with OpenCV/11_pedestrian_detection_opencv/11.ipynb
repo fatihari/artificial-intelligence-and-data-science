{
 "cells": [
  {
   "cell_type": "code",
   "execution_count": 1,
   "metadata": {},
   "outputs": [],
   "source": [
    "import cv2\n",
    "import os"
   ]
  },
  {
   "cell_type": "code",
   "execution_count": 2,
   "metadata": {},
   "outputs": [
    {
     "data": {
      "text/plain": [
       "['11.ipynb', 'img', 'Yaya Algılama.py']"
      ]
     },
     "execution_count": 2,
     "metadata": {},
     "output_type": "execute_result"
    }
   ],
   "source": [
    "files = os.listdir()\n",
    "files"
   ]
  },
  {
   "cell_type": "code",
   "execution_count": 3,
   "metadata": {},
   "outputs": [
    {
     "data": {
      "text/plain": [
       "['img1.jpg', 'img2.jpg', 'img3.jpg']"
      ]
     },
     "execution_count": 3,
     "metadata": {},
     "output_type": "execute_result"
    }
   ],
   "source": [
    "files = os.listdir(\"img\")\n",
    "files"
   ]
  },
  {
   "cell_type": "code",
   "execution_count": 4,
   "metadata": {},
   "outputs": [
    {
     "data": {
      "text/plain": [
       "['img/img1.jpg', 'img/img2.jpg', 'img/img3.jpg']"
      ]
     },
     "execution_count": 4,
     "metadata": {},
     "output_type": "execute_result"
    }
   ],
   "source": [
    "img_path_list = []\n",
    "\n",
    "for f in files:\n",
    "    if f.endswith(\".jpg\"):\n",
    "        img_path_list.append('img/{}'.format(f))\n",
    "\n",
    "img_path_list"
   ]
  },
  {
   "cell_type": "code",
   "execution_count": 5,
   "metadata": {},
   "outputs": [],
   "source": [
    "# HOG Descriptor\n",
    "hog = cv2.HOGDescriptor()"
   ]
  },
  {
   "cell_type": "code",
   "execution_count": 6,
   "metadata": {},
   "outputs": [],
   "source": [
    "# add SVM Classifier to descriptor\n",
    "hog.setSVMDetector(cv2.HOGDescriptor_getDefaultPeopleDetector())"
   ]
  },
  {
   "cell_type": "code",
   "execution_count": 7,
   "metadata": {},
   "outputs": [
    {
     "name": "stdout",
     "output_type": "stream",
     "text": [
      "img/img1.jpg\n",
      "img/img2.jpg\n",
      "img/img3.jpg\n"
     ]
    }
   ],
   "source": [
    "for imagePath in img_path_list:\n",
    "    print(imagePath)\n",
    "    \n",
    "    image = cv2.imread(imagePath)\n",
    "\n",
    "    cv2.imshow(\"Pedestrian: \", image)\n",
    "\n",
    "    if cv2.waitKey(0) == ord(\"w\"): continue\n",
    "\n",
    "cv2.destroyAllWindows()"
   ]
  },
  {
   "cell_type": "code",
   "execution_count": 8,
   "metadata": {},
   "outputs": [
    {
     "name": "stdout",
     "output_type": "stream",
     "text": [
      "img/img1.jpg\n",
      "img/img2.jpg\n",
      "img/img3.jpg\n"
     ]
    }
   ],
   "source": [
    "for imagePath in img_path_list:\n",
    "    print(imagePath)\n",
    "    \n",
    "    image = cv2.imread(imagePath)\n",
    "    \n",
    "    # resmi padding 8x8 ile dolaşırken etrafındaki boşlukları 0 ile dolduruyor böylece veri kaybı yok.\n",
    "    (rectangles, weights) = hog.detectMultiScale(image, padding = (8,8), scale = 1.05) \n",
    "    \n",
    "    for (x,y,w,h) in rectangles:\n",
    "        cv2.rectangle(image, (x,y),(x+w,y+h),(0,0,255), 2)\n",
    "         \n",
    "    cv2.imshow(\"Pedestrian: \", image)\n",
    "    \n",
    "    if cv2.waitKey(0) == ord(\"q\"): continue\n",
    "\n",
    "cv2.destroyAllWindows()"
   ]
  }
 ],
 "metadata": {
  "interpreter": {
   "hash": "74156147804e2a01f94a3790aedbb2aa695f9a428eee8a505618a6d74e6c12c0"
  },
  "kernelspec": {
   "display_name": "Python 3.9.12 ('base')",
   "language": "python",
   "name": "python3"
  },
  "language_info": {
   "codemirror_mode": {
    "name": "ipython",
    "version": 3
   },
   "file_extension": ".py",
   "mimetype": "text/x-python",
   "name": "python",
   "nbconvert_exporter": "python",
   "pygments_lexer": "ipython3",
   "version": "3.9.12"
  },
  "orig_nbformat": 4
 },
 "nbformat": 4,
 "nbformat_minor": 2
}
