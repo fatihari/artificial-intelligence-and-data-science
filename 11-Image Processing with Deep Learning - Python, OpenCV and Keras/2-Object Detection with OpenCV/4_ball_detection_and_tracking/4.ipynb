{
 "cells": [
  {
   "cell_type": "markdown",
   "metadata": {},
   "source": [
    "<img src=\"img/contour.png\">\n",
    "<img src=\"img/rgb_hsv.png\">"
   ]
  },
  {
   "cell_type": "code",
   "execution_count": 1,
   "metadata": {},
   "outputs": [],
   "source": [
    "import cv2\n",
    "import numpy as np\n",
    "from collections import deque #liste benzer circular queue"
   ]
  },
  {
   "cell_type": "code",
   "execution_count": 2,
   "metadata": {},
   "outputs": [],
   "source": [
    "# nesne merkezini depolayacak veri tipi\n",
    "buffer_size = 16 #  dequeuenun boyutu her zaman verilmeli.\n",
    "pts = deque(maxlen = buffer_size) # 16 boyutlu bir list"
   ]
  },
  {
   "cell_type": "code",
   "execution_count": 3,
   "metadata": {},
   "outputs": [],
   "source": [
    "# mavi renk aralığı HSV(Hue, Saturation, Value) = (Ton, Doygunluk, Parlaklık)\n",
    "blueLower = (84,  98,  0)\n",
    "blueUpper = (179, 255, 255)"
   ]
  },
  {
   "cell_type": "code",
   "execution_count": 4,
   "metadata": {},
   "outputs": [
    {
     "data": {
      "text/plain": [
       "True"
      ]
     },
     "execution_count": 4,
     "metadata": {},
     "output_type": "execute_result"
    }
   ],
   "source": [
    "# capture\n",
    "cap = cv2.VideoCapture(0) # 480x960\n",
    "cap.set(3, 960)\n",
    "cap.set(4, 480)"
   ]
  },
  {
   "cell_type": "code",
   "execution_count": 6,
   "metadata": {},
   "outputs": [],
   "source": [
    "while True:\n",
    "    \n",
    "    success, imgOriginal = cap.read() # okuyama başarılıysa success = True\n",
    "    \n",
    "    if success: \n",
    "        \n",
    "        # blur\n",
    "        blurred = cv2.GaussianBlur(imgOriginal, (11,11), 0) \n",
    "        \n",
    "        # hsv\n",
    "        hsv = cv2.cvtColor(blurred, cv2.COLOR_BGR2HSV)\n",
    "        cv2.imshow(\"HSV Image\",hsv)\n",
    "        \n",
    "        # mavi için maske oluştur\n",
    "        mask = cv2.inRange(hsv, blueLower, blueUpper)\n",
    "        cv2.imshow(\"mask Image\",mask)\n",
    "        # maskenin etrafında kalan gürültüleri sil\n",
    "        mask = cv2.erode(mask, None, iterations = 2)\n",
    "        mask = cv2.dilate(mask, None, iterations = 2)\n",
    "        cv2.imshow(\"Mask + erozyon ve genisleme\",mask)\n",
    "        \n",
    "        # farklı sürüm için\n",
    "        # (_, contours,_) = cv2.findContours(mask.copy(), cv2.RETR_EXTERNAL, cv2.CHAIN_APPROX_SIMPLE)\n",
    "\n",
    "        # kontur\n",
    "        (contours,_) = cv2.findContours(mask.copy(), cv2.RETR_EXTERNAL, cv2.CHAIN_APPROX_SIMPLE)\n",
    "        center = None\n",
    "\n",
    "        if len(contours) > 0: # mavi nesneler varsa\n",
    "            \n",
    "            # en buyuk konturu al\n",
    "            c = max(contours, key = cv2.contourArea) # tüm mavi alanı alır.\n",
    "            \n",
    "            # dikdörtgene çevir \n",
    "            rect = cv2.minAreaRect(c) # konturu kapsayan minimum rectangle\n",
    "            \n",
    "            ((x,y), (width,height), rotation) = rect\n",
    "            \n",
    "            s = \"x: {}, y: {}, width: {}, height: {}, rotation: {}\".format(np.round(x), np.round(y), np.round(width), np.round(height), np.round(rotation))\n",
    "            \n",
    "            # kutucuk\n",
    "            box = cv2.boxPoints(rect)\n",
    "            box = np.int64(box)\n",
    "            \n",
    "            # moment # görüntünün merkezini bulmamızı sağlıyor\n",
    "            M = cv2.moments(c)\n",
    "            center = (int(M[\"m10\"]/M[\"m00\"]), int(M[\"m01\"]/M[\"m00\"])) # m10=1,0 point\n",
    "            \n",
    "            # konturu çizdir: sarı\n",
    "            cv2.drawContours(imgOriginal, [box], 0, (0,255,255),2)\n",
    "            \n",
    "            # merkeze bir tane nokta çizelim: pembe\n",
    "            cv2.circle(imgOriginal, center, 5, (255,0,255),-1)\n",
    "            \n",
    "            # bilgileri ekrana yazdır\n",
    "            cv2.putText(imgOriginal, s, (25,50), cv2.FONT_HERSHEY_COMPLEX_SMALL, 1, (255,255,255), 2)\n",
    "            \n",
    "            \n",
    "        # deque\n",
    "        pts.appendleft(center)\n",
    "        \n",
    "        for i in range(1, len(pts)):\n",
    "            \n",
    "            if pts[i-1] is None or pts[i] is None: continue\n",
    "        \n",
    "            cv2.line(imgOriginal, pts[i-1], pts[i],(0,255,0),3) # \n",
    "            \n",
    "        cv2.imshow(\"Orijinal Tespit\",imgOriginal)\n",
    "        \n",
    "    if cv2.waitKey(1) == ord(\"q\"): \n",
    "        cv2.destroyAllWindows()\n",
    "        break"
   ]
  }
 ],
 "metadata": {
  "interpreter": {
   "hash": "74156147804e2a01f94a3790aedbb2aa695f9a428eee8a505618a6d74e6c12c0"
  },
  "kernelspec": {
   "display_name": "Python 3.9.12 ('base')",
   "language": "python",
   "name": "python3"
  },
  "language_info": {
   "codemirror_mode": {
    "name": "ipython",
    "version": 3
   },
   "file_extension": ".py",
   "mimetype": "text/x-python",
   "name": "python",
   "nbconvert_exporter": "python",
   "pygments_lexer": "ipython3",
   "version": "3.9.12"
  },
  "orig_nbformat": 4
 },
 "nbformat": 4,
 "nbformat_minor": 2
}
