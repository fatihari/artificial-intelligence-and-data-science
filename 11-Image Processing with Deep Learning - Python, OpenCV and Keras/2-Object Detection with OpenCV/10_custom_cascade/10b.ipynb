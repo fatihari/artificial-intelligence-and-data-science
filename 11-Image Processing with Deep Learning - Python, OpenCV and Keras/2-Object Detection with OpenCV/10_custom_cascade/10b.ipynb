{
 "cells": [
  {
   "cell_type": "markdown",
   "metadata": {},
   "source": [
    "## Detection Algorithm Using Cascade"
   ]
  },
  {
   "cell_type": "code",
   "execution_count": null,
   "metadata": {},
   "outputs": [],
   "source": [
    "import cv2"
   ]
  },
  {
   "cell_type": "code",
   "execution_count": null,
   "metadata": {},
   "outputs": [],
   "source": [
    "cascade = cv2.CascadeClassifier(\"data/classifier/cascade.xml\")"
   ]
  },
  {
   "cell_type": "code",
   "execution_count": null,
   "metadata": {},
   "outputs": [],
   "source": [
    "objectName = \"Keyboard\"\n",
    "frameWidth = 280\n",
    "frameHeight = 360\n",
    "color = (255,0,0)"
   ]
  },
  {
   "cell_type": "code",
   "execution_count": null,
   "metadata": {},
   "outputs": [],
   "source": [
    "cap = cv2.VideoCapture(0)\n",
    "cap.set(3,frameWidth)\n",
    "cap.set(4,frameHeight)"
   ]
  },
  {
   "cell_type": "code",
   "execution_count": null,
   "metadata": {},
   "outputs": [],
   "source": [
    "def empty(a):pass"
   ]
  },
  {
   "cell_type": "code",
   "execution_count": null,
   "metadata": {},
   "outputs": [],
   "source": [
    "# trackbar\n",
    "cv2.namedWindow(\"Result\")\n",
    "cv2.resizeWindow(\"Result\", frameWidth, frameHeight + 100)\n",
    "cv2.createTrackbar(\"Scale\",\"Result\", 400, 1000, empty)\n",
    "cv2.createTrackbar(\"Neighbor\",\"Result\", 4, 50, empty)"
   ]
  },
  {
   "cell_type": "code",
   "execution_count": null,
   "metadata": {},
   "outputs": [],
   "source": [
    "while True:\n",
    "    \n",
    "    # read img\n",
    "    success, img = cap.read()\n",
    "    \n",
    "    if success:\n",
    "        # convert bgr2gray\n",
    "        gray = cv2.cvtColor(img, cv2.COLOR_BGR2GRAY)\n",
    "        \n",
    "        # detection parameters\n",
    "        scaleVal = 1 + (cv2.getTrackbarPos(\"Scale\",\"Result\")/1000)\n",
    "        neighbor = cv2.getTrackbarPos(\"Neighbor\",\"Result\")\n",
    "        # detectiom\n",
    "        rects = cascade.detectMultiScale(gray, scaleVal, neighbor)\n",
    "    \n",
    "        for (x,y,w,h) in rects:\n",
    "            \n",
    "            cv2.rectangle(img, (x,y),(x+w,y+h), color, 3)\n",
    "            cv2.putText(img, objectName, (x, y-5), cv2.FONT_HERSHEY_COMPLEX_SMALL, 1, color, 2)\n",
    "            \n",
    "        cv2.imshow(\"Result\", img)\n",
    "    \n",
    "    if cv2.waitKey(1) == ord(\"q\"): break"
   ]
  }
 ],
 "metadata": {
  "interpreter": {
   "hash": "74156147804e2a01f94a3790aedbb2aa695f9a428eee8a505618a6d74e6c12c0"
  },
  "kernelspec": {
   "display_name": "Python 3.9.12 ('base')",
   "language": "python",
   "name": "python3"
  },
  "language_info": {
   "codemirror_mode": {
    "name": "ipython",
    "version": 3
   },
   "file_extension": ".py",
   "mimetype": "text/x-python",
   "name": "python",
   "nbconvert_exporter": "python",
   "pygments_lexer": "ipython3",
   "version": "3.9.12"
  },
  "orig_nbformat": 4
 },
 "nbformat": 4,
 "nbformat_minor": 2
}
