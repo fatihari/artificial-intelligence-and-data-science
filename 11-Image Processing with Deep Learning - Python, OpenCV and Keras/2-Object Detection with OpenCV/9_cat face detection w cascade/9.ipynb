{
 "cells": [
  {
   "cell_type": "markdown",
   "metadata": {},
   "source": [
    "<img src=\"img/face_summary.png\">\n",
    "\n",
    "haar cascade: https://github.com/opencv/opencv/tree/master/data/haarcascades"
   ]
  },
  {
   "cell_type": "code",
   "execution_count": 1,
   "metadata": {},
   "outputs": [],
   "source": [
    "import cv2\n",
    "import os"
   ]
  },
  {
   "cell_type": "markdown",
   "metadata": {},
   "source": [
    "## 0-Import Cat Face Classifier"
   ]
  },
  {
   "cell_type": "code",
   "execution_count": 2,
   "metadata": {},
   "outputs": [],
   "source": [
    "detector = cv2.CascadeClassifier(\"haarcascade_frontalcatface_extended.xml\")"
   ]
  },
  {
   "cell_type": "markdown",
   "metadata": {},
   "source": [
    "## 1-Read All Images"
   ]
  },
  {
   "cell_type": "code",
   "execution_count": 3,
   "metadata": {},
   "outputs": [
    {
     "name": "stdout",
     "output_type": "stream",
     "text": [
      "['9.ipynb', 'haarcascade_frontalcatface.xml', 'haarcascade_frontalcatface_extended.xml', 'img', 'Kedi Yüzü Tanıma Projesi.py'] \n",
      "\n",
      "['cat_img1.jpg', 'cat_img2.jpg', 'cat_img3.jpg', 'einstein.jpg', 'face_summary.png']\n"
     ]
    }
   ],
   "source": [
    "files = os.listdir()\n",
    "print(files, \"\\n\")\n",
    "\n",
    "files = os.listdir('img')\n",
    "print(files)"
   ]
  },
  {
   "cell_type": "code",
   "execution_count": 4,
   "metadata": {},
   "outputs": [
    {
     "name": "stdout",
     "output_type": "stream",
     "text": [
      "files[0]: cat_img1.jpg \n",
      "\n",
      "cat_img1.jpg\n",
      "cat_img2.jpg\n",
      "cat_img3.jpg\n",
      "einstein.jpg\n",
      "face_summary.png\n"
     ]
    }
   ],
   "source": [
    "print(\"files[0]:\", files[0], \"\\n\")\n",
    "\n",
    "for f in files:\n",
    "    print(f)"
   ]
  },
  {
   "cell_type": "code",
   "execution_count": 5,
   "metadata": {},
   "outputs": [
    {
     "name": "stdout",
     "output_type": "stream",
     "text": [
      "['img/cat_img1.jpg', 'img/cat_img2.jpg', 'img/cat_img3.jpg', 'img/einstein.jpg']\n"
     ]
    }
   ],
   "source": [
    "img_path_list = []\n",
    "for f in files:\n",
    "    if f.endswith(\".jpg\"): \n",
    "        img_path_list.append(\"img/{}\".format(f))\n",
    "print(img_path_list)"
   ]
  },
  {
   "cell_type": "markdown",
   "metadata": {},
   "source": [
    "## 2-Visualize Images"
   ]
  },
  {
   "cell_type": "code",
   "execution_count": 6,
   "metadata": {},
   "outputs": [
    {
     "name": "stdout",
     "output_type": "stream",
     "text": [
      "img/cat_img1.jpg\n",
      "img/cat_img2.jpg\n",
      "img/cat_img3.jpg\n",
      "img/einstein.jpg\n"
     ]
    }
   ],
   "source": [
    "for i in img_path_list:\n",
    "    print(i)"
   ]
  },
  {
   "cell_type": "code",
   "execution_count": 7,
   "metadata": {},
   "outputs": [
    {
     "name": "stdout",
     "output_type": "stream",
     "text": [
      "img/cat_img1.jpg\n",
      "img/cat_img2.jpg\n",
      "img/cat_img3.jpg\n",
      "img/einstein.jpg\n"
     ]
    }
   ],
   "source": [
    "for i in img_path_list:\n",
    "    print(i)\n",
    "    image = cv2.imread(i)\n",
    "    cv2.imshow(i, image)\n",
    "\n",
    "    if cv2.waitKey(0) == ord(\"w\"): continue\n",
    "    elif cv2.waitKey(0) == ord(\"q\"): break\n",
    "\n",
    "cv2.destroyAllWindows()"
   ]
  },
  {
   "cell_type": "code",
   "execution_count": 8,
   "metadata": {},
   "outputs": [
    {
     "name": "stdout",
     "output_type": "stream",
     "text": [
      "img/cat_img1.jpg\n",
      "img/cat_img2.jpg\n",
      "img/cat_img3.jpg\n",
      "img/einstein.jpg\n"
     ]
    }
   ],
   "source": [
    "for i in img_path_list:\n",
    "    print(i)\n",
    "    image = cv2.imread(i)\n",
    "    gray_image = cv2.cvtColor(image, cv2.COLOR_BGR2GRAY)\n",
    "\n",
    "    # scaleFactor = resmi scale eder, çok az yaklaştırlır.\n",
    "    rectangles = detector.detectMultiScale(gray_image, scaleFactor = 1.045, minNeighbors = 2)\n",
    "\n",
    "    for (j, (x,y,w,h)) in enumerate(rectangles):\n",
    "        cv2.rectangle(image, pt1 = (x,y), pt2 = (x+w,y+h), color = (0,255,255), thickness = 2)        \n",
    "        cv2.putText(image, \"Cat {}\".format(j+1), (x,y-10), cv2.FONT_HERSHEY_SIMPLEX, fontScale = 0.55, color =(0,255,255), thickness = 2)\n",
    "\n",
    "    cv2.imshow(i, image)\n",
    "\n",
    "    if cv2.waitKey(0) == ord(\"w\"): continue\n",
    "    elif cv2.waitKey(0) == ord(\"q\"): break\n",
    "\n",
    "cv2.destroyAllWindows()"
   ]
  }
 ],
 "metadata": {
  "interpreter": {
   "hash": "74156147804e2a01f94a3790aedbb2aa695f9a428eee8a505618a6d74e6c12c0"
  },
  "kernelspec": {
   "display_name": "Python 3.9.12 ('base')",
   "language": "python",
   "name": "python3"
  },
  "language_info": {
   "codemirror_mode": {
    "name": "ipython",
    "version": 3
   },
   "file_extension": ".py",
   "mimetype": "text/x-python",
   "name": "python",
   "nbconvert_exporter": "python",
   "pygments_lexer": "ipython3",
   "version": "3.9.12"
  },
  "orig_nbformat": 4
 },
 "nbformat": 4,
 "nbformat_minor": 2
}
