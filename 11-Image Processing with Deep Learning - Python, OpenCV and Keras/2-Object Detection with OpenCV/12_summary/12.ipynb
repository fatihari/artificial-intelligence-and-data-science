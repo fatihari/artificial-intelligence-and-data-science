{
 "cells": [
  {
   "cell_type": "code",
   "execution_count": 1,
   "metadata": {},
   "outputs": [],
   "source": [
    "import cv2\n",
    "import numpy as np"
   ]
  },
  {
   "cell_type": "code",
   "execution_count": 2,
   "metadata": {},
   "outputs": [],
   "source": [
    "image = cv2.imread(\"summary.jpg\", 0)"
   ]
  },
  {
   "cell_type": "code",
   "execution_count": 3,
   "metadata": {},
   "outputs": [],
   "source": [
    "cv2.imshow('Pedestrians',image)\n",
    "\n",
    "if cv2.waitKey(0) == ord(\"q\"): cv2.destroyAllWindows()"
   ]
  },
  {
   "cell_type": "code",
   "execution_count": 5,
   "metadata": {},
   "outputs": [],
   "source": [
    "# edge detection and visualize\n",
    "edges = cv2.Canny(image = image, threshold1 = 150, threshold2 = 255)\n",
    "cv2.imshow('Edge Detection', edges)\n",
    "\n",
    "if cv2.waitKey(0) == ord(\"q\"): cv2.destroyAllWindows()"
   ]
  },
  {
   "cell_type": "code",
   "execution_count": null,
   "metadata": {},
   "outputs": [],
   "source": [
    "cv2.imshow('Pedestrians',image)\n",
    "\n",
    "if cv2.waitKey(0) == ord(\"q\"): cv2.destroyAllWindows()"
   ]
  },
  {
   "cell_type": "code",
   "execution_count": 6,
   "metadata": {},
   "outputs": [],
   "source": [
    "# haar cascade classifier\n",
    "face_cascade = cv2.CascadeClassifier(\"haarcascade_frontalface_default.xml\")"
   ]
  },
  {
   "cell_type": "code",
   "execution_count": 14,
   "metadata": {},
   "outputs": [],
   "source": [
    "# detection face and show result with rectangles in image\n",
    "face_rect = face_cascade.detectMultiScale(image, minNeighbors = 3)\n",
    "for (x,y,w,h) in face_rect:\n",
    "    cv2.rectangle(image,(x,y),(x+w,y+h),(255,255,255),10)\n",
    "cv2.imshow(\"Face Detection\", image)\n",
    "\n",
    "if cv2.waitKey(0) == ord(\"q\"): cv2.destroyAllWindows()"
   ]
  },
  {
   "cell_type": "code",
   "execution_count": 7,
   "metadata": {},
   "outputs": [],
   "source": [
    "# creaete hog descriptor for human detection\n",
    "hog = cv2.HOGDescriptor()\n",
    "hog.setSVMDetector(cv2.HOGDescriptor_getDefaultPeopleDetector())"
   ]
  },
  {
   "cell_type": "code",
   "execution_count": 11,
   "metadata": {},
   "outputs": [],
   "source": [
    "image2 = cv2.imread(\"summary.jpg\", 0)"
   ]
  },
  {
   "cell_type": "code",
   "execution_count": 12,
   "metadata": {},
   "outputs": [],
   "source": [
    "# detection human and show result with rectangles in image\n",
    "(rects, weights) = hog.detectMultiScale(image2, padding=(8, 8), scale=1.05)\n",
    "\n",
    "for (xA, yA, xB, yB) in rects:\n",
    "    cv2.rectangle(image2, (xA, yA), (xB, yB), (255, 255, 255), 2)\n",
    "\t\n",
    "cv2.imshow(\"Human Detection\", image2)\n",
    "\n",
    "if cv2.waitKey(0) == ord(\"q\"): cv2.destroyAllWindows()"
   ]
  },
  {
   "cell_type": "markdown",
   "metadata": {},
   "source": [
    "- Hog Descriptor ile insan tespiti çok başarılı değildir. İleride çok daha başarılı algortimalar görülecektir."
   ]
  }
 ],
 "metadata": {
  "interpreter": {
   "hash": "74156147804e2a01f94a3790aedbb2aa695f9a428eee8a505618a6d74e6c12c0"
  },
  "kernelspec": {
   "display_name": "Python 3.9.12 ('base')",
   "language": "python",
   "name": "python3"
  },
  "language_info": {
   "codemirror_mode": {
    "name": "ipython",
    "version": 3
   },
   "file_extension": ".py",
   "mimetype": "text/x-python",
   "name": "python",
   "nbconvert_exporter": "python",
   "pygments_lexer": "ipython3",
   "version": "3.9.12"
  },
  "orig_nbformat": 4
 },
 "nbformat": 4,
 "nbformat_minor": 2
}
