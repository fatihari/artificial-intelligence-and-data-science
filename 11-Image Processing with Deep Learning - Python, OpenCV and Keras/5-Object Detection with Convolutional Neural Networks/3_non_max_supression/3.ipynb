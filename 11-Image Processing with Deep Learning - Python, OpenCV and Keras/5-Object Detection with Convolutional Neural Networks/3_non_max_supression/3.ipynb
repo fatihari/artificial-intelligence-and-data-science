{
 "cells": [
  {
   "cell_type": "markdown",
   "metadata": {},
   "source": [
    "<img src=\"images/non_max.png\" style=\"height: 500px\">"
   ]
  },
  {
   "cell_type": "code",
   "execution_count": 1,
   "metadata": {},
   "outputs": [],
   "source": [
    "import numpy as np\n",
    "import cv2"
   ]
  },
  {
   "cell_type": "markdown",
   "metadata": {},
   "source": [
    "- overlapThresh => kutuların kesişimlerini bulduktan sonra bir thresholddan geçirilir."
   ]
  },
  {
   "cell_type": "code",
   "execution_count": 2,
   "metadata": {},
   "outputs": [],
   "source": [
    "def non_max_suppression(boxes, probs = None, overlapThresh = 0.3):\n",
    "    \n",
    "    if len(boxes) == 0: # for precautionary purposes\n",
    "        return []\n",
    "    \n",
    "    if boxes.dtype.kind == \"i\": # for precautionary purposes\n",
    "        boxes = boxes.astype(\"float\") # if type int => convert float\n",
    "        \n",
    "    # initial box values\n",
    "    x1 = boxes[:,0]\n",
    "    y1 = boxes[:,1]\n",
    "\n",
    "    # finite box values\n",
    "    x2 = boxes[:,2]\n",
    "    y2 = boxes[:,3]\n",
    "    \n",
    "    # find area\n",
    "    area = (x2 - x1 + 1) * (y2 - y1 + 1)\n",
    "    \n",
    "    idxs = y2 # right bottom\n",
    "    \n",
    "    # probability values\n",
    "    if probs is not None:\n",
    "        idxs = probs\n",
    "        \n",
    "    # sorting index\n",
    "    idxs = np.argsort(idxs) # sorting index by probability values \n",
    "    \n",
    "    pick = [] # chosen boxes\n",
    "    \n",
    "    while len(idxs) > 0:\n",
    "        \n",
    "        last = len(idxs) - 1 # last index\n",
    "        i = idxs[last] # last value\n",
    "        pick.append(i) # add last value to box named pick.\n",
    "        \n",
    "        # max and min (x,y)\n",
    "        x1_max = np.maximum(x1[i], x1[idxs[:last]])\n",
    "        y1_max = np.maximum(y1[i], y1[idxs[:last]])\n",
    "        x2_min = np.minimum(x2[i], x2[idxs[:last]])\n",
    "        y2_min = np.minimum(y2[i], y2[idxs[:last]])\n",
    "        \n",
    "        # find weight and height of the rectangle.\n",
    "        w = np.maximum(0, x2_min - x1_max + 1)\n",
    "        h = np.maximum(0, y2_min - y1_max + 1)\n",
    "        \n",
    "        # overlap = intersection / union\n",
    "        overlap = (w*h)/area[idxs[0:last]]\n",
    "        \n",
    "        # delete values below a certain threshold value\n",
    "        # np.where => which index? :)\n",
    "        idxs = np.delete(idxs, np.concatenate(([last], np.where(overlap > overlapThresh)[0])))\n",
    "        \n",
    "    return boxes[pick].astype(\"int\")"
   ]
  }
 ],
 "metadata": {
  "interpreter": {
   "hash": "74156147804e2a01f94a3790aedbb2aa695f9a428eee8a505618a6d74e6c12c0"
  },
  "kernelspec": {
   "display_name": "Python 3.9.12 ('base')",
   "language": "python",
   "name": "python3"
  },
  "language_info": {
   "codemirror_mode": {
    "name": "ipython",
    "version": 3
   },
   "file_extension": ".py",
   "mimetype": "text/x-python",
   "name": "python",
   "nbconvert_exporter": "python",
   "pygments_lexer": "ipython3",
   "version": "3.9.12"
  },
  "orig_nbformat": 4
 },
 "nbformat": 4,
 "nbformat_minor": 2
}
