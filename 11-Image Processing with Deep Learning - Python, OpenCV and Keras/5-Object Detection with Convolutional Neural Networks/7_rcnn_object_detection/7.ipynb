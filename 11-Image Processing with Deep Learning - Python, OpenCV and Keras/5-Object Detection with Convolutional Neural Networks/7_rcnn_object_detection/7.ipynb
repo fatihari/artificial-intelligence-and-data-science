{
 "cells": [
  {
   "cell_type": "markdown",
   "metadata": {},
   "source": [
    "<img src=\"images/rcnn.png\" style=\"height: 400px\">"
   ]
  },
  {
   "cell_type": "code",
   "execution_count": 10,
   "metadata": {},
   "outputs": [],
   "source": [
    "import cv2\n",
    "import cv2.ximgproc.segmentation as segmentation\n",
    "import numpy as np\n",
    "import random\n",
    "from tensorflow.keras.preprocessing.image import img_to_array\n",
    "from keras.models import load_model"
   ]
  },
  {
   "cell_type": "code",
   "execution_count": 3,
   "metadata": {},
   "outputs": [],
   "source": [
    "image = cv2.imread(\"images/mnist.png\")\n",
    "cv2.imshow(\"Digits\", image)\n",
    "\n",
    "if cv2.waitKey(0) == ord(\"q\"): \n",
    "    cv2.destroyAllWindows()"
   ]
  },
  {
   "cell_type": "markdown",
   "metadata": {},
   "source": [
    "## 1-Create Selective Search Method"
   ]
  },
  {
   "cell_type": "code",
   "execution_count": 6,
   "metadata": {},
   "outputs": [],
   "source": [
    "def selective_search(image):\n",
    "    print(\"ss\")\n",
    "\n",
    "    # initiliaze selective search segmantation algorithm\n",
    "    ss = segmentation.createSelectiveSearchSegmentation()\n",
    "    ss.setBaseImage(image)\n",
    "    ss.switchToSelectiveSearchQuality()\n",
    "    \n",
    "    print(\"Segmentation started...\")\n",
    "    rects = ss.process()\n",
    "    print(\"\\nSegmentation has completed succesfully...\")\n",
    "\n",
    "    print(\"Length of segmentations:\", len(rects))\n",
    "    \n",
    "    return rects[:100] # first 100 rectangles"
   ]
  },
  {
   "cell_type": "markdown",
   "metadata": {},
   "source": [
    "## 2-Applying Selective Search"
   ]
  },
  {
   "cell_type": "code",
   "execution_count": 7,
   "metadata": {},
   "outputs": [
    {
     "name": "stdout",
     "output_type": "stream",
     "text": [
      "ss\n",
      "Segmentation started...\n",
      "\n",
      "Segmentation has completed succesfully...\n",
      "Length of segmentations: 877\n"
     ]
    }
   ],
   "source": [
    "rects = selective_search(image)"
   ]
  },
  {
   "cell_type": "markdown",
   "metadata": {},
   "source": [
    "## 3-Find Region of Interest (ROI)"
   ]
  },
  {
   "cell_type": "code",
   "execution_count": 14,
   "metadata": {},
   "outputs": [],
   "source": [
    "proposals = []\n",
    "boxes = []\n",
    "output = image.copy()\n",
    "\n",
    "for (x,y,w,h) in rects[:50]:\n",
    "    \n",
    "    color = [random.randint(0,255) for j in range(0,3)]\n",
    "    cv2.rectangle(output, (x,y), (x+w,y+h),color, 2)\n",
    "    \n",
    "    roi = image[y:y+h,x:x+w]\n",
    "    roi = cv2.resize(roi, dsize=(32,32), interpolation = cv2.INTER_LANCZOS4) # resmi küçültürken aradaki boşlukları nasıl dolduracağını belirtir.\n",
    "    roi = cv2.cvtColor(roi, cv2.COLOR_BGR2GRAY)\n",
    "    \n",
    "    roi = img_to_array(roi)\n",
    "    \n",
    "    proposals.append(roi)\n",
    "    boxes.append((x,y,w+x,h+y))\n",
    "\n",
    "proposals = np.array(proposals, dtype = \"float64\")    \n",
    "boxes = np.array(boxes, dtype = \"int32\")   "
   ]
  },
  {
   "cell_type": "markdown",
   "metadata": {},
   "source": [
    "## 4-Read Existing Model"
   ]
  },
  {
   "cell_type": "markdown",
   "metadata": {},
   "source": [
    "### NOTE\n",
    "- 4. Bölümdeki **2_real_time_digit_classification** klasöründe eğitilen model çağırılır."
   ]
  },
  {
   "cell_type": "code",
   "execution_count": 15,
   "metadata": {},
   "outputs": [],
   "source": [
    "model = load_model(\"model.h5\")"
   ]
  },
  {
   "cell_type": "markdown",
   "metadata": {},
   "source": [
    "## 5-Test Data"
   ]
  },
  {
   "cell_type": "code",
   "execution_count": 16,
   "metadata": {},
   "outputs": [],
   "source": [
    "proba = model.predict(proposals)"
   ]
  },
  {
   "cell_type": "code",
   "execution_count": 17,
   "metadata": {},
   "outputs": [],
   "source": [
    "number_list = []\n",
    "idx = [] # indexes of probabilities\n",
    "for i in range(len(proba)):\n",
    "    \n",
    "    max_prob = np.max(proba[i,:])\n",
    "    if max_prob > 0.95:\n",
    "        idx.append(i)\n",
    "        number_list.append(np.argmax(proba[i])) # classification"
   ]
  },
  {
   "cell_type": "markdown",
   "metadata": {},
   "source": [
    "## 6-Visualize Data"
   ]
  },
  {
   "cell_type": "code",
   "execution_count": 21,
   "metadata": {},
   "outputs": [],
   "source": [
    "for i in range(len(number_list)):\n",
    "    \n",
    "    j = idx[i]\n",
    "\n",
    "    # x,y,x+width, y+height\n",
    "    cv2.rectangle(image, (boxes[j,0], boxes[j,1]), (boxes[j,2],boxes[j,3]),[0,0,255],2)\n",
    "    cv2.putText(image, str(np.argmax(proba[j])),(boxes[j,0] + 5, boxes[j,1] + 5 ), cv2.FONT_HERSHEY_COMPLEX,1.5,(0,255,0))\n",
    "    \n",
    "cv2.imshow(\"Image\",image)\n",
    "\n",
    "if cv2.waitKey(0) == ord(\"q\"): \n",
    "    cv2.destroyAllWindows()"
   ]
  }
 ],
 "metadata": {
  "interpreter": {
   "hash": "74156147804e2a01f94a3790aedbb2aa695f9a428eee8a505618a6d74e6c12c0"
  },
  "kernelspec": {
   "display_name": "Python 3.9.12 ('base')",
   "language": "python",
   "name": "python3"
  },
  "language_info": {
   "codemirror_mode": {
    "name": "ipython",
    "version": 3
   },
   "file_extension": ".py",
   "mimetype": "text/x-python",
   "name": "python",
   "nbconvert_exporter": "python",
   "pygments_lexer": "ipython3",
   "version": "3.9.12"
  },
  "orig_nbformat": 4
 },
 "nbformat": 4,
 "nbformat_minor": 2
}
