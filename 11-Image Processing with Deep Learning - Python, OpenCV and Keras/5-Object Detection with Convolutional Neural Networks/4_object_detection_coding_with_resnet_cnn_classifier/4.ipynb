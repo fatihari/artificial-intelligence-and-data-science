{
 "cells": [
  {
   "cell_type": "code",
   "execution_count": 1,
   "metadata": {},
   "outputs": [],
   "source": [
    "from tensorflow.keras.applications.resnet50 import preprocess_input \n",
    "from tensorflow.keras.applications import ResNet50\n",
    "from tensorflow.keras.preprocessing.image import img_to_array\n",
    "from keras.applications import imagenet_utils\n",
    "import numpy as np\n",
    "import cv2\n",
    "\n",
    "%run ../1_image_pyramid/1.ipynb\n",
    "%run ../2_sliding_window/2.ipynb\n",
    "%run ../3_non_max_supression/3.ipynb"
   ]
  },
  {
   "cell_type": "markdown",
   "metadata": {},
   "source": [
    "## 1-Initial Parameters"
   ]
  },
  {
   "cell_type": "code",
   "execution_count": 2,
   "metadata": {},
   "outputs": [],
   "source": [
    "WIDTH = 600\n",
    "HEIGHT = 600\n",
    "PYR_SCALE = 1.5 # image pyramid scale\n",
    "WIN_STEP = 16 # slicing window step\n",
    "ROI_SIZE = (200, 150)\n",
    "INPUT_SIZE = (224, 224) # input size of resnet"
   ]
  },
  {
   "cell_type": "markdown",
   "metadata": {},
   "source": [
    "## 2-Loading Resnet50"
   ]
  },
  {
   "cell_type": "markdown",
   "metadata": {},
   "source": [
    "### Nedir bu ImageNet?\n",
    "- ImageNet projesi, görsel nesne tanıma yazılım araştırmalarında kullanılmak üzere tasarlanmış büyük bir görsel veritabanıdır. \n",
    "- 14 milyondan fazla görüntü, hangi nesnelerin resmedildiğini göstermek için proje insanlar tarafından elle açıklanmıştır ve görüntülerin en az bir milyonunda sınırlayıcı kutular da bulunmaktadır. \n",
    "- ImageNet, \"balon\" veya \"çilek\" gibi tipik bir kategoride, birkaç yüz resimden oluşan 20.000'den fazla kategori içerir."
   ]
  },
  {
   "cell_type": "code",
   "execution_count": 3,
   "metadata": {},
   "outputs": [
    {
     "name": "stdout",
     "output_type": "stream",
     "text": [
      "Resnet50 Loading...\n",
      "\n"
     ]
    }
   ],
   "source": [
    "print(\"Resnet50 Loading...\\n\")\n",
    "model = ResNet50(weights = \"imagenet\", include_top = True)"
   ]
  },
  {
   "cell_type": "markdown",
   "metadata": {},
   "source": [
    "## 3-Read the Resized Original Image"
   ]
  },
  {
   "cell_type": "code",
   "execution_count": 4,
   "metadata": {},
   "outputs": [],
   "source": [
    "orig = cv2.imread(\"images/husky.jpg\")\n",
    "orig = cv2.resize(orig, dsize = (WIDTH, HEIGHT))\n",
    "cv2.imshow(\"Husky\", orig)\n",
    "\n",
    "if cv2.waitKey(0) == ord('q'): # exit with \"q\"\n",
    "    cv2.destroyAllWindows()"
   ]
  },
  {
   "cell_type": "code",
   "execution_count": 5,
   "metadata": {},
   "outputs": [
    {
     "name": "stdout",
     "output_type": "stream",
     "text": [
      "(600, 600)\n",
      "(600, 600)\n"
     ]
    }
   ],
   "source": [
    "print(orig.shape[:2])\n",
    "\n",
    "(H,W) = orig.shape[:2]\n",
    "print((H,W))"
   ]
  },
  {
   "cell_type": "markdown",
   "metadata": {},
   "source": [
    "## 4-Apply Image Pyramid"
   ]
  },
  {
   "cell_type": "code",
   "execution_count": 6,
   "metadata": {},
   "outputs": [
    {
     "data": {
      "text/plain": [
       "<generator object image_pyramid at 0x000002F14AEABC10>"
      ]
     },
     "execution_count": 6,
     "metadata": {},
     "output_type": "execute_result"
    }
   ],
   "source": [
    "pyramid = image_pyramid(orig, PYR_SCALE, ROI_SIZE)\n",
    "pyramid # return generator object"
   ]
  },
  {
   "cell_type": "markdown",
   "metadata": {},
   "source": [
    "## 5-Apply Sliding Window"
   ]
  },
  {
   "cell_type": "code",
   "execution_count": 7,
   "metadata": {},
   "outputs": [],
   "source": [
    "rois = [] # region of interest\n",
    "locs = [] # locations"
   ]
  },
  {
   "cell_type": "code",
   "execution_count": 8,
   "metadata": {},
   "outputs": [],
   "source": [
    "for image in pyramid:\n",
    "    \n",
    "    scale = W/float(image.shape[1])\n",
    "    \n",
    "    for (x, y, roiOrig) in sliding_window(image, WIN_STEP, ROI_SIZE):\n",
    "        \n",
    "        x = int(x * scale)\n",
    "        y = int(y * scale)\n",
    "        w = int(ROI_SIZE[0]*scale) # 200\n",
    "        h = int(ROI_SIZE[1]*scale) # 150\n",
    "        \n",
    "        roi = cv2.resize(roiOrig, INPUT_SIZE) # select certain area in image\n",
    "        roi = img_to_array(roi)\n",
    "        roi = preprocess_input(roi)\n",
    "    \n",
    "        rois.append(roi)\n",
    "        locs.append((x,y,x+w,y+h))\n",
    "        \n",
    "rois = np.array(rois, dtype = \"float32\")"
   ]
  },
  {
   "cell_type": "markdown",
   "metadata": {},
   "source": [
    "## 6-Classification Operation"
   ]
  },
  {
   "cell_type": "code",
   "execution_count": 9,
   "metadata": {},
   "outputs": [],
   "source": [
    "preds = model.predict(rois)"
   ]
  },
  {
   "cell_type": "code",
   "execution_count": 10,
   "metadata": {},
   "outputs": [
    {
     "data": {
      "text/plain": [
       "[[('n02110185', 'Siberian_husky', 0.16746876)],\n",
       " [('n02110185', 'Siberian_husky', 0.3103942)],\n",
       " [('n01582220', 'magpie', 0.28680125)],\n",
       " [('n02110185', 'Siberian_husky', 0.4473787)],\n",
       " [('n02110185', 'Siberian_husky', 0.30284733)],\n",
       " [('n02110185', 'Siberian_husky', 0.36064222)],\n",
       " [('n02110185', 'Siberian_husky', 0.27733198)],\n",
       " [('n02110185', 'Siberian_husky', 0.5808004)],\n",
       " [('n02110185', 'Siberian_husky', 0.42883143)],\n",
       " [('n01560419', 'bulbul', 0.24929538)]]"
      ]
     },
     "execution_count": 10,
     "metadata": {},
     "output_type": "execute_result"
    }
   ],
   "source": [
    "preds = imagenet_utils.decode_predictions(preds, top = 1)\n",
    "preds[0:10]"
   ]
  },
  {
   "cell_type": "code",
   "execution_count": 19,
   "metadata": {},
   "outputs": [],
   "source": [
    "labels = {}\n",
    "min_conf = 0.9\n",
    "\n",
    "for (i,p) in enumerate(preds):\n",
    "    \n",
    "    (_, label, prob) = p[0] # p[0]=> return 3 variable. imageNetId will not be used.\n",
    "    \n",
    "    if prob >= min_conf: # prov >= 0.9\n",
    "        \n",
    "        box = locs[i]\n",
    "        \n",
    "        L = labels.get(label, [])\n",
    "        L.append((box, prob))\n",
    "        labels[label] = L"
   ]
  },
  {
   "cell_type": "code",
   "execution_count": 20,
   "metadata": {},
   "outputs": [
    {
     "data": {
      "text/plain": [
       "dict_keys(['Eskimo_dog'])"
      ]
     },
     "execution_count": 20,
     "metadata": {},
     "output_type": "execute_result"
    }
   ],
   "source": [
    "labels.keys()"
   ]
  },
  {
   "cell_type": "markdown",
   "metadata": {},
   "source": [
    "## 7-Appliying Non Max Suppression"
   ]
  },
  {
   "cell_type": "code",
   "execution_count": 18,
   "metadata": {},
   "outputs": [],
   "source": [
    "for label in labels.keys():\n",
    "    \n",
    "    clone = orig.copy()\n",
    "    \n",
    "    for (box, prob) in labels[label]: # extraction box location.\n",
    "        (startX, startY, endX, endY) = box\n",
    "        cv2.rectangle(clone, (startX, startY),(endX, endY), (0,255,0),2)\n",
    "    \n",
    "    cv2.imshow(\"first image \", clone)\n",
    "    \n",
    "    clone = orig.copy()\n",
    "    \n",
    "    # non-maxima\n",
    "    boxes = np.array([p[0] for p in labels[label]])\n",
    "    proba = np.array([p[1] for p in labels[label]])\n",
    "    \n",
    "    boxes = non_max_suppression(boxes, proba)\n",
    "    \n",
    "    for (startX, startY, endX, endY) in boxes:\n",
    "        cv2.rectangle(clone, (startX, startY),(endX, endY), (0,255,0),2)\n",
    "        y = startY - 10 if startY - 10 > 10 else startY + 10\n",
    "        cv2.putText(clone, label, (startX , y), cv2.FONT_HERSHEY_SIMPLEX, 0.45,(0,255,0),2)\n",
    "        \n",
    "    cv2.imshow(\"Maxima\", clone)\n",
    "    \n",
    "    if cv2.waitKey(0) == ord(\"q\"): \n",
    "        cv2.destroyAllWindows()"
   ]
  }
 ],
 "metadata": {
  "interpreter": {
   "hash": "74156147804e2a01f94a3790aedbb2aa695f9a428eee8a505618a6d74e6c12c0"
  },
  "kernelspec": {
   "display_name": "Python 3.9.12 ('base')",
   "language": "python",
   "name": "python3"
  },
  "language_info": {
   "codemirror_mode": {
    "name": "ipython",
    "version": 3
   },
   "file_extension": ".py",
   "mimetype": "text/x-python",
   "name": "python",
   "nbconvert_exporter": "python",
   "pygments_lexer": "ipython3",
   "version": "3.9.12"
  },
  "orig_nbformat": 4
 },
 "nbformat": 4,
 "nbformat_minor": 2
}
