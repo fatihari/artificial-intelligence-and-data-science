{
 "cells": [
  {
   "cell_type": "markdown",
   "metadata": {},
   "source": [
    "<img src=\"images/reg1.png\" style=\"height: 400px\">"
   ]
  },
  {
   "cell_type": "code",
   "execution_count": 1,
   "metadata": {},
   "outputs": [],
   "source": [
    "from tensorflow.keras.applications.resnet50 import preprocess_input \n",
    "from tensorflow.keras.applications import ResNet50\n",
    "from tensorflow.keras.preprocessing.image import img_to_array\n",
    "from keras.applications import imagenet_utils\n",
    "import numpy as np\n",
    "import cv2\n",
    "import cv2.ximgproc.segmentation as segmentation\n",
    "\n",
    "# birden fazla tespit edilen objeyi azaltmak için\n",
    "%run ../3_non_max_supression/3.ipynb "
   ]
  },
  {
   "cell_type": "markdown",
   "metadata": {},
   "source": [
    "## 1-Create Selective Search Method"
   ]
  },
  {
   "cell_type": "code",
   "execution_count": 2,
   "metadata": {},
   "outputs": [],
   "source": [
    "def selective_search(image):\n",
    "    print(\"ss\")\n",
    "\n",
    "    # initiliaze selective search segmantation algorithm\n",
    "    ss = segmentation.createSelectiveSearchSegmentation()\n",
    "    ss.setBaseImage(image)\n",
    "    ss.switchToSelectiveSearchQuality()\n",
    "    \n",
    "    print(\"Segmentation started...\")\n",
    "    rects = ss.process()\n",
    "    print(\"\\nSegmentation has completed succesfully...\")\n",
    "\n",
    "    print(\"Length of segmentations:\", len(rects))\n",
    "    \n",
    "    return rects[:1000] # first 1000 rectangles"
   ]
  },
  {
   "cell_type": "markdown",
   "metadata": {},
   "source": [
    "## 2-Applying RestNet50 Model"
   ]
  },
  {
   "cell_type": "code",
   "execution_count": 3,
   "metadata": {},
   "outputs": [],
   "source": [
    "model = ResNet50(weights=\"imagenet\")    \n",
    "image = cv2.imread(\"images/animals.jpg\")\n",
    "image = cv2.resize(image, dsize = (400,400))\n",
    "(H, W) = image.shape[:2]"
   ]
  },
  {
   "cell_type": "markdown",
   "metadata": {},
   "source": [
    "## 3-Applying Selective Search"
   ]
  },
  {
   "cell_type": "code",
   "execution_count": 4,
   "metadata": {},
   "outputs": [
    {
     "name": "stdout",
     "output_type": "stream",
     "text": [
      "ss\n",
      "Segmentation started...\n",
      "\n",
      "Segmentation has completed succesfully...\n",
      "Length of segmentations: 5865\n"
     ]
    }
   ],
   "source": [
    "rects = selective_search(image)"
   ]
  },
  {
   "cell_type": "markdown",
   "metadata": {},
   "source": [
    "## 4-Find Region of Interest (ROI)"
   ]
  },
  {
   "cell_type": "code",
   "execution_count": 5,
   "metadata": {},
   "outputs": [],
   "source": [
    "proposals = []\n",
    "boxes = []\n",
    "for (x, y, w, h) in rects:\n",
    "\n",
    "    # width and height, < region/10 => continue\n",
    "    if w / float(W) < 0.1 or h / float(H) < 0.1: continue\n",
    "    \n",
    "    roi = image[y:y + h, x:x + w]\n",
    "    roi = cv2.cvtColor(roi, cv2.COLOR_BGR2RGB)\n",
    "    roi = cv2.resize(roi, (224, 224))\n",
    "\n",
    "    roi = img_to_array(roi)\n",
    "    roi = preprocess_input(roi)\n",
    "\n",
    "    proposals.append(roi)\n",
    "    boxes.append((x, y, w, h))\n",
    "\n",
    "proposals = np.array(proposals)"
   ]
  },
  {
   "cell_type": "markdown",
   "metadata": {},
   "source": [
    "## 5-Predict Image"
   ]
  },
  {
   "cell_type": "code",
   "execution_count": 6,
   "metadata": {},
   "outputs": [
    {
     "data": {
      "text/plain": [
       "[[('n01806143', 'peacock', 0.9970944)],\n",
       " [('n02510455', 'giant_panda', 0.8123711)],\n",
       " [('n02510455', 'giant_panda', 0.9812214)],\n",
       " [('n02115913', 'dhole', 0.13086034)],\n",
       " [('n02423022', 'gazelle', 0.68198144)],\n",
       " [('n02486261', 'patas', 0.62203395)],\n",
       " [('n02356798', 'fox_squirrel', 0.9906234)],\n",
       " [('n02129165', 'lion', 0.4946193)],\n",
       " [('n01608432', 'kite', 0.17909473)],\n",
       " [('n02510455', 'giant_panda', 0.96424514)]]"
      ]
     },
     "execution_count": 6,
     "metadata": {},
     "output_type": "execute_result"
    }
   ],
   "source": [
    "preds = model.predict(proposals)\n",
    "preds = imagenet_utils.decode_predictions(preds, top=1)\n",
    "preds[0:10]"
   ]
  },
  {
   "cell_type": "code",
   "execution_count": 7,
   "metadata": {},
   "outputs": [],
   "source": [
    "labels = {}\n",
    "min_conf = 0.8 # select data with probability above 0.8\n",
    "for (i, p) in enumerate(preds):\n",
    "    \n",
    "    \n",
    "    (_, label, prob) = p[0]\n",
    "    if prob >= min_conf:\n",
    "        (x, y, w, h) = boxes[i]\n",
    "        box = (x, y, x + w, y + h)\n",
    "        L = labels.get(label, [])\n",
    "        L.append((box, prob))\n",
    "        labels[label] = L"
   ]
  },
  {
   "cell_type": "markdown",
   "metadata": {},
   "source": [
    "## 6-Appliying Non Max Suppression"
   ]
  },
  {
   "cell_type": "code",
   "execution_count": 8,
   "metadata": {},
   "outputs": [],
   "source": [
    "clone = image.copy()\n",
    "\n",
    "for label in labels.keys():\n",
    "    for (box, prob) in labels[label]:\n",
    "        boxes = np.array([p[0] for p in labels[label]])\n",
    "        proba = np.array([p[1] for p in labels[label]])\n",
    "        boxes = non_max_suppression(boxes, proba)\n",
    "    \n",
    "        for (startX, startY, endX, endY) in boxes:\n",
    "            cv2.rectangle(clone, (startX, startY), (endX, endY),(0, 0, 255), 2)\n",
    "            y = startY - 10 if startY - 10 > 10 else startY + 10\n",
    "            cv2.putText(clone, label, (startX, y),cv2.FONT_HERSHEY_SIMPLEX, 0.6, (0, 255, 0), 2)\n",
    "            \n",
    "cv2.imshow(\"After\", clone)\n",
    "if cv2.waitKey(0) == ord(\"q\"): \n",
    "    cv2.destroyAllWindows()"
   ]
  }
 ],
 "metadata": {
  "interpreter": {
   "hash": "74156147804e2a01f94a3790aedbb2aa695f9a428eee8a505618a6d74e6c12c0"
  },
  "kernelspec": {
   "display_name": "Python 3.9.12 ('base')",
   "language": "python",
   "name": "python3"
  },
  "language_info": {
   "codemirror_mode": {
    "name": "ipython",
    "version": 3
   },
   "file_extension": ".py",
   "mimetype": "text/x-python",
   "name": "python",
   "nbconvert_exporter": "python",
   "pygments_lexer": "ipython3",
   "version": "3.9.12"
  },
  "orig_nbformat": 4
 },
 "nbformat": 4,
 "nbformat_minor": 2
}
