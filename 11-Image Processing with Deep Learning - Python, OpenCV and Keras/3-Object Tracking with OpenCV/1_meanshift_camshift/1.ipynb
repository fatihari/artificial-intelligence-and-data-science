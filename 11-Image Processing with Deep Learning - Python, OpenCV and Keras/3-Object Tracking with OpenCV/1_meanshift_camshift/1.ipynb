{
 "cells": [
  {
   "cell_type": "markdown",
   "metadata": {},
   "source": [
    "<img src=\"notes/object1.png\" style=\"height:400px\">\n",
    "<img src=\"notes/object2.png\" style=\"height:400px\">\n",
    "<img src=\"notes/object3.png\" style=\"height:400px\">\n",
    "<img src=\"notes/object4.png\" style=\"height:400px\">\n",
    "<img src=\"notes/ort1.png\" style=\"height:250px\">\n",
    "<img src=\"notes/ort2.png\" style=\"height:250px\">\n",
    "<img src=\"notes/ort3.png\" style=\"height:250px\">\n",
    "<img src=\"notes/ort4.png\" style=\"height:250px\">\n",
    "<img src=\"notes/ort5.png\" style=\"height:250px\">\n",
    "<img src=\"notes/ort6.png\" style=\"height:250px\">\n",
    "<img src=\"notes/ort7.png\" style=\"height:250px\">"
   ]
  },
  {
   "cell_type": "code",
   "execution_count": 1,
   "metadata": {},
   "outputs": [],
   "source": [
    "import cv2\n",
    "import numpy as np"
   ]
  },
  {
   "cell_type": "code",
   "execution_count": 2,
   "metadata": {},
   "outputs": [],
   "source": [
    "cap = cv2.VideoCapture(0)"
   ]
  },
  {
   "cell_type": "markdown",
   "metadata": {},
   "source": [
    "### Note\n",
    "- While döngüsünün dışında yalnızca bir kere yüz tespiti yapılır. İçinde yapılsaydı bu **nesne takibi** değil, **nesne takibi** olacaktı.\n",
    "- While döngüsünde artık **nesne takibi** yapılacaktır."
   ]
  },
  {
   "cell_type": "code",
   "execution_count": 3,
   "metadata": {},
   "outputs": [],
   "source": [
    "# read one frame only once.\n",
    "ret, frame = cap.read()\n",
    "\n",
    "if ret == False:\n",
    "    print(\"Warning!\")"
   ]
  },
  {
   "cell_type": "code",
   "execution_count": 4,
   "metadata": {},
   "outputs": [],
   "source": [
    "# face detection\n",
    "face_cascade = cv2.CascadeClassifier(\"haarcascade_frontalface_default.xml\")    \n",
    "face_rectangles = face_cascade.detectMultiScale(frame)"
   ]
  },
  {
   "cell_type": "code",
   "execution_count": 5,
   "metadata": {},
   "outputs": [],
   "source": [
    "(face_x, face_y, w, h) = tuple(face_rectangles[0]) # there is one rectangle.\n",
    "track_window = (face_x, face_y, w, h) # meanshift algoritması girdisi"
   ]
  },
  {
   "cell_type": "code",
   "execution_count": 6,
   "metadata": {},
   "outputs": [],
   "source": [
    "# region of interest (rectangle'ın içi yani ronaldonun yüzü)\n",
    "roi = frame[face_y:face_y + h, face_x : face_x + w] # roi = face"
   ]
  },
  {
   "cell_type": "code",
   "execution_count": 7,
   "metadata": {},
   "outputs": [],
   "source": [
    "hsv_roi = cv2.cvtColor(roi, cv2.COLOR_BGR2HSV)"
   ]
  },
  {
   "cell_type": "code",
   "execution_count": 8,
   "metadata": {},
   "outputs": [],
   "source": [
    "roi_hist = cv2.calcHist([hsv_roi],[0], None, [180], [0,180]) # takip için histogram gerekli\n",
    "cv2.normalize(roi_hist , roi_hist, 0, 255, cv2.NORM_MINMAX) # normalize historgram in 0-255\n",
    "\n",
    "# takip icin gerekli durdurma kriterleri\n",
    "# count = hesaplanacak maksimum oge sayısı\n",
    "# eps = degisiklik\n",
    "term_crit = (cv2.TERM_CRITERIA_EPS | cv2.TERM_CRITERIA_COUNT, 5, 1)"
   ]
  },
  {
   "cell_type": "code",
   "execution_count": 9,
   "metadata": {},
   "outputs": [],
   "source": [
    "while True: # started tracking\n",
    "    \n",
    "    ret, frame = cap.read()\n",
    "    \n",
    "    if ret:\n",
    "        \n",
    "        hsv = cv2.cvtColor(frame, cv2.COLOR_BGR2HSV)\n",
    "        \n",
    "        # histogramı bir goruntude bulmak için kullnıyoruz (backpropagation)\n",
    "        # piksel karşılaştırma\n",
    "        dst = cv2.calcBackProject([hsv], [0], roi_hist, [0,180],1)\n",
    "\n",
    "        ret, track_window = cv2.meanShift(dst, track_window, term_crit)\n",
    "        \n",
    "        x,y,w,h = track_window\n",
    "        \n",
    "        img2 = cv2.rectangle(frame, (x,y), (x+w, y+h),(0, 0, 255), 5)\n",
    "        \n",
    "        cv2.imshow(\"Tracking\", img2)\n",
    "        \n",
    "        if cv2.waitKey(1) == ord(\"q\"): break\n",
    "            \n",
    "cap.release()\n",
    "cv2.destroyAllWindows()"
   ]
  }
 ],
 "metadata": {
  "interpreter": {
   "hash": "74156147804e2a01f94a3790aedbb2aa695f9a428eee8a505618a6d74e6c12c0"
  },
  "kernelspec": {
   "display_name": "Python 3.9.12 ('base')",
   "language": "python",
   "name": "python3"
  },
  "language_info": {
   "codemirror_mode": {
    "name": "ipython",
    "version": 3
   },
   "file_extension": ".py",
   "mimetype": "text/x-python",
   "name": "python",
   "nbconvert_exporter": "python",
   "pygments_lexer": "ipython3",
   "version": "3.9.12"
  },
  "orig_nbformat": 4
 },
 "nbformat": 4,
 "nbformat_minor": 2
}
