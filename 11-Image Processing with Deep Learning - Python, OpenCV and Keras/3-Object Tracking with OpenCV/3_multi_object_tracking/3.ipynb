{
 "cells": [
  {
   "cell_type": "code",
   "execution_count": 1,
   "metadata": {},
   "outputs": [],
   "source": [
    "import cv2"
   ]
  },
  {
   "cell_type": "code",
   "execution_count": 2,
   "metadata": {},
   "outputs": [],
   "source": [
    "OPENCV_OBJECT_TRACKERS = {\"csrt\"      : cv2.legacy.TrackerCSRT_create,\n",
    "\t\t                  \"kcf\"       : cv2.legacy.TrackerKCF_create,\n",
    "\t\t                  \"boosting\"  : cv2.legacy.TrackerBoosting_create,\n",
    "\t\t                  \"mil\"       : cv2.legacy.TrackerMIL_create,\n",
    "\t\t                  \"tld\"       : cv2.legacy.TrackerTLD_create,\n",
    "\t\t                  \"medianflow\": cv2.legacy.TrackerMedianFlow_create,\n",
    "\t\t                  \"mosse\"     : cv2.legacy.TrackerMOSSE_create}"
   ]
  },
  {
   "cell_type": "code",
   "execution_count": 3,
   "metadata": {},
   "outputs": [],
   "source": [
    "tracker_name = \"kcf\""
   ]
  },
  {
   "cell_type": "code",
   "execution_count": 4,
   "metadata": {},
   "outputs": [],
   "source": [
    "trackers = cv2.legacy.MultiTracker_create()"
   ]
  },
  {
   "cell_type": "code",
   "execution_count": 5,
   "metadata": {},
   "outputs": [],
   "source": [
    "video_path = \"MOT17-04-DPM.mp4\"\n",
    "cap = cv2.VideoCapture(video_path)"
   ]
  },
  {
   "cell_type": "code",
   "execution_count": 6,
   "metadata": {},
   "outputs": [],
   "source": [
    "fps = 30     \n",
    "f = 0\n",
    "while True:\n",
    "      \n",
    "    ret, frame = cap.read()\n",
    "    (H, W) = frame.shape[:2]\n",
    "    frame = cv2.resize(frame, dsize = (960, 540))\n",
    "    \n",
    "    (success , boxes) = trackers.update(frame)\n",
    "    \n",
    "    info = [(\"Tracker\", tracker_name),\n",
    "        \t(\"Success\", \"Yes\" if success else \"No\")]\n",
    "    \n",
    "    string_text = \"\"\n",
    "    \n",
    "    for (i, (k, v)) in enumerate(info):\n",
    "        text = \"{}: {}\".format(k, v)\n",
    "        string_text = string_text + text + \" \"\n",
    "    \n",
    "    cv2.putText(frame, string_text, (10, 20),cv2.FONT_HERSHEY_SIMPLEX, 0.6, (0, 0, 255), 2)\n",
    "    \n",
    "    for box in boxes:\n",
    "        (x, y, w, h) = [int(v) for v in box]\n",
    "        cv2.rectangle(frame, (x, y), (x + w, y + h), (0, 255, 0), 2)\n",
    "    \n",
    "    cv2.imshow(\"Frame\", frame)\n",
    "    key = cv2.waitKey(1)\n",
    "    \n",
    "    if key == ord(\"t\"):\n",
    "        \n",
    "        box = cv2.selectROI(\"Frame\", frame, fromCenter=False)\n",
    "    \n",
    "        tracker = OPENCV_OBJECT_TRACKERS[tracker_name]()\n",
    "        trackers.add(tracker, frame, box) # birden fazla tracker (multi tracker)\n",
    "    elif key == ord(\"q\"):break\n",
    "\n",
    "    f = f + 1\n",
    "    \n",
    "cap.release()\n",
    "cv2.destroyAllWindows() "
   ]
  }
 ],
 "metadata": {
  "interpreter": {
   "hash": "74156147804e2a01f94a3790aedbb2aa695f9a428eee8a505618a6d74e6c12c0"
  },
  "kernelspec": {
   "display_name": "Python 3.9.12 ('base')",
   "language": "python",
   "name": "python3"
  },
  "language_info": {
   "codemirror_mode": {
    "name": "ipython",
    "version": 3
   },
   "file_extension": ".py",
   "mimetype": "text/x-python",
   "name": "python",
   "nbconvert_exporter": "python",
   "pygments_lexer": "ipython3",
   "version": "3.9.12"
  },
  "orig_nbformat": 4
 },
 "nbformat": 4,
 "nbformat_minor": 2
}
