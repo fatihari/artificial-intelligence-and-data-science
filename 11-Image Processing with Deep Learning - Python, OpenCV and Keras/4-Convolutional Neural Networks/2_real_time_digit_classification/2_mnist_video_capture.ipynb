{
 "cells": [
  {
   "cell_type": "code",
   "execution_count": null,
   "metadata": {},
   "outputs": [],
   "source": [
    "import cv2\n",
    "import numpy as np\n",
    "from keras.models import load_model"
   ]
  },
  {
   "cell_type": "markdown",
   "metadata": {},
   "source": [
    "### NOTE\n",
    "- Video cameradan elde edilen görüntülere verisetinde yapıldığı gibi preprocessing uygulanmalı."
   ]
  },
  {
   "cell_type": "code",
   "execution_count": null,
   "metadata": {},
   "outputs": [],
   "source": [
    "def preProcess(img):\n",
    "    img = cv2.cvtColor(img, cv2.COLOR_BGR2GRAY)\n",
    "    img = cv2.equalizeHist(img)\n",
    "    img = img /255.0\n",
    "    \n",
    "    return img"
   ]
  },
  {
   "cell_type": "code",
   "execution_count": null,
   "metadata": {},
   "outputs": [],
   "source": [
    "cap = cv2.VideoCapture(0) # default camera\n",
    "cap.set(3, 480) # width and height\n",
    "cap.set(4, 480)"
   ]
  },
  {
   "cell_type": "code",
   "execution_count": null,
   "metadata": {},
   "outputs": [],
   "source": [
    "model = load_model(\"model.h5\")"
   ]
  },
  {
   "cell_type": "code",
   "execution_count": null,
   "metadata": {},
   "outputs": [],
   "source": [
    "while True:\n",
    "    \n",
    "    success, frame = cap.read()\n",
    "    \n",
    "    img = np.asarray(frame)\n",
    "    img = cv2.resize(img, (32,32))\n",
    "    img = preProcess(img)\n",
    "    \n",
    "    img = img.reshape(1,32,32,1) # 1=only one image, 32,32,1=> channel(gray)\n",
    "    \n",
    "    # predict  \n",
    "    predictions = model.predict(img)\n",
    "    classIndex = np.argmax(predictions)\n",
    "    \n",
    "    probVal = np.amax(predictions) # for visualize\n",
    "    print(classIndex, probVal)\n",
    "    \n",
    "    if probVal > 0.7:\n",
    "        cv2.putText(frame, str(classIndex)+ \"   \" + str(probVal), (50,50), cv2.FONT_HERSHEY_DUPLEX, 1, (0,255,0), 1)\n",
    "\n",
    "    cv2.imshow(\"Digit Classification\", frame)\n",
    "\n",
    "    if cv2.waitKey(1) & 0xFF == ord(\"q\"): break\n",
    "\n",
    "cap.release()\n",
    "cv2.destroyAllWindows()"
   ]
  }
 ],
 "metadata": {
  "interpreter": {
   "hash": "74156147804e2a01f94a3790aedbb2aa695f9a428eee8a505618a6d74e6c12c0"
  },
  "kernelspec": {
   "display_name": "Python 3.9.12 ('base')",
   "language": "python",
   "name": "python3"
  },
  "language_info": {
   "codemirror_mode": {
    "name": "ipython",
    "version": 3
   },
   "file_extension": ".py",
   "mimetype": "text/x-python",
   "name": "python",
   "nbconvert_exporter": "python",
   "pygments_lexer": "ipython3",
   "version": "3.9.12"
  },
  "orig_nbformat": 4
 },
 "nbformat": 4,
 "nbformat_minor": 2
}
