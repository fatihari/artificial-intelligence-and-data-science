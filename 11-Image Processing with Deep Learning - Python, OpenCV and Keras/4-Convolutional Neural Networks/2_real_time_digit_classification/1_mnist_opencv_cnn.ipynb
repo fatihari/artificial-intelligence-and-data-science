{
 "cells": [
  {
   "cell_type": "code",
   "execution_count": 1,
   "metadata": {},
   "outputs": [],
   "source": [
    "import numpy as np\n",
    "import cv2\n",
    "import os \n",
    "from sklearn.model_selection import train_test_split\n",
    "from sklearn.metrics import confusion_matrix\n",
    "import seaborn as sns\n",
    "import matplotlib.pyplot as plt\n",
    "from keras.models import Sequential\n",
    "from keras.layers import Dense, Conv2D, MaxPooling2D, Flatten, Dropout, BatchNormalization\n",
    "from keras.utils.np_utils import to_categorical \n",
    "from keras.preprocessing.image import ImageDataGenerator\n",
    "import pickle"
   ]
  },
  {
   "cell_type": "markdown",
   "metadata": {},
   "source": [
    "## 1-Read Data"
   ]
  },
  {
   "cell_type": "code",
   "execution_count": 2,
   "metadata": {},
   "outputs": [
    {
     "data": {
      "text/plain": [
       "['0', '1', '2', '3', '4', '5', '6', '7', '8', '9']"
      ]
     },
     "execution_count": 2,
     "metadata": {},
     "output_type": "execute_result"
    }
   ],
   "source": [
    "path = \"data\"\n",
    "folderList = os.listdir(path)\n",
    "folderList"
   ]
  },
  {
   "cell_type": "code",
   "execution_count": 3,
   "metadata": {},
   "outputs": [
    {
     "name": "stdout",
     "output_type": "stream",
     "text": [
      "Number of Label/Target Class:  10\n"
     ]
    }
   ],
   "source": [
    "numOfClasses = len(folderList)\n",
    "print(\"Number of Label/Target Class: \", numOfClasses)"
   ]
  },
  {
   "cell_type": "markdown",
   "metadata": {},
   "source": [
    "## 2-Preprocessing"
   ]
  },
  {
   "cell_type": "code",
   "execution_count": 4,
   "metadata": {},
   "outputs": [],
   "source": [
    "images = []\n",
    "targetClass = []"
   ]
  },
  {
   "cell_type": "markdown",
   "metadata": {},
   "source": [
    "    i. Add Images and Target Classes to Lists"
   ]
  },
  {
   "cell_type": "code",
   "execution_count": 5,
   "metadata": {},
   "outputs": [
    {
     "name": "stdout",
     "output_type": "stream",
     "text": [
      "10160\n",
      "10160\n"
     ]
    }
   ],
   "source": [
    "for i in range(numOfClasses):\n",
    "    myImageList = os.listdir(path + \"\\\\\" + str(i)) # data\\0\n",
    "    for j in myImageList:\n",
    "        img = cv2.imread(path + \"\\\\\" + str(i) + \"\\\\\" + j) # data\\0\\img001-00001.png\n",
    "        img = cv2.resize(img, (32,32)) # resize image\n",
    "        images.append(img) # add images list\n",
    "        targetClass.append(i) # add class number as target class\n",
    "        \n",
    "print(len(images))\n",
    "print(len(targetClass))"
   ]
  },
  {
   "cell_type": "markdown",
   "metadata": {},
   "source": [
    "    ii. Converting List to Numpy Array"
   ]
  },
  {
   "cell_type": "code",
   "execution_count": 6,
   "metadata": {},
   "outputs": [
    {
     "name": "stdout",
     "output_type": "stream",
     "text": [
      "(10160, 32, 32, 3)\n",
      "(10160,)\n"
     ]
    }
   ],
   "source": [
    "images = np.array(images)\n",
    "targetClass = np.array(targetClass)\n",
    "\n",
    "print(images.shape)\n",
    "print(targetClass.shape)"
   ]
  },
  {
   "cell_type": "markdown",
   "metadata": {},
   "source": [
    "    iii. Split Data"
   ]
  },
  {
   "cell_type": "code",
   "execution_count": 7,
   "metadata": {},
   "outputs": [
    {
     "name": "stdout",
     "output_type": "stream",
     "text": [
      "Images Shape:       (10160, 32, 32, 3)\n",
      "x_train Shape:      (4064, 32, 32, 3)\n",
      "x_test Shape:       (5080, 32, 32, 3)\n",
      "x_validation Shape: (1016, 32, 32, 3)\n",
      "Target Shape:       (10160,)\n",
      "y_train Shape:      (4064,)\n",
      "y_test Shape:       (5080,)\n",
      "y_validation Shape: (1016,)\n"
     ]
    }
   ],
   "source": [
    "x_train, x_test, y_train, y_test = train_test_split(images, targetClass, test_size = 0.5, random_state = 42)\n",
    "x_train, x_validation, y_train, y_validation = train_test_split(x_train, y_train, test_size = 0.2, random_state = 42)\n",
    "\n",
    "print(\"Images Shape:      \", images.shape)\n",
    "print(\"x_train Shape:     \", x_train.shape)\n",
    "print(\"x_test Shape:      \", x_test.shape)\n",
    "print(\"x_validation Shape:\", x_validation.shape)\n",
    "print(\"Target Shape:      \", targetClass.shape)\n",
    "print(\"y_train Shape:     \", y_train.shape)\n",
    "print(\"y_test Shape:      \", y_test.shape)\n",
    "print(\"y_validation Shape:\", y_validation.shape)"
   ]
  },
  {
   "cell_type": "markdown",
   "metadata": {},
   "source": [
    "    iv. Visualize Data"
   ]
  },
  {
   "cell_type": "code",
   "execution_count": 8,
   "metadata": {},
   "outputs": [
    {
     "data": {
      "image/png": "[encoded data removed]",
      "text/plain": [
       "<Figure size 648x648 with 3 Axes>"
      ]
     },
     "metadata": {
      "needs_background": "light"
     },
     "output_type": "display_data"
    }
   ],
   "source": [
    "fig, axes = plt.subplots(3,1,figsize=(9,9))\n",
    "fig.subplots_adjust(hspace = 0.5) # horizontal space (space between rows)\n",
    "\n",
    "sns.countplot(x = y_train, ax = axes[0])\n",
    "axes[0].set_title(\"y_train\")\n",
    "\n",
    "sns.countplot(x = y_test, ax = axes[1])\n",
    "axes[1].set_title(\"y_test\")\n",
    "\n",
    "sns.countplot(x = y_validation, ax = axes[2])\n",
    "axes[2].set_title(\"y_validation\")\n",
    "\n",
    "plt.show()"
   ]
  },
  {
   "cell_type": "markdown",
   "metadata": {},
   "source": [
    "    v. Basic Preprocessing Operations"
   ]
  },
  {
   "cell_type": "code",
   "execution_count": 9,
   "metadata": {},
   "outputs": [],
   "source": [
    "def preProcess(img):\n",
    "    img = cv2.cvtColor(img, cv2.COLOR_BGR2GRAY)\n",
    "    img = cv2.equalizeHist(img) # increase contrast => speading values between 0-255\n",
    "    img = img / 255 # Normalize the values in the image between 0 and 1\n",
    "    \n",
    "    return img"
   ]
  },
  {
   "cell_type": "code",
   "execution_count": 10,
   "metadata": {},
   "outputs": [],
   "source": [
    "# show example image\n",
    "img = preProcess(x_train[100])\n",
    "img = cv2.resize(img,(300,300))\n",
    "cv2.imshow(\"Preprocess \", img)\n",
    "while(True):\n",
    "    if cv2.waitKey(0) == 27: # esc\n",
    "        cv2.destroyAllWindows()\n",
    "        False\n",
    "        break\n",
    "    else:\n",
    "        True"
   ]
  },
  {
   "cell_type": "code",
   "execution_count": 11,
   "metadata": {},
   "outputs": [],
   "source": [
    "# map class'ı: x_train'deki resimlere preProcess fonksiyonunu uygular.\n",
    "x_train = np.array(list(map(preProcess, x_train))) \n",
    "x_test = np.array(list(map(preProcess, x_test)))\n",
    "x_validation = np.array(list(map(preProcess, x_validation)))"
   ]
  },
  {
   "cell_type": "code",
   "execution_count": 12,
   "metadata": {},
   "outputs": [
    {
     "name": "stdout",
     "output_type": "stream",
     "text": [
      "x_train Shape:      (4064, 32, 32)\n",
      "x_test Shape:       (5080, 32, 32)\n",
      "x_validation Shape: (1016, 32, 32)\n"
     ]
    }
   ],
   "source": [
    "print(\"x_train Shape:     \", x_train.shape)\n",
    "print(\"x_test Shape:      \", x_test.shape)\n",
    "print(\"x_validation Shape:\", x_validation.shape)"
   ]
  },
  {
   "cell_type": "code",
   "execution_count": 13,
   "metadata": {},
   "outputs": [
    {
     "name": "stdout",
     "output_type": "stream",
     "text": [
      "x_train Shape:      (4064, 32, 32, 1)\n",
      "x_test Shape:       (5080, 32, 32, 1)\n",
      "x_validation Shape: (1016, 32, 32, 1)\n"
     ]
    }
   ],
   "source": [
    "x_train = x_train.reshape(-1,32,32,1)\n",
    "x_test = x_test.reshape(-1,32,32,1)\n",
    "x_validation = x_validation.reshape(-1,32,32,1)\n",
    "\n",
    "print(\"x_train Shape:     \", x_train.shape)\n",
    "print(\"x_test Shape:      \", x_test.shape)\n",
    "print(\"x_validation Shape:\", x_validation.shape)"
   ]
  },
  {
   "cell_type": "markdown",
   "metadata": {},
   "source": [
    "    vi. Generate Data"
   ]
  },
  {
   "cell_type": "code",
   "execution_count": 14,
   "metadata": {},
   "outputs": [],
   "source": [
    "dataGen = ImageDataGenerator(width_shift_range = 0.1,\n",
    "                             height_shift_range = 0.1,\n",
    "                             zoom_range = 0.1,\n",
    "                             rotation_range = 10)"
   ]
  },
  {
   "cell_type": "code",
   "execution_count": 15,
   "metadata": {},
   "outputs": [],
   "source": [
    "dataGen.fit(x_train)"
   ]
  },
  {
   "cell_type": "markdown",
   "metadata": {},
   "source": [
    "    vii. Converting Target Class to Categorical (One Hot Encoding)"
   ]
  },
  {
   "cell_type": "code",
   "execution_count": 16,
   "metadata": {},
   "outputs": [],
   "source": [
    "y_train = to_categorical(y_train, numOfClasses)\n",
    "y_test = to_categorical(y_test, numOfClasses)\n",
    "y_validation = to_categorical(y_validation, numOfClasses)"
   ]
  },
  {
   "cell_type": "markdown",
   "metadata": {},
   "source": [
    "## 3-Create and Compile Model"
   ]
  },
  {
   "cell_type": "code",
   "execution_count": 17,
   "metadata": {},
   "outputs": [],
   "source": [
    "model = Sequential()\n",
    "\n",
    "model.add(Conv2D(filters = 8, kernel_size = (5,5), activation = \"relu\", padding = \"same\", input_shape = (32,32,1))) # samepadding => 1 sıra pixel ekler\n",
    "model.add(MaxPooling2D(pool_size = (2,2)))\n",
    "\n",
    "model.add(Conv2D(filters = 16, kernel_size = (3,3), activation = \"relu\", padding = \"same\"))\n",
    "model.add(MaxPooling2D(pool_size = (2,2)))\n",
    "\n",
    "model.add(Dropout(rate = 0.2)) # prevent overfitting\n",
    "model.add(Flatten())\n",
    "model.add(Dense(units = 256, activation = \"relu\" ))\n",
    "model.add(Dropout(rate = 0.2))\n",
    "model.add(Dense(units = numOfClasses, activation = \"softmax\" ))\n",
    "\n",
    "model.compile(loss = \"categorical_crossentropy\", optimizer=(\"Adam\"), metrics = [\"accuracy\"])"
   ]
  },
  {
   "cell_type": "markdown",
   "metadata": {},
   "source": [
    "## 4-Train Data"
   ]
  },
  {
   "cell_type": "code",
   "execution_count": 18,
   "metadata": {},
   "outputs": [
    {
     "name": "stdout",
     "output_type": "stream",
     "text": [
      "Epoch 1/15\n",
      "15/15 [==============================] - 3s 137ms/step - loss: 2.2127 - accuracy: 0.1998 - val_loss: 1.8678 - val_accuracy: 0.4852\n",
      "Epoch 2/15\n",
      "15/15 [==============================] - 3s 182ms/step - loss: 1.7701 - accuracy: 0.4640 - val_loss: 1.0135 - val_accuracy: 0.8327\n",
      "Epoch 3/15\n",
      "15/15 [==============================] - 3s 181ms/step - loss: 1.2481 - accuracy: 0.6035 - val_loss: 0.5671 - val_accuracy: 0.8593\n",
      "Epoch 4/15\n",
      "15/15 [==============================] - 3s 166ms/step - loss: 0.9658 - accuracy: 0.6867 - val_loss: 0.3909 - val_accuracy: 0.9124\n",
      "Epoch 5/15\n",
      "15/15 [==============================] - 2s 160ms/step - loss: 0.7785 - accuracy: 0.7576 - val_loss: 0.2862 - val_accuracy: 0.9301\n",
      "Epoch 6/15\n",
      "15/15 [==============================] - 2s 158ms/step - loss: 0.6445 - accuracy: 0.8038 - val_loss: 0.2375 - val_accuracy: 0.9380\n",
      "Epoch 7/15\n",
      "15/15 [==============================] - 2s 154ms/step - loss: 0.5486 - accuracy: 0.8285 - val_loss: 0.1885 - val_accuracy: 0.9449\n",
      "Epoch 8/15\n",
      "15/15 [==============================] - 2s 155ms/step - loss: 0.4834 - accuracy: 0.8498 - val_loss: 0.1766 - val_accuracy: 0.9409\n",
      "Epoch 9/15\n",
      "15/15 [==============================] - 2s 151ms/step - loss: 0.4289 - accuracy: 0.8695 - val_loss: 0.1527 - val_accuracy: 0.9528\n",
      "Epoch 10/15\n",
      "15/15 [==============================] - 2s 152ms/step - loss: 0.3690 - accuracy: 0.8939 - val_loss: 0.1353 - val_accuracy: 0.9567\n",
      "Epoch 11/15\n",
      "15/15 [==============================] - 2s 157ms/step - loss: 0.3304 - accuracy: 0.8992 - val_loss: 0.1144 - val_accuracy: 0.9675\n",
      "Epoch 12/15\n",
      "15/15 [==============================] - 2s 159ms/step - loss: 0.2910 - accuracy: 0.9141 - val_loss: 0.1103 - val_accuracy: 0.9665\n",
      "Epoch 13/15\n",
      "15/15 [==============================] - 2s 158ms/step - loss: 0.2632 - accuracy: 0.9231 - val_loss: 0.1054 - val_accuracy: 0.9646\n",
      "Epoch 14/15\n",
      "15/15 [==============================] - 2s 160ms/step - loss: 0.2741 - accuracy: 0.9157 - val_loss: 0.0990 - val_accuracy: 0.9705\n",
      "Epoch 15/15\n",
      "15/15 [==============================] - 3s 179ms/step - loss: 0.2486 - accuracy: 0.9202 - val_loss: 0.0925 - val_accuracy: 0.9665\n"
     ]
    }
   ],
   "source": [
    "batch_size = 256\n",
    "epoch = 15\n",
    "hist = model.fit(dataGen.flow(x_train, y_train, batch_size = batch_size), \n",
    "                                        validation_data = (x_validation, y_validation),\n",
    "                                        epochs = 15,\n",
    "                                        steps_per_epoch = x_train.shape[0] // batch_size, \n",
    "                                        shuffle = 1)"
   ]
  },
  {
   "cell_type": "markdown",
   "metadata": {},
   "source": [
    "## 5-Save Model and History"
   ]
  },
  {
   "cell_type": "code",
   "execution_count": 27,
   "metadata": {},
   "outputs": [],
   "source": [
    "import json\n",
    "with open(\"history.json\",\"w\") as f:\n",
    "    json.dump(hist.history, f) # save history\n",
    "\n",
    "model.save(\"model.h5\") # save model"
   ]
  },
  {
   "cell_type": "markdown",
   "metadata": {},
   "source": [
    "## 6-Load Model and History"
   ]
  },
  {
   "cell_type": "code",
   "execution_count": 28,
   "metadata": {},
   "outputs": [],
   "source": [
    "# load history and model result\n",
    "import codecs\n",
    "with codecs.open(\"history.json\", \"r\",encoding = \"utf-8\") as f:\n",
    "    load_hist = json.loads(f.read())\n",
    "\n",
    "from keras.models import load_model\n",
    "model1 = load_model(\"model.h5\")"
   ]
  },
  {
   "cell_type": "markdown",
   "metadata": {},
   "source": [
    "## 6-Evaluate Data"
   ]
  },
  {
   "cell_type": "code",
   "execution_count": 21,
   "metadata": {},
   "outputs": [
    {
     "data": {
      "text/plain": [
       "dict_keys(['loss', 'accuracy', 'val_loss', 'val_accuracy'])"
      ]
     },
     "execution_count": 21,
     "metadata": {},
     "output_type": "execute_result"
    }
   ],
   "source": [
    "load_hist.keys()"
   ]
  },
  {
   "cell_type": "code",
   "execution_count": 22,
   "metadata": {},
   "outputs": [
    {
     "data": {
      "image/png": "[encoded data removed]",
      "text/plain": [
       "<Figure size 432x288 with 1 Axes>"
      ]
     },
     "metadata": {
      "needs_background": "light"
     },
     "output_type": "display_data"
    },
    {
     "data": {
      "image/png": "[encoded data removed]",
      "text/plain": [
       "<Figure size 432x288 with 1 Axes>"
      ]
     },
     "metadata": {
      "needs_background": "light"
     },
     "output_type": "display_data"
    }
   ],
   "source": [
    "plt.figure()\n",
    "plt.plot(load_hist[\"loss\"], label = \"Train Loss\")\n",
    "plt.plot(load_hist[\"val_loss\"], label = \"Val Loss\")\n",
    "plt.legend()\n",
    "\n",
    "plt.figure()\n",
    "plt.plot(load_hist[\"accuracy\"], label = \"Train accuracy\")\n",
    "plt.plot(load_hist[\"val_accuracy\"], label = \"Val accuracy\")\n",
    "plt.legend()\n",
    "\n",
    "plt.show()"
   ]
  },
  {
   "cell_type": "code",
   "execution_count": 23,
   "metadata": {},
   "outputs": [
    {
     "name": "stdout",
     "output_type": "stream",
     "text": [
      "159/159 [==============================] - 1s 6ms/step - loss: 0.0826 - accuracy: 0.9736\n",
      "Test loss:  0.08260826021432877\n",
      "Test accuracy:  0.9736220240592957\n"
     ]
    }
   ],
   "source": [
    "score = model.evaluate(x_test, y_test, verbose = 1)\n",
    "print(\"Test loss: \", score[0])\n",
    "print(\"Test accuracy: \", score[1])"
   ]
  },
  {
   "cell_type": "code",
   "execution_count": 24,
   "metadata": {},
   "outputs": [
    {
     "data": {
      "image/png": "[encoded data removed]",
      "text/plain": [
       "<Figure size 648x648 with 2 Axes>"
      ]
     },
     "metadata": {
      "needs_background": "light"
     },
     "output_type": "display_data"
    }
   ],
   "source": [
    "y_pred = model.predict(x_validation)\n",
    "y_pred_class = np.argmax(y_pred, axis = 1) # değerlerin maximumu bulup indexini bulur.\n",
    "Y_true = np.argmax(y_validation, axis = 1) # Y_test\n",
    "\n",
    "cm = confusion_matrix(Y_true, y_pred_class)\n",
    "f, ax = plt.subplots(figsize=(9,9))\n",
    "sns.heatmap(cm, annot = True, linewidths = 0.01, cmap = \"Greens\", linecolor = \"gray\", fmt = \".1f\", ax=ax)\n",
    "plt.xlabel(\"predicted\")\n",
    "plt.ylabel(\"true\")\n",
    "plt.title(\"cm\")\n",
    "plt.show()"
   ]
  },
  {
   "cell_type": "markdown",
   "metadata": {},
   "source": [
    "Yukarıdaki plota göre örneğin 8 için:\n",
    "- 1 tanesini 5 olarak,\n",
    "- 2 tanesini 6 olarak,\n",
    "- 92 tanesini 8 olarak tahmin etmiştir."
   ]
  }
 ],
 "metadata": {
  "interpreter": {
   "hash": "74156147804e2a01f94a3790aedbb2aa695f9a428eee8a505618a6d74e6c12c0"
  },
  "kernelspec": {
   "display_name": "Python 3.9.12 ('base')",
   "language": "python",
   "name": "python3"
  },
  "language_info": {
   "codemirror_mode": {
    "name": "ipython",
    "version": 3
   },
   "file_extension": ".py",
   "mimetype": "text/x-python",
   "name": "python",
   "nbconvert_exporter": "python",
   "pygments_lexer": "ipython3",
   "version": "3.9.12"
  },
  "orig_nbformat": 4
 },
 "nbformat": 4,
 "nbformat_minor": 2
}
