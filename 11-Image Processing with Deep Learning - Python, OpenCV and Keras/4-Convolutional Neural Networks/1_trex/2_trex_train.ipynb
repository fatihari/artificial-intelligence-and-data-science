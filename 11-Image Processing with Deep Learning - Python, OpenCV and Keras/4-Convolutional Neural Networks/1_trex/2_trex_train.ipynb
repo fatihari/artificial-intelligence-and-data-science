{
 "cells": [
  {
   "cell_type": "code",
   "execution_count": 1,
   "metadata": {},
   "outputs": [],
   "source": [
    "import glob\n",
    "import os\n",
    "import numpy as np\n",
    "from keras.models import Sequential\n",
    "from keras.layers import Dense, Dropout, Flatten, Conv2D, MaxPooling2D\n",
    "from PIL import Image\n",
    "from sklearn.preprocessing import LabelEncoder, OneHotEncoder\n",
    "from sklearn.model_selection import train_test_split\n",
    "import seaborn as sns\n",
    "import matplotlib.pyplot as plt\n",
    "import warnings\n",
    "warnings.filterwarnings(\"ignore\")"
   ]
  },
  {
   "cell_type": "markdown",
   "metadata": {},
   "source": [
    "## 1-Read Dataset"
   ]
  },
  {
   "cell_type": "code",
   "execution_count": 2,
   "metadata": {},
   "outputs": [],
   "source": [
    "imgs = glob.glob(\"./img_final/*.png\")"
   ]
  },
  {
   "cell_type": "code",
   "execution_count": 3,
   "metadata": {},
   "outputs": [],
   "source": [
    "width = 125\n",
    "height = 50\n",
    "\n",
    "X = []\n",
    "Y = []"
   ]
  },
  {
   "cell_type": "markdown",
   "metadata": {},
   "source": [
    "## 2-Preprocessing"
   ]
  },
  {
   "cell_type": "code",
   "execution_count": 4,
   "metadata": {},
   "outputs": [
    {
     "data": {
      "text/plain": [
       "'./img_final\\\\down_d3676756-fa1a-4fcf-9676-cdd4f5f25c40_100.png'"
      ]
     },
     "execution_count": 4,
     "metadata": {},
     "output_type": "execute_result"
    }
   ],
   "source": [
    "# example image\n",
    "imgs[0] # first image"
   ]
  },
  {
   "cell_type": "code",
   "execution_count": 5,
   "metadata": {},
   "outputs": [
    {
     "data": {
      "text/plain": [
       "'down_d3676756-fa1a-4fcf-9676-cdd4f5f25c40_100.png'"
      ]
     },
     "execution_count": 5,
     "metadata": {},
     "output_type": "execute_result"
    }
   ],
   "source": [
    "# example image\n",
    "filename0 = os.path.basename(imgs[0])\n",
    "filename0"
   ]
  },
  {
   "cell_type": "code",
   "execution_count": 6,
   "metadata": {},
   "outputs": [
    {
     "data": {
      "text/plain": [
       "['down', 'd3676756-fa1a-4fcf-9676-cdd4f5f25c40', '100.png']"
      ]
     },
     "execution_count": 6,
     "metadata": {},
     "output_type": "execute_result"
    }
   ],
   "source": [
    "filename0.split('_')"
   ]
  },
  {
   "cell_type": "code",
   "execution_count": 7,
   "metadata": {},
   "outputs": [
    {
     "data": {
      "text/plain": [
       "'down'"
      ]
     },
     "execution_count": 7,
     "metadata": {},
     "output_type": "execute_result"
    }
   ],
   "source": [
    "filename0.split('_')[0]"
   ]
  },
  {
   "cell_type": "code",
   "execution_count": 8,
   "metadata": {},
   "outputs": [],
   "source": [
    "for img in imgs:\n",
    "    \n",
    "    filename = os.path.basename(img)\n",
    "    label = filename.split(\"_\")[0] # target = down, up, right\n",
    "    im = np.array(Image.open(img).convert(\"L\").resize((width, height))) # resize image\n",
    "    im = im / 255 # 0-1 normalize\n",
    "    X.append(im) # x = images\n",
    "    Y.append(label) # y = labels(target)\n",
    "    \n",
    "X = np.array(X) # converting array before train split\n",
    "X = X.reshape(X.shape[0], width, height, 1) # 1=gray"
   ]
  },
  {
   "cell_type": "code",
   "execution_count": 9,
   "metadata": {},
   "outputs": [
    {
     "data": {
      "image/png": "[encoded data removed]",
      "text/plain": [
       "<Figure size 432x288 with 1 Axes>"
      ]
     },
     "metadata": {
      "needs_background": "light"
     },
     "output_type": "display_data"
    }
   ],
   "source": [
    "sns.countplot(Y)\n",
    "plt.show()"
   ]
  },
  {
   "cell_type": "code",
   "execution_count": 10,
   "metadata": {},
   "outputs": [
    {
     "data": {
      "text/plain": [
       "['down', 'down', 'down', 'down', 'down']"
      ]
     },
     "execution_count": 10,
     "metadata": {},
     "output_type": "execute_result"
    }
   ],
   "source": [
    "Y[0:5]"
   ]
  },
  {
   "cell_type": "markdown",
   "metadata": {},
   "source": [
    "### NOTE\n",
    "- **Label Encoder**\n",
    "  - down => 0, \n",
    "  - right => 1,\n",
    "  - up   => 2, \n",
    "<br><br>\n",
    "\n",
    "- **One Hot Encoder**\n",
    "  - 0 => 100, \n",
    "  - 1 => 010, \n",
    "  - 2 => 001"
   ]
  },
  {
   "cell_type": "code",
   "execution_count": 11,
   "metadata": {},
   "outputs": [],
   "source": [
    "def onehot_labels(values):\n",
    "    label_encoder = LabelEncoder() \n",
    "    integer_encoded = label_encoder.fit_transform(values)\n",
    "    \n",
    "    onehot_encoder = OneHotEncoder(sparse = False) # no sparce matrix\n",
    "    integer_encoded = integer_encoded.reshape(len(integer_encoded), 1) # (169,) => (169,1)\n",
    "    onehot_encoded = onehot_encoder.fit_transform(integer_encoded)\n",
    "    return onehot_encoded"
   ]
  },
  {
   "cell_type": "code",
   "execution_count": 12,
   "metadata": {},
   "outputs": [
    {
     "data": {
      "text/plain": [
       "array([[1., 0., 0.],\n",
       "       [1., 0., 0.],\n",
       "       [1., 0., 0.],\n",
       "       [1., 0., 0.],\n",
       "       [1., 0., 0.]])"
      ]
     },
     "execution_count": 12,
     "metadata": {},
     "output_type": "execute_result"
    }
   ],
   "source": [
    "Y = onehot_labels(Y)\n",
    "Y[0:5]"
   ]
  },
  {
   "cell_type": "markdown",
   "metadata": {},
   "source": [
    "## 3-Split Data"
   ]
  },
  {
   "cell_type": "code",
   "execution_count": 13,
   "metadata": {},
   "outputs": [],
   "source": [
    "train_X, test_X, train_y, test_y = train_test_split(X, Y , test_size = 0.25, random_state = 42) "
   ]
  },
  {
   "cell_type": "markdown",
   "metadata": {},
   "source": [
    "## 4-Create and Compile CNN Model"
   ]
  },
  {
   "cell_type": "code",
   "execution_count": 14,
   "metadata": {},
   "outputs": [],
   "source": [
    "model = Sequential()   \n",
    "\n",
    "model.add(Conv2D(filters = 32, kernel_size = (3,3), activation = \"relu\", input_shape = (width, height, 1)))\n",
    "model.add(Conv2D(filters = 64, kernel_size = (3,3), activation = \"relu\"))\n",
    "model.add(MaxPooling2D(pool_size = (2,2)))\n",
    "model.add(Dropout(rate = 0.25))\n",
    "model.add(Flatten())\n",
    "model.add(Dense(units = 128, activation = \"relu\"))\n",
    "model.add(Dropout(rate = 0.4))\n",
    "model.add(Dense(units = 3, activation = \"softmax\")) # output = 3 => use softmax > 2 output"
   ]
  },
  {
   "cell_type": "markdown",
   "metadata": {},
   "source": [
    "### NOTE\n",
    "- Başlangıçta loss(kayıp) yani hata çok yüksek çıkıyor ve bu kayba göre parametreler, (backpropagation)geriye doğru gidilerek yani türev alınarak güncellenir.\n",
    "- Eğer loss çok azsa model iyi eğitilmiş olacaktır."
   ]
  },
  {
   "cell_type": "code",
   "execution_count": 15,
   "metadata": {},
   "outputs": [],
   "source": [
    "model.compile(loss = \"categorical_crossentropy\", optimizer = \"Adam\", metrics = [\"accuracy\"])"
   ]
  },
  {
   "cell_type": "markdown",
   "metadata": {},
   "source": [
    "## 5-Train Model"
   ]
  },
  {
   "cell_type": "code",
   "execution_count": 16,
   "metadata": {},
   "outputs": [
    {
     "name": "stdout",
     "output_type": "stream",
     "text": [
      "Epoch 1/50\n",
      "3/3 [==============================] - 2s 481ms/step - loss: 4.3868 - accuracy: 0.4714\n",
      "Epoch 2/50\n",
      "3/3 [==============================] - 2s 551ms/step - loss: 1.6049 - accuracy: 0.7429\n",
      "Epoch 3/50\n",
      "3/3 [==============================] - 2s 570ms/step - loss: 1.0334 - accuracy: 0.4286\n",
      "Epoch 4/50\n",
      "3/3 [==============================] - 2s 520ms/step - loss: 0.7365 - accuracy: 0.7500\n",
      "Epoch 5/50\n",
      "3/3 [==============================] - 2s 573ms/step - loss: 0.7520 - accuracy: 0.7500\n",
      "Epoch 6/50\n",
      "3/3 [==============================] - 2s 537ms/step - loss: 0.7021 - accuracy: 0.7500\n",
      "Epoch 7/50\n",
      "3/3 [==============================] - 2s 504ms/step - loss: 0.6395 - accuracy: 0.7500\n",
      "Epoch 8/50\n",
      "3/3 [==============================] - 2s 513ms/step - loss: 0.5142 - accuracy: 0.7500\n",
      "Epoch 9/50\n",
      "3/3 [==============================] - 2s 469ms/step - loss: 0.4681 - accuracy: 0.8071\n",
      "Epoch 10/50\n",
      "3/3 [==============================] - 2s 551ms/step - loss: 0.4364 - accuracy: 0.7786\n",
      "Epoch 11/50\n",
      "3/3 [==============================] - 2s 497ms/step - loss: 0.3820 - accuracy: 0.8429\n",
      "Epoch 12/50\n",
      "3/3 [==============================] - 2s 519ms/step - loss: 0.3463 - accuracy: 0.8429\n",
      "Epoch 13/50\n",
      "3/3 [==============================] - 2s 506ms/step - loss: 0.3326 - accuracy: 0.8429\n",
      "Epoch 14/50\n",
      "3/3 [==============================] - 2s 481ms/step - loss: 0.2798 - accuracy: 0.8500\n",
      "Epoch 15/50\n",
      "3/3 [==============================] - 2s 579ms/step - loss: 0.2687 - accuracy: 0.9143\n",
      "Epoch 16/50\n",
      "3/3 [==============================] - 2s 484ms/step - loss: 0.2426 - accuracy: 0.9071\n",
      "Epoch 17/50\n",
      "3/3 [==============================] - 2s 524ms/step - loss: 0.2497 - accuracy: 0.9000\n",
      "Epoch 18/50\n",
      "3/3 [==============================] - 2s 483ms/step - loss: 0.2602 - accuracy: 0.8786\n",
      "Epoch 19/50\n",
      "3/3 [==============================] - 2s 490ms/step - loss: 0.2106 - accuracy: 0.9000\n",
      "Epoch 20/50\n",
      "3/3 [==============================] - 2s 503ms/step - loss: 0.2047 - accuracy: 0.9143\n",
      "Epoch 21/50\n",
      "3/3 [==============================] - 2s 488ms/step - loss: 0.2055 - accuracy: 0.9286\n",
      "Epoch 22/50\n",
      "3/3 [==============================] - 2s 536ms/step - loss: 0.1908 - accuracy: 0.9286\n",
      "Epoch 23/50\n",
      "3/3 [==============================] - 2s 495ms/step - loss: 0.1786 - accuracy: 0.9357\n",
      "Epoch 24/50\n",
      "3/3 [==============================] - 2s 506ms/step - loss: 0.1729 - accuracy: 0.9286\n",
      "Epoch 25/50\n",
      "3/3 [==============================] - 2s 469ms/step - loss: 0.1894 - accuracy: 0.9357\n",
      "Epoch 26/50\n",
      "3/3 [==============================] - 2s 479ms/step - loss: 0.1800 - accuracy: 0.9286\n",
      "Epoch 27/50\n",
      "3/3 [==============================] - 2s 512ms/step - loss: 0.1779 - accuracy: 0.9286\n",
      "Epoch 28/50\n",
      "3/3 [==============================] - 2s 512ms/step - loss: 0.1681 - accuracy: 0.9429\n",
      "Epoch 29/50\n",
      "3/3 [==============================] - 2s 571ms/step - loss: 0.1576 - accuracy: 0.9429\n",
      "Epoch 30/50\n",
      "3/3 [==============================] - 2s 496ms/step - loss: 0.1695 - accuracy: 0.9500\n",
      "Epoch 31/50\n",
      "3/3 [==============================] - 2s 530ms/step - loss: 0.1599 - accuracy: 0.9429\n",
      "Epoch 32/50\n",
      "3/3 [==============================] - 2s 480ms/step - loss: 0.1818 - accuracy: 0.9214\n",
      "Epoch 33/50\n",
      "3/3 [==============================] - 2s 495ms/step - loss: 0.1617 - accuracy: 0.9429\n",
      "Epoch 34/50\n",
      "3/3 [==============================] - 2s 509ms/step - loss: 0.1723 - accuracy: 0.9429\n",
      "Epoch 35/50\n",
      "3/3 [==============================] - 2s 490ms/step - loss: 0.1747 - accuracy: 0.9500\n",
      "Epoch 36/50\n",
      "3/3 [==============================] - 2s 533ms/step - loss: 0.1836 - accuracy: 0.9286\n",
      "Epoch 37/50\n",
      "3/3 [==============================] - 2s 488ms/step - loss: 0.1872 - accuracy: 0.9071\n",
      "Epoch 38/50\n",
      "3/3 [==============================] - 2s 497ms/step - loss: 0.1776 - accuracy: 0.9429\n",
      "Epoch 39/50\n",
      "3/3 [==============================] - 2s 464ms/step - loss: 0.1579 - accuracy: 0.9429\n",
      "Epoch 40/50\n",
      "3/3 [==============================] - 2s 492ms/step - loss: 0.1877 - accuracy: 0.9357\n",
      "Epoch 41/50\n",
      "3/3 [==============================] - 2s 529ms/step - loss: 0.1490 - accuracy: 0.9429\n",
      "Epoch 42/50\n",
      "3/3 [==============================] - 2s 477ms/step - loss: 0.1834 - accuracy: 0.9214\n",
      "Epoch 43/50\n",
      "3/3 [==============================] - 2s 522ms/step - loss: 0.1730 - accuracy: 0.9429\n",
      "Epoch 44/50\n",
      "3/3 [==============================] - 2s 474ms/step - loss: 0.1738 - accuracy: 0.9429\n",
      "Epoch 45/50\n",
      "3/3 [==============================] - 2s 504ms/step - loss: 0.1649 - accuracy: 0.9429\n",
      "Epoch 46/50\n",
      "3/3 [==============================] - 2s 473ms/step - loss: 0.1510 - accuracy: 0.9429\n",
      "Epoch 47/50\n",
      "3/3 [==============================] - 2s 507ms/step - loss: 0.1476 - accuracy: 0.9357\n",
      "Epoch 48/50\n",
      "3/3 [==============================] - 2s 529ms/step - loss: 0.1547 - accuracy: 0.9429\n",
      "Epoch 49/50\n",
      "3/3 [==============================] - 2s 468ms/step - loss: 0.1738 - accuracy: 0.9429\n",
      "Epoch 50/50\n",
      "3/3 [==============================] - 2s 525ms/step - loss: 0.1657 - accuracy: 0.9500\n"
     ]
    },
    {
     "data": {
      "text/plain": [
       "<keras.callbacks.History at 0x1ea226bbd30>"
      ]
     },
     "execution_count": 16,
     "metadata": {},
     "output_type": "execute_result"
    }
   ],
   "source": [
    "model.fit(train_X, train_y, epochs = 50, batch_size = 64)"
   ]
  },
  {
   "cell_type": "code",
   "execution_count": 17,
   "metadata": {},
   "outputs": [],
   "source": [
    "open(\"model.json\",\"w\").write(model.to_json())\n",
    "model.save_weights(\"model.h5\")"
   ]
  },
  {
   "cell_type": "code",
   "execution_count": 18,
   "metadata": {},
   "outputs": [],
   "source": [
    "# if os.path.exists(\"./trex_weight.h5\"):\n",
    "#     model.load_weights(\"trex_weight.h5\")\n",
    "#     print(\"Weights yuklendi\")    "
   ]
  },
  {
   "cell_type": "markdown",
   "metadata": {},
   "source": [
    "## 6-Evaluate Model"
   ]
  },
  {
   "cell_type": "code",
   "execution_count": 19,
   "metadata": {},
   "outputs": [
    {
     "name": "stdout",
     "output_type": "stream",
     "text": [
      "5/5 [==============================] - 1s 71ms/step - loss: 0.1454 - accuracy: 0.9429\n",
      "Train Accuracy: % 94.28571462631226\n"
     ]
    }
   ],
   "source": [
    "score_train = model.evaluate(train_X, train_y)\n",
    "print(\"Train Accuracy: %\", score_train[1]*100)   # score[0]=loss"
   ]
  },
  {
   "cell_type": "code",
   "execution_count": 20,
   "metadata": {},
   "outputs": [
    {
     "name": "stdout",
     "output_type": "stream",
     "text": [
      "2/2 [==============================] - 0s 47ms/step - loss: 0.2579 - accuracy: 0.8936\n",
      "Test Accuracy: % 89.3617033958435\n"
     ]
    }
   ],
   "source": [
    "score_test = model.evaluate(test_X, test_y)\n",
    "print(\"Test Accuracy: %\", score_test[1]*100)     # score[0]=loss "
   ]
  },
  {
   "cell_type": "markdown",
   "metadata": {},
   "source": [
    "- %5 lük bir fark var overfitting."
   ]
  }
 ],
 "metadata": {
  "interpreter": {
   "hash": "74156147804e2a01f94a3790aedbb2aa695f9a428eee8a505618a6d74e6c12c0"
  },
  "kernelspec": {
   "display_name": "Python 3.9.12 ('base')",
   "language": "python",
   "name": "python3"
  },
  "language_info": {
   "codemirror_mode": {
    "name": "ipython",
    "version": 3
   },
   "file_extension": ".py",
   "mimetype": "text/x-python",
   "name": "python",
   "nbconvert_exporter": "python",
   "pygments_lexer": "ipython3",
   "version": "3.9.12"
  },
  "orig_nbformat": 4
 },
 "nbformat": 4,
 "nbformat_minor": 2
}
