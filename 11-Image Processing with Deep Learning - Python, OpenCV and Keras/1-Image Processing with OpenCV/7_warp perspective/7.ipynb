{
 "cells": [
  {
   "cell_type": "code",
   "execution_count": 1,
   "metadata": {},
   "outputs": [],
   "source": [
    "import cv2\n",
    "import numpy as np"
   ]
  },
  {
   "cell_type": "code",
   "execution_count": 2,
   "metadata": {},
   "outputs": [],
   "source": [
    "# import image\n",
    "img = cv2.imread(\"kart.png\")\n",
    "cv2.imshow(\"Originalf\", img)"
   ]
  },
  {
   "cell_type": "code",
   "execution_count": 3,
   "metadata": {},
   "outputs": [],
   "source": [
    "width = 400\n",
    "height = 500"
   ]
  },
  {
   "cell_type": "code",
   "execution_count": 4,
   "metadata": {},
   "outputs": [],
   "source": [
    "points1 = np.float32([[230,1],[1,472],[540,150],[338,617]])\n",
    "points2 = np.float32([[0,0],[0, height],[width,0],[width,height]])  #istenilen resim konumu"
   ]
  },
  {
   "cell_type": "code",
   "execution_count": 5,
   "metadata": {},
   "outputs": [
    {
     "name": "stdout",
     "output_type": "stream",
     "text": [
      "[[ 9.88318421e-01  4.80519997e-01 -2.27793757e+02]\n",
      " [-4.28952606e-01  8.92451730e-01  9.77666476e+01]\n",
      " [-1.23898125e-04  7.89697479e-05  1.00000000e+00]]\n"
     ]
    }
   ],
   "source": [
    "matrix = cv2.getPerspectiveTransform(points1, points2)\n",
    "print(matrix)"
   ]
  },
  {
   "cell_type": "code",
   "execution_count": 6,
   "metadata": {},
   "outputs": [],
   "source": [
    "# nihai dönüştürülmüş resim\n",
    "imgOutput = cv2.warpPerspective(img, matrix, (width,height))\n",
    "cv2.imshow(\"Nihai Resim\", imgOutput)"
   ]
  },
  {
   "cell_type": "code",
   "execution_count": 7,
   "metadata": {},
   "outputs": [],
   "source": [
    "if cv2.waitKey(0) == ord(\"q\"): cv2.destroyAllWindows() # q'ya basılınca çıkış yapsın"
   ]
  }
 ],
 "metadata": {
  "interpreter": {
   "hash": "74156147804e2a01f94a3790aedbb2aa695f9a428eee8a505618a6d74e6c12c0"
  },
  "kernelspec": {
   "display_name": "Python 3.9.12 ('base')",
   "language": "python",
   "name": "python3"
  },
  "language_info": {
   "codemirror_mode": {
    "name": "ipython",
    "version": 3
   },
   "file_extension": ".py",
   "mimetype": "text/x-python",
   "name": "python",
   "nbconvert_exporter": "python",
   "pygments_lexer": "ipython3",
   "version": "3.9.12"
  },
  "orig_nbformat": 4
 },
 "nbformat": 4,
 "nbformat_minor": 2
}
