{
 "cells": [
  {
   "cell_type": "code",
   "execution_count": 5,
   "metadata": {},
   "outputs": [],
   "source": [
    "import cv2\n",
    "import matplotlib.pyplot as plt"
   ]
  },
  {
   "cell_type": "markdown",
   "metadata": {},
   "source": [
    "## 1-Import Image"
   ]
  },
  {
   "cell_type": "code",
   "execution_count": 6,
   "metadata": {},
   "outputs": [],
   "source": [
    "imported_img = cv2.imread('summary.jpg')\n",
    "cv2.imshow('Summary',imported_img)\n",
    "if cv2.waitKey(0) == ord(\"q\"): cv2.destroyAllWindows() # q'ya basılınca çıkış yapsın"
   ]
  },
  {
   "cell_type": "markdown",
   "metadata": {},
   "source": [
    "## 2-Convert Image to Gray"
   ]
  },
  {
   "cell_type": "code",
   "execution_count": 7,
   "metadata": {},
   "outputs": [],
   "source": [
    "img = cv2.imread('summary.jpg', 0)\n",
    "cv2.imshow('Summary',img)\n",
    "if cv2.waitKey(0) == ord(\"q\"): cv2.destroyAllWindows() # q'ya basılınca çıkış yapsın"
   ]
  },
  {
   "cell_type": "markdown",
   "metadata": {},
   "source": [
    "## 3-Dimension of The Image"
   ]
  },
  {
   "cell_type": "code",
   "execution_count": 8,
   "metadata": {},
   "outputs": [
    {
     "data": {
      "text/plain": [
       "(568, 860)"
      ]
     },
     "execution_count": 8,
     "metadata": {},
     "output_type": "execute_result"
    }
   ],
   "source": [
    "img.shape"
   ]
  },
  {
   "cell_type": "markdown",
   "metadata": {},
   "source": [
    "## 4-Resize the Image by 4/5"
   ]
  },
  {
   "cell_type": "code",
   "execution_count": 9,
   "metadata": {},
   "outputs": [],
   "source": [
    "imgResized = cv2.resize(img,(int(img.shape[1]*4/5),int(img.shape[0]*4/5)))\n",
    "cv2.imshow(\"Resizing\", imgResized)\n",
    "if cv2.waitKey(0) == ord(\"q\"): cv2.destroyAllWindows() # q'ya basılınca çıkış yapsın"
   ]
  },
  {
   "cell_type": "markdown",
   "metadata": {},
   "source": [
    "## 5-Add Text to Image"
   ]
  },
  {
   "cell_type": "code",
   "execution_count": 10,
   "metadata": {},
   "outputs": [],
   "source": [
    "cv2.putText(imgResized,\"Dog \",(350, 70), cv2.FONT_HERSHEY_COMPLEX, 1 ,(0,0,0))\n",
    "cv2.imshow('Dog Text', imgResized)\n",
    "if cv2.waitKey(0) == ord(\"q\"): cv2.destroyAllWindows() # q'ya basılınca çıkış yapsın"
   ]
  },
  {
   "cell_type": "markdown",
   "metadata": {},
   "source": [
    "## 6-Adding Thresholds to the Colors of the Pixels"
   ]
  },
  {
   "cell_type": "code",
   "execution_count": 11,
   "metadata": {},
   "outputs": [],
   "source": [
    "_, thresh_img = cv2.threshold(img, thresh = 100, maxval = 255, type = cv2.THRESH_BINARY)\n",
    "cv2.imshow('Threshold', thresh_img)\n",
    "if cv2.waitKey(0) == ord(\"q\"): cv2.destroyAllWindows() # q'ya basılınca çıkış yapsın"
   ]
  },
  {
   "cell_type": "markdown",
   "metadata": {},
   "source": [
    "## 7-Blurring Original Image with Gaussian Blur"
   ]
  },
  {
   "cell_type": "code",
   "execution_count": 12,
   "metadata": {},
   "outputs": [],
   "source": [
    "gb = cv2.GaussianBlur(img, ksize = (3,3), sigmaX = 7)\n",
    "cv2.imshow('Gaussian Bulanik', gb)\n",
    "if cv2.waitKey(0) == ord(\"q\"): cv2.destroyAllWindows() # q'ya basılınca çıkış yapsın"
   ]
  },
  {
   "cell_type": "markdown",
   "metadata": {},
   "source": [
    "## 8-Edge Detection with Laplacian Gradient"
   ]
  },
  {
   "cell_type": "code",
   "execution_count": 13,
   "metadata": {},
   "outputs": [],
   "source": [
    "laplacian = cv2.Laplacian(img, ddepth = cv2.CV_64F)\n",
    "cv2.imshow('Laplacian', laplacian)\n",
    "if cv2.waitKey(0) == ord(\"q\"): cv2.destroyAllWindows() # q'ya basılınca çıkış yapsın"
   ]
  },
  {
   "cell_type": "markdown",
   "metadata": {},
   "source": [
    "## 9-Show Color Histogram"
   ]
  },
  {
   "cell_type": "code",
   "execution_count": 18,
   "metadata": {},
   "outputs": [
    {
     "data": {
      "image/png": "[encoded data removed]",
      "text/plain": [
       "<Figure size 432x288 with 1 Axes>"
      ]
     },
     "metadata": {
      "needs_background": "light"
     },
     "output_type": "display_data"
    }
   ],
   "source": [
    "img_hist = cv2.calcHist([img], channels = [0], mask = None, histSize = [256], ranges = [0,256])\n",
    "plt.figure()\n",
    "plt.plot(img_hist)\n",
    "plt.show()"
   ]
  }
 ],
 "metadata": {
  "interpreter": {
   "hash": "74156147804e2a01f94a3790aedbb2aa695f9a428eee8a505618a6d74e6c12c0"
  },
  "kernelspec": {
   "display_name": "Python 3.9.12 ('base')",
   "language": "python",
   "name": "python3"
  },
  "language_info": {
   "codemirror_mode": {
    "name": "ipython",
    "version": 3
   },
   "file_extension": ".py",
   "mimetype": "text/x-python",
   "name": "python",
   "nbconvert_exporter": "python",
   "pygments_lexer": "ipython3",
   "version": "3.9.12"
  },
  "orig_nbformat": 4
 },
 "nbformat": 4,
 "nbformat_minor": 2
}
