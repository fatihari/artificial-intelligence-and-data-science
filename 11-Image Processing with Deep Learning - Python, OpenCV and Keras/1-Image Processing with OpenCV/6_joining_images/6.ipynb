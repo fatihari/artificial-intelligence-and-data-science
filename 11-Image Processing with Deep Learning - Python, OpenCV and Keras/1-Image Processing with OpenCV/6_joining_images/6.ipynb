{
 "cells": [
  {
   "cell_type": "code",
   "execution_count": 1,
   "metadata": {},
   "outputs": [],
   "source": [
    "import cv2\n",
    "import numpy as np "
   ]
  },
  {
   "cell_type": "code",
   "execution_count": 2,
   "metadata": {},
   "outputs": [],
   "source": [
    "# import image\n",
    "img = cv2.imread(\"lenna.png\")\n",
    "cv2.imshow(\"Original\", img)\n",
    "\n",
    "# horizantal\n",
    "hor = np.hstack((img,img))\n",
    "cv2.imshow(\"Horizantal\", hor)\n",
    "\n",
    "# vertical\n",
    "ver = np.vstack((img,img))\n",
    "cv2.imshow(\"Vertical\", ver)"
   ]
  },
  {
   "cell_type": "code",
   "execution_count": 3,
   "metadata": {},
   "outputs": [],
   "source": [
    "if cv2.waitKey(0) == ord(\"q\"): cv2.destroyAllWindows() # q'ya basılınca çıkış yapsın"
   ]
  }
 ],
 "metadata": {
  "interpreter": {
   "hash": "74156147804e2a01f94a3790aedbb2aa695f9a428eee8a505618a6d74e6c12c0"
  },
  "kernelspec": {
   "display_name": "Python 3.9.12 ('base')",
   "language": "python",
   "name": "python3"
  },
  "language_info": {
   "codemirror_mode": {
    "name": "ipython",
    "version": 3
   },
   "file_extension": ".py",
   "mimetype": "text/x-python",
   "name": "python",
   "nbconvert_exporter": "python",
   "pygments_lexer": "ipython3",
   "version": "3.9.12"
  },
  "orig_nbformat": 4
 },
 "nbformat": 4,
 "nbformat_minor": 2
}
