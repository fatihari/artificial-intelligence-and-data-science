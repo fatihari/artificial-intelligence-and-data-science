{
 "cells": [
  {
   "cell_type": "code",
   "execution_count": 7,
   "metadata": {},
   "outputs": [],
   "source": [
    "import cv2\n",
    "import time"
   ]
  },
  {
   "cell_type": "markdown",
   "metadata": {},
   "source": [
    "## 1-Import Video"
   ]
  },
  {
   "cell_type": "code",
   "execution_count": 8,
   "metadata": {},
   "outputs": [
    {
     "data": {
      "text/plain": [
       "<VideoCapture 00000279A9937690>"
      ]
     },
     "execution_count": 8,
     "metadata": {},
     "output_type": "execute_result"
    }
   ],
   "source": [
    "# video name\n",
    "video_name = \"video/MOT17-04-DPM.mp4\"\n",
    "\n",
    "# video içe aktar: capture, cap\n",
    "cap = cv2.VideoCapture(video_name)\n",
    "cap"
   ]
  },
  {
   "cell_type": "code",
   "execution_count": 9,
   "metadata": {},
   "outputs": [
    {
     "name": "stdout",
     "output_type": "stream",
     "text": [
      "Width:  1920.0\n",
      "Height:  1080.0\n"
     ]
    }
   ],
   "source": [
    "print(\"Width: \", cap.get(3))\n",
    "print(\"Height: \", cap.get(4))\n",
    "# print(\"Frame: \", cap.get(5)) "
   ]
  },
  {
   "cell_type": "code",
   "execution_count": 10,
   "metadata": {},
   "outputs": [],
   "source": [
    "if cap.isOpened() == False: # video açılamazsa hata döndürür\n",
    "    print(\"The video could not be opened. \")"
   ]
  },
  {
   "cell_type": "markdown",
   "metadata": {},
   "source": [
    "## 2-Read Video"
   ]
  },
  {
   "cell_type": "code",
   "execution_count": 11,
   "metadata": {},
   "outputs": [],
   "source": [
    "while True:    \n",
    "    ret, imgframe = cap.read() # cap.read() başarısız olduysa, ret=false döner.\n",
    "    \n",
    "    if ret == True:\n",
    "        \n",
    "        time.sleep(0.01) # uyarı: kullanmazsak çok hızlı akar\n",
    "        cv2.imshow(\"Video\", imgframe) # ard arda resim okunur ve video olur.\n",
    "    else: break # video okunamazsa çık.\n",
    "\n",
    "    if cv2.waitKey(1) == ord(\"q\"):\n",
    "        break"
   ]
  },
  {
   "cell_type": "code",
   "execution_count": 12,
   "metadata": {},
   "outputs": [],
   "source": [
    "cap.release() # stop capture\n",
    "cv2.destroyAllWindows()  "
   ]
  }
 ],
 "metadata": {
  "interpreter": {
   "hash": "74156147804e2a01f94a3790aedbb2aa695f9a428eee8a505618a6d74e6c12c0"
  },
  "kernelspec": {
   "display_name": "Python 3.9.12 ('base')",
   "language": "python",
   "name": "python3"
  },
  "language_info": {
   "codemirror_mode": {
    "name": "ipython",
    "version": 3
   },
   "file_extension": ".py",
   "mimetype": "text/x-python",
   "name": "python",
   "nbconvert_exporter": "python",
   "pygments_lexer": "ipython3",
   "version": "3.9.12"
  },
  "orig_nbformat": 4
 },
 "nbformat": 4,
 "nbformat_minor": 2
}
