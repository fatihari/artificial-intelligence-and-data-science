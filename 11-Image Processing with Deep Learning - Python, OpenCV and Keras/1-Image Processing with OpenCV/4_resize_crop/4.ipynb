{
 "cells": [
  {
   "cell_type": "code",
   "execution_count": 5,
   "metadata": {},
   "outputs": [],
   "source": [
    "import cv2"
   ]
  },
  {
   "cell_type": "code",
   "execution_count": 8,
   "metadata": {},
   "outputs": [
    {
     "name": "stdout",
     "output_type": "stream",
     "text": [
      "Image Dimension:  (512, 512, 3)\n",
      "Resized Img Shape:  (800, 800, 3)\n",
      "Cropped Img Shape:  (200, 300, 3)\n"
     ]
    }
   ],
   "source": [
    "img = cv2.imread(\"lenna.png\")\n",
    "img_gray = cv2.imread(\"lenna.png\", 0)\n",
    "print(\"Image Dimension: \", img.shape)\n",
    "cv2.imshow(\"Original Dimension\", img)\n",
    "# cv2.imshow(\"Original Dimension\", img_gray)\n",
    "\n",
    "# resized\n",
    "imgResized = cv2.resize(img, (800, 800))\n",
    "print(\"Resized Img Shape: \", imgResized.shape)\n",
    "cv2.imshow(\"Img Resized\",imgResized)\n",
    "\n",
    "# crop imageq\n",
    "imgCropped = img[0:200, 0:300] # height, width\n",
    "print(\"Cropped Img Shape: \", imgCropped.shape)\n",
    "cv2.imshow(\"Cropped Image\",  imgCropped)\n",
    "\n",
    "if cv2.waitKey(0) == ord(\"q\"): cv2.destroyAllWindows() # q'ya basılınca çıkış yapsın"
   ]
  }
 ],
 "metadata": {
  "interpreter": {
   "hash": "74156147804e2a01f94a3790aedbb2aa695f9a428eee8a505618a6d74e6c12c0"
  },
  "kernelspec": {
   "display_name": "Python 3.9.12 ('base')",
   "language": "python",
   "name": "python3"
  },
  "language_info": {
   "codemirror_mode": {
    "name": "ipython",
    "version": 3
   },
   "file_extension": ".py",
   "mimetype": "text/x-python",
   "name": "python",
   "nbconvert_exporter": "python",
   "pygments_lexer": "ipython3",
   "version": "3.9.12"
  },
  "orig_nbformat": 4
 },
 "nbformat": 4,
 "nbformat_minor": 2
}
