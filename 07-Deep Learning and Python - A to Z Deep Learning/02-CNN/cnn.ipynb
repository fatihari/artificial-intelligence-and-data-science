{
 "cells": [
  {
   "cell_type": "markdown",
   "metadata": {
    "_uuid": "8c80a83f7fb1ab87aabbdad97d11627fb0380e8f"
   },
   "source": [
    "<font color='blue'>\n",
    "\n",
    "* [Loading the Data Set](#1)\n",
    "* [Normalization, Reshape and Label Encoding ](#2)\n",
    "* [Train Test Split](#3)\n",
    "* [Convolutional Neural Network](#4)\n",
    "    * [What is Convolution Operation?](#5)\n",
    "    * [Same Padding](#6)\n",
    "    * [Max Pooling](#7)\n",
    "    * [Flattening](#8)\n",
    "    * [Full Connection](#9)\n",
    "* [Implementing with Keras](#10)\n",
    "    * [Create Model](#11)\n",
    "    * [Define Optimizer](#12)\n",
    "    * [Compile Model](#13)\n",
    "    * [Epochs and Batch Size](#14)\n",
    "    * [Data Augmentation](#15)\n",
    "    * [Fit the Model](#16)\n",
    "    * [Evaluate the Model](#17)\n",
    "* [Deep Learning Tutorial for Beginners](https://www.kaggle.com/kanncaa1/deep-learning-tutorial-for-beginners)\n",
    "* [Artificial Neural Network with Pytorch](https://www.kaggle.com/kanncaa1/pytorch-tutorial-for-deep-learning-lovers)\n",
    "* [Convolutional Neural Network with Pytorch](https://www.kaggle.com/kanncaa1/pytorch-tutorial-for-deep-learning-lovers)\n",
    "* [Recurrent Neural Network with Pytorch](https://www.kaggle.com/kanncaa1/recurrent-neural-network-with-pytorch)"
   ]
  },
  {
   "cell_type": "code",
   "execution_count": 35,
   "metadata": {
    "_cell_guid": "b1076dfc-b9ad-4769-8c92-a6c4dae69d19",
    "_uuid": "8f2839f25d086af736a60e9eeb907d3b93b6e0e5"
   },
   "outputs": [],
   "source": [
    "import numpy as np # linear algebra\n",
    "import pandas as pd # data processing, CSV file I/O (e.g. pd.read_csv)\n",
    "import seaborn as sns\n",
    "import matplotlib.pyplot as plt\n",
    "from keras.utils.np_utils import to_categorical # convert to one-hot-encoding\n",
    "from sklearn.model_selection import train_test_split\n",
    "import warnings\n",
    "warnings.filterwarnings('ignore')\n",
    "from sklearn.metrics import confusion_matrix\n",
    "import itertools\n",
    "from keras.utils.np_utils import to_categorical # convert to one-hot-encoding\n",
    "from keras.models import Sequential\n",
    "from keras.layers import Dense, Dropout, Flatten, Conv2D, MaxPool2D\n",
    "from tensorflow.keras.optimizers import RMSprop, Adam\n",
    "from keras.preprocessing.image import ImageDataGenerator\n",
    "from keras.callbacks import ReduceLROnPlateau\n",
    "import seaborn as sns"
   ]
  },
  {
   "cell_type": "markdown",
   "metadata": {
    "_cell_guid": "79c7e3d0-c299-4dcb-8224-4455121ee9b0",
    "_uuid": "d629ff2d2480ee46fbb7e2d37f6b5fab8052498a",
    "collapsed": true
   },
   "source": [
    "## 1-Read Dataset"
   ]
  },
  {
   "cell_type": "code",
   "execution_count": 2,
   "metadata": {
    "_uuid": "6884db4361a209f639cd6f3bf15231d271ecf563"
   },
   "outputs": [
    {
     "name": "stdout",
     "output_type": "stream",
     "text": [
      "(42000, 785)\n"
     ]
    },
    {
     "data": {
      "text/html": [
       "<div>\n",
       "<style scoped>\n",
       "    .dataframe tbody tr th:only-of-type {\n",
       "        vertical-align: middle;\n",
       "    }\n",
       "\n",
       "    .dataframe tbody tr th {\n",
       "        vertical-align: top;\n",
       "    }\n",
       "\n",
       "    .dataframe thead th {\n",
       "        text-align: right;\n",
       "    }\n",
       "</style>\n",
       "<table border=\"1\" class=\"dataframe\">\n",
       "  <thead>\n",
       "    <tr style=\"text-align: right;\">\n",
       "      <th></th>\n",
       "      <th>label</th>\n",
       "      <th>pixel0</th>\n",
       "      <th>pixel1</th>\n",
       "      <th>pixel2</th>\n",
       "      <th>pixel3</th>\n",
       "      <th>pixel4</th>\n",
       "      <th>pixel5</th>\n",
       "      <th>pixel6</th>\n",
       "      <th>pixel7</th>\n",
       "      <th>pixel8</th>\n",
       "      <th>...</th>\n",
       "      <th>pixel774</th>\n",
       "      <th>pixel775</th>\n",
       "      <th>pixel776</th>\n",
       "      <th>pixel777</th>\n",
       "      <th>pixel778</th>\n",
       "      <th>pixel779</th>\n",
       "      <th>pixel780</th>\n",
       "      <th>pixel781</th>\n",
       "      <th>pixel782</th>\n",
       "      <th>pixel783</th>\n",
       "    </tr>\n",
       "  </thead>\n",
       "  <tbody>\n",
       "    <tr>\n",
       "      <th>0</th>\n",
       "      <td>1</td>\n",
       "      <td>0</td>\n",
       "      <td>0</td>\n",
       "      <td>0</td>\n",
       "      <td>0</td>\n",
       "      <td>0</td>\n",
       "      <td>0</td>\n",
       "      <td>0</td>\n",
       "      <td>0</td>\n",
       "      <td>0</td>\n",
       "      <td>...</td>\n",
       "      <td>0</td>\n",
       "      <td>0</td>\n",
       "      <td>0</td>\n",
       "      <td>0</td>\n",
       "      <td>0</td>\n",
       "      <td>0</td>\n",
       "      <td>0</td>\n",
       "      <td>0</td>\n",
       "      <td>0</td>\n",
       "      <td>0</td>\n",
       "    </tr>\n",
       "    <tr>\n",
       "      <th>1</th>\n",
       "      <td>0</td>\n",
       "      <td>0</td>\n",
       "      <td>0</td>\n",
       "      <td>0</td>\n",
       "      <td>0</td>\n",
       "      <td>0</td>\n",
       "      <td>0</td>\n",
       "      <td>0</td>\n",
       "      <td>0</td>\n",
       "      <td>0</td>\n",
       "      <td>...</td>\n",
       "      <td>0</td>\n",
       "      <td>0</td>\n",
       "      <td>0</td>\n",
       "      <td>0</td>\n",
       "      <td>0</td>\n",
       "      <td>0</td>\n",
       "      <td>0</td>\n",
       "      <td>0</td>\n",
       "      <td>0</td>\n",
       "      <td>0</td>\n",
       "    </tr>\n",
       "    <tr>\n",
       "      <th>2</th>\n",
       "      <td>1</td>\n",
       "      <td>0</td>\n",
       "      <td>0</td>\n",
       "      <td>0</td>\n",
       "      <td>0</td>\n",
       "      <td>0</td>\n",
       "      <td>0</td>\n",
       "      <td>0</td>\n",
       "      <td>0</td>\n",
       "      <td>0</td>\n",
       "      <td>...</td>\n",
       "      <td>0</td>\n",
       "      <td>0</td>\n",
       "      <td>0</td>\n",
       "      <td>0</td>\n",
       "      <td>0</td>\n",
       "      <td>0</td>\n",
       "      <td>0</td>\n",
       "      <td>0</td>\n",
       "      <td>0</td>\n",
       "      <td>0</td>\n",
       "    </tr>\n",
       "    <tr>\n",
       "      <th>3</th>\n",
       "      <td>4</td>\n",
       "      <td>0</td>\n",
       "      <td>0</td>\n",
       "      <td>0</td>\n",
       "      <td>0</td>\n",
       "      <td>0</td>\n",
       "      <td>0</td>\n",
       "      <td>0</td>\n",
       "      <td>0</td>\n",
       "      <td>0</td>\n",
       "      <td>...</td>\n",
       "      <td>0</td>\n",
       "      <td>0</td>\n",
       "      <td>0</td>\n",
       "      <td>0</td>\n",
       "      <td>0</td>\n",
       "      <td>0</td>\n",
       "      <td>0</td>\n",
       "      <td>0</td>\n",
       "      <td>0</td>\n",
       "      <td>0</td>\n",
       "    </tr>\n",
       "    <tr>\n",
       "      <th>4</th>\n",
       "      <td>0</td>\n",
       "      <td>0</td>\n",
       "      <td>0</td>\n",
       "      <td>0</td>\n",
       "      <td>0</td>\n",
       "      <td>0</td>\n",
       "      <td>0</td>\n",
       "      <td>0</td>\n",
       "      <td>0</td>\n",
       "      <td>0</td>\n",
       "      <td>...</td>\n",
       "      <td>0</td>\n",
       "      <td>0</td>\n",
       "      <td>0</td>\n",
       "      <td>0</td>\n",
       "      <td>0</td>\n",
       "      <td>0</td>\n",
       "      <td>0</td>\n",
       "      <td>0</td>\n",
       "      <td>0</td>\n",
       "      <td>0</td>\n",
       "    </tr>\n",
       "  </tbody>\n",
       "</table>\n",
       "<p>5 rows × 785 columns</p>\n",
       "</div>"
      ],
      "text/plain": [
       "   label  pixel0  pixel1  pixel2  pixel3  pixel4  pixel5  pixel6  pixel7  \\\n",
       "0      1       0       0       0       0       0       0       0       0   \n",
       "1      0       0       0       0       0       0       0       0       0   \n",
       "2      1       0       0       0       0       0       0       0       0   \n",
       "3      4       0       0       0       0       0       0       0       0   \n",
       "4      0       0       0       0       0       0       0       0       0   \n",
       "\n",
       "   pixel8  ...  pixel774  pixel775  pixel776  pixel777  pixel778  pixel779  \\\n",
       "0       0  ...         0         0         0         0         0         0   \n",
       "1       0  ...         0         0         0         0         0         0   \n",
       "2       0  ...         0         0         0         0         0         0   \n",
       "3       0  ...         0         0         0         0         0         0   \n",
       "4       0  ...         0         0         0         0         0         0   \n",
       "\n",
       "   pixel780  pixel781  pixel782  pixel783  \n",
       "0         0         0         0         0  \n",
       "1         0         0         0         0  \n",
       "2         0         0         0         0  \n",
       "3         0         0         0         0  \n",
       "4         0         0         0         0  \n",
       "\n",
       "[5 rows x 785 columns]"
      ]
     },
     "execution_count": 2,
     "metadata": {},
     "output_type": "execute_result"
    }
   ],
   "source": [
    "train = pd.read_csv(\"data/train.csv\")\n",
    "print(train.shape) # 42000 tane train edilecek farklı resim var ve her bir resim 28x28 (784) boyutunda ve resimdeki sayıyı ifade eden label sütunu bulunmakta.\n",
    "train.head()"
   ]
  },
  {
   "cell_type": "markdown",
   "metadata": {},
   "source": [
    "### Note\n",
    "* test datası içerisinde y target class yok. Yalnızca X_test diyebileceğimiz test datası var! :)"
   ]
  },
  {
   "cell_type": "code",
   "execution_count": 3,
   "metadata": {
    "_uuid": "d7ab3a0db0c87aef2bb65fae5f564ff4b1260a96"
   },
   "outputs": [
    {
     "name": "stdout",
     "output_type": "stream",
     "text": [
      "(28000, 784)\n"
     ]
    },
    {
     "data": {
      "text/html": [
       "<div>\n",
       "<style scoped>\n",
       "    .dataframe tbody tr th:only-of-type {\n",
       "        vertical-align: middle;\n",
       "    }\n",
       "\n",
       "    .dataframe tbody tr th {\n",
       "        vertical-align: top;\n",
       "    }\n",
       "\n",
       "    .dataframe thead th {\n",
       "        text-align: right;\n",
       "    }\n",
       "</style>\n",
       "<table border=\"1\" class=\"dataframe\">\n",
       "  <thead>\n",
       "    <tr style=\"text-align: right;\">\n",
       "      <th></th>\n",
       "      <th>pixel0</th>\n",
       "      <th>pixel1</th>\n",
       "      <th>pixel2</th>\n",
       "      <th>pixel3</th>\n",
       "      <th>pixel4</th>\n",
       "      <th>pixel5</th>\n",
       "      <th>pixel6</th>\n",
       "      <th>pixel7</th>\n",
       "      <th>pixel8</th>\n",
       "      <th>pixel9</th>\n",
       "      <th>...</th>\n",
       "      <th>pixel774</th>\n",
       "      <th>pixel775</th>\n",
       "      <th>pixel776</th>\n",
       "      <th>pixel777</th>\n",
       "      <th>pixel778</th>\n",
       "      <th>pixel779</th>\n",
       "      <th>pixel780</th>\n",
       "      <th>pixel781</th>\n",
       "      <th>pixel782</th>\n",
       "      <th>pixel783</th>\n",
       "    </tr>\n",
       "  </thead>\n",
       "  <tbody>\n",
       "    <tr>\n",
       "      <th>0</th>\n",
       "      <td>0</td>\n",
       "      <td>0</td>\n",
       "      <td>0</td>\n",
       "      <td>0</td>\n",
       "      <td>0</td>\n",
       "      <td>0</td>\n",
       "      <td>0</td>\n",
       "      <td>0</td>\n",
       "      <td>0</td>\n",
       "      <td>0</td>\n",
       "      <td>...</td>\n",
       "      <td>0</td>\n",
       "      <td>0</td>\n",
       "      <td>0</td>\n",
       "      <td>0</td>\n",
       "      <td>0</td>\n",
       "      <td>0</td>\n",
       "      <td>0</td>\n",
       "      <td>0</td>\n",
       "      <td>0</td>\n",
       "      <td>0</td>\n",
       "    </tr>\n",
       "    <tr>\n",
       "      <th>1</th>\n",
       "      <td>0</td>\n",
       "      <td>0</td>\n",
       "      <td>0</td>\n",
       "      <td>0</td>\n",
       "      <td>0</td>\n",
       "      <td>0</td>\n",
       "      <td>0</td>\n",
       "      <td>0</td>\n",
       "      <td>0</td>\n",
       "      <td>0</td>\n",
       "      <td>...</td>\n",
       "      <td>0</td>\n",
       "      <td>0</td>\n",
       "      <td>0</td>\n",
       "      <td>0</td>\n",
       "      <td>0</td>\n",
       "      <td>0</td>\n",
       "      <td>0</td>\n",
       "      <td>0</td>\n",
       "      <td>0</td>\n",
       "      <td>0</td>\n",
       "    </tr>\n",
       "    <tr>\n",
       "      <th>2</th>\n",
       "      <td>0</td>\n",
       "      <td>0</td>\n",
       "      <td>0</td>\n",
       "      <td>0</td>\n",
       "      <td>0</td>\n",
       "      <td>0</td>\n",
       "      <td>0</td>\n",
       "      <td>0</td>\n",
       "      <td>0</td>\n",
       "      <td>0</td>\n",
       "      <td>...</td>\n",
       "      <td>0</td>\n",
       "      <td>0</td>\n",
       "      <td>0</td>\n",
       "      <td>0</td>\n",
       "      <td>0</td>\n",
       "      <td>0</td>\n",
       "      <td>0</td>\n",
       "      <td>0</td>\n",
       "      <td>0</td>\n",
       "      <td>0</td>\n",
       "    </tr>\n",
       "    <tr>\n",
       "      <th>3</th>\n",
       "      <td>0</td>\n",
       "      <td>0</td>\n",
       "      <td>0</td>\n",
       "      <td>0</td>\n",
       "      <td>0</td>\n",
       "      <td>0</td>\n",
       "      <td>0</td>\n",
       "      <td>0</td>\n",
       "      <td>0</td>\n",
       "      <td>0</td>\n",
       "      <td>...</td>\n",
       "      <td>0</td>\n",
       "      <td>0</td>\n",
       "      <td>0</td>\n",
       "      <td>0</td>\n",
       "      <td>0</td>\n",
       "      <td>0</td>\n",
       "      <td>0</td>\n",
       "      <td>0</td>\n",
       "      <td>0</td>\n",
       "      <td>0</td>\n",
       "    </tr>\n",
       "    <tr>\n",
       "      <th>4</th>\n",
       "      <td>0</td>\n",
       "      <td>0</td>\n",
       "      <td>0</td>\n",
       "      <td>0</td>\n",
       "      <td>0</td>\n",
       "      <td>0</td>\n",
       "      <td>0</td>\n",
       "      <td>0</td>\n",
       "      <td>0</td>\n",
       "      <td>0</td>\n",
       "      <td>...</td>\n",
       "      <td>0</td>\n",
       "      <td>0</td>\n",
       "      <td>0</td>\n",
       "      <td>0</td>\n",
       "      <td>0</td>\n",
       "      <td>0</td>\n",
       "      <td>0</td>\n",
       "      <td>0</td>\n",
       "      <td>0</td>\n",
       "      <td>0</td>\n",
       "    </tr>\n",
       "  </tbody>\n",
       "</table>\n",
       "<p>5 rows × 784 columns</p>\n",
       "</div>"
      ],
      "text/plain": [
       "   pixel0  pixel1  pixel2  pixel3  pixel4  pixel5  pixel6  pixel7  pixel8  \\\n",
       "0       0       0       0       0       0       0       0       0       0   \n",
       "1       0       0       0       0       0       0       0       0       0   \n",
       "2       0       0       0       0       0       0       0       0       0   \n",
       "3       0       0       0       0       0       0       0       0       0   \n",
       "4       0       0       0       0       0       0       0       0       0   \n",
       "\n",
       "   pixel9  ...  pixel774  pixel775  pixel776  pixel777  pixel778  pixel779  \\\n",
       "0       0  ...         0         0         0         0         0         0   \n",
       "1       0  ...         0         0         0         0         0         0   \n",
       "2       0  ...         0         0         0         0         0         0   \n",
       "3       0  ...         0         0         0         0         0         0   \n",
       "4       0  ...         0         0         0         0         0         0   \n",
       "\n",
       "   pixel780  pixel781  pixel782  pixel783  \n",
       "0         0         0         0         0  \n",
       "1         0         0         0         0  \n",
       "2         0         0         0         0  \n",
       "3         0         0         0         0  \n",
       "4         0         0         0         0  \n",
       "\n",
       "[5 rows x 784 columns]"
      ]
     },
     "execution_count": 3,
     "metadata": {},
     "output_type": "execute_result"
    }
   ],
   "source": [
    "test = pd.read_csv(\"data/test.csv\")\n",
    "print(test.shape) # 28000 tane test edilecek farklı resim var ve her bir resim 28x28 (784) boyutunda\n",
    "test.head()"
   ]
  },
  {
   "cell_type": "code",
   "execution_count": 4,
   "metadata": {
    "_uuid": "318d94f6e935a6d8210d0ac03707dfa6e3946475"
   },
   "outputs": [],
   "source": [
    "Y_train = train[\"label\"] # target class\n",
    "X_train = train.drop(labels = [\"label\"], axis = 1) # label hariç tüm piksel sütunları bizim verimiz olacak."
   ]
  },
  {
   "cell_type": "code",
   "execution_count": 5,
   "metadata": {},
   "outputs": [
    {
     "data": {
      "text/plain": [
       "(42000,)"
      ]
     },
     "execution_count": 5,
     "metadata": {},
     "output_type": "execute_result"
    }
   ],
   "source": [
    "Y_train.shape"
   ]
  },
  {
   "cell_type": "code",
   "execution_count": 6,
   "metadata": {},
   "outputs": [
    {
     "data": {
      "text/plain": [
       "10"
      ]
     },
     "execution_count": 6,
     "metadata": {},
     "output_type": "execute_result"
    }
   ],
   "source": [
    "target_class_count = len(pd.unique(train[\"label\"]))\n",
    "target_class_count"
   ]
  },
  {
   "cell_type": "markdown",
   "metadata": {},
   "source": [
    "## 2-Visualize Data"
   ]
  },
  {
   "cell_type": "markdown",
   "metadata": {},
   "source": [
    "### A) Visualize Target Class (Y_train)"
   ]
  },
  {
   "cell_type": "code",
   "execution_count": 7,
   "metadata": {},
   "outputs": [
    {
     "data": {
      "text/plain": [
       "1    4684\n",
       "7    4401\n",
       "3    4351\n",
       "9    4188\n",
       "2    4177\n",
       "6    4137\n",
       "0    4132\n",
       "4    4072\n",
       "8    4063\n",
       "5    3795\n",
       "Name: label, dtype: int64"
      ]
     },
     "execution_count": 7,
     "metadata": {},
     "output_type": "execute_result"
    }
   ],
   "source": [
    "Y_train.value_counts()"
   ]
  },
  {
   "cell_type": "code",
   "execution_count": 8,
   "metadata": {
    "_uuid": "8902b0312e6c047596cf27ebba554a68b82604b2"
   },
   "outputs": [
    {
     "data": {
      "image/png": "[encoded data removed]",
      "text/plain": [
       "<Figure size 1080x504 with 1 Axes>"
      ]
     },
     "metadata": {
      "needs_background": "light"
     },
     "output_type": "display_data"
    }
   ],
   "source": [
    "plt.figure(figsize=(15, 7))\n",
    "sns.countplot(Y_train, palette=\"icefire\")\n",
    "plt.title(\"Number of digit classes\")\n",
    "plt.show()"
   ]
  },
  {
   "cell_type": "markdown",
   "metadata": {},
   "source": [
    "### B) Visualize Train Data\n",
    "     i) Visualize First Index (Number 1)"
   ]
  },
  {
   "cell_type": "code",
   "execution_count": 9,
   "metadata": {},
   "outputs": [
    {
     "data": {
      "text/plain": [
       "1"
      ]
     },
     "execution_count": 9,
     "metadata": {},
     "output_type": "execute_result"
    }
   ],
   "source": [
    "Y_train.iloc[0]"
   ]
  },
  {
   "cell_type": "code",
   "execution_count": 10,
   "metadata": {},
   "outputs": [
    {
     "data": {
      "text/plain": [
       "pixel0      0\n",
       "pixel1      0\n",
       "pixel2      0\n",
       "pixel3      0\n",
       "pixel4      0\n",
       "           ..\n",
       "pixel779    0\n",
       "pixel780    0\n",
       "pixel781    0\n",
       "pixel782    0\n",
       "pixel783    0\n",
       "Name: 0, Length: 784, dtype: int64"
      ]
     },
     "execution_count": 10,
     "metadata": {},
     "output_type": "execute_result"
    }
   ],
   "source": [
    "X_train.iloc[0]"
   ]
  },
  {
   "cell_type": "code",
   "execution_count": 11,
   "metadata": {},
   "outputs": [
    {
     "data": {
      "text/plain": [
       "array([  0,   0,   0,   0,   0,   0,   0,   0,   0,   0,   0,   0,   0,\n",
       "         0,   0,   0,   0,   0,   0,   0,   0,   0,   0,   0,   0,   0,\n",
       "         0,   0,   0,   0,   0,   0,   0,   0,   0,   0,   0,   0,   0,\n",
       "         0,   0,   0,   0,   0,   0,   0,   0,   0,   0,   0,   0,   0,\n",
       "         0,   0,   0,   0,   0,   0,   0,   0,   0,   0,   0,   0,   0,\n",
       "         0,   0,   0,   0,   0,   0,   0,   0,   0,   0,   0,   0,   0,\n",
       "         0,   0,   0,   0,   0,   0,   0,   0,   0,   0,   0,   0,   0,\n",
       "         0,   0,   0,   0,   0,   0,   0,   0,   0,   0,   0,   0,   0,\n",
       "         0,   0,   0,   0,   0,   0,   0,   0,   0,   0,   0,   0,   0,\n",
       "         0,   0,   0,   0,   0,   0,   0,   0,   0,   0,   0,   0,   0,\n",
       "         0,   0, 188, 255,  94,   0,   0,   0,   0,   0,   0,   0,   0,\n",
       "         0,   0,   0,   0,   0,   0,   0,   0,   0,   0,   0,   0,   0,\n",
       "         0,   0,   0, 191, 250, 253,  93,   0,   0,   0,   0,   0,   0,\n",
       "         0,   0,   0,   0,   0,   0,   0,   0,   0,   0,   0,   0,   0,\n",
       "         0,   0,   0,   0, 123, 248, 253, 167,  10,   0,   0,   0,   0,\n",
       "         0,   0,   0,   0,   0,   0,   0,   0,   0,   0,   0,   0,   0,\n",
       "         0,   0,   0,   0,   0,  80, 247, 253, 208,  13,   0,   0,   0,\n",
       "         0,   0,   0,   0,   0,   0,   0,   0,   0,   0,   0,   0,   0,\n",
       "         0,   0,   0,   0,   0,   0,  29, 207, 253, 235,  77,   0,   0,\n",
       "         0,   0,   0,   0,   0,   0,   0,   0,   0,   0,   0,   0,   0,\n",
       "         0,   0,   0,   0,   0,   0,   0,  54, 209, 253, 253,  88,   0,\n",
       "         0,   0,   0,   0,   0,   0,   0,   0,   0,   0,   0,   0,   0,\n",
       "         0,   0,   0,   0,   0,   0,   0,   0,  93, 254, 253, 238, 170,\n",
       "        17,   0,   0,   0,   0,   0,   0,   0,   0,   0,   0,   0,   0,\n",
       "         0,   0,   0,   0,   0,   0,   0,   0,   0,  23, 210, 254, 253,\n",
       "       159,   0,   0,   0,   0,   0,   0,   0,   0,   0,   0,   0,   0,\n",
       "         0,   0,   0,   0,   0,   0,   0,   0,   0,   0,  16, 209, 253,\n",
       "       254, 240,  81,   0,   0,   0,   0,   0,   0,   0,   0,   0,   0,\n",
       "         0,   0,   0,   0,   0,   0,   0,   0,   0,   0,   0,   0,  27,\n",
       "       253, 253, 254,  13,   0,   0,   0,   0,   0,   0,   0,   0,   0,\n",
       "         0,   0,   0,   0,   0,   0,   0,   0,   0,   0,   0,   0,   0,\n",
       "        20, 206, 254, 254, 198,   7,   0,   0,   0,   0,   0,   0,   0,\n",
       "         0,   0,   0,   0,   0,   0,   0,   0,   0,   0,   0,   0,   0,\n",
       "         0,   0, 168, 253, 253, 196,   7,   0,   0,   0,   0,   0,   0,\n",
       "         0,   0,   0,   0,   0,   0,   0,   0,   0,   0,   0,   0,   0,\n",
       "         0,   0,   0,  20, 203, 253, 248,  76,   0,   0,   0,   0,   0,\n",
       "         0,   0,   0,   0,   0,   0,   0,   0,   0,   0,   0,   0,   0,\n",
       "         0,   0,   0,   0,  22, 188, 253, 245,  93,   0,   0,   0,   0,\n",
       "         0,   0,   0,   0,   0,   0,   0,   0,   0,   0,   0,   0,   0,\n",
       "         0,   0,   0,   0,   0,   0, 103, 253, 253, 191,   0,   0,   0,\n",
       "         0,   0,   0,   0,   0,   0,   0,   0,   0,   0,   0,   0,   0,\n",
       "         0,   0,   0,   0,   0,   0,   0,  89, 240, 253, 195,  25,   0,\n",
       "         0,   0,   0,   0,   0,   0,   0,   0,   0,   0,   0,   0,   0,\n",
       "         0,   0,   0,   0,   0,   0,   0,   0,  15, 220, 253, 253,  80,\n",
       "         0,   0,   0,   0,   0,   0,   0,   0,   0,   0,   0,   0,   0,\n",
       "         0,   0,   0,   0,   0,   0,   0,   0,   0,   0,  94, 253, 253,\n",
       "       253,  94,   0,   0,   0,   0,   0,   0,   0,   0,   0,   0,   0,\n",
       "         0,   0,   0,   0,   0,   0,   0,   0,   0,   0,   0,   0,  89,\n",
       "       251, 253, 250, 131,   0,   0,   0,   0,   0,   0,   0,   0,   0,\n",
       "         0,   0,   0,   0,   0,   0,   0,   0,   0,   0,   0,   0,   0,\n",
       "         0,   0, 214, 218,  95,   0,   0,   0,   0,   0,   0,   0,   0,\n",
       "         0,   0,   0,   0,   0,   0,   0,   0,   0,   0,   0,   0,   0,\n",
       "         0,   0,   0,   0,   0,   0,   0,   0,   0,   0,   0,   0,   0,\n",
       "         0,   0,   0,   0,   0,   0,   0,   0,   0,   0,   0,   0,   0,\n",
       "         0,   0,   0,   0,   0,   0,   0,   0,   0,   0,   0,   0,   0,\n",
       "         0,   0,   0,   0,   0,   0,   0,   0,   0,   0,   0,   0,   0,\n",
       "         0,   0,   0,   0,   0,   0,   0,   0,   0,   0,   0,   0,   0,\n",
       "         0,   0,   0,   0,   0,   0,   0,   0,   0,   0,   0,   0,   0,\n",
       "         0,   0,   0,   0,   0,   0,   0,   0,   0,   0,   0,   0,   0,\n",
       "         0,   0,   0,   0,   0,   0,   0,   0,   0,   0,   0,   0,   0,\n",
       "         0,   0,   0,   0], dtype=int64)"
      ]
     },
     "execution_count": 11,
     "metadata": {},
     "output_type": "execute_result"
    }
   ],
   "source": [
    "img = X_train.iloc[0].to_numpy() # ilk indexi (resmi) alıp dönüştürürüz: pandas.series => vektörel numpy.array \n",
    "img"
   ]
  },
  {
   "cell_type": "code",
   "execution_count": 12,
   "metadata": {},
   "outputs": [
    {
     "data": {
      "text/plain": [
       "(784,)"
      ]
     },
     "execution_count": 12,
     "metadata": {},
     "output_type": "execute_result"
    }
   ],
   "source": [
    "img.shape # 784x1"
   ]
  },
  {
   "cell_type": "code",
   "execution_count": 13,
   "metadata": {},
   "outputs": [],
   "source": [
    "img = img.reshape((28, 28)) #  784x1 => 28x28'e dönüştürülür."
   ]
  },
  {
   "cell_type": "code",
   "execution_count": 14,
   "metadata": {
    "_uuid": "4c9d3a1467cf82a3dff04967a9846906f9758ed4"
   },
   "outputs": [
    {
     "data": {
      "image/png": "[encoded data removed]",
      "text/plain": [
       "<Figure size 432x288 with 1 Axes>"
      ]
     },
     "metadata": {
      "needs_background": "light"
     },
     "output_type": "display_data"
    }
   ],
   "source": [
    "plt.imshow(img, cmap='gray') # gray=siyah beyaz yap\n",
    "plt.title(train.iloc[0, 0]) # ilk indexin labelı\n",
    "plt.axis(\"off\") # resim olduğu için eksenleri göstermye gerek yok\n",
    "plt.show()"
   ]
  },
  {
   "cell_type": "markdown",
   "metadata": {},
   "source": [
    "     ii) Visualize First Index (Number 4)"
   ]
  },
  {
   "cell_type": "code",
   "execution_count": 15,
   "metadata": {},
   "outputs": [],
   "source": [
    "img = X_train.iloc[3].to_numpy()"
   ]
  },
  {
   "cell_type": "code",
   "execution_count": 16,
   "metadata": {},
   "outputs": [],
   "source": [
    "img = img.reshape((28,28))"
   ]
  },
  {
   "cell_type": "code",
   "execution_count": 17,
   "metadata": {
    "_uuid": "d6b119ecbe774a45656d1d157f9b33f38adf8e96"
   },
   "outputs": [
    {
     "data": {
      "image/png": "[encoded data removed]",
      "text/plain": [
       "<Figure size 432x288 with 1 Axes>"
      ]
     },
     "metadata": {
      "needs_background": "light"
     },
     "output_type": "display_data"
    }
   ],
   "source": [
    "plt.imshow(img, cmap='gray')\n",
    "plt.title(train.iloc[3,0])\n",
    "plt.axis(\"off\")\n",
    "plt.show()"
   ]
  },
  {
   "cell_type": "markdown",
   "metadata": {
    "_uuid": "74e341f4845b42101182eda3c990e3dc4dc64dff"
   },
   "source": [
    "## 3) Preprocessing \n",
    "### Normalization, Reshape and Label Encoding \n",
    "* Normalization\n",
    "    * We perform a grayscale normalization to reduce the effect of illumination's differences.\n",
    "    * If we perform normalization, CNN works faster.\n",
    "* Reshape\n",
    "    * Train and test images (28 x 28) \n",
    "    * We reshape all data to 28x28x1 3D matrices.\n",
    "    * Keras needs an extra dimension in the end which correspond to channels. Our images are gray scaled so it use only one channel. \n",
    "* Label Encoding  \n",
    "    * Encode labels to one hot vectors \n",
    "        * 2 => [0,0,1,0,0,0,0,0,0,0]\n",
    "        * 4 => [0,0,0,0,1,0,0,0,0,0]"
   ]
  },
  {
   "cell_type": "markdown",
   "metadata": {},
   "source": [
    "### A) Normalization"
   ]
  },
  {
   "cell_type": "code",
   "execution_count": 18,
   "metadata": {
    "_uuid": "f39e537f15757b5da3363c138a33e50bd78bbf49"
   },
   "outputs": [
    {
     "name": "stdout",
     "output_type": "stream",
     "text": [
      "x_train shape:  (42000, 784)\n",
      "test shape:  (28000, 784)\n"
     ]
    }
   ],
   "source": [
    "X_train = X_train / 255.0\n",
    "test = test / 255.0\n",
    "print(\"x_train shape: \",X_train.shape)\n",
    "print(\"test shape: \",test.shape)"
   ]
  },
  {
   "cell_type": "markdown",
   "metadata": {},
   "source": [
    "### B) Reshape"
   ]
  },
  {
   "cell_type": "code",
   "execution_count": 19,
   "metadata": {
    "_uuid": "d524f6de086928158a76c54d1685a92c1802e230"
   },
   "outputs": [
    {
     "name": "stdout",
     "output_type": "stream",
     "text": [
      "x_train shape:  (42000, 28, 28, 1)\n",
      "test shape:  (28000, 28, 28, 1)\n"
     ]
    }
   ],
   "source": [
    "X_train = X_train.to_numpy().reshape(-1, 28,28,1) # -1 => data sayısı (42000) Son parametre 1: gray, 3 olsaydı rgb \n",
    "test = test.to_numpy().reshape(-1, 28,28,1)\n",
    "print(\"x_train shape: \",X_train.shape)\n",
    "print(\"test shape: \",test.shape)"
   ]
  },
  {
   "cell_type": "markdown",
   "metadata": {},
   "source": [
    "### C) Label Encoding "
   ]
  },
  {
   "cell_type": "code",
   "execution_count": 20,
   "metadata": {
    "_uuid": "d15d35ca439dce194a96f4442c7a1c085ce24d28"
   },
   "outputs": [],
   "source": [
    "Y_train = to_categorical(Y_train, num_classes = target_class_count) # 10 different class"
   ]
  },
  {
   "cell_type": "markdown",
   "metadata": {
    "_uuid": "111d4a1e66d823363f890f892bba39d692479663"
   },
   "source": [
    "### D) Split Data\n",
    "* test size is 10%.\n",
    "* train size is 90%.\n",
    "* **X_train** datasından hem X_train hem X_val elde ettik. **X_val** haricinde **test** adında **X_test** görevini üstelenen büyük test datasının olduğunu unutmayalım.\n",
    "* **X_train** datasını \n",
    "* **Y_val** değişkenin amacı X_val'daki değerlerin karşılığını tutup tahminlemelerde kıyaslamaktır.\n",
    "* Aşamalar:\n",
    "  * **X_train** datasıyla modeli eğitiriz.\n",
    "  *  **X_val** ile doğrulama (ilk test) yapılacak.\n",
    "  *  **test** datasıyla gerçek test yapılacak."
   ]
  },
  {
   "cell_type": "code",
   "execution_count": 21,
   "metadata": {
    "_uuid": "882d9dfb1bee94b2ec1e83911e3e334994d74f4b"
   },
   "outputs": [
    {
     "name": "stdout",
     "output_type": "stream",
     "text": [
      "x_train shape (37800, 28, 28, 1)\n",
      "x_validation shape (4200, 28, 28, 1)\n",
      "y_train shape (37800, 10)\n",
      "y_validation shape (4200, 10)\n"
     ]
    }
   ],
   "source": [
    "X_train, X_val, Y_train, Y_val = train_test_split(X_train, Y_train, test_size = 0.1, random_state = 42)\n",
    "print(\"x_train shape\", X_train.shape)\n",
    "print(\"x_validation shape\", X_val.shape)\n",
    "print(\"y_train shape\", Y_train.shape)\n",
    "print(\"y_validation shape\", Y_val.shape)"
   ]
  },
  {
   "cell_type": "code",
   "execution_count": 22,
   "metadata": {
    "_uuid": "1cdc57350e1c251ec583093ebba18c51a537f55f"
   },
   "outputs": [
    {
     "data": {
      "image/png": "[encoded data removed]",
      "text/plain": [
       "<Figure size 432x288 with 1 Axes>"
      ]
     },
     "metadata": {
      "needs_background": "light"
     },
     "output_type": "display_data"
    }
   ],
   "source": [
    "# Some examples\n",
    "plt.imshow(X_train[2][:,:,0], cmap='gray')\n",
    "plt.show()"
   ]
  },
  {
   "cell_type": "markdown",
   "metadata": {
    "_uuid": "caf4b9f7fcae153ac1d4c0246b1defc9d9d30776"
   },
   "source": [
    "## 4-What is Convolutional Neural Network (Theoritical)\n",
    "Aşağıdaki resimde 5 **input**u yerine bir kedi resmi olduğunu varsayalım. Genel olarak yapı mantığı ve sırası:\n",
    "1. Convolution Layer(**Activation function=relu** uygulanır):\n",
    "    * kedinin kulağını gözünü ağzını ayırt eden, herbiri farklı bir özelliğe hizmet eden **filter**ler burada bulunur. Bu filtreleme işlemi sonucunda göz, kulak şeklinde ayrı ayrı **feature map**'ler oluşturulur. Kulak için ve göz için ayrı filter'lar kullanıldığı için, ayrı ayrı filter map'ler oluşturulur.\n",
    "2. Pooling Layer\n",
    "    * Elimizde olan kedi kulağı, gözünün tamamına ihtiyacımız yok. Kulağı ayırt edebilecek en büyük ya da orta değeri/sayıyı down sampling yapılır. Yani matrix'in size'ını küçültür. Bu bize hız sağlar. **Orientation** özelliği olur ve **overfitting**(ezberleme)'i engeller.\n",
    "3. Convolution Layer(**Activation function=relu**):\n",
    "   * Yukarıdaki CL'nin aynısı. Ne kadar çok CL varsa o kadar iyi diyebiliriz.(her zaman geçerli değil. Denemek lazım.)\n",
    "4. Pooling Layer\n",
    "   * Yukarıdaki PL'nin aynısı.\n",
    "5. Flatten(Düzleştirme)\n",
    "   * ANN'deki flatten ile aynı. 3x3 matrisimiz varsa => 9x1 vektörel bir hale getirme işlemi \n",
    "6. Fully Connected(ANN) **Activation function=softmax**\n",
    "7. Output\n",
    "\n",
    "\n",
    "\n",
    "* CNN is used for image classification, object detection \n",
    "* <a href=\"https://ibb.co/kV1j9p\"><img src=\"https://preview.ibb.co/nRkBpp/gec2.jpg\" alt=\"gec2\" border=\"0\"></a>"
   ]
  },
  {
   "cell_type": "markdown",
   "metadata": {
    "_uuid": "682cb6f5144794038c0bef1dc0814dde0f7fe6c0"
   },
   "source": [
    "### What is Convolution Operation?\n",
    "* We have some image and feature detector(3*3)\n",
    "* Feature detector does not need to be 3 by 3 matrix. It can be 5 by 5 or 7 by 7.\n",
    "* **Feature detector** = kernel = **filter**\n",
    "* **Feauture detector** detects features like **edges** or **convex shapes**. Example, if out input is dog, feature detector can detect features like ear or tail of the dog.\n",
    "* feature map = conv(input image, feature detector). Element wise multiplication of matrices.\n",
    "* feature map = convolved feature\n",
    "* Stride = navigating in input image. (detectorun işlemi bitince bir atlayıp sağa(yana) kayması. Stride=0 ise sol üst, stride =1 ise bir yanı)\n",
    "* We reduce the size of image. This is important bc code runs faster. However, we lost information. \n",
    "* We create multiple feature maps bc we use multiple feature detectors(filters).\n",
    "* Lets look at gimp. Edge detect: [0,10,0],[10,-4,10],[0,10,0]\n",
    "* <a href=\"https://imgbb.com/\"><img src=\"https://image.ibb.co/m4FQC9/gec.jpg\" alt=\"gec\" border=\"0\"></a>\n",
    "* After having convolution layer we use ReLU to break up linearity. Increase nonlinearity(Karmaşıklığı artırır). Because images are non linear.\n",
    "* <a href=\"https://ibb.co/mVZih9\"><img src=\"https://preview.ibb.co/gbcQvU/RELU.jpg\" alt=\"RELU\" border=\"0\"></a>"
   ]
  },
  {
   "cell_type": "markdown",
   "metadata": {
    "_uuid": "3af8fb49243719ad70016b64cd4dff6e62c413d9"
   },
   "source": [
    "### Same Padding (Bilgi Kaybını Önlemek için Padding uygulanır)\n",
    "* Bilgi kaybını önlemek için original matrisin etrafına 0'lar koyarız. Bu şekilde filter'ları dolaştığımızda örneğin 3x3 lük yerine 5x5 lik bir matris oluştururuz. Bu şekilde veri kaybını ve hızlı bir şekilde matris boyutunda küçülmeyi önlemiş oluruz.<br><br>\n",
    "* As we keep applying conv layers, the size of the volume will decrease faster than we would like. In the early layers of our network, we want to preserve as much information about the original input volume so that we can extract those low level features.\n",
    "* input size and output size are same. <br><br>\n",
    "* <a href=\"https://ibb.co/jUPkUp\"><img src=\"https://preview.ibb.co/noH5Up/padding.jpg\" alt=\"padding\" border=\"0\"></a>"
   ]
  },
  {
   "cell_type": "markdown",
   "metadata": {
    "_uuid": "6694b8ea366f974d6bd055a2915a5dc06f7a96bb"
   },
   "source": [
    "### Max Pooling\n",
    "* Accuracy yüksek olsun isteriz. Ancak matrisin size'ı büyük olursa algoritma yavaş çalışacaktır. Bu istediğimiz bir şey değildir. Bu yüzden down-sampling ya da sub-sampling yaparız. \n",
    "* Aynı zamanda overfitting'i (aşırı ezberleme) engellemek için pooling yapılmalıdır. Max Pooling ya da Average Poolin yapılabilir.\n",
    "* İlk önce sol üstten yani 2x2 lik bir kare içerisindeki **en büyük sayı** alınır. Daha sonra yandaki sonra yandaki alınarak başka matrise aktarılır ve boyutu küçülmüş olur.\n",
    "\n",
    "<br>\n",
    "\n",
    "* It makes down-sampling or sub-sampling (Reduces the number of parameters)\n",
    "* It makes the detection of features invariant to scale or orientation changes.\n",
    "* It reduce the amount of parameters and computation in the network, and hence to also control overfitting.  <br> <br>\n",
    "* <a href=\"https://ibb.co/ckTjN9\"><img src=\"https://preview.ibb.co/gsNYFU/maxpool.jpg\" alt=\"maxpool\" border=\"0\"></a>"
   ]
  },
  {
   "cell_type": "markdown",
   "metadata": {
    "_uuid": "c2fb971fc473c9104a27975242a36f8e9183742c"
   },
   "source": [
    "### Flattening\n",
    "\n",
    "* 28x28 matrisi 784x1 olacak şekilde vektörel bir ifadeye dönüştürürüz.\n",
    "\n",
    "<br>\n",
    "* <a href=\"https://imgbb.com/\"><img src=\"https://image.ibb.co/c7eVvU/flattenigng.jpg\" alt=\"flattenigng\" border=\"0\"></a>"
   ]
  },
  {
   "cell_type": "markdown",
   "metadata": {
    "_uuid": "f437407cf18fdfacf8626baa5e76ed5d64be1a11"
   },
   "source": [
    "### Full Connection (Activation function=Softmax)\n",
    "* Her bir nöron birbirine bağlıdır. \n",
    "* ANN olduğu için hidden layerlarımız vardır. Ne kadar artarsa o kadar iyi eğitiriz.\n",
    "\n",
    "<br>\n",
    "\n",
    "* Neurons in a fully connected layer have connections to all activations in the previous layer\n",
    "* Artificial Neural Network\n",
    "  \n",
    "<br>\n",
    "* <a href=\"https://ibb.co/hsS14p\"><img src=\"https://preview.ibb.co/evzsAU/fullyc.jpg\" alt=\"fullyc\" border=\"0\"></a>"
   ]
  },
  {
   "cell_type": "markdown",
   "metadata": {
    "_uuid": "fd9feb4c4dadbb8a5cc8a32b5ef582d41b5c0698"
   },
   "source": [
    "## 5-Create Model (CNN) with Keras\n",
    "* conv => max pool => dropout => conv => max pool => dropout => fully connected (2 layer)\n",
    "* **Dropout**: Dropout is a technique where **randomly selected neurons** are **ignored** during **next training**. This method prevents overfitting.\n",
    "\n",
    "<br>\n",
    "* <a href=\"https://ibb.co/jGcvVU\"><img src=\"https://preview.ibb.co/e7yPPp/dropout.jpg\" alt=\"dropout\" border=\"0\"></a>"
   ]
  },
  {
   "cell_type": "code",
   "execution_count": 23,
   "metadata": {},
   "outputs": [],
   "source": [
    "model = Sequential() # Layerları sırayla eklemek için sequential modelini kullanırız."
   ]
  },
  {
   "cell_type": "markdown",
   "metadata": {},
   "source": [
    "    i. First CL"
   ]
  },
  {
   "cell_type": "code",
   "execution_count": 24,
   "metadata": {},
   "outputs": [],
   "source": [
    "# filter arttıkça yakalanan featurelar da artar. Biz şimdilik hızlı çalışssın diye az seçtik.\n",
    "# kernel_size = filter_size\n",
    "model.add(Conv2D(filters = 8, kernel_size = (5,5), padding = 'Same', activation ='relu', input_shape = (28, 28, 1)))\n",
    "model.add(MaxPool2D(pool_size=(2,2)))\n",
    "model.add(Dropout(0.25)) # Randomluk oranı 0.25 (4 te 1 oranında ignore et önceki train edilen verileri)"
   ]
  },
  {
   "cell_type": "markdown",
   "metadata": {},
   "source": [
    "    ii. Second CL"
   ]
  },
  {
   "cell_type": "code",
   "execution_count": 25,
   "metadata": {},
   "outputs": [],
   "source": [
    "# sonraki CL'de input_shape'i belirtmeye gerek yok, ilkinden boyutu tanır.\n",
    "# çeşitlilik olsun diye filter sayısı ve filter_size'ını farklı verdik.\n",
    "# Stride(2,2): 2 basamak atlayarak gezecek.\n",
    "model.add(Conv2D(filters = 16, kernel_size = (3,3), padding = 'Same', activation ='relu'))\n",
    "model.add(MaxPool2D(pool_size=(2,2), strides=(2,2))) \n",
    "model.add(Dropout(0.25)) # Randomluk oranı 0.25 (4 te 1 oranında ignore et önceki train edilen verileri)"
   ]
  },
  {
   "cell_type": "markdown",
   "metadata": {},
   "source": [
    "    iii. Full Connected Layer"
   ]
  },
  {
   "cell_type": "code",
   "execution_count": 26,
   "metadata": {
    "_uuid": "c441d7b3852cee5d3636272d4da2f96b169f81ac"
   },
   "outputs": [],
   "source": [
    "# fully connected\n",
    "# softmax kullanılır: Sigmoid(binary classlar için)'in daha genelleştirilmiş hali. Softmax (multiple classlar için=> 0, 1, 2.. 9)\n",
    "# softmax: Yüzde 10 oranında sayı 1, yüzde 0.04 oranında 2, yüzde 70 oranında 7'dir diye sonuç çıkartır.\n",
    "model.add(Flatten())\n",
    "model.add(Dense(256, activation = \"relu\")) # First Hidden Layer\n",
    "model.add(Dropout(0.5)) # Randomluk oranı 0.5 (4 te 1 oranında ignore et önceki train edilen verileri)\n",
    "model.add(Dense(10, activation = \"softmax\")) # Output Layer"
   ]
  },
  {
   "cell_type": "markdown",
   "metadata": {
    "_uuid": "9a432df491777ca0019db6f6b972581f2c5bd9f9"
   },
   "source": [
    "    iv. Define Optimizer\n",
    "* Adam optimizer: Change the learning rate\n"
   ]
  },
  {
   "cell_type": "code",
   "execution_count": 27,
   "metadata": {
    "_uuid": "607a02b42636e3115a1ac7a8edcadf61cf5ea1b0"
   },
   "outputs": [],
   "source": [
    "# verileri hızlı okuyorsa lr'yi yavaşlatır, yavaş okursa hızlandırır.\n",
    "optimizer = Adam(lr=0.001, beta_1 = 0.9, beta_2 = 0.999)"
   ]
  },
  {
   "cell_type": "markdown",
   "metadata": {
    "_uuid": "91bf542a979c5b191c534876186bf31e70ec7f06"
   },
   "source": [
    "    v. Compile Model\n",
    "* categorical crossentropy\n",
    "* We make binary cross entropy at previous parts and in machine learning tutorial\n",
    "* At this time we use categorical crossentropy. That means that we have multi class.\n",
    "* <a href=\"https://ibb.co/jm1bpp\"><img src=\"https://preview.ibb.co/nN3ZaU/cce.jpg\" alt=\"cce\" border=\"0\"></a>\n"
   ]
  },
  {
   "cell_type": "markdown",
   "metadata": {},
   "source": [
    "* loss = kayıp => loss çoksa kaybımız/hatamız çok.\n",
    "* categorical_crossentropy kullanacağız çünkü target verimiz 0'dan 9'a kadar\n",
    "* binary_crossentropy kullanmayacağız çünkü target verimiz yalnız 0 ve 1 den oluşmuyor.\n",
    "* çıkan sonucu accuracy'ye göre değerlendireceğiz.(metric)"
   ]
  },
  {
   "cell_type": "code",
   "execution_count": 28,
   "metadata": {
    "_uuid": "0d1eefc68470b4cdcec04c2570651da3d97676d0"
   },
   "outputs": [],
   "source": [
    "model.compile(optimizer = optimizer , loss = \"categorical_crossentropy\", metrics=[\"accuracy\"])"
   ]
  },
  {
   "cell_type": "markdown",
   "metadata": {
    "_uuid": "d5d8fea4cbb9b53cf1bb5089357a33dc179ee981"
   },
   "source": [
    "    vi. Epochs and Batch Size\n",
    "* Say you have a dataset of 10 examples (or samples). You have a **batch size** of 2, and you've specified you want the algorithm to run for 3 **epochs**. Therefore, in each epoch, you have 5 **batches** (10/2 = 5). Each batch gets passed through the algorithm, therefore you have 5 iterations **per epoch**.\n",
    "* reference: https://stackoverflow.com/questions/4752626/epoch-vs-iteration-when-training-neural-networks"
   ]
  },
  {
   "cell_type": "code",
   "execution_count": 29,
   "metadata": {
    "_uuid": "a237feb5e53ecbc8799101cb6e699877faafde77"
   },
   "outputs": [],
   "source": [
    "epochs = 50  # for better result increase the epochs\n",
    "batch_size = 4096 # must be 2^n"
   ]
  },
  {
   "cell_type": "markdown",
   "metadata": {
    "_uuid": "e87c60e45759e0c52c2b72ee562fdb964c8008d5"
   },
   "source": [
    "    vii. Data Augmentation\n",
    "\n",
    "* **overfittingi** önlemek için, resmi farklı şekillere sokarız, bunlar rotation(döndürme), zoom-in, zoom-out vs.\n",
    "\n",
    "<br>\n",
    "* To avoid overfitting problem, we need to expand artificially our handwritten digit dataset\n",
    "* Alter the training data with small transformations to reproduce the variations of digit.\n",
    "* For example, the number is not centered The scale is not the same (some who write with big/small numbers) The image is rotated.\n",
    "  \n",
    "<br>\n",
    "\n",
    "* <a href=\"https://ibb.co/k24CUp\"><img src=\"https://preview.ibb.co/nMxXUp/augment.jpg\" alt=\"augment\" border=\"0\"></a>\n",
    "    \n"
   ]
  },
  {
   "cell_type": "code",
   "execution_count": 32,
   "metadata": {
    "_uuid": "c339fa7d06e9b73a519ca661bed19de482707d1f"
   },
   "outputs": [],
   "source": [
    "# data augmentation\n",
    "datagen = ImageDataGenerator(\n",
    "        # istenmeye özellikler\n",
    "        featurewise_center = False,  # set input mean to 0 over the dataset\n",
    "        samplewise_center = False,  # set each sample mean to 0\n",
    "        featurewise_std_normalization = False,  # divide inputs by std of the dataset\n",
    "        samplewise_std_normalization = False,  # divide each input by its std\n",
    "        zca_whitening = False,  # dimesion reduction\n",
    "        horizontal_flip = False,  # randomly flip images\n",
    "        vertical_flip = False,  # randomly flip images\n",
    "\n",
    "        # istenilen özellikler\n",
    "        rotation_range = 0.5,  # randomly rotate images in the range 0.5 degrees\n",
    "        zoom_range = 0.5, # Randomly zoom image 0.5%\n",
    "        width_shift_range = 0.5,  # randomly shift images horizontally 0.5%\n",
    "        height_shift_range = 0.5)  # randomly shift images vertically 0.5%\n",
    "\n",
    "datagen.fit(X_train) # bu özellikler data'ya uygulanır."
   ]
  },
  {
   "cell_type": "markdown",
   "metadata": {
    "_uuid": "e42e43f1b3b9e6da0d99dafff8f4a4b514a07f4c"
   },
   "source": [
    "\n",
    "## 6-Training Data"
   ]
  },
  {
   "cell_type": "code",
   "execution_count": 33,
   "metadata": {
    "_uuid": "4b2957bb8976a25cdbbbdc3110d68c5035a9773c"
   },
   "outputs": [
    {
     "name": "stdout",
     "output_type": "stream",
     "text": [
      "Epoch 1/50\n",
      "9/9 [==============================] - 21s 2s/step - loss: 2.3026 - accuracy: 0.1059 - val_loss: 2.2696 - val_accuracy: 0.1476\n",
      "Epoch 2/50\n",
      "9/9 [==============================] - 18s 2s/step - loss: 2.2787 - accuracy: 0.1295 - val_loss: 2.2443 - val_accuracy: 0.2079\n",
      "Epoch 3/50\n",
      "9/9 [==============================] - 16s 2s/step - loss: 2.2479 - accuracy: 0.1770 - val_loss: 2.1594 - val_accuracy: 0.2867\n",
      "Epoch 4/50\n",
      "9/9 [==============================] - 15s 2s/step - loss: 2.1857 - accuracy: 0.2164 - val_loss: 1.9808 - val_accuracy: 0.3488\n",
      "Epoch 5/50\n",
      "9/9 [==============================] - 17s 2s/step - loss: 2.1146 - accuracy: 0.2364 - val_loss: 1.7973 - val_accuracy: 0.4060\n",
      "Epoch 6/50\n",
      "9/9 [==============================] - 14s 2s/step - loss: 2.0525 - accuracy: 0.2538 - val_loss: 1.6894 - val_accuracy: 0.4921\n",
      "Epoch 7/50\n",
      "9/9 [==============================] - 13s 1s/step - loss: 2.0085 - accuracy: 0.2805 - val_loss: 1.5792 - val_accuracy: 0.5652\n",
      "Epoch 8/50\n",
      "9/9 [==============================] - 14s 1s/step - loss: 1.9519 - accuracy: 0.3076 - val_loss: 1.4618 - val_accuracy: 0.6121\n",
      "Epoch 9/50\n",
      "9/9 [==============================] - 13s 1s/step - loss: 1.9163 - accuracy: 0.3182 - val_loss: 1.3482 - val_accuracy: 0.6481\n",
      "Epoch 10/50\n",
      "9/9 [==============================] - 13s 1s/step - loss: 1.8810 - accuracy: 0.3322 - val_loss: 1.2480 - val_accuracy: 0.6793\n",
      "Epoch 11/50\n",
      "9/9 [==============================] - 13s 1s/step - loss: 1.8294 - accuracy: 0.3554 - val_loss: 1.1664 - val_accuracy: 0.7276\n",
      "Epoch 12/50\n",
      "9/9 [==============================] - 13s 2s/step - loss: 1.7959 - accuracy: 0.3730 - val_loss: 1.0721 - val_accuracy: 0.7460\n",
      "Epoch 13/50\n",
      "9/9 [==============================] - 13s 1s/step - loss: 1.7525 - accuracy: 0.3867 - val_loss: 0.9870 - val_accuracy: 0.7788\n",
      "Epoch 14/50\n",
      "9/9 [==============================] - 13s 1s/step - loss: 1.7238 - accuracy: 0.3987 - val_loss: 0.9205 - val_accuracy: 0.7898\n",
      "Epoch 15/50\n",
      "9/9 [==============================] - 14s 2s/step - loss: 1.6879 - accuracy: 0.4108 - val_loss: 0.8570 - val_accuracy: 0.8083\n",
      "Epoch 16/50\n",
      "9/9 [==============================] - 13s 2s/step - loss: 1.6631 - accuracy: 0.4221 - val_loss: 0.8011 - val_accuracy: 0.8240\n",
      "Epoch 17/50\n",
      "9/9 [==============================] - 13s 1s/step - loss: 1.6461 - accuracy: 0.4301 - val_loss: 0.7452 - val_accuracy: 0.8474\n",
      "Epoch 18/50\n",
      "9/9 [==============================] - 13s 1s/step - loss: 1.6172 - accuracy: 0.4407 - val_loss: 0.7200 - val_accuracy: 0.8457\n",
      "Epoch 19/50\n",
      "9/9 [==============================] - 13s 1s/step - loss: 1.6011 - accuracy: 0.4490 - val_loss: 0.6879 - val_accuracy: 0.8657\n",
      "Epoch 20/50\n",
      "9/9 [==============================] - 13s 1s/step - loss: 1.5843 - accuracy: 0.4538 - val_loss: 0.6488 - val_accuracy: 0.8667\n",
      "Epoch 21/50\n",
      "9/9 [==============================] - 13s 1s/step - loss: 1.5730 - accuracy: 0.4623 - val_loss: 0.6178 - val_accuracy: 0.8712\n",
      "Epoch 22/50\n",
      "9/9 [==============================] - 13s 1s/step - loss: 1.5521 - accuracy: 0.4653 - val_loss: 0.5834 - val_accuracy: 0.8848\n",
      "Epoch 23/50\n",
      "9/9 [==============================] - 13s 1s/step - loss: 1.5425 - accuracy: 0.4717 - val_loss: 0.5561 - val_accuracy: 0.8888\n",
      "Epoch 24/50\n",
      "9/9 [==============================] - 13s 1s/step - loss: 1.5318 - accuracy: 0.4744 - val_loss: 0.5438 - val_accuracy: 0.8788\n",
      "Epoch 25/50\n",
      "9/9 [==============================] - 14s 2s/step - loss: 1.5125 - accuracy: 0.4853 - val_loss: 0.5186 - val_accuracy: 0.8938\n",
      "Epoch 26/50\n",
      "9/9 [==============================] - 14s 2s/step - loss: 1.4932 - accuracy: 0.4869 - val_loss: 0.4973 - val_accuracy: 0.8979\n",
      "Epoch 27/50\n",
      "9/9 [==============================] - 13s 1s/step - loss: 1.4916 - accuracy: 0.4905 - val_loss: 0.4963 - val_accuracy: 0.8914\n",
      "Epoch 28/50\n",
      "9/9 [==============================] - 13s 1s/step - loss: 1.4699 - accuracy: 0.5027 - val_loss: 0.4893 - val_accuracy: 0.8962\n",
      "Epoch 29/50\n",
      "9/9 [==============================] - 13s 1s/step - loss: 1.4633 - accuracy: 0.4991 - val_loss: 0.4659 - val_accuracy: 0.9081\n",
      "Epoch 30/50\n",
      "9/9 [==============================] - 13s 1s/step - loss: 1.4579 - accuracy: 0.5030 - val_loss: 0.4450 - val_accuracy: 0.9036\n",
      "Epoch 31/50\n",
      "9/9 [==============================] - 13s 1s/step - loss: 1.4431 - accuracy: 0.5115 - val_loss: 0.4301 - val_accuracy: 0.9098\n",
      "Epoch 32/50\n",
      "9/9 [==============================] - 13s 1s/step - loss: 1.4396 - accuracy: 0.5132 - val_loss: 0.4184 - val_accuracy: 0.9081\n",
      "Epoch 33/50\n",
      "9/9 [==============================] - 14s 2s/step - loss: 1.4227 - accuracy: 0.5160 - val_loss: 0.4067 - val_accuracy: 0.9110\n",
      "Epoch 34/50\n",
      "9/9 [==============================] - 13s 1s/step - loss: 1.4125 - accuracy: 0.5182 - val_loss: 0.3907 - val_accuracy: 0.9150\n",
      "Epoch 35/50\n",
      "9/9 [==============================] - 13s 1s/step - loss: 1.4108 - accuracy: 0.5221 - val_loss: 0.3953 - val_accuracy: 0.9157\n",
      "Epoch 36/50\n",
      "9/9 [==============================] - 13s 2s/step - loss: 1.4088 - accuracy: 0.5230 - val_loss: 0.3763 - val_accuracy: 0.9217\n",
      "Epoch 37/50\n",
      "9/9 [==============================] - 13s 1s/step - loss: 1.3918 - accuracy: 0.5319 - val_loss: 0.3620 - val_accuracy: 0.9181\n",
      "Epoch 38/50\n",
      "9/9 [==============================] - 13s 1s/step - loss: 1.3897 - accuracy: 0.5317 - val_loss: 0.3524 - val_accuracy: 0.9245\n",
      "Epoch 39/50\n",
      "9/9 [==============================] - 13s 1s/step - loss: 1.3893 - accuracy: 0.5296 - val_loss: 0.3530 - val_accuracy: 0.9210\n",
      "Epoch 40/50\n",
      "9/9 [==============================] - 13s 1s/step - loss: 1.3792 - accuracy: 0.5296 - val_loss: 0.3493 - val_accuracy: 0.9262\n",
      "Epoch 41/50\n",
      "9/9 [==============================] - 13s 1s/step - loss: 1.3620 - accuracy: 0.5366 - val_loss: 0.3390 - val_accuracy: 0.9202\n",
      "Epoch 42/50\n",
      "9/9 [==============================] - 13s 1s/step - loss: 1.3687 - accuracy: 0.5316 - val_loss: 0.3212 - val_accuracy: 0.9288\n",
      "Epoch 43/50\n",
      "9/9 [==============================] - 13s 2s/step - loss: 1.3514 - accuracy: 0.5449 - val_loss: 0.3220 - val_accuracy: 0.9262\n",
      "Epoch 44/50\n",
      "9/9 [==============================] - 15s 2s/step - loss: 1.3401 - accuracy: 0.5445 - val_loss: 0.3087 - val_accuracy: 0.9290\n",
      "Epoch 45/50\n",
      "9/9 [==============================] - 15s 2s/step - loss: 1.3268 - accuracy: 0.5509 - val_loss: 0.3081 - val_accuracy: 0.9286\n",
      "Epoch 46/50\n",
      "9/9 [==============================] - 13s 1s/step - loss: 1.3270 - accuracy: 0.5480 - val_loss: 0.2966 - val_accuracy: 0.9305\n",
      "Epoch 47/50\n",
      "9/9 [==============================] - 14s 2s/step - loss: 1.3192 - accuracy: 0.5509 - val_loss: 0.3007 - val_accuracy: 0.9281\n",
      "Epoch 48/50\n",
      "9/9 [==============================] - 13s 1s/step - loss: 1.3110 - accuracy: 0.5577 - val_loss: 0.2896 - val_accuracy: 0.9300\n",
      "Epoch 49/50\n",
      "9/9 [==============================] - 13s 1s/step - loss: 1.3200 - accuracy: 0.5535 - val_loss: 0.2917 - val_accuracy: 0.9324\n",
      "Epoch 50/50\n",
      "9/9 [==============================] - 14s 2s/step - loss: 1.3123 - accuracy: 0.5541 - val_loss: 0.2864 - val_accuracy: 0.9329\n"
     ]
    }
   ],
   "source": [
    "# Fit the model\n",
    "history = model.fit_generator(datagen.flow(X_train, Y_train, batch_size = batch_size),\n",
    "                              epochs = epochs, \n",
    "                              validation_data = (X_val, Y_val), \n",
    "                              steps_per_epoch = X_train.shape[0] // batch_size) # bölme işlemindeki bölüm kısmı"
   ]
  },
  {
   "cell_type": "markdown",
   "metadata": {
    "_uuid": "debd5424728e11aa30a8513ac7b4f7377193a2da"
   },
   "source": [
    "## 7-Evaluate the model\n",
    "* Test Loss visualization\n",
    "* Confusion matrix\n"
   ]
  },
  {
   "cell_type": "code",
   "execution_count": 34,
   "metadata": {
    "_uuid": "180a06f7ae01e69117c6c8258411cfe1b9b7b991"
   },
   "outputs": [
    {
     "data": {
      "image/png": "[encoded data removed]",
      "text/plain": [
       "<Figure size 432x288 with 1 Axes>"
      ]
     },
     "metadata": {
      "needs_background": "light"
     },
     "output_type": "display_data"
    }
   ],
   "source": [
    "# Plot the loss and accuracy curves for training and validation \n",
    "plt.plot(history.history['val_loss'], color='b', label=\"validation loss\") # yukarıdaki kısaltmaları çizdiririz.\n",
    "plt.title(\"Test Loss\")\n",
    "plt.xlabel(\"Number of Epochs\")\n",
    "plt.ylabel(\"Loss\")\n",
    "plt.legend()\n",
    "plt.show()"
   ]
  },
  {
   "cell_type": "code",
   "execution_count": 36,
   "metadata": {
    "_uuid": "6586e37bd470db822086e191a90388e7175d504f"
   },
   "outputs": [],
   "source": [
    "# confusion matrix\n",
    "# Predict the values from the validation dataset\n",
    "Y_pred = model.predict(X_val)\n",
    "# Convert predictions classes to one hot vectors \n",
    "Y_pred_classes = np.argmax(Y_pred, axis = 1) \n",
    "# Convert validation observations to one hot vectors\n",
    "Y_true = np.argmax(Y_val, axis = 1) \n",
    "# compute the confusion matrix"
   ]
  },
  {
   "cell_type": "code",
   "execution_count": 37,
   "metadata": {},
   "outputs": [
    {
     "data": {
      "image/png": "[encoded data removed]",
      "text/plain": [
       "<Figure size 576x576 with 2 Axes>"
      ]
     },
     "metadata": {
      "needs_background": "light"
     },
     "output_type": "display_data"
    }
   ],
   "source": [
    "confusion_mtx = confusion_matrix(Y_true, Y_pred_classes) \n",
    "# plot the confusion matrix\n",
    "f, ax = plt.subplots(figsize=(8, 8))\n",
    "sns.heatmap(confusion_mtx, annot=True, linewidths=0.01, cmap=\"Greens\", linecolor=\"gray\", fmt= '.1f', ax=ax)\n",
    "plt.xlabel(\"Predicted Label\")\n",
    "plt.ylabel(\"True Label\")\n",
    "plt.title(\"Confusion Matrix\")\n",
    "plt.show()"
   ]
  },
  {
   "cell_type": "markdown",
   "metadata": {},
   "source": [
    "Yukarıdaki plota göre örnek olarak:\n",
    "* **0** sayısını 5 kez **6** olarak yanlış **tahmin**de bulunmuş. (402 kere doğru tahmin)\n",
    "* **2** sayısını 20 kez **3** olarak yanlış **tahmin**de bulunmuş. (371 kere doğru tahmin)\n",
    "* **8** sayısını 24 kez **6** olarak yanlış **tahmin**de bulunmuş.\n",
    "  \n",
    "<br>\n",
    "\n",
    "* Böyle durumda yapılacak işlemler. \n",
    "  * Epoch, batch, filter, hidden vs sizelarıyla bir geliştirme yapamıyorsak aşağıdaki gibi bir işlem yapmalıyız:\n",
    "  * Örneğin **8** sayısına ait resimleri artırmalıyız(daha iyi resim ya da aynı sayıda çeşitli resim) ki **24** defa **6** tahmininde bulunamasın. Bu şekilde daha doğru tahminler yapmasını isteriz."
   ]
  }
 ],
 "metadata": {
  "kernelspec": {
   "display_name": "Python 3",
   "language": "python",
   "name": "python3"
  },
  "language_info": {
   "codemirror_mode": {
    "name": "ipython",
    "version": 3
   },
   "file_extension": ".py",
   "mimetype": "text/x-python",
   "name": "python",
   "nbconvert_exporter": "python",
   "pygments_lexer": "ipython3",
   "version": "3.9.7"
  }
 },
 "nbformat": 4,
 "nbformat_minor": 1
}
