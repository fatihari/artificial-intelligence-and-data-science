{
 "cells": [
  {
   "cell_type": "markdown",
   "metadata": {},
   "source": [
    "* [Sequence Models](#1)\n",
    "* [Recurrent Neural Network (RNN)](#2)\n",
    "* [Implementing Recurrent Neural Network with Keras](#3)\n",
    "    * [Loading and Preprocessing Data](#31)\n",
    "    * [Create RNN Model](#32)\n",
    "    * [Predictions and Visualising RNN Model](#33)\n",
    "* [Long Short Term Memory (LSTMs)](#4)\n",
    "* [Implementing Long Short Term Memory with Keras](#99)\n",
    "    * [Loading and Visualizing Data](#41)\n",
    "    * [Preprocessing Data](#42)\n",
    "    * [Create LSTM Model](#43)\n",
    "    * [Predictions and Visualising LSTM Model](#44)"
   ]
  },
  {
   "cell_type": "markdown",
   "metadata": {},
   "source": [
    "## Sequence Models\n",
    "* Sequence models plays an over time. \n",
    "* Speech recognition, natural language process (NLP), music generation\n",
    "* Apples Siri and Google's voice search\n",
    "* Sentiment classification (duygu sınıflandırma) Mesela \"bu ders bu dunyadaki en guzel ders\" yada \"sacma sapan ders cekmissin hocaaa\"  "
   ]
  },
  {
   "cell_type": "markdown",
   "metadata": {},
   "source": [
    "## Recurrent Neural Network\n",
    "* RNN’s are able to remember important things about the input they received, which enables them to be very precise in predicting what’s coming next.\n",
    "* This is the reason why they are the preferred algorithm for sequential data like time series, speech, text, financial data, audio, video, weather and much more because they can form a much deeper understanding of a sequence and its context, compared to other algorithms.\n",
    "* Not only feeds output but also gives feed backs into itself. Because RNN has internal memory\n",
    "* temporal loop = zamansal döngü. Kendini besler.\n",
    "* Belleğe sahipler short term memory bir önceki node da olanları hatırlarlar. Eskiyi hatırlar.\n",
    "* Mesela geçmişi hatırlamak neden önemli biz yaptıklarımızdan bir şeyler öğreniriz ve yeni öğrenilen şeyleri de eski öğrendiklerimizi üzerine kurarız. RNN'i de aynı mantıkta düşünebilirsiniz. Film örneğinde olduğu gibi.\n",
    "* Örnek RNN yapılarına bakalım\n",
    "* One to Many\n",
    "    * Input bir resim output o resimde yapılan cümle yani \"Adam surf yapıyor\"\n",
    "* Many to One\n",
    "    * Input bir cümle output bir duygu mesela iyimser neşeli gibi.\n",
    "* Many to Many\n",
    "    * Mesela google translate kullanarak İngilizceden bir cümleyi Türkçe'ye translate etmek\n",
    "* RNN short term memory'e sahip ama LSTM long term memory'e de sahip olabiliyor.\n",
    "* RNN'i ANN yada CNN'den ayıran daha önce de belirttiğimiz gibi *memory*. Mesela \"DATAI\" diye bir stringimiz var ve biz 4. harfe geldik yani \"A\" harfine. ANN' e sorduğumuz zaman 4. harfi A olan bir kelimenin 5. harfi ne olabilir diye. ANN bilemez çünkü memory olmadığı için geçmiş harfleri yani \"DAT\" harflerini bilip \"A\" ile birleştirip daha sonra 5. harf \"I\" olabilir diyemez. Ama RNN tam olarak bunu söyleyebilir.\n",
    "* Exploiding Gradients: Gradient'in çok büyük olması durumu. Gereksiz yere belli weightlere önem kazandırır.\n",
    "* Vanishing Gradients: Gradient'in çok küçük olması durumu. Yavaş öğrenir.\n",
    "* Gradient neydi arkadaşlar costa göre weightlerde ki değişim."
   ]
  },
  {
   "cell_type": "markdown",
   "metadata": {},
   "source": [
    "## Implementing Recurrent Neural Network with Keras\n",
    "* [Loading and Preprocessing Data](#31)\n",
    "* [Create RNN Model](#32)\n",
    "* [Predictions and Visualising RNN Model](#33)"
   ]
  },
  {
   "cell_type": "code",
   "execution_count": 1,
   "metadata": {},
   "outputs": [],
   "source": [
    "import numpy as np\n",
    "import matplotlib.pyplot as plt\n",
    "import pandas as pd\n",
    "import math\n",
    "import warnings\n",
    "warnings.filterwarnings('ignore')\n",
    "from sklearn.preprocessing import MinMaxScaler\n",
    "from keras.models import Sequential\n",
    "from keras.layers import Dense\n",
    "from keras.layers import SimpleRNN\n",
    "from keras.layers import Dropout\n",
    "from keras.layers import LSTM\n",
    "from sklearn.metrics import mean_squared_error"
   ]
  },
  {
   "cell_type": "markdown",
   "metadata": {},
   "source": [
    "## 1-Read Data and Preprocessing"
   ]
  },
  {
   "cell_type": "code",
   "execution_count": 2,
   "metadata": {},
   "outputs": [],
   "source": [
    "dataset_train = pd.read_csv('data/Stock_Price_Train.csv')"
   ]
  },
  {
   "cell_type": "code",
   "execution_count": 3,
   "metadata": {},
   "outputs": [
    {
     "data": {
      "text/html": [
       "<div>\n",
       "<style scoped>\n",
       "    .dataframe tbody tr th:only-of-type {\n",
       "        vertical-align: middle;\n",
       "    }\n",
       "\n",
       "    .dataframe tbody tr th {\n",
       "        vertical-align: top;\n",
       "    }\n",
       "\n",
       "    .dataframe thead th {\n",
       "        text-align: right;\n",
       "    }\n",
       "</style>\n",
       "<table border=\"1\" class=\"dataframe\">\n",
       "  <thead>\n",
       "    <tr style=\"text-align: right;\">\n",
       "      <th></th>\n",
       "      <th>Date</th>\n",
       "      <th>Open</th>\n",
       "      <th>High</th>\n",
       "      <th>Low</th>\n",
       "      <th>Close</th>\n",
       "      <th>Volume</th>\n",
       "    </tr>\n",
       "  </thead>\n",
       "  <tbody>\n",
       "    <tr>\n",
       "      <th>0</th>\n",
       "      <td>1/3/2012</td>\n",
       "      <td>325.25</td>\n",
       "      <td>332.83</td>\n",
       "      <td>324.97</td>\n",
       "      <td>663.59</td>\n",
       "      <td>7,380,500</td>\n",
       "    </tr>\n",
       "    <tr>\n",
       "      <th>1</th>\n",
       "      <td>1/4/2012</td>\n",
       "      <td>331.27</td>\n",
       "      <td>333.87</td>\n",
       "      <td>329.08</td>\n",
       "      <td>666.45</td>\n",
       "      <td>5,749,400</td>\n",
       "    </tr>\n",
       "    <tr>\n",
       "      <th>2</th>\n",
       "      <td>1/5/2012</td>\n",
       "      <td>329.83</td>\n",
       "      <td>330.75</td>\n",
       "      <td>326.89</td>\n",
       "      <td>657.21</td>\n",
       "      <td>6,590,300</td>\n",
       "    </tr>\n",
       "    <tr>\n",
       "      <th>3</th>\n",
       "      <td>1/6/2012</td>\n",
       "      <td>328.34</td>\n",
       "      <td>328.77</td>\n",
       "      <td>323.68</td>\n",
       "      <td>648.24</td>\n",
       "      <td>5,405,900</td>\n",
       "    </tr>\n",
       "    <tr>\n",
       "      <th>4</th>\n",
       "      <td>1/9/2012</td>\n",
       "      <td>322.04</td>\n",
       "      <td>322.29</td>\n",
       "      <td>309.46</td>\n",
       "      <td>620.76</td>\n",
       "      <td>11,688,800</td>\n",
       "    </tr>\n",
       "  </tbody>\n",
       "</table>\n",
       "</div>"
      ],
      "text/plain": [
       "       Date    Open    High     Low   Close      Volume\n",
       "0  1/3/2012  325.25  332.83  324.97  663.59   7,380,500\n",
       "1  1/4/2012  331.27  333.87  329.08  666.45   5,749,400\n",
       "2  1/5/2012  329.83  330.75  326.89  657.21   6,590,300\n",
       "3  1/6/2012  328.34  328.77  323.68  648.24   5,405,900\n",
       "4  1/9/2012  322.04  322.29  309.46  620.76  11,688,800"
      ]
     },
     "execution_count": 3,
     "metadata": {},
     "output_type": "execute_result"
    }
   ],
   "source": [
    "dataset_train.head()"
   ]
  },
  {
   "cell_type": "markdown",
   "metadata": {},
   "source": [
    "### NOTE\n",
    "Bu verisetinde yalnızca Open feature'ı üzerinde çalışalıcaktır. Amaç RNN öğrenmektir."
   ]
  },
  {
   "cell_type": "code",
   "execution_count": 4,
   "metadata": {},
   "outputs": [
    {
     "data": {
      "text/plain": [
       "array([[325.25],\n",
       "       [331.27],\n",
       "       [329.83],\n",
       "       ...,\n",
       "       [793.7 ],\n",
       "       [783.33],\n",
       "       [782.75]])"
      ]
     },
     "execution_count": 4,
     "metadata": {},
     "output_type": "execute_result"
    }
   ],
   "source": [
    "train = dataset_train.loc[:, [\"Open\"]].to_numpy()\n",
    "train"
   ]
  },
  {
   "cell_type": "code",
   "execution_count": 5,
   "metadata": {},
   "outputs": [
    {
     "data": {
      "text/plain": [
       "array([[0.08581368],\n",
       "       [0.09701243],\n",
       "       [0.09433366],\n",
       "       ...,\n",
       "       [0.95725128],\n",
       "       [0.93796041],\n",
       "       [0.93688146]])"
      ]
     },
     "execution_count": 5,
     "metadata": {},
     "output_type": "execute_result"
    }
   ],
   "source": [
    "# Feature Scaling\n",
    "scaler = MinMaxScaler(feature_range = (0, 1)) # min-max normalization\n",
    "train_scaled = scaler.fit_transform(train)\n",
    "train_scaled"
   ]
  },
  {
   "cell_type": "code",
   "execution_count": 6,
   "metadata": {},
   "outputs": [
    {
     "data": {
      "image/png": "[encoded data removed]",
      "text/plain": [
       "<Figure size 432x288 with 1 Axes>"
      ]
     },
     "metadata": {
      "needs_background": "light"
     },
     "output_type": "display_data"
    }
   ],
   "source": [
    "plt.plot(train_scaled)\n",
    "plt.show()"
   ]
  },
  {
   "cell_type": "markdown",
   "metadata": {},
   "source": [
    "### NOTE\n",
    "Burada 50 sample alacağız(x_train), sonraki indexi mesela 51. yi predict edeceğiz, daha sonra 1 index sonraya shifting edip aynı işlem yapılacaktır. Örneğin 3 sample için:"
   ]
  },
  {
   "cell_type": "markdown",
   "metadata": {},
   "source": [
    "<img src='img/timestep.png'>"
   ]
  },
  {
   "cell_type": "code",
   "execution_count": 7,
   "metadata": {},
   "outputs": [],
   "source": [
    "# Creating a data structure with 50 timesteps and 1 output\n",
    "X_train = []\n",
    "y_train = []\n",
    "timesteps = 50\n",
    "for i in range(timesteps, 1258):\n",
    "    X_train.append(train_scaled[i-timesteps:i, 0])\n",
    "    y_train.append(train_scaled[i, 0])\n",
    "X_train, y_train = np.array(X_train), np.array(y_train)"
   ]
  },
  {
   "cell_type": "code",
   "execution_count": 8,
   "metadata": {},
   "outputs": [
    {
     "data": {
      "text/plain": [
       "array([[[0.08581368],\n",
       "        [0.09701243],\n",
       "        [0.09433366],\n",
       "        ...,\n",
       "        [0.03675869],\n",
       "        [0.04486941],\n",
       "        [0.05065481]],\n",
       "\n",
       "       [[0.09701243],\n",
       "        [0.09433366],\n",
       "        [0.09156187],\n",
       "        ...,\n",
       "        [0.04486941],\n",
       "        [0.05065481],\n",
       "        [0.05214302]],\n",
       "\n",
       "       [[0.09433366],\n",
       "        [0.09156187],\n",
       "        [0.07984225],\n",
       "        ...,\n",
       "        [0.05065481],\n",
       "        [0.05214302],\n",
       "        [0.05612397]],\n",
       "\n",
       "       ...,\n",
       "\n",
       "       [[0.9313937 ],\n",
       "        [0.94636878],\n",
       "        [0.96569685],\n",
       "        ...,\n",
       "        [0.95475854],\n",
       "        [0.95204256],\n",
       "        [0.95163331]],\n",
       "\n",
       "       [[0.94636878],\n",
       "        [0.96569685],\n",
       "        [0.97510976],\n",
       "        ...,\n",
       "        [0.95204256],\n",
       "        [0.95163331],\n",
       "        [0.95725128]],\n",
       "\n",
       "       [[0.96569685],\n",
       "        [0.97510976],\n",
       "        [0.95966962],\n",
       "        ...,\n",
       "        [0.95163331],\n",
       "        [0.95725128],\n",
       "        [0.93796041]]])"
      ]
     },
     "execution_count": 8,
     "metadata": {},
     "output_type": "execute_result"
    }
   ],
   "source": [
    "# Reshaping\n",
    "X_train = np.reshape(X_train, (X_train.shape[0], X_train.shape[1], 1))\n",
    "X_train"
   ]
  },
  {
   "cell_type": "code",
   "execution_count": 9,
   "metadata": {},
   "outputs": [
    {
     "data": {
      "text/plain": [
       "array([0.05214302, 0.05612397, 0.05818885, ..., 0.95725128, 0.93796041,\n",
       "       0.93688146])"
      ]
     },
     "execution_count": 9,
     "metadata": {},
     "output_type": "execute_result"
    }
   ],
   "source": [
    "y_train"
   ]
  },
  {
   "cell_type": "markdown",
   "metadata": {},
   "source": [
    "## 2-Create RNN Model and Training Data"
   ]
  },
  {
   "cell_type": "code",
   "execution_count": 10,
   "metadata": {},
   "outputs": [
    {
     "name": "stdout",
     "output_type": "stream",
     "text": [
      "Epoch 1/100\n",
      "38/38 [==============================] - 3s 25ms/step - loss: 0.2825\n",
      "Epoch 2/100\n",
      "38/38 [==============================] - 1s 27ms/step - loss: 0.2044\n",
      "Epoch 3/100\n",
      "38/38 [==============================] - 1s 26ms/step - loss: 0.1552\n",
      "Epoch 4/100\n",
      "38/38 [==============================] - 1s 30ms/step - loss: 0.1121\n",
      "Epoch 5/100\n",
      "38/38 [==============================] - 1s 28ms/step - loss: 0.0927\n",
      "Epoch 6/100\n",
      "38/38 [==============================] - 1s 25ms/step - loss: 0.0678\n",
      "Epoch 7/100\n",
      "38/38 [==============================] - 1s 35ms/step - loss: 0.0643\n",
      "Epoch 8/100\n",
      "38/38 [==============================] - 1s 35ms/step - loss: 0.0501\n",
      "Epoch 9/100\n",
      "38/38 [==============================] - 2s 42ms/step - loss: 0.0425\n",
      "Epoch 10/100\n",
      "38/38 [==============================] - 2s 41ms/step - loss: 0.0402\n",
      "Epoch 11/100\n",
      "38/38 [==============================] - 1s 38ms/step - loss: 0.0354\n",
      "Epoch 12/100\n",
      "38/38 [==============================] - 2s 41ms/step - loss: 0.0305\n",
      "Epoch 13/100\n",
      "38/38 [==============================] - 1s 31ms/step - loss: 0.0295\n",
      "Epoch 14/100\n",
      "38/38 [==============================] - 1s 37ms/step - loss: 0.0240\n",
      "Epoch 15/100\n",
      "38/38 [==============================] - 2s 44ms/step - loss: 0.0210\n",
      "Epoch 16/100\n",
      "38/38 [==============================] - 1s 34ms/step - loss: 0.0182\n",
      "Epoch 17/100\n",
      "38/38 [==============================] - 1s 37ms/step - loss: 0.0153\n",
      "Epoch 18/100\n",
      "38/38 [==============================] - 1s 34ms/step - loss: 0.0150\n",
      "Epoch 19/100\n",
      "38/38 [==============================] - 1s 35ms/step - loss: 0.0155\n",
      "Epoch 20/100\n",
      "38/38 [==============================] - 1s 30ms/step - loss: 0.0135\n",
      "Epoch 21/100\n",
      "38/38 [==============================] - 1s 33ms/step - loss: 0.0125\n",
      "Epoch 22/100\n",
      "38/38 [==============================] - 1s 30ms/step - loss: 0.0111\n",
      "Epoch 23/100\n",
      "38/38 [==============================] - 1s 33ms/step - loss: 0.0104\n",
      "Epoch 24/100\n",
      "38/38 [==============================] - 1s 33ms/step - loss: 0.0116\n",
      "Epoch 25/100\n",
      "38/38 [==============================] - 1s 34ms/step - loss: 0.0097\n",
      "Epoch 26/100\n",
      "38/38 [==============================] - 1s 36ms/step - loss: 0.0089\n",
      "Epoch 27/100\n",
      "38/38 [==============================] - 1s 37ms/step - loss: 0.0084\n",
      "Epoch 28/100\n",
      "38/38 [==============================] - 1s 33ms/step - loss: 0.0086\n",
      "Epoch 29/100\n",
      "38/38 [==============================] - 1s 30ms/step - loss: 0.0075\n",
      "Epoch 30/100\n",
      "38/38 [==============================] - 1s 32ms/step - loss: 0.0074\n",
      "Epoch 31/100\n",
      "38/38 [==============================] - 1s 30ms/step - loss: 0.0073\n",
      "Epoch 32/100\n",
      "38/38 [==============================] - 1s 33ms/step - loss: 0.0066\n",
      "Epoch 33/100\n",
      "38/38 [==============================] - 1s 30ms/step - loss: 0.0065\n",
      "Epoch 34/100\n",
      "38/38 [==============================] - 1s 32ms/step - loss: 0.0060\n",
      "Epoch 35/100\n",
      "38/38 [==============================] - 1s 29ms/step - loss: 0.0060\n",
      "Epoch 36/100\n",
      "38/38 [==============================] - 1s 34ms/step - loss: 0.0064\n",
      "Epoch 37/100\n",
      "38/38 [==============================] - 1s 30ms/step - loss: 0.0056\n",
      "Epoch 38/100\n",
      "38/38 [==============================] - 1s 33ms/step - loss: 0.0056\n",
      "Epoch 39/100\n",
      "38/38 [==============================] - 1s 30ms/step - loss: 0.0057\n",
      "Epoch 40/100\n",
      "38/38 [==============================] - 1s 33ms/step - loss: 0.0053\n",
      "Epoch 41/100\n",
      "38/38 [==============================] - 1s 30ms/step - loss: 0.0047\n",
      "Epoch 42/100\n",
      "38/38 [==============================] - 1s 32ms/step - loss: 0.0048\n",
      "Epoch 43/100\n",
      "38/38 [==============================] - 1s 30ms/step - loss: 0.0046\n",
      "Epoch 44/100\n",
      "38/38 [==============================] - 1s 32ms/step - loss: 0.0044\n",
      "Epoch 45/100\n",
      "38/38 [==============================] - 1s 31ms/step - loss: 0.0043\n",
      "Epoch 46/100\n",
      "38/38 [==============================] - 1s 32ms/step - loss: 0.0043\n",
      "Epoch 47/100\n",
      "38/38 [==============================] - 1s 34ms/step - loss: 0.0044\n",
      "Epoch 48/100\n",
      "38/38 [==============================] - 1s 33ms/step - loss: 0.0041\n",
      "Epoch 49/100\n",
      "38/38 [==============================] - 1s 33ms/step - loss: 0.0042\n",
      "Epoch 50/100\n",
      "38/38 [==============================] - 1s 31ms/step - loss: 0.0042\n",
      "Epoch 51/100\n",
      "38/38 [==============================] - 1s 32ms/step - loss: 0.0039\n",
      "Epoch 52/100\n",
      "38/38 [==============================] - 1s 30ms/step - loss: 0.0036\n",
      "Epoch 53/100\n",
      "38/38 [==============================] - 1s 32ms/step - loss: 0.0036\n",
      "Epoch 54/100\n",
      "38/38 [==============================] - 1s 30ms/step - loss: 0.0037\n",
      "Epoch 55/100\n",
      "38/38 [==============================] - 1s 33ms/step - loss: 0.0035\n",
      "Epoch 56/100\n",
      "38/38 [==============================] - 1s 32ms/step - loss: 0.0035\n",
      "Epoch 57/100\n",
      "38/38 [==============================] - 1s 32ms/step - loss: 0.0033\n",
      "Epoch 58/100\n",
      "38/38 [==============================] - 1s 30ms/step - loss: 0.0033\n",
      "Epoch 59/100\n",
      "38/38 [==============================] - 1s 33ms/step - loss: 0.0032\n",
      "Epoch 60/100\n",
      "38/38 [==============================] - 1s 29ms/step - loss: 0.0035\n",
      "Epoch 61/100\n",
      "38/38 [==============================] - 1s 32ms/step - loss: 0.0033\n",
      "Epoch 62/100\n",
      "38/38 [==============================] - 1s 30ms/step - loss: 0.0036\n",
      "Epoch 63/100\n",
      "38/38 [==============================] - 1s 33ms/step - loss: 0.0030\n",
      "Epoch 64/100\n",
      "38/38 [==============================] - 1s 30ms/step - loss: 0.0033\n",
      "Epoch 65/100\n",
      "38/38 [==============================] - 1s 33ms/step - loss: 0.0029\n",
      "Epoch 66/100\n",
      "38/38 [==============================] - 1s 32ms/step - loss: 0.0031\n",
      "Epoch 67/100\n",
      "38/38 [==============================] - 1s 31ms/step - loss: 0.0031\n",
      "Epoch 68/100\n",
      "38/38 [==============================] - 1s 31ms/step - loss: 0.0030\n",
      "Epoch 69/100\n",
      "38/38 [==============================] - 1s 31ms/step - loss: 0.0030\n",
      "Epoch 70/100\n",
      "38/38 [==============================] - 1s 31ms/step - loss: 0.0029\n",
      "Epoch 71/100\n",
      "38/38 [==============================] - 1s 30ms/step - loss: 0.0028\n",
      "Epoch 72/100\n",
      "38/38 [==============================] - 1s 32ms/step - loss: 0.0029\n",
      "Epoch 73/100\n",
      "38/38 [==============================] - 1s 31ms/step - loss: 0.0033\n",
      "Epoch 74/100\n",
      "38/38 [==============================] - 1s 32ms/step - loss: 0.0027\n",
      "Epoch 75/100\n",
      "38/38 [==============================] - 1s 30ms/step - loss: 0.0029\n",
      "Epoch 76/100\n",
      "38/38 [==============================] - 1s 33ms/step - loss: 0.0023\n",
      "Epoch 77/100\n",
      "38/38 [==============================] - 1s 30ms/step - loss: 0.0026\n",
      "Epoch 78/100\n",
      "38/38 [==============================] - 1s 31ms/step - loss: 0.0027\n",
      "Epoch 79/100\n",
      "38/38 [==============================] - 1s 30ms/step - loss: 0.0027\n",
      "Epoch 80/100\n",
      "38/38 [==============================] - 1s 32ms/step - loss: 0.0029\n",
      "Epoch 81/100\n",
      "38/38 [==============================] - 1s 30ms/step - loss: 0.0026\n",
      "Epoch 82/100\n",
      "38/38 [==============================] - 1s 32ms/step - loss: 0.0028\n",
      "Epoch 83/100\n",
      "38/38 [==============================] - 1s 30ms/step - loss: 0.0025\n",
      "Epoch 84/100\n",
      "38/38 [==============================] - 1s 32ms/step - loss: 0.0024\n",
      "Epoch 85/100\n",
      "38/38 [==============================] - 1s 30ms/step - loss: 0.0028\n",
      "Epoch 86/100\n",
      "38/38 [==============================] - 1s 34ms/step - loss: 0.0025\n",
      "Epoch 87/100\n",
      "38/38 [==============================] - 1s 30ms/step - loss: 0.0021\n",
      "Epoch 88/100\n",
      "38/38 [==============================] - 1s 32ms/step - loss: 0.0023\n",
      "Epoch 89/100\n",
      "38/38 [==============================] - 1s 30ms/step - loss: 0.0022\n",
      "Epoch 90/100\n",
      "38/38 [==============================] - 1s 33ms/step - loss: 0.0022\n",
      "Epoch 91/100\n",
      "38/38 [==============================] - 1s 30ms/step - loss: 0.0021\n",
      "Epoch 92/100\n",
      "38/38 [==============================] - 1s 32ms/step - loss: 0.0024\n",
      "Epoch 93/100\n",
      "38/38 [==============================] - 1s 30ms/step - loss: 0.0022\n",
      "Epoch 94/100\n",
      "38/38 [==============================] - 1s 32ms/step - loss: 0.0022\n",
      "Epoch 95/100\n",
      "38/38 [==============================] - 1s 30ms/step - loss: 0.0021\n",
      "Epoch 96/100\n",
      "38/38 [==============================] - 1s 34ms/step - loss: 0.0024\n",
      "Epoch 97/100\n",
      "38/38 [==============================] - 1s 30ms/step - loss: 0.0023\n",
      "Epoch 98/100\n",
      "38/38 [==============================] - 1s 32ms/step - loss: 0.0023\n",
      "Epoch 99/100\n",
      "38/38 [==============================] - 1s 30ms/step - loss: 0.0023\n",
      "Epoch 100/100\n",
      "38/38 [==============================] - 1s 32ms/step - loss: 0.0022\n"
     ]
    },
    {
     "data": {
      "text/plain": [
       "<keras.callbacks.History at 0x255e13fc5e0>"
      ]
     },
     "execution_count": 10,
     "metadata": {},
     "output_type": "execute_result"
    }
   ],
   "source": [
    "# Initialising the RNN\n",
    "regressor = Sequential()\n",
    "\n",
    "# Adding the first RNN layer and some Dropout regularisation\n",
    "regressor.add(SimpleRNN(units = 50, activation='tanh', return_sequences = True, input_shape = (X_train.shape[1], 1)))\n",
    "regressor.add(Dropout(0.2))\n",
    "\n",
    "# Adding a second RNN layer and some Dropout regularisation\n",
    "regressor.add(SimpleRNN(units = 50, activation='tanh', return_sequences = True))\n",
    "regressor.add(Dropout(0.2))\n",
    "\n",
    "# Adding a third RNN layer and some Dropout regularisation\n",
    "regressor.add(SimpleRNN(units = 50, activation='tanh', return_sequences = True))\n",
    "regressor.add(Dropout(0.2))\n",
    "\n",
    "# Adding a fourth RNN layer and some Dropout regularisation\n",
    "regressor.add(SimpleRNN(units = 50))\n",
    "regressor.add(Dropout(0.2))\n",
    "\n",
    "# Adding the output layer\n",
    "regressor.add(Dense(units = 1))\n",
    "\n",
    "# Compiling the RNN\n",
    "regressor.compile(optimizer = 'adam', loss = 'mean_squared_error')\n",
    "\n",
    "# Fitting the RNN to the Training set\n",
    "regressor.fit(X_train, y_train, epochs = 100, batch_size = 32)"
   ]
  },
  {
   "cell_type": "markdown",
   "metadata": {},
   "source": [
    "## 3-Predict (Test) Data and Visualising RNN Model"
   ]
  },
  {
   "cell_type": "code",
   "execution_count": 11,
   "metadata": {},
   "outputs": [
    {
     "data": {
      "text/html": [
       "<div>\n",
       "<style scoped>\n",
       "    .dataframe tbody tr th:only-of-type {\n",
       "        vertical-align: middle;\n",
       "    }\n",
       "\n",
       "    .dataframe tbody tr th {\n",
       "        vertical-align: top;\n",
       "    }\n",
       "\n",
       "    .dataframe thead th {\n",
       "        text-align: right;\n",
       "    }\n",
       "</style>\n",
       "<table border=\"1\" class=\"dataframe\">\n",
       "  <thead>\n",
       "    <tr style=\"text-align: right;\">\n",
       "      <th></th>\n",
       "      <th>Date</th>\n",
       "      <th>Open</th>\n",
       "      <th>High</th>\n",
       "      <th>Low</th>\n",
       "      <th>Close</th>\n",
       "      <th>Volume</th>\n",
       "    </tr>\n",
       "  </thead>\n",
       "  <tbody>\n",
       "    <tr>\n",
       "      <th>0</th>\n",
       "      <td>1/3/2017</td>\n",
       "      <td>778.81</td>\n",
       "      <td>789.63</td>\n",
       "      <td>775.80</td>\n",
       "      <td>786.14</td>\n",
       "      <td>1,657,300</td>\n",
       "    </tr>\n",
       "    <tr>\n",
       "      <th>1</th>\n",
       "      <td>1/4/2017</td>\n",
       "      <td>788.36</td>\n",
       "      <td>791.34</td>\n",
       "      <td>783.16</td>\n",
       "      <td>786.90</td>\n",
       "      <td>1,073,000</td>\n",
       "    </tr>\n",
       "    <tr>\n",
       "      <th>2</th>\n",
       "      <td>1/5/2017</td>\n",
       "      <td>786.08</td>\n",
       "      <td>794.48</td>\n",
       "      <td>785.02</td>\n",
       "      <td>794.02</td>\n",
       "      <td>1,335,200</td>\n",
       "    </tr>\n",
       "    <tr>\n",
       "      <th>3</th>\n",
       "      <td>1/6/2017</td>\n",
       "      <td>795.26</td>\n",
       "      <td>807.90</td>\n",
       "      <td>792.20</td>\n",
       "      <td>806.15</td>\n",
       "      <td>1,640,200</td>\n",
       "    </tr>\n",
       "    <tr>\n",
       "      <th>4</th>\n",
       "      <td>1/9/2017</td>\n",
       "      <td>806.40</td>\n",
       "      <td>809.97</td>\n",
       "      <td>802.83</td>\n",
       "      <td>806.65</td>\n",
       "      <td>1,272,400</td>\n",
       "    </tr>\n",
       "  </tbody>\n",
       "</table>\n",
       "</div>"
      ],
      "text/plain": [
       "       Date    Open    High     Low   Close     Volume\n",
       "0  1/3/2017  778.81  789.63  775.80  786.14  1,657,300\n",
       "1  1/4/2017  788.36  791.34  783.16  786.90  1,073,000\n",
       "2  1/5/2017  786.08  794.48  785.02  794.02  1,335,200\n",
       "3  1/6/2017  795.26  807.90  792.20  806.15  1,640,200\n",
       "4  1/9/2017  806.40  809.97  802.83  806.65  1,272,400"
      ]
     },
     "execution_count": 11,
     "metadata": {},
     "output_type": "execute_result"
    }
   ],
   "source": [
    "# Getting the real stock price of 2017\n",
    "dataset_test = pd.read_csv('data/Stock_Price_Test.csv')\n",
    "dataset_test.head()"
   ]
  },
  {
   "cell_type": "code",
   "execution_count": 12,
   "metadata": {},
   "outputs": [
    {
     "data": {
      "text/plain": [
       "array([[778.81],\n",
       "       [788.36],\n",
       "       [786.08],\n",
       "       [795.26],\n",
       "       [806.4 ],\n",
       "       [807.86],\n",
       "       [805.  ],\n",
       "       [807.14],\n",
       "       [807.48],\n",
       "       [807.08],\n",
       "       [805.81],\n",
       "       [805.12],\n",
       "       [806.91],\n",
       "       [807.25],\n",
       "       [822.3 ],\n",
       "       [829.62],\n",
       "       [837.81],\n",
       "       [834.71],\n",
       "       [814.66],\n",
       "       [796.86]])"
      ]
     },
     "execution_count": 12,
     "metadata": {},
     "output_type": "execute_result"
    }
   ],
   "source": [
    "real_stock_price = dataset_test.loc[:, [\"Open\"]].to_numpy()\n",
    "real_stock_price"
   ]
  },
  {
   "cell_type": "code",
   "execution_count": 13,
   "metadata": {},
   "outputs": [
    {
     "data": {
      "text/plain": [
       "array([[0.97510976],\n",
       "       [0.95966962],\n",
       "       [0.97808617],\n",
       "       [1.        ],\n",
       "       [0.98076494],\n",
       "       [0.97083116],\n",
       "       [0.98450406],\n",
       "       [0.96054394],\n",
       "       [0.9371419 ],\n",
       "       [0.92841729],\n",
       "       [0.90804747],\n",
       "       [0.8771858 ],\n",
       "       [0.92153434],\n",
       "       [0.93809063],\n",
       "       [0.93165414],\n",
       "       [0.95254483],\n",
       "       [0.88812412],\n",
       "       [0.88637547],\n",
       "       [0.87032145],\n",
       "       [0.88563137],\n",
       "       [0.90743359],\n",
       "       [0.91571173],\n",
       "       [0.89941588],\n",
       "       [0.91805566],\n",
       "       [0.9089404 ],\n",
       "       [0.9024853 ],\n",
       "       [0.89456061],\n",
       "       [0.91600938],\n",
       "       [0.9132934 ],\n",
       "       [0.88979835],\n",
       "       [0.86589404],\n",
       "       [0.89030062],\n",
       "       [0.90335962],\n",
       "       [0.89642086],\n",
       "       [0.91777662],\n",
       "       [0.93176576],\n",
       "       [0.94114145],\n",
       "       [0.95762334],\n",
       "       [0.96413424],\n",
       "       [0.96402262],\n",
       "       [0.96971501],\n",
       "       [0.95077759],\n",
       "       [0.96294367],\n",
       "       [0.96123223],\n",
       "       [0.95475854],\n",
       "       [0.95204256],\n",
       "       [0.95163331],\n",
       "       [0.95725128],\n",
       "       [0.93796041],\n",
       "       [0.93688146],\n",
       "       [0.92955205],\n",
       "       [0.94731751],\n",
       "       [0.94307612],\n",
       "       [0.96015329],\n",
       "       [0.98087655],\n",
       "       [0.98359253],\n",
       "       [0.97827219],\n",
       "       [0.98225314],\n",
       "       [0.98288563],\n",
       "       [0.98214153],\n",
       "       [0.979779  ],\n",
       "       [0.97849542],\n",
       "       [0.98182528],\n",
       "       [0.98245777],\n",
       "       [1.01045465],\n",
       "       [1.02407173],\n",
       "       [1.03930724],\n",
       "       [1.03354044],\n",
       "       [0.99624228],\n",
       "       [0.9631297 ]])"
      ]
     },
     "execution_count": 13,
     "metadata": {},
     "output_type": "execute_result"
    }
   ],
   "source": [
    "# Getting the predicted stock price of 2017\n",
    "dataset_total = pd.concat((dataset_train['Open'], dataset_test['Open']), axis = 0)\n",
    "inputs = dataset_total[len(dataset_total) - len(dataset_test) - timesteps:].values.reshape(-1,1)\n",
    "inputs = scaler.transform(inputs)  # min max scaler\n",
    "inputs"
   ]
  },
  {
   "cell_type": "code",
   "execution_count": 14,
   "metadata": {},
   "outputs": [],
   "source": [
    "# Test Data\n",
    "X_test = []\n",
    "for i in range(timesteps, 70):\n",
    "    X_test.append(inputs[i-timesteps:i, 0])\n",
    "X_test = np.array(X_test)\n",
    "X_test = np.reshape(X_test, (X_test.shape[0], X_test.shape[1], 1))\n",
    "predicted_stock_price = regressor.predict(X_test)\n",
    "predicted_stock_price = scaler.inverse_transform(predicted_stock_price) # scale edilmiş değerleri, gerçek değerlere dönüştürür."
   ]
  },
  {
   "cell_type": "code",
   "execution_count": 15,
   "metadata": {},
   "outputs": [
    {
     "data": {
      "image/png": "[encoded data removed]",
      "text/plain": [
       "<Figure size 432x288 with 1 Axes>"
      ]
     },
     "metadata": {
      "needs_background": "light"
     },
     "output_type": "display_data"
    }
   ],
   "source": [
    "# Visualising the results\n",
    "plt.plot(real_stock_price, color = 'red', label = 'Real Google Stock Price')\n",
    "plt.plot(predicted_stock_price, color = 'blue', label = 'Predicted Google Stock Price')\n",
    "plt.title('Google Stock Price Prediction')\n",
    "plt.xlabel('Time')\n",
    "plt.ylabel('Google Stock Price')\n",
    "plt.legend()\n",
    "plt.show()\n",
    "# epoch = 250 daha güzel sonuç veriyor."
   ]
  },
  {
   "cell_type": "markdown",
   "metadata": {},
   "source": [
    "# B-Long Short Term Memory (LSTMs)\n",
    "* LSTM is variant of RNN.\n",
    "* LSTM de RNN'den farklı olarak long term memory var. \n",
    "* LSTM architecture:\n",
    "    * x: scaling of information\n",
    "    * +: Adding information\n",
    "    * sigmoid layer. Sigmoid memory den bir şeyi hatırlamak için yada unutmak için kullanılır. 1 yada 0'dır.\n",
    "    * tanh: activation function tanh. Tanh vanishing gradient(yavaş öğrenme - çok küçük gradient) problemini çözer. Çünkü parametreleri update ederken türev alıyorduk. Tanh'ın türevi hemen sıfır'a ulaşmaz.\n",
    "    * h(t-1): output of LSTM unit\n",
    "    * c(t-1): memory from previous LSTM unit\n",
    "    * X(t): input\n",
    "    * c(t): new updated memory\n",
    "    * h(t): output\n",
    "    * From c(t-1) to c(t) is memory pipeline. or only memory.\n",
    "    * Oklar vektör.\n",
    "    * h(t-1) ile X(t) birleşmiyor parallel iki yol olarak düşünebilirsiniz.\n",
    "* <img src=\"img/lstm.jpg\">\n",
    "* 1) Forget gate: input olarak X(t) ve h(t-1) alır. Gelen bilginin unutulup unutulmayacağına karar verir.\n",
    "* 2) Input gate: Hangi bilginin memory de depolanıp depolanmayacağına karar verir.\n",
    "* 3) Output gate: Hangi bilginin output olup olmayacağına karar verir.\n",
    "* Örneğin: \n",
    "    * ... \"Boys are watching TV\"\n",
    "    * \"On the other hand girls are playing baseball.\"\n",
    "    * Forget \"boys\". new input is \"girls\" and output is \"girls\""
   ]
  },
  {
   "cell_type": "markdown",
   "metadata": {},
   "source": [
    "<a id=\"99\"></a>\n",
    "## Implementing Long Short Term Memory with Keras\n",
    "* [Loading and Visualizing Data](#41)\n",
    "* [Preprocessing Data](#42)\n",
    "* [Create LSTM Model](#43)\n",
    "* [Predictions and Visualising LSTM Model](#44)"
   ]
  },
  {
   "cell_type": "markdown",
   "metadata": {},
   "source": [
    "## 1-Read Dataset"
   ]
  },
  {
   "cell_type": "code",
   "execution_count": 16,
   "metadata": {},
   "outputs": [
    {
     "data": {
      "text/html": [
       "<div>\n",
       "<style scoped>\n",
       "    .dataframe tbody tr th:only-of-type {\n",
       "        vertical-align: middle;\n",
       "    }\n",
       "\n",
       "    .dataframe tbody tr th {\n",
       "        vertical-align: top;\n",
       "    }\n",
       "\n",
       "    .dataframe thead th {\n",
       "        text-align: right;\n",
       "    }\n",
       "</style>\n",
       "<table border=\"1\" class=\"dataframe\">\n",
       "  <thead>\n",
       "    <tr style=\"text-align: right;\">\n",
       "      <th></th>\n",
       "      <th>Month</th>\n",
       "      <th>Number of passengers per month at the international airport</th>\n",
       "    </tr>\n",
       "  </thead>\n",
       "  <tbody>\n",
       "    <tr>\n",
       "      <th>0</th>\n",
       "      <td>1949-01</td>\n",
       "      <td>112</td>\n",
       "    </tr>\n",
       "    <tr>\n",
       "      <th>1</th>\n",
       "      <td>1949-02</td>\n",
       "      <td>118</td>\n",
       "    </tr>\n",
       "    <tr>\n",
       "      <th>2</th>\n",
       "      <td>1949-03</td>\n",
       "      <td>132</td>\n",
       "    </tr>\n",
       "    <tr>\n",
       "      <th>3</th>\n",
       "      <td>1949-04</td>\n",
       "      <td>129</td>\n",
       "    </tr>\n",
       "    <tr>\n",
       "      <th>4</th>\n",
       "      <td>1949-05</td>\n",
       "      <td>121</td>\n",
       "    </tr>\n",
       "  </tbody>\n",
       "</table>\n",
       "</div>"
      ],
      "text/plain": [
       "     Month  Number of passengers per month at the international airport\n",
       "0  1949-01                                                112          \n",
       "1  1949-02                                                118          \n",
       "2  1949-03                                                132          \n",
       "3  1949-04                                                129          \n",
       "4  1949-05                                                121          "
      ]
     },
     "execution_count": 16,
     "metadata": {},
     "output_type": "execute_result"
    }
   ],
   "source": [
    "data = pd.read_csv(\"data/passengers.csv\")\n",
    "data.head() # İlk indexte 1 ayda international airline'dan 112 kişi geçmiş."
   ]
  },
  {
   "cell_type": "code",
   "execution_count": 17,
   "metadata": {},
   "outputs": [
    {
     "data": {
      "image/png": "[encoded data removed]",
      "text/plain": [
       "<Figure size 432x288 with 1 Axes>"
      ]
     },
     "metadata": {
      "needs_background": "light"
     },
     "output_type": "display_data"
    }
   ],
   "source": [
    "dataset = data.iloc[:, 1].to_numpy()\n",
    "plt.plot(dataset)\n",
    "plt.xlabel(\"time\")\n",
    "plt.ylabel(\"Number of Passenger\")\n",
    "plt.title(\"international airline passenger\")\n",
    "plt.show()"
   ]
  },
  {
   "cell_type": "markdown",
   "metadata": {},
   "source": [
    "## 2-Preprocessing Data\n",
    "* reshape\n",
    "* change type\n",
    "* scaling\n",
    "* train test split\n",
    "* Create dataset"
   ]
  },
  {
   "cell_type": "code",
   "execution_count": 18,
   "metadata": {},
   "outputs": [
    {
     "data": {
      "text/plain": [
       "(144, 1)"
      ]
     },
     "execution_count": 18,
     "metadata": {},
     "output_type": "execute_result"
    }
   ],
   "source": [
    "dataset = dataset.reshape(-1, 1) # (142,) => ( 142,1)\n",
    "dataset = dataset.astype(\"float32\")\n",
    "dataset.shape"
   ]
  },
  {
   "cell_type": "code",
   "execution_count": 19,
   "metadata": {},
   "outputs": [],
   "source": [
    "# scaling \n",
    "scaler = MinMaxScaler(feature_range=(0, 1))\n",
    "dataset = scaler.fit_transform(dataset)"
   ]
  },
  {
   "cell_type": "code",
   "execution_count": 20,
   "metadata": {},
   "outputs": [
    {
     "name": "stdout",
     "output_type": "stream",
     "text": [
      "train size: 72, test size: 72 \n"
     ]
    }
   ],
   "source": [
    "train_size = int(len(dataset) * 0.50)\n",
    "test_size = len(dataset) - train_size\n",
    "train = dataset[0:train_size,:]\n",
    "test = dataset[train_size:len(dataset),:]\n",
    "print(\"train size: {}, test size: {} \".format(len(train), len(test)))"
   ]
  },
  {
   "cell_type": "code",
   "execution_count": 21,
   "metadata": {},
   "outputs": [],
   "source": [
    "time_stemp = 10\n",
    "dataX = []\n",
    "dataY = []\n",
    "for i in range(len(train)-time_stemp-1):\n",
    "    a = train[i:(i+time_stemp), 0]\n",
    "    dataX.append(a)\n",
    "    dataY.append(train[i + time_stemp, 0])\n",
    "trainX = np.array(dataX)\n",
    "trainY = np.array(dataY)  \n"
   ]
  },
  {
   "cell_type": "code",
   "execution_count": 22,
   "metadata": {},
   "outputs": [],
   "source": [
    "dataX = []\n",
    "dataY = []\n",
    "for i in range(len(test)-time_stemp-1):\n",
    "    a = test[i:(i+time_stemp), 0]\n",
    "    dataX.append(a)\n",
    "    dataY.append(test[i + time_stemp, 0])\n",
    "testX = np.array(dataX)\n",
    "testY = np.array(dataY)  "
   ]
  },
  {
   "cell_type": "code",
   "execution_count": 23,
   "metadata": {},
   "outputs": [],
   "source": [
    "trainX = np.reshape(trainX, (trainX.shape[0], 1, trainX.shape[1]))\n",
    "testX = np.reshape(testX, (testX.shape[0], 1, testX.shape[1]))"
   ]
  },
  {
   "cell_type": "markdown",
   "metadata": {},
   "source": [
    "## 3-Create LSTM Model"
   ]
  },
  {
   "cell_type": "code",
   "execution_count": 24,
   "metadata": {},
   "outputs": [
    {
     "name": "stdout",
     "output_type": "stream",
     "text": [
      "Epoch 1/50\n",
      "61/61 [==============================] - 1s 1ms/step - loss: 0.0155\n",
      "Epoch 2/50\n",
      "61/61 [==============================] - 0s 1ms/step - loss: 0.0046\n",
      "Epoch 3/50\n",
      "61/61 [==============================] - 0s 2ms/step - loss: 0.0042\n",
      "Epoch 4/50\n",
      "61/61 [==============================] - 0s 2ms/step - loss: 0.0039\n",
      "Epoch 5/50\n",
      "61/61 [==============================] - 0s 2ms/step - loss: 0.0037\n",
      "Epoch 6/50\n",
      "61/61 [==============================] - 0s 2ms/step - loss: 0.0035\n",
      "Epoch 7/50\n",
      "61/61 [==============================] - 0s 2ms/step - loss: 0.0033\n",
      "Epoch 8/50\n",
      "61/61 [==============================] - 0s 1ms/step - loss: 0.0031\n",
      "Epoch 9/50\n",
      "61/61 [==============================] - 0s 1ms/step - loss: 0.0031\n",
      "Epoch 10/50\n",
      "61/61 [==============================] - 0s 1ms/step - loss: 0.0029\n",
      "Epoch 11/50\n",
      "61/61 [==============================] - 0s 1ms/step - loss: 0.0028\n",
      "Epoch 12/50\n",
      "61/61 [==============================] - 0s 1ms/step - loss: 0.0026\n",
      "Epoch 13/50\n",
      "61/61 [==============================] - 0s 1ms/step - loss: 0.0026\n",
      "Epoch 14/50\n",
      "61/61 [==============================] - 0s 2ms/step - loss: 0.0025\n",
      "Epoch 15/50\n",
      "61/61 [==============================] - 0s 2ms/step - loss: 0.0024\n",
      "Epoch 16/50\n",
      "61/61 [==============================] - 0s 1ms/step - loss: 0.0023\n",
      "Epoch 17/50\n",
      "61/61 [==============================] - 0s 1ms/step - loss: 0.0022\n",
      "Epoch 18/50\n",
      "61/61 [==============================] - 0s 1ms/step - loss: 0.0022\n",
      "Epoch 19/50\n",
      "61/61 [==============================] - 0s 1ms/step - loss: 0.0019\n",
      "Epoch 20/50\n",
      "61/61 [==============================] - 0s 1ms/step - loss: 0.0019\n",
      "Epoch 21/50\n",
      "61/61 [==============================] - 0s 1ms/step - loss: 0.0019\n",
      "Epoch 22/50\n",
      "61/61 [==============================] - 0s 1ms/step - loss: 0.0017\n",
      "Epoch 23/50\n",
      "61/61 [==============================] - 0s 1ms/step - loss: 0.0017\n",
      "Epoch 24/50\n",
      "61/61 [==============================] - 0s 1ms/step - loss: 0.0016\n",
      "Epoch 25/50\n",
      "61/61 [==============================] - 0s 2ms/step - loss: 0.0016\n",
      "Epoch 26/50\n",
      "61/61 [==============================] - 0s 1ms/step - loss: 0.0015\n",
      "Epoch 27/50\n",
      "61/61 [==============================] - 0s 3ms/step - loss: 0.0015\n",
      "Epoch 28/50\n",
      "61/61 [==============================] - 0s 2ms/step - loss: 0.0014\n",
      "Epoch 29/50\n",
      "61/61 [==============================] - 0s 2ms/step - loss: 0.0015\n",
      "Epoch 30/50\n",
      "61/61 [==============================] - 0s 1ms/step - loss: 0.0013\n",
      "Epoch 31/50\n",
      "61/61 [==============================] - 0s 1ms/step - loss: 0.0014\n",
      "Epoch 32/50\n",
      "61/61 [==============================] - 0s 1ms/step - loss: 0.0014\n",
      "Epoch 33/50\n",
      "61/61 [==============================] - 0s 1ms/step - loss: 0.0014\n",
      "Epoch 34/50\n",
      "61/61 [==============================] - 0s 1ms/step - loss: 0.0013\n",
      "Epoch 35/50\n",
      "61/61 [==============================] - 0s 2ms/step - loss: 0.0013\n",
      "Epoch 36/50\n",
      "61/61 [==============================] - 0s 2ms/step - loss: 0.0013\n",
      "Epoch 37/50\n",
      "61/61 [==============================] - 0s 1ms/step - loss: 0.0013\n",
      "Epoch 38/50\n",
      "61/61 [==============================] - 0s 1ms/step - loss: 0.0013\n",
      "Epoch 39/50\n",
      "61/61 [==============================] - 0s 1ms/step - loss: 0.0013\n",
      "Epoch 40/50\n",
      "61/61 [==============================] - 0s 1ms/step - loss: 0.0012\n",
      "Epoch 41/50\n",
      "61/61 [==============================] - 0s 1ms/step - loss: 0.0013\n",
      "Epoch 42/50\n",
      "61/61 [==============================] - 0s 1ms/step - loss: 0.0012\n",
      "Epoch 43/50\n",
      "61/61 [==============================] - 0s 1ms/step - loss: 0.0012\n",
      "Epoch 44/50\n",
      "61/61 [==============================] - 0s 1ms/step - loss: 0.0012\n",
      "Epoch 45/50\n",
      "61/61 [==============================] - 0s 1ms/step - loss: 0.0012\n",
      "Epoch 46/50\n",
      "61/61 [==============================] - 0s 1ms/step - loss: 0.0012\n",
      "Epoch 47/50\n",
      "61/61 [==============================] - 0s 1ms/step - loss: 0.0012\n",
      "Epoch 48/50\n",
      "61/61 [==============================] - 0s 1ms/step - loss: 0.0011\n",
      "Epoch 49/50\n",
      "61/61 [==============================] - 0s 1ms/step - loss: 0.0012\n",
      "Epoch 50/50\n",
      "61/61 [==============================] - 0s 1ms/step - loss: 0.0012\n"
     ]
    },
    {
     "data": {
      "text/plain": [
       "<keras.callbacks.History at 0x255cd3b6e50>"
      ]
     },
     "execution_count": 24,
     "metadata": {},
     "output_type": "execute_result"
    }
   ],
   "source": [
    "# model\n",
    "model = Sequential()\n",
    "model.add(LSTM(10, input_shape=(1, time_stemp))) # 10 lstm neuron(block)\n",
    "model.add(Dense(1)) #activation function LSTM'de gerek yok \n",
    "model.compile(loss='mean_squared_error', optimizer='adam')\n",
    "model.fit(trainX, trainY, epochs=50, batch_size=1)"
   ]
  },
  {
   "cell_type": "markdown",
   "metadata": {},
   "source": [
    "## 4-Predictions and Visualising LSTM Model"
   ]
  },
  {
   "cell_type": "code",
   "execution_count": 25,
   "metadata": {},
   "outputs": [
    {
     "name": "stdout",
     "output_type": "stream",
     "text": [
      "Train Score: 17.02 RMSE\n",
      "Test Score: 43.44 RMSE\n"
     ]
    }
   ],
   "source": [
    "trainPredict = model.predict(trainX)\n",
    "testPredict = model.predict(testX)\n",
    "# invert predictions\n",
    "trainPredict = scaler.inverse_transform(trainPredict) # original value\n",
    "trainY = scaler.inverse_transform([trainY])\n",
    "testPredict = scaler.inverse_transform(testPredict)\n",
    "testY = scaler.inverse_transform([testY])\n",
    "# calculate root mean squared error\n",
    "trainScore = math.sqrt(mean_squared_error(trainY[0], trainPredict[:,0]))\n",
    "print('Train Score: %.2f RMSE' % (trainScore))\n",
    "testScore = math.sqrt(mean_squared_error(testY[0], testPredict[:,0]))\n",
    "print('Test Score: %.2f RMSE' % (testScore))"
   ]
  },
  {
   "cell_type": "code",
   "execution_count": 26,
   "metadata": {},
   "outputs": [
    {
     "data": {
      "image/png": "[encoded data removed]",
      "text/plain": [
       "<Figure size 432x288 with 1 Axes>"
      ]
     },
     "metadata": {
      "needs_background": "light"
     },
     "output_type": "display_data"
    }
   ],
   "source": [
    "# shifting train\n",
    "trainPredictPlot = np.empty_like(dataset)\n",
    "trainPredictPlot[:, :] = np.nan\n",
    "trainPredictPlot[time_stemp:len(trainPredict)+time_stemp, :] = trainPredict\n",
    "# shifting test predictions for plotting\n",
    "testPredictPlot = np.empty_like(dataset)\n",
    "testPredictPlot[:, :] = np.nan\n",
    "testPredictPlot[len(trainPredict)+(time_stemp*2)+1:len(dataset)-1, :] = testPredict\n",
    "# plot baseline and pr edictions\n",
    "plt.plot(scaler.inverse_transform(dataset))\n",
    "plt.plot(trainPredictPlot)\n",
    "plt.plot(testPredictPlot)\n",
    "plt.show() "
   ]
  },
  {
   "cell_type": "markdown",
   "metadata": {},
   "source": [
    "Yukarıdaki plota göre:\n",
    "- mavi ile gördüğümüz normal datamız\n",
    "- turuncu ile görülen kısım train edilen data\n",
    "- yeşiller ise gelecekteki tahmin"
   ]
  },
  {
   "cell_type": "markdown",
   "metadata": {},
   "source": []
  }
 ],
 "metadata": {
  "kernelspec": {
   "display_name": "Python 3",
   "language": "python",
   "name": "python3"
  },
  "language_info": {
   "codemirror_mode": {
    "name": "ipython",
    "version": 3
   },
   "file_extension": ".py",
   "mimetype": "text/x-python",
   "name": "python",
   "nbconvert_exporter": "python",
   "pygments_lexer": "ipython3",
   "version": "3.9.7"
  }
 },
 "nbformat": 4,
 "nbformat_minor": 2
}
