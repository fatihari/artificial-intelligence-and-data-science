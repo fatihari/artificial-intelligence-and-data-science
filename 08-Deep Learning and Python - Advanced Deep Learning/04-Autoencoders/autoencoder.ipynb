{
 "cells": [
  {
   "cell_type": "markdown",
   "metadata": {},
   "source": [
    "# Nedir bu Autoencoders?\n",
    "- **Autoencoders** bir **unsupervised learning** algoritmasıdır, yani train edilecek belirli labeller yok.\n",
    "#### 1-**Dimension reduction/feature extraction** amacıyla kullanılır. Yani bir inputta en önemli feature'ları extract etmeye çalışır.\n",
    "- **encoder(compress input)**: inputu ifade edebilecek en iyi featureları ortaya çıkarır. Activation functions and hidden layerlar içerisinde bu işi yapar.(**full connected layer** gibi)\n",
    "- input => encoder => hiddenlayer-code(bottleneck) => decoder => output\n",
    "-   x   =>   f()  =>       f(x)=y      =>   g()   =>  g(y)=r\n",
    "-   **x**(input) ve **r**(output) aynı olmak zorunda. Dolayısıyla:\n",
    "-   **Mean Square Error(MSE)** = 0 olmalı: x=r, x-r=0, |x-r|^2=0, £(|x-r|^2)=0 olmak zorunda.\n",
    "-   Eğer x-r!=0 ise => backpropagation yaparak weightler güncellenerek, x ve r'ı birbirine eşitlemeye çalışarak model train edilir ve en doğru sonuç bulunur.\n",
    "-   input size>hidden size => eşitse bir şey öğrenemez.\n",
    "#### 2-**Denoising** amacıyla kullanılır, denoising, hatalardan temizlemek demektdir.\n",
    "- Corrupted bir image inputu ile karşılaştığı zaman, noise'u öğrenir ve bu inputu denoise eder.\n",
    "#### https://blog.keras.io/building-autoencoders-in-keras.html"
   ]
  },
  {
   "cell_type": "code",
   "execution_count": 49,
   "metadata": {},
   "outputs": [],
   "source": [
    "from keras.models import Model\n",
    "from keras.layers import Input, Dense\n",
    "from keras.datasets import fashion_mnist\n",
    "import matplotlib.pyplot as plt\n",
    "import json, codecs\n",
    "from keras.models import load_model\n",
    "import cv2\n",
    "import numpy as np"
   ]
  },
  {
   "cell_type": "markdown",
   "metadata": {},
   "source": [
    "## 1-Read Data\n",
    "### NOTE\n",
    "- Autoencoders bir unsupervised learning modeli olduğu için, labellara yani y_train ve y_test değişkenlerine ihtiyacımız yok. \n",
    "- Kullanmayacağımız için **y_train** ve **y_test** yerine <bold>_</bold> diye belirtiriz."
   ]
  },
  {
   "cell_type": "code",
   "execution_count": 2,
   "metadata": {},
   "outputs": [],
   "source": [
    "(x_train, _), (x_test, _) = fashion_mnist.load_data()"
   ]
  },
  {
   "cell_type": "code",
   "execution_count": 3,
   "metadata": {},
   "outputs": [
    {
     "name": "stdout",
     "output_type": "stream",
     "text": [
      "(60000, 28, 28)\n",
      "(10000, 28, 28)\n"
     ]
    }
   ],
   "source": [
    "print(x_train.shape)\n",
    "print(x_test.shape)"
   ]
  },
  {
   "cell_type": "code",
   "execution_count": 4,
   "metadata": {},
   "outputs": [
    {
     "data": {
      "text/plain": [
       "array([0, 0, 0, 0, 0, 0, 0, 0, 0, 0, 0, 0, 0, 0, 0, 0, 0, 0, 0, 0, 0, 0,\n",
       "       0, 0, 0, 0, 0, 0], dtype=uint8)"
      ]
     },
     "execution_count": 4,
     "metadata": {},
     "output_type": "execute_result"
    }
   ],
   "source": [
    "x_train[0][0]"
   ]
  },
  {
   "cell_type": "markdown",
   "metadata": {},
   "source": [
    "## 2-Preprocessing"
   ]
  },
  {
   "cell_type": "markdown",
   "metadata": {},
   "source": [
    "### A) Convert 32 bit float and Normalize Data"
   ]
  },
  {
   "cell_type": "code",
   "execution_count": 5,
   "metadata": {},
   "outputs": [
    {
     "data": {
      "text/plain": [
       "array([0., 0., 0., 0., 0., 0., 0., 0., 0., 0., 0., 0., 0., 0., 0., 0., 0.,\n",
       "       0., 0., 0., 0., 0., 0., 0., 0., 0., 0., 0.], dtype=float32)"
      ]
     },
     "execution_count": 5,
     "metadata": {},
     "output_type": "execute_result"
    }
   ],
   "source": [
    "x_train = x_train.astype(\"float32\") / 255.0\n",
    "x_test = x_test.astype(\"float32\") / 255.0\n",
    "x_train[0][0]"
   ]
  },
  {
   "cell_type": "markdown",
   "metadata": {},
   "source": [
    "### B) Convert to Flatten matrix"
   ]
  },
  {
   "cell_type": "code",
   "execution_count": 6,
   "metadata": {},
   "outputs": [
    {
     "name": "stdout",
     "output_type": "stream",
     "text": [
      "60000 28 28\n",
      "10000 28 28\n"
     ]
    }
   ],
   "source": [
    "print(x_train.shape[0], x_train.shape[1], x_train.shape[2]) # len(x_train) = x_train.shape[0]\n",
    "print(x_test.shape[0], x_test.shape[1], x_test.shape[2])"
   ]
  },
  {
   "cell_type": "code",
   "execution_count": 7,
   "metadata": {},
   "outputs": [
    {
     "name": "stdout",
     "output_type": "stream",
     "text": [
      "(60000, 784)\n",
      "(10000, 784)\n"
     ]
    }
   ],
   "source": [
    "x_train = x_train.reshape((x_train.shape[0], x_train.shape[1] * x_train.shape[2])) # 28x28=1x784\n",
    "x_test = x_test.reshape((x_test.shape[0], x_test.shape[1] * x_test.shape[2]))\n",
    "print(x_train.shape)\n",
    "print(x_test.shape)"
   ]
  },
  {
   "cell_type": "markdown",
   "metadata": {},
   "source": [
    "#### NOTE\n",
    "- Yukarıda vektörel matrise çevirdik ancak matplotta görselleştirmek için orijinal hali gerekli. :("
   ]
  },
  {
   "cell_type": "code",
   "execution_count": 8,
   "metadata": {},
   "outputs": [
    {
     "data": {
      "image/png": "[encoded data removed]",
      "text/plain": [
       "<Figure size 432x288 with 1 Axes>"
      ]
     },
     "metadata": {
      "needs_background": "light"
     },
     "output_type": "display_data"
    }
   ],
   "source": [
    "plt.imshow(x_train[150].reshape(28, 28)) \n",
    "plt.axis(\"off\")\n",
    "plt.show()"
   ]
  },
  {
   "cell_type": "markdown",
   "metadata": {},
   "source": [
    "## 3-Create Autoencoder Model"
   ]
  },
  {
   "cell_type": "code",
   "execution_count": 9,
   "metadata": {},
   "outputs": [
    {
     "data": {
      "text/plain": [
       "<KerasTensor: shape=(None, 784) dtype=float32 (created by layer 'input_1')>"
      ]
     },
     "execution_count": 9,
     "metadata": {},
     "output_type": "execute_result"
    }
   ],
   "source": [
    "input_layer = Input(shape = (784, )) # create input(img) layer\n",
    "input_layer"
   ]
  },
  {
   "cell_type": "code",
   "execution_count": 10,
   "metadata": {},
   "outputs": [],
   "source": [
    "encoded1 = Dense(32, activation=\"relu\")(input_layer)   # 32 nörondan oluşur. bir önceki layer input_img'yi bağladık.\n",
    "encoded2 = Dense(16, activation=\"relu\")(encoded1)     # 16 nörondan oluşur. yine bir önceki layer'ı bağladık."
   ]
  },
  {
   "cell_type": "code",
   "execution_count": 11,
   "metadata": {},
   "outputs": [],
   "source": [
    "decoded = Dense(32, activation=\"relu\")(encoded2)     # 32 nörondan oluşur. yine bir önceki layer'ı bağladık.\n",
    "output_layer = Dense(784, activation=\"sigmoid\")(decoded) # 784 nörondan oluşur.yine bir önceki layer'ı bağladık."
   ]
  },
  {
   "cell_type": "code",
   "execution_count": 12,
   "metadata": {},
   "outputs": [],
   "source": [
    "autoencoder = Model(input_layer, output_layer)"
   ]
  },
  {
   "cell_type": "markdown",
   "metadata": {},
   "source": [
    "## 4-Compile and Train Model"
   ]
  },
  {
   "cell_type": "code",
   "execution_count": 13,
   "metadata": {},
   "outputs": [],
   "source": [
    "autoencoder.compile(optimizer = \"rmsprop\", loss = \"binary_crossentropy\", metrics=\"accuracy\")"
   ]
  },
  {
   "cell_type": "markdown",
   "metadata": {},
   "source": [
    "### NOTE\n",
    "- Autoencoder bir unsupervised learning modeli olduğu için input ve output aynı olacak. Amaç denoising veya feature extraction yapmak olduğundan input output aynı olmalı. \n",
    "- Bu yüzden input=x_train, outpu=x_train olarak yazarız."
   ]
  },
  {
   "cell_type": "code",
   "execution_count": 14,
   "metadata": {},
   "outputs": [
    {
     "name": "stdout",
     "output_type": "stream",
     "text": [
      "Epoch 1/200\n",
      "235/235 [==============================] - 4s 12ms/step - loss: 0.4075 - accuracy: 0.0083 - val_loss: 0.3531 - val_accuracy: 0.0081\n",
      "Epoch 2/200\n",
      "235/235 [==============================] - 3s 11ms/step - loss: 0.3387 - accuracy: 0.0122 - val_loss: 0.3300 - val_accuracy: 0.0163\n",
      "Epoch 3/200\n",
      "235/235 [==============================] - 3s 12ms/step - loss: 0.3235 - accuracy: 0.0142 - val_loss: 0.3224 - val_accuracy: 0.0151\n",
      "Epoch 4/200\n",
      "235/235 [==============================] - 3s 11ms/step - loss: 0.3178 - accuracy: 0.0131 - val_loss: 0.3143 - val_accuracy: 0.0106\n",
      "Epoch 5/200\n",
      "235/235 [==============================] - 3s 11ms/step - loss: 0.3141 - accuracy: 0.0126 - val_loss: 0.3113 - val_accuracy: 0.0150\n",
      "Epoch 6/200\n",
      "235/235 [==============================] - 3s 12ms/step - loss: 0.3114 - accuracy: 0.0121 - val_loss: 0.3091 - val_accuracy: 0.0117\n",
      "Epoch 7/200\n",
      "235/235 [==============================] - 3s 12ms/step - loss: 0.3093 - accuracy: 0.0122 - val_loss: 0.3073 - val_accuracy: 0.0112\n",
      "Epoch 8/200\n",
      "235/235 [==============================] - 3s 13ms/step - loss: 0.3075 - accuracy: 0.0117 - val_loss: 0.3078 - val_accuracy: 0.0110\n",
      "Epoch 9/200\n",
      "235/235 [==============================] - 3s 12ms/step - loss: 0.3060 - accuracy: 0.0123 - val_loss: 0.3054 - val_accuracy: 0.0131\n",
      "Epoch 10/200\n",
      "235/235 [==============================] - 3s 12ms/step - loss: 0.3048 - accuracy: 0.0129 - val_loss: 0.3051 - val_accuracy: 0.0136\n",
      "Epoch 11/200\n",
      "235/235 [==============================] - 3s 13ms/step - loss: 0.3037 - accuracy: 0.0136 - val_loss: 0.3036 - val_accuracy: 0.0115\n",
      "Epoch 12/200\n",
      "235/235 [==============================] - 4s 15ms/step - loss: 0.3028 - accuracy: 0.0135 - val_loss: 0.3031 - val_accuracy: 0.0116\n",
      "Epoch 13/200\n",
      "235/235 [==============================] - 3s 13ms/step - loss: 0.3019 - accuracy: 0.0134 - val_loss: 0.3009 - val_accuracy: 0.0162\n",
      "Epoch 14/200\n",
      "235/235 [==============================] - 3s 13ms/step - loss: 0.3012 - accuracy: 0.0143 - val_loss: 0.3010 - val_accuracy: 0.0126\n",
      "Epoch 15/200\n",
      "235/235 [==============================] - 3s 12ms/step - loss: 0.3006 - accuracy: 0.0135 - val_loss: 0.2992 - val_accuracy: 0.0139\n",
      "Epoch 16/200\n",
      "235/235 [==============================] - 3s 11ms/step - loss: 0.3000 - accuracy: 0.0131 - val_loss: 0.3015 - val_accuracy: 0.0108\n",
      "Epoch 17/200\n",
      "235/235 [==============================] - 3s 11ms/step - loss: 0.2995 - accuracy: 0.0143 - val_loss: 0.2988 - val_accuracy: 0.0144\n",
      "Epoch 18/200\n",
      "235/235 [==============================] - 3s 12ms/step - loss: 0.2989 - accuracy: 0.0139 - val_loss: 0.2984 - val_accuracy: 0.0131\n",
      "Epoch 19/200\n",
      "235/235 [==============================] - 3s 11ms/step - loss: 0.2985 - accuracy: 0.0140 - val_loss: 0.2983 - val_accuracy: 0.0129\n",
      "Epoch 20/200\n",
      "235/235 [==============================] - 3s 12ms/step - loss: 0.2981 - accuracy: 0.0140 - val_loss: 0.2987 - val_accuracy: 0.0144\n",
      "Epoch 21/200\n",
      "235/235 [==============================] - 2s 11ms/step - loss: 0.2977 - accuracy: 0.0141 - val_loss: 0.2974 - val_accuracy: 0.0163\n",
      "Epoch 22/200\n",
      "235/235 [==============================] - 3s 11ms/step - loss: 0.2974 - accuracy: 0.0147 - val_loss: 0.2974 - val_accuracy: 0.0138\n",
      "Epoch 23/200\n",
      "235/235 [==============================] - 3s 11ms/step - loss: 0.2971 - accuracy: 0.0143 - val_loss: 0.2962 - val_accuracy: 0.0148\n",
      "Epoch 24/200\n",
      "235/235 [==============================] - 3s 11ms/step - loss: 0.2967 - accuracy: 0.0141 - val_loss: 0.2968 - val_accuracy: 0.0145\n",
      "Epoch 25/200\n",
      "235/235 [==============================] - 3s 11ms/step - loss: 0.2964 - accuracy: 0.0150 - val_loss: 0.2966 - val_accuracy: 0.0144\n",
      "Epoch 26/200\n",
      "235/235 [==============================] - 3s 11ms/step - loss: 0.2962 - accuracy: 0.0152 - val_loss: 0.2969 - val_accuracy: 0.0155\n",
      "Epoch 27/200\n",
      "235/235 [==============================] - 3s 11ms/step - loss: 0.2959 - accuracy: 0.0157 - val_loss: 0.2959 - val_accuracy: 0.0154\n",
      "Epoch 28/200\n",
      "235/235 [==============================] - 3s 11ms/step - loss: 0.2957 - accuracy: 0.0152 - val_loss: 0.2952 - val_accuracy: 0.0178\n",
      "Epoch 29/200\n",
      "235/235 [==============================] - 3s 11ms/step - loss: 0.2954 - accuracy: 0.0154 - val_loss: 0.2947 - val_accuracy: 0.0169\n",
      "Epoch 30/200\n",
      "235/235 [==============================] - 3s 11ms/step - loss: 0.2952 - accuracy: 0.0159 - val_loss: 0.2960 - val_accuracy: 0.0145\n",
      "Epoch 31/200\n",
      "235/235 [==============================] - 3s 11ms/step - loss: 0.2949 - accuracy: 0.0158 - val_loss: 0.2942 - val_accuracy: 0.0149\n",
      "Epoch 32/200\n",
      "235/235 [==============================] - 3s 11ms/step - loss: 0.2947 - accuracy: 0.0162 - val_loss: 0.2957 - val_accuracy: 0.0135\n",
      "Epoch 33/200\n",
      "235/235 [==============================] - 3s 12ms/step - loss: 0.2945 - accuracy: 0.0163 - val_loss: 0.2946 - val_accuracy: 0.0171\n",
      "Epoch 34/200\n",
      "235/235 [==============================] - 3s 11ms/step - loss: 0.2943 - accuracy: 0.0175 - val_loss: 0.2946 - val_accuracy: 0.0206\n",
      "Epoch 35/200\n",
      "235/235 [==============================] - 3s 11ms/step - loss: 0.2941 - accuracy: 0.0172 - val_loss: 0.2947 - val_accuracy: 0.0169\n",
      "Epoch 36/200\n",
      "235/235 [==============================] - 3s 11ms/step - loss: 0.2939 - accuracy: 0.0170 - val_loss: 0.2934 - val_accuracy: 0.0167\n",
      "Epoch 37/200\n",
      "235/235 [==============================] - 3s 11ms/step - loss: 0.2937 - accuracy: 0.0168 - val_loss: 0.2935 - val_accuracy: 0.0186\n",
      "Epoch 38/200\n",
      "235/235 [==============================] - 3s 11ms/step - loss: 0.2935 - accuracy: 0.0165 - val_loss: 0.2924 - val_accuracy: 0.0202\n",
      "Epoch 39/200\n",
      "235/235 [==============================] - 3s 11ms/step - loss: 0.2933 - accuracy: 0.0170 - val_loss: 0.2926 - val_accuracy: 0.0168\n",
      "Epoch 40/200\n",
      "235/235 [==============================] - 3s 11ms/step - loss: 0.2931 - accuracy: 0.0176 - val_loss: 0.2934 - val_accuracy: 0.0190\n",
      "Epoch 41/200\n",
      "235/235 [==============================] - 3s 11ms/step - loss: 0.2930 - accuracy: 0.0171 - val_loss: 0.2951 - val_accuracy: 0.0159\n",
      "Epoch 42/200\n",
      "235/235 [==============================] - 2s 11ms/step - loss: 0.2928 - accuracy: 0.0177 - val_loss: 0.2931 - val_accuracy: 0.0144\n",
      "Epoch 43/200\n",
      "235/235 [==============================] - 3s 11ms/step - loss: 0.2927 - accuracy: 0.0173 - val_loss: 0.2945 - val_accuracy: 0.0268\n",
      "Epoch 44/200\n",
      "235/235 [==============================] - 3s 11ms/step - loss: 0.2925 - accuracy: 0.0181 - val_loss: 0.2919 - val_accuracy: 0.0177\n",
      "Epoch 45/200\n",
      "235/235 [==============================] - 3s 12ms/step - loss: 0.2924 - accuracy: 0.0179 - val_loss: 0.2929 - val_accuracy: 0.0166\n",
      "Epoch 46/200\n",
      "235/235 [==============================] - 2s 10ms/step - loss: 0.2923 - accuracy: 0.0175 - val_loss: 0.2926 - val_accuracy: 0.0187\n",
      "Epoch 47/200\n",
      "235/235 [==============================] - 3s 11ms/step - loss: 0.2922 - accuracy: 0.0178 - val_loss: 0.2935 - val_accuracy: 0.0152\n",
      "Epoch 48/200\n",
      "235/235 [==============================] - 3s 11ms/step - loss: 0.2920 - accuracy: 0.0183 - val_loss: 0.2936 - val_accuracy: 0.0219\n",
      "Epoch 49/200\n",
      "235/235 [==============================] - 3s 11ms/step - loss: 0.2919 - accuracy: 0.0183 - val_loss: 0.2918 - val_accuracy: 0.0182\n",
      "Epoch 50/200\n",
      "235/235 [==============================] - 3s 11ms/step - loss: 0.2918 - accuracy: 0.0181 - val_loss: 0.2925 - val_accuracy: 0.0157\n",
      "Epoch 51/200\n",
      "235/235 [==============================] - 3s 12ms/step - loss: 0.2917 - accuracy: 0.0173 - val_loss: 0.2918 - val_accuracy: 0.0181\n",
      "Epoch 52/200\n",
      "235/235 [==============================] - 3s 11ms/step - loss: 0.2916 - accuracy: 0.0185 - val_loss: 0.2919 - val_accuracy: 0.0202\n",
      "Epoch 53/200\n",
      "235/235 [==============================] - 3s 11ms/step - loss: 0.2915 - accuracy: 0.0185 - val_loss: 0.2925 - val_accuracy: 0.0161\n",
      "Epoch 54/200\n",
      "235/235 [==============================] - 3s 11ms/step - loss: 0.2914 - accuracy: 0.0189 - val_loss: 0.2916 - val_accuracy: 0.0202\n",
      "Epoch 55/200\n",
      "235/235 [==============================] - 3s 11ms/step - loss: 0.2913 - accuracy: 0.0184 - val_loss: 0.2908 - val_accuracy: 0.0181\n",
      "Epoch 56/200\n",
      "235/235 [==============================] - 3s 11ms/step - loss: 0.2912 - accuracy: 0.0193 - val_loss: 0.2917 - val_accuracy: 0.0188\n",
      "Epoch 57/200\n",
      "235/235 [==============================] - 3s 12ms/step - loss: 0.2911 - accuracy: 0.0183 - val_loss: 0.2912 - val_accuracy: 0.0188\n",
      "Epoch 58/200\n",
      "235/235 [==============================] - 3s 11ms/step - loss: 0.2911 - accuracy: 0.0192 - val_loss: 0.2915 - val_accuracy: 0.0168\n",
      "Epoch 59/200\n",
      "235/235 [==============================] - 3s 11ms/step - loss: 0.2910 - accuracy: 0.0188 - val_loss: 0.2913 - val_accuracy: 0.0162\n",
      "Epoch 60/200\n",
      "235/235 [==============================] - 3s 11ms/step - loss: 0.2909 - accuracy: 0.0185 - val_loss: 0.2902 - val_accuracy: 0.0157\n",
      "Epoch 61/200\n",
      "235/235 [==============================] - 3s 12ms/step - loss: 0.2909 - accuracy: 0.0185 - val_loss: 0.2909 - val_accuracy: 0.0220\n",
      "Epoch 62/200\n",
      "235/235 [==============================] - 4s 18ms/step - loss: 0.2908 - accuracy: 0.0199 - val_loss: 0.2917 - val_accuracy: 0.0190\n",
      "Epoch 63/200\n",
      "235/235 [==============================] - 3s 12ms/step - loss: 0.2907 - accuracy: 0.0187 - val_loss: 0.2915 - val_accuracy: 0.0205\n",
      "Epoch 64/200\n",
      "235/235 [==============================] - 3s 11ms/step - loss: 0.2907 - accuracy: 0.0185 - val_loss: 0.2910 - val_accuracy: 0.0176\n",
      "Epoch 65/200\n",
      "235/235 [==============================] - 3s 11ms/step - loss: 0.2906 - accuracy: 0.0195 - val_loss: 0.2903 - val_accuracy: 0.0181\n",
      "Epoch 66/200\n",
      "235/235 [==============================] - 2s 10ms/step - loss: 0.2905 - accuracy: 0.0193 - val_loss: 0.2902 - val_accuracy: 0.0172\n",
      "Epoch 67/200\n",
      "235/235 [==============================] - 3s 11ms/step - loss: 0.2905 - accuracy: 0.0188 - val_loss: 0.2914 - val_accuracy: 0.0179\n",
      "Epoch 68/200\n",
      "235/235 [==============================] - 2s 10ms/step - loss: 0.2904 - accuracy: 0.0182 - val_loss: 0.2916 - val_accuracy: 0.0181\n",
      "Epoch 69/200\n",
      "235/235 [==============================] - 2s 10ms/step - loss: 0.2904 - accuracy: 0.0189 - val_loss: 0.2902 - val_accuracy: 0.0184\n",
      "Epoch 70/200\n",
      "235/235 [==============================] - 2s 11ms/step - loss: 0.2903 - accuracy: 0.0192 - val_loss: 0.2901 - val_accuracy: 0.0171\n",
      "Epoch 71/200\n",
      "235/235 [==============================] - 2s 10ms/step - loss: 0.2903 - accuracy: 0.0188 - val_loss: 0.2901 - val_accuracy: 0.0190\n",
      "Epoch 72/200\n",
      "235/235 [==============================] - 2s 10ms/step - loss: 0.2902 - accuracy: 0.0200 - val_loss: 0.2903 - val_accuracy: 0.0196\n",
      "Epoch 73/200\n",
      "235/235 [==============================] - 3s 12ms/step - loss: 0.2901 - accuracy: 0.0190 - val_loss: 0.2902 - val_accuracy: 0.0185\n",
      "Epoch 74/200\n",
      "235/235 [==============================] - 2s 10ms/step - loss: 0.2901 - accuracy: 0.0189 - val_loss: 0.2910 - val_accuracy: 0.0246\n",
      "Epoch 75/200\n",
      "235/235 [==============================] - 3s 11ms/step - loss: 0.2900 - accuracy: 0.0196 - val_loss: 0.2896 - val_accuracy: 0.0196\n",
      "Epoch 76/200\n",
      "235/235 [==============================] - 2s 10ms/step - loss: 0.2900 - accuracy: 0.0193 - val_loss: 0.2901 - val_accuracy: 0.0176\n",
      "Epoch 77/200\n",
      "235/235 [==============================] - 3s 11ms/step - loss: 0.2899 - accuracy: 0.0191 - val_loss: 0.2903 - val_accuracy: 0.0190\n",
      "Epoch 78/200\n",
      "235/235 [==============================] - 3s 11ms/step - loss: 0.2899 - accuracy: 0.0188 - val_loss: 0.2895 - val_accuracy: 0.0237\n",
      "Epoch 79/200\n",
      "235/235 [==============================] - 2s 10ms/step - loss: 0.2899 - accuracy: 0.0194 - val_loss: 0.2908 - val_accuracy: 0.0180\n",
      "Epoch 80/200\n",
      "235/235 [==============================] - 3s 11ms/step - loss: 0.2898 - accuracy: 0.0190 - val_loss: 0.2921 - val_accuracy: 0.0192\n",
      "Epoch 81/200\n",
      "235/235 [==============================] - 2s 11ms/step - loss: 0.2898 - accuracy: 0.0188 - val_loss: 0.2916 - val_accuracy: 0.0237\n",
      "Epoch 82/200\n",
      "235/235 [==============================] - 2s 11ms/step - loss: 0.2897 - accuracy: 0.0193 - val_loss: 0.2904 - val_accuracy: 0.0217\n",
      "Epoch 83/200\n",
      "235/235 [==============================] - 3s 11ms/step - loss: 0.2897 - accuracy: 0.0195 - val_loss: 0.2903 - val_accuracy: 0.0188\n",
      "Epoch 84/200\n",
      "235/235 [==============================] - 2s 11ms/step - loss: 0.2896 - accuracy: 0.0199 - val_loss: 0.2901 - val_accuracy: 0.0190\n",
      "Epoch 85/200\n",
      "235/235 [==============================] - 2s 10ms/step - loss: 0.2896 - accuracy: 0.0191 - val_loss: 0.2894 - val_accuracy: 0.0187\n",
      "Epoch 86/200\n",
      "235/235 [==============================] - 2s 10ms/step - loss: 0.2895 - accuracy: 0.0199 - val_loss: 0.2898 - val_accuracy: 0.0161\n",
      "Epoch 87/200\n",
      "235/235 [==============================] - 2s 10ms/step - loss: 0.2895 - accuracy: 0.0191 - val_loss: 0.2898 - val_accuracy: 0.0158\n",
      "Epoch 88/200\n",
      "235/235 [==============================] - 3s 12ms/step - loss: 0.2894 - accuracy: 0.0187 - val_loss: 0.2916 - val_accuracy: 0.0163\n",
      "Epoch 89/200\n",
      "235/235 [==============================] - 3s 11ms/step - loss: 0.2894 - accuracy: 0.0196 - val_loss: 0.2887 - val_accuracy: 0.0200\n",
      "Epoch 90/200\n",
      "235/235 [==============================] - 2s 11ms/step - loss: 0.2893 - accuracy: 0.0191 - val_loss: 0.2908 - val_accuracy: 0.0185\n",
      "Epoch 91/200\n",
      "235/235 [==============================] - 2s 11ms/step - loss: 0.2893 - accuracy: 0.0187 - val_loss: 0.2897 - val_accuracy: 0.0178\n",
      "Epoch 92/200\n",
      "235/235 [==============================] - 2s 10ms/step - loss: 0.2893 - accuracy: 0.0196 - val_loss: 0.2891 - val_accuracy: 0.0213\n",
      "Epoch 93/200\n",
      "235/235 [==============================] - 3s 11ms/step - loss: 0.2892 - accuracy: 0.0192 - val_loss: 0.2892 - val_accuracy: 0.0162\n",
      "Epoch 94/200\n",
      "235/235 [==============================] - 2s 11ms/step - loss: 0.2892 - accuracy: 0.0188 - val_loss: 0.2894 - val_accuracy: 0.0189\n",
      "Epoch 95/200\n",
      "235/235 [==============================] - 2s 10ms/step - loss: 0.2891 - accuracy: 0.0193 - val_loss: 0.2885 - val_accuracy: 0.0185\n",
      "Epoch 96/200\n",
      "235/235 [==============================] - 2s 10ms/step - loss: 0.2891 - accuracy: 0.0193 - val_loss: 0.2893 - val_accuracy: 0.0191\n",
      "Epoch 97/200\n",
      "235/235 [==============================] - 3s 11ms/step - loss: 0.2891 - accuracy: 0.0200 - val_loss: 0.2886 - val_accuracy: 0.0180\n",
      "Epoch 98/200\n",
      "235/235 [==============================] - 3s 12ms/step - loss: 0.2890 - accuracy: 0.0192 - val_loss: 0.2889 - val_accuracy: 0.0185\n",
      "Epoch 99/200\n",
      "235/235 [==============================] - 2s 11ms/step - loss: 0.2890 - accuracy: 0.0201 - val_loss: 0.2884 - val_accuracy: 0.0187\n",
      "Epoch 100/200\n",
      "235/235 [==============================] - 2s 10ms/step - loss: 0.2889 - accuracy: 0.0194 - val_loss: 0.2890 - val_accuracy: 0.0189\n",
      "Epoch 101/200\n",
      "235/235 [==============================] - 2s 10ms/step - loss: 0.2889 - accuracy: 0.0200 - val_loss: 0.2898 - val_accuracy: 0.0199\n",
      "Epoch 102/200\n",
      "235/235 [==============================] - 2s 10ms/step - loss: 0.2889 - accuracy: 0.0192 - val_loss: 0.2883 - val_accuracy: 0.0187\n",
      "Epoch 103/200\n",
      "235/235 [==============================] - 3s 12ms/step - loss: 0.2888 - accuracy: 0.0194 - val_loss: 0.2896 - val_accuracy: 0.0170\n",
      "Epoch 104/200\n",
      "235/235 [==============================] - 2s 10ms/step - loss: 0.2888 - accuracy: 0.0190 - val_loss: 0.2885 - val_accuracy: 0.0196\n",
      "Epoch 105/200\n",
      "235/235 [==============================] - 3s 11ms/step - loss: 0.2888 - accuracy: 0.0192 - val_loss: 0.2891 - val_accuracy: 0.0250\n",
      "Epoch 106/200\n",
      "235/235 [==============================] - 2s 11ms/step - loss: 0.2887 - accuracy: 0.0199 - val_loss: 0.2892 - val_accuracy: 0.0193\n",
      "Epoch 107/200\n",
      "235/235 [==============================] - 2s 11ms/step - loss: 0.2887 - accuracy: 0.0201 - val_loss: 0.2894 - val_accuracy: 0.0183\n",
      "Epoch 108/200\n",
      "235/235 [==============================] - 3s 11ms/step - loss: 0.2887 - accuracy: 0.0202 - val_loss: 0.2892 - val_accuracy: 0.0196\n",
      "Epoch 109/200\n",
      "235/235 [==============================] - 2s 10ms/step - loss: 0.2886 - accuracy: 0.0200 - val_loss: 0.2894 - val_accuracy: 0.0177\n",
      "Epoch 110/200\n",
      "235/235 [==============================] - 2s 11ms/step - loss: 0.2886 - accuracy: 0.0195 - val_loss: 0.2893 - val_accuracy: 0.0200\n",
      "Epoch 111/200\n",
      "235/235 [==============================] - 3s 11ms/step - loss: 0.2886 - accuracy: 0.0201 - val_loss: 0.2889 - val_accuracy: 0.0202\n",
      "Epoch 112/200\n",
      "235/235 [==============================] - 3s 12ms/step - loss: 0.2885 - accuracy: 0.0203 - val_loss: 0.2891 - val_accuracy: 0.0188\n",
      "Epoch 113/200\n",
      "235/235 [==============================] - 3s 11ms/step - loss: 0.2885 - accuracy: 0.0197 - val_loss: 0.2895 - val_accuracy: 0.0208\n",
      "Epoch 114/200\n",
      "235/235 [==============================] - 4s 17ms/step - loss: 0.2885 - accuracy: 0.0202 - val_loss: 0.2885 - val_accuracy: 0.0187\n",
      "Epoch 115/200\n",
      "235/235 [==============================] - 5s 22ms/step - loss: 0.2884 - accuracy: 0.0200 - val_loss: 0.2879 - val_accuracy: 0.0214\n",
      "Epoch 116/200\n",
      "235/235 [==============================] - 3s 14ms/step - loss: 0.2884 - accuracy: 0.0201 - val_loss: 0.2875 - val_accuracy: 0.0214\n",
      "Epoch 117/200\n",
      "235/235 [==============================] - 3s 13ms/step - loss: 0.2884 - accuracy: 0.0200 - val_loss: 0.2886 - val_accuracy: 0.0209\n",
      "Epoch 118/200\n",
      "235/235 [==============================] - 3s 12ms/step - loss: 0.2883 - accuracy: 0.0201 - val_loss: 0.2883 - val_accuracy: 0.0184\n",
      "Epoch 119/200\n",
      "235/235 [==============================] - 2s 10ms/step - loss: 0.2883 - accuracy: 0.0199 - val_loss: 0.2879 - val_accuracy: 0.0187\n",
      "Epoch 120/200\n",
      "235/235 [==============================] - 2s 11ms/step - loss: 0.2883 - accuracy: 0.0192 - val_loss: 0.2883 - val_accuracy: 0.0228\n",
      "Epoch 121/200\n",
      "235/235 [==============================] - 2s 10ms/step - loss: 0.2883 - accuracy: 0.0198 - val_loss: 0.2893 - val_accuracy: 0.0184\n",
      "Epoch 122/200\n",
      "235/235 [==============================] - 3s 11ms/step - loss: 0.2882 - accuracy: 0.0206 - val_loss: 0.2884 - val_accuracy: 0.0222\n",
      "Epoch 123/200\n",
      "235/235 [==============================] - 2s 10ms/step - loss: 0.2882 - accuracy: 0.0200 - val_loss: 0.2886 - val_accuracy: 0.0187\n",
      "Epoch 124/200\n",
      "235/235 [==============================] - 2s 10ms/step - loss: 0.2882 - accuracy: 0.0196 - val_loss: 0.2882 - val_accuracy: 0.0181\n",
      "Epoch 125/200\n",
      "235/235 [==============================] - 2s 10ms/step - loss: 0.2881 - accuracy: 0.0202 - val_loss: 0.2883 - val_accuracy: 0.0193\n",
      "Epoch 126/200\n",
      "235/235 [==============================] - 2s 10ms/step - loss: 0.2881 - accuracy: 0.0205 - val_loss: 0.2878 - val_accuracy: 0.0202\n",
      "Epoch 127/200\n",
      "235/235 [==============================] - 2s 10ms/step - loss: 0.2881 - accuracy: 0.0197 - val_loss: 0.2872 - val_accuracy: 0.0218\n",
      "Epoch 128/200\n",
      "235/235 [==============================] - 2s 10ms/step - loss: 0.2880 - accuracy: 0.0197 - val_loss: 0.2879 - val_accuracy: 0.0191\n",
      "Epoch 129/200\n",
      "235/235 [==============================] - 3s 11ms/step - loss: 0.2880 - accuracy: 0.0201 - val_loss: 0.2879 - val_accuracy: 0.0204\n",
      "Epoch 130/200\n",
      "235/235 [==============================] - 2s 10ms/step - loss: 0.2880 - accuracy: 0.0196 - val_loss: 0.2873 - val_accuracy: 0.0228\n",
      "Epoch 131/200\n",
      "235/235 [==============================] - 2s 10ms/step - loss: 0.2880 - accuracy: 0.0191 - val_loss: 0.2880 - val_accuracy: 0.0244\n",
      "Epoch 132/200\n",
      "235/235 [==============================] - 2s 10ms/step - loss: 0.2880 - accuracy: 0.0196 - val_loss: 0.2879 - val_accuracy: 0.0213\n",
      "Epoch 133/200\n",
      "235/235 [==============================] - 3s 11ms/step - loss: 0.2879 - accuracy: 0.0199 - val_loss: 0.2877 - val_accuracy: 0.0210\n",
      "Epoch 134/200\n",
      "235/235 [==============================] - 2s 10ms/step - loss: 0.2879 - accuracy: 0.0194 - val_loss: 0.2882 - val_accuracy: 0.0181\n",
      "Epoch 135/200\n",
      "235/235 [==============================] - 2s 10ms/step - loss: 0.2879 - accuracy: 0.0202 - val_loss: 0.2883 - val_accuracy: 0.0186\n",
      "Epoch 136/200\n",
      "235/235 [==============================] - 2s 10ms/step - loss: 0.2879 - accuracy: 0.0203 - val_loss: 0.2879 - val_accuracy: 0.0215\n",
      "Epoch 137/200\n",
      "235/235 [==============================] - 3s 11ms/step - loss: 0.2879 - accuracy: 0.0203 - val_loss: 0.2878 - val_accuracy: 0.0192\n",
      "Epoch 138/200\n",
      "235/235 [==============================] - 2s 10ms/step - loss: 0.2878 - accuracy: 0.0204 - val_loss: 0.2888 - val_accuracy: 0.0198\n",
      "Epoch 139/200\n",
      "235/235 [==============================] - 2s 10ms/step - loss: 0.2878 - accuracy: 0.0203 - val_loss: 0.2870 - val_accuracy: 0.0180\n",
      "Epoch 140/200\n",
      "235/235 [==============================] - 2s 9ms/step - loss: 0.2878 - accuracy: 0.0202 - val_loss: 0.2874 - val_accuracy: 0.0203\n",
      "Epoch 141/200\n",
      "235/235 [==============================] - 2s 10ms/step - loss: 0.2877 - accuracy: 0.0203 - val_loss: 0.2873 - val_accuracy: 0.0204\n",
      "Epoch 142/200\n",
      "235/235 [==============================] - 3s 12ms/step - loss: 0.2877 - accuracy: 0.0202 - val_loss: 0.2877 - val_accuracy: 0.0219\n",
      "Epoch 143/200\n",
      "235/235 [==============================] - 2s 11ms/step - loss: 0.2877 - accuracy: 0.0202 - val_loss: 0.2885 - val_accuracy: 0.0214\n",
      "Epoch 144/200\n",
      "235/235 [==============================] - 2s 9ms/step - loss: 0.2877 - accuracy: 0.0197 - val_loss: 0.2871 - val_accuracy: 0.0223\n",
      "Epoch 145/200\n",
      "235/235 [==============================] - 2s 9ms/step - loss: 0.2877 - accuracy: 0.0199 - val_loss: 0.2880 - val_accuracy: 0.0228\n",
      "Epoch 146/200\n",
      "235/235 [==============================] - 2s 10ms/step - loss: 0.2876 - accuracy: 0.0196 - val_loss: 0.2876 - val_accuracy: 0.0181\n",
      "Epoch 147/200\n",
      "235/235 [==============================] - 2s 10ms/step - loss: 0.2876 - accuracy: 0.0197 - val_loss: 0.2879 - val_accuracy: 0.0183\n",
      "Epoch 148/200\n",
      "235/235 [==============================] - 3s 11ms/step - loss: 0.2876 - accuracy: 0.0200 - val_loss: 0.2882 - val_accuracy: 0.0198\n",
      "Epoch 149/200\n",
      "235/235 [==============================] - 2s 10ms/step - loss: 0.2876 - accuracy: 0.0197 - val_loss: 0.2891 - val_accuracy: 0.0166\n",
      "Epoch 150/200\n",
      "235/235 [==============================] - 2s 9ms/step - loss: 0.2876 - accuracy: 0.0200 - val_loss: 0.2881 - val_accuracy: 0.0187\n",
      "Epoch 151/200\n",
      "235/235 [==============================] - 2s 9ms/step - loss: 0.2876 - accuracy: 0.0201 - val_loss: 0.2880 - val_accuracy: 0.0161\n",
      "Epoch 152/200\n",
      "235/235 [==============================] - 2s 10ms/step - loss: 0.2875 - accuracy: 0.0205 - val_loss: 0.2873 - val_accuracy: 0.0169\n",
      "Epoch 153/200\n",
      "235/235 [==============================] - 3s 11ms/step - loss: 0.2875 - accuracy: 0.0200 - val_loss: 0.2874 - val_accuracy: 0.0157\n",
      "Epoch 154/200\n",
      "235/235 [==============================] - 2s 10ms/step - loss: 0.2875 - accuracy: 0.0203 - val_loss: 0.2883 - val_accuracy: 0.0181\n",
      "Epoch 155/200\n",
      "235/235 [==============================] - 2s 10ms/step - loss: 0.2875 - accuracy: 0.0202 - val_loss: 0.2883 - val_accuracy: 0.0173\n",
      "Epoch 156/200\n",
      "235/235 [==============================] - 2s 10ms/step - loss: 0.2875 - accuracy: 0.0210 - val_loss: 0.2877 - val_accuracy: 0.0189\n",
      "Epoch 157/200\n",
      "235/235 [==============================] - 2s 10ms/step - loss: 0.2874 - accuracy: 0.0198 - val_loss: 0.2874 - val_accuracy: 0.0185\n",
      "Epoch 158/200\n",
      "235/235 [==============================] - 2s 11ms/step - loss: 0.2874 - accuracy: 0.0206 - val_loss: 0.2871 - val_accuracy: 0.0178\n",
      "Epoch 159/200\n",
      "235/235 [==============================] - 2s 10ms/step - loss: 0.2874 - accuracy: 0.0198 - val_loss: 0.2881 - val_accuracy: 0.0184\n",
      "Epoch 160/200\n",
      "235/235 [==============================] - 2s 10ms/step - loss: 0.2874 - accuracy: 0.0204 - val_loss: 0.2873 - val_accuracy: 0.0197\n",
      "Epoch 161/200\n",
      "235/235 [==============================] - 2s 9ms/step - loss: 0.2874 - accuracy: 0.0202 - val_loss: 0.2873 - val_accuracy: 0.0188\n",
      "Epoch 162/200\n",
      "235/235 [==============================] - 2s 10ms/step - loss: 0.2874 - accuracy: 0.0196 - val_loss: 0.2882 - val_accuracy: 0.0186\n",
      "Epoch 163/200\n",
      "235/235 [==============================] - 3s 11ms/step - loss: 0.2873 - accuracy: 0.0196 - val_loss: 0.2873 - val_accuracy: 0.0203\n",
      "Epoch 164/200\n",
      "235/235 [==============================] - 2s 10ms/step - loss: 0.2873 - accuracy: 0.0207 - val_loss: 0.2873 - val_accuracy: 0.0189\n",
      "Epoch 165/200\n",
      "235/235 [==============================] - 3s 11ms/step - loss: 0.2873 - accuracy: 0.0200 - val_loss: 0.2881 - val_accuracy: 0.0202\n",
      "Epoch 166/200\n",
      "235/235 [==============================] - 3s 11ms/step - loss: 0.2873 - accuracy: 0.0206 - val_loss: 0.2880 - val_accuracy: 0.0178\n",
      "Epoch 167/200\n",
      "235/235 [==============================] - 3s 11ms/step - loss: 0.2873 - accuracy: 0.0198 - val_loss: 0.2869 - val_accuracy: 0.0185\n",
      "Epoch 168/200\n",
      "235/235 [==============================] - 2s 10ms/step - loss: 0.2873 - accuracy: 0.0199 - val_loss: 0.2868 - val_accuracy: 0.0169\n",
      "Epoch 169/200\n",
      "235/235 [==============================] - 2s 10ms/step - loss: 0.2872 - accuracy: 0.0200 - val_loss: 0.2873 - val_accuracy: 0.0189\n",
      "Epoch 170/200\n",
      "235/235 [==============================] - 2s 9ms/step - loss: 0.2872 - accuracy: 0.0202 - val_loss: 0.2886 - val_accuracy: 0.0179\n",
      "Epoch 171/200\n",
      "235/235 [==============================] - 2s 10ms/step - loss: 0.2872 - accuracy: 0.0204 - val_loss: 0.2867 - val_accuracy: 0.0221\n",
      "Epoch 172/200\n",
      "235/235 [==============================] - 3s 11ms/step - loss: 0.2872 - accuracy: 0.0200 - val_loss: 0.2879 - val_accuracy: 0.0232\n",
      "Epoch 173/200\n",
      "235/235 [==============================] - 2s 10ms/step - loss: 0.2872 - accuracy: 0.0204 - val_loss: 0.2872 - val_accuracy: 0.0205\n",
      "Epoch 174/200\n",
      "235/235 [==============================] - 2s 10ms/step - loss: 0.2872 - accuracy: 0.0200 - val_loss: 0.2869 - val_accuracy: 0.0167\n",
      "Epoch 175/200\n",
      "235/235 [==============================] - 2s 10ms/step - loss: 0.2871 - accuracy: 0.0205 - val_loss: 0.2874 - val_accuracy: 0.0250\n",
      "Epoch 176/200\n",
      "235/235 [==============================] - 2s 10ms/step - loss: 0.2871 - accuracy: 0.0207 - val_loss: 0.2875 - val_accuracy: 0.0222\n",
      "Epoch 177/200\n",
      "235/235 [==============================] - 2s 9ms/step - loss: 0.2871 - accuracy: 0.0203 - val_loss: 0.2875 - val_accuracy: 0.0186\n",
      "Epoch 178/200\n",
      "235/235 [==============================] - 2s 10ms/step - loss: 0.2871 - accuracy: 0.0200 - val_loss: 0.2867 - val_accuracy: 0.0200\n",
      "Epoch 179/200\n",
      "235/235 [==============================] - 3s 11ms/step - loss: 0.2871 - accuracy: 0.0205 - val_loss: 0.2873 - val_accuracy: 0.0221\n",
      "Epoch 180/200\n",
      "235/235 [==============================] - 3s 11ms/step - loss: 0.2871 - accuracy: 0.0200 - val_loss: 0.2886 - val_accuracy: 0.0180\n",
      "Epoch 181/200\n",
      "235/235 [==============================] - 2s 10ms/step - loss: 0.2871 - accuracy: 0.0203 - val_loss: 0.2883 - val_accuracy: 0.0173\n",
      "Epoch 182/200\n",
      "235/235 [==============================] - 2s 10ms/step - loss: 0.2871 - accuracy: 0.0195 - val_loss: 0.2873 - val_accuracy: 0.0207\n",
      "Epoch 183/200\n",
      "235/235 [==============================] - 2s 10ms/step - loss: 0.2870 - accuracy: 0.0204 - val_loss: 0.2871 - val_accuracy: 0.0208\n",
      "Epoch 184/200\n",
      "235/235 [==============================] - 2s 9ms/step - loss: 0.2870 - accuracy: 0.0203 - val_loss: 0.2868 - val_accuracy: 0.0207\n",
      "Epoch 185/200\n",
      "235/235 [==============================] - 2s 10ms/step - loss: 0.2870 - accuracy: 0.0203 - val_loss: 0.2870 - val_accuracy: 0.0214\n",
      "Epoch 186/200\n",
      "235/235 [==============================] - 2s 10ms/step - loss: 0.2870 - accuracy: 0.0212 - val_loss: 0.2884 - val_accuracy: 0.0191\n",
      "Epoch 187/200\n",
      "235/235 [==============================] - 2s 11ms/step - loss: 0.2870 - accuracy: 0.0201 - val_loss: 0.2866 - val_accuracy: 0.0204\n",
      "Epoch 188/200\n",
      "235/235 [==============================] - 3s 11ms/step - loss: 0.2870 - accuracy: 0.0214 - val_loss: 0.2871 - val_accuracy: 0.0244\n",
      "Epoch 189/200\n",
      "235/235 [==============================] - 2s 10ms/step - loss: 0.2870 - accuracy: 0.0204 - val_loss: 0.2873 - val_accuracy: 0.0207\n",
      "Epoch 190/200\n",
      "235/235 [==============================] - 2s 10ms/step - loss: 0.2869 - accuracy: 0.0205 - val_loss: 0.2870 - val_accuracy: 0.0200\n",
      "Epoch 191/200\n",
      "235/235 [==============================] - 2s 10ms/step - loss: 0.2869 - accuracy: 0.0205 - val_loss: 0.2877 - val_accuracy: 0.0197\n",
      "Epoch 192/200\n",
      "235/235 [==============================] - 3s 11ms/step - loss: 0.2869 - accuracy: 0.0209 - val_loss: 0.2876 - val_accuracy: 0.0230\n",
      "Epoch 193/200\n",
      "235/235 [==============================] - 2s 11ms/step - loss: 0.2869 - accuracy: 0.0209 - val_loss: 0.2874 - val_accuracy: 0.0223\n",
      "Epoch 194/200\n",
      "235/235 [==============================] - 2s 10ms/step - loss: 0.2869 - accuracy: 0.0208 - val_loss: 0.2871 - val_accuracy: 0.0213\n",
      "Epoch 195/200\n",
      "235/235 [==============================] - 2s 10ms/step - loss: 0.2869 - accuracy: 0.0206 - val_loss: 0.2866 - val_accuracy: 0.0205\n",
      "Epoch 196/200\n",
      "235/235 [==============================] - 2s 11ms/step - loss: 0.2869 - accuracy: 0.0201 - val_loss: 0.2877 - val_accuracy: 0.0171\n",
      "Epoch 197/200\n",
      "235/235 [==============================] - 3s 11ms/step - loss: 0.2869 - accuracy: 0.0203 - val_loss: 0.2881 - val_accuracy: 0.0192\n",
      "Epoch 198/200\n",
      "235/235 [==============================] - 2s 10ms/step - loss: 0.2869 - accuracy: 0.0220 - val_loss: 0.2863 - val_accuracy: 0.0193\n",
      "Epoch 199/200\n",
      "235/235 [==============================] - 2s 10ms/step - loss: 0.2868 - accuracy: 0.0206 - val_loss: 0.2870 - val_accuracy: 0.0218\n",
      "Epoch 200/200\n",
      "235/235 [==============================] - 3s 11ms/step - loss: 0.2868 - accuracy: 0.0211 - val_loss: 0.2864 - val_accuracy: 0.0217\n"
     ]
    }
   ],
   "source": [
    "hist = autoencoder.fit(x_train,\n",
    "                       x_train,\n",
    "                       epochs = 200,\n",
    "                       batch_size = 256,\n",
    "                       shuffle = True,\n",
    "                       validation_data = (x_train, x_train))"
   ]
  },
  {
   "cell_type": "markdown",
   "metadata": {},
   "source": [
    "## 5-Save Model and History"
   ]
  },
  {
   "cell_type": "code",
   "execution_count": 16,
   "metadata": {},
   "outputs": [],
   "source": [
    "autoencoder.save(\"demo.h5\")\n",
    "with open(\"demo.json\", \"w\") as f:\n",
    "    json.dump(hist.history, f)"
   ]
  },
  {
   "cell_type": "markdown",
   "metadata": {},
   "source": [
    "## 6-Load Model and History"
   ]
  },
  {
   "cell_type": "code",
   "execution_count": 17,
   "metadata": {},
   "outputs": [],
   "source": [
    "with codecs.open(\"demo.json\",\"r\", encoding = \"utf-8\") as f:\n",
    "    history1 = json.loads(f.read())\n",
    "model1 = load_model(\"demo.h5\")"
   ]
  },
  {
   "cell_type": "code",
   "execution_count": 18,
   "metadata": {},
   "outputs": [
    {
     "data": {
      "text/plain": [
       "dict_keys(['loss', 'accuracy', 'val_loss', 'val_accuracy'])"
      ]
     },
     "execution_count": 18,
     "metadata": {},
     "output_type": "execute_result"
    }
   ],
   "source": [
    "history1.keys()"
   ]
  },
  {
   "cell_type": "markdown",
   "metadata": {},
   "source": [
    "## 7-Evaluation Model"
   ]
  },
  {
   "cell_type": "code",
   "execution_count": 19,
   "metadata": {},
   "outputs": [
    {
     "data": {
      "image/png": "[encoded data removed]",
      "text/plain": [
       "<Figure size 1080x576 with 1 Axes>"
      ]
     },
     "metadata": {
      "needs_background": "light"
     },
     "output_type": "display_data"
    },
    {
     "data": {
      "image/png": "[encoded data removed]",
      "text/plain": [
       "<Figure size 1080x576 with 1 Axes>"
      ]
     },
     "metadata": {
      "needs_background": "light"
     },
     "output_type": "display_data"
    }
   ],
   "source": [
    "plt.figure(figsize = (15, 8))\n",
    "plt.plot(history1[\"loss\"], label = \"training loss\")\n",
    "plt.plot(history1[\"val_loss\"], label = \"validation loss\")\n",
    "plt.legend()\n",
    "plt.show()\n",
    "plt.figure(figsize = (15, 8))\n",
    "plt.plot(history1[\"accuracy\"], label = \"training acc\")\n",
    "plt.plot(history1[\"val_accuracy\"], label = \"validation acc\")\n",
    "plt.legend()\n",
    "plt.show()"
   ]
  },
  {
   "cell_type": "markdown",
   "metadata": {},
   "source": [
    "## 8-Test Data"
   ]
  },
  {
   "cell_type": "code",
   "execution_count": 117,
   "metadata": {},
   "outputs": [
    {
     "name": "stdout",
     "output_type": "stream",
     "text": [
      "Model: \"model\"\n",
      "_________________________________________________________________\n",
      " Layer (type)                Output Shape              Param #   \n",
      "=================================================================\n",
      " input_1 (InputLayer)        [(None, 784)]             0         \n",
      "                                                                 \n",
      " dense (Dense)               (None, 32)                25120     \n",
      "                                                                 \n",
      " dense_1 (Dense)             (None, 16)                528       \n",
      "                                                                 \n",
      " dense_2 (Dense)             (None, 32)                544       \n",
      "                                                                 \n",
      " dense_3 (Dense)             (None, 784)               25872     \n",
      "                                                                 \n",
      "=================================================================\n",
      "Total params: 52,064\n",
      "Trainable params: 52,064\n",
      "Non-trainable params: 0\n",
      "_________________________________________________________________\n"
     ]
    }
   ],
   "source": [
    "autoencoder.summary()"
   ]
  },
  {
   "cell_type": "code",
   "execution_count": 122,
   "metadata": {},
   "outputs": [],
   "source": [
    "encoder2 = Model(input_layer,encoded2)\n",
    "encoded_img2 = encoder2.predict(x_test)"
   ]
  },
  {
   "cell_type": "code",
   "execution_count": 123,
   "metadata": {},
   "outputs": [],
   "source": [
    "decoded_imgs = autoencoder.predict(x_test)"
   ]
  },
  {
   "cell_type": "code",
   "execution_count": 125,
   "metadata": {},
   "outputs": [],
   "source": [
    "%matplotlib qt5\n",
    "\n",
    "n = 10\n",
    "fig, axs = plt.subplots(3, 10, constrained_layout = True,figsize=(18,9), dpi=96) # 2x3 plots and fixed figure size. PLEASE DONT CHANGE THE SIZE :)\n",
    "fig.suptitle('Layerların Karşılaştırması')\n",
    "\n",
    "for i in range(n):\n",
    "\n",
    "    # display original\n",
    "    axs[0,4].set_title(\"Input Layer\")\n",
    "    axs[0][i].imshow(x_test[i].reshape(28, 28))\n",
    "    axs[0][i].axis(\"off\")\n",
    "\n",
    "    # display encoded2\n",
    "    axs[1,4].set_title(\"Second Encoded Layer\")\n",
    "    axs[1][i].imshow(encoded_img2[i].reshape(4, 4))\n",
    "    axs[1][i].axis(\"off\")\n",
    "\n",
    "    axs[2,4].set_title(\"Output Layer\")\n",
    "    axs[2][i].imshow(decoded_imgs[i].reshape(28, 28))\n",
    "    axs[2][i].axis(\"off\")\n",
    "    \n",
    "plt.savefig(\"sample_fig.png\") # isteğe bağlı kaydedilebilir.\n",
    "plt.show()"
   ]
  }
 ],
 "metadata": {
  "interpreter": {
   "hash": "74156147804e2a01f94a3790aedbb2aa695f9a428eee8a505618a6d74e6c12c0"
  },
  "kernelspec": {
   "display_name": "Python 3.9.12 ('base')",
   "language": "python",
   "name": "python3"
  },
  "language_info": {
   "codemirror_mode": {
    "name": "ipython",
    "version": 3
   },
   "file_extension": ".py",
   "mimetype": "text/x-python",
   "name": "python",
   "nbconvert_exporter": "python",
   "pygments_lexer": "ipython3",
   "version": "3.9.12"
  },
  "orig_nbformat": 4
 },
 "nbformat": 4,
 "nbformat_minor": 2
}
