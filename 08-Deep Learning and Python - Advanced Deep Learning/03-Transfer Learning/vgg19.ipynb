{
 "cells": [
  {
   "cell_type": "code",
   "execution_count": 1,
   "metadata": {},
   "outputs": [],
   "source": [
    "from keras.applications.vgg19 import VGG19\n",
    "from keras.models import Sequential\n",
    "from keras.utils.np_utils import to_categorical \n",
    "from keras.layers import Dense, Flatten\n",
    "from keras.datasets import cifar10 # 10 farklı class\n",
    "import matplotlib.pyplot as plt\n",
    "import cv2\n",
    "import numpy as np\n",
    "import json, codecs\n",
    "from keras.models import load_model"
   ]
  },
  {
   "cell_type": "markdown",
   "metadata": {},
   "source": [
    "# Transfer Learning'in Amacı Nedir?\n",
    "- TL'nin amacı, daha önce oluşturulmuş, öğrenilmiş, transfer edilmiş weight değerleri eğitilmiş bir modeli kullanarak, yalnızca outputunu ya da full connected layerını train ederek, import edilerek yapılan bir yöntemdir."
   ]
  },
  {
   "cell_type": "markdown",
   "metadata": {},
   "source": [
    "## 1-Read Data"
   ]
  },
  {
   "cell_type": "markdown",
   "metadata": {},
   "source": [
    "**cifar10** veriseti başarılı 0.5 oranlarında başarı oranı verecektir, bu yüzden epoch küçük tutulabilir. "
   ]
  },
  {
   "cell_type": "code",
   "execution_count": 2,
   "metadata": {},
   "outputs": [],
   "source": [
    "(x_train, y_train), (x_test, y_test) = cifar10.load_data()"
   ]
  },
  {
   "cell_type": "code",
   "execution_count": 3,
   "metadata": {},
   "outputs": [
    {
     "name": "stdout",
     "output_type": "stream",
     "text": [
      "x_train shape (50000, 32, 32, 3)\n",
      "train sample: 50000\n",
      "x_test shape (10000, 32, 32, 3)\n",
      "test sample: 10000\n"
     ]
    }
   ],
   "source": [
    "print(\"x_train shape\", x_train.shape)\n",
    "print(\"train sample:\", x_train.shape[0])\n",
    "print(\"x_test shape\", x_test.shape)\n",
    "print(\"test sample:\", x_test.shape[0])"
   ]
  },
  {
   "cell_type": "markdown",
   "metadata": {},
   "source": [
    "## 2-Preprocessing"
   ]
  },
  {
   "cell_type": "code",
   "execution_count": 4,
   "metadata": {},
   "outputs": [
    {
     "data": {
      "text/plain": [
       "array([0, 1, 2, 3, 4, 5, 6, 7, 8, 9], dtype=uint8)"
      ]
     },
     "execution_count": 4,
     "metadata": {},
     "output_type": "execute_result"
    }
   ],
   "source": [
    "np.unique(y_train)"
   ]
  },
  {
   "cell_type": "code",
   "execution_count": 5,
   "metadata": {},
   "outputs": [
    {
     "data": {
      "text/plain": [
       "10"
      ]
     },
     "execution_count": 5,
     "metadata": {},
     "output_type": "execute_result"
    }
   ],
   "source": [
    "numberOfClass = len(np.unique(y_train))\n",
    "numberOfClass"
   ]
  },
  {
   "cell_type": "markdown",
   "metadata": {},
   "source": [
    "### A) Convert to Categorical Target Class"
   ]
  },
  {
   "cell_type": "code",
   "execution_count": 6,
   "metadata": {},
   "outputs": [],
   "source": [
    "y_train = to_categorical(y_train, numberOfClass)\n",
    "y_test = to_categorical(y_test, numberOfClass)\n",
    "\n",
    "input_shape = x_train.shape[1:]"
   ]
  },
  {
   "cell_type": "code",
   "execution_count": 7,
   "metadata": {},
   "outputs": [
    {
     "data": {
      "image/png": "[encoded data removed]",
      "text/plain": [
       "<Figure size 432x288 with 1 Axes>"
      ]
     },
     "metadata": {
      "needs_background": "light"
     },
     "output_type": "display_data"
    }
   ],
   "source": [
    "# visualize\n",
    "plt.imshow(x_train[1].astype(np.uint8))\n",
    "plt.axis(\"off\")\n",
    "plt.show()"
   ]
  },
  {
   "cell_type": "markdown",
   "metadata": {},
   "source": [
    "### B) Increase Image Dimension\n",
    "#### NOTE\n",
    "- VGG19 modeli resimleri 48x48 boyutunda istediği için, 32x32'lik resimler 48x48 boyutlarına openCV ile dönüştürülür. \n",
    "- Aşağıda (i, :, :, :) => (i, 32, 32, 3) de yazabiliriz, hiçbir şey belirtmezsek ne varsa onu al demek.\n",
    "- (48, 48) => 48x48'e dönüştürülecek demek."
   ]
  },
  {
   "cell_type": "code",
   "execution_count": 8,
   "metadata": {},
   "outputs": [],
   "source": [
    "def resize_img(img):\n",
    "    numberOfImage = img.shape[0] # 50000 image for train\n",
    "    new_array = np.zeros((numberOfImage, 48, 48, 3))\n",
    "    for i in range(numberOfImage):\n",
    "        new_array[i] = cv2.resize(img[i, :, :, :],(48, 48))\n",
    "    return new_array"
   ]
  },
  {
   "cell_type": "code",
   "execution_count": 9,
   "metadata": {},
   "outputs": [
    {
     "name": "stdout",
     "output_type": "stream",
     "text": [
      "increased dimension of x_train: (50000, 48, 48, 3)\n",
      "increased dimension of x_test: (10000, 48, 48, 3)\n"
     ]
    }
   ],
   "source": [
    "x_train = resize_img(x_train)\n",
    "x_test = resize_img(x_test)\n",
    "print(\"increased dimension of x_train:\", x_train.shape)\n",
    "print(\"increased dimension of x_test:\", x_test.shape)"
   ]
  },
  {
   "cell_type": "code",
   "execution_count": 10,
   "metadata": {},
   "outputs": [
    {
     "data": {
      "image/png": "[encoded data removed]",
      "text/plain": [
       "<Figure size 432x288 with 1 Axes>"
      ]
     },
     "metadata": {
      "needs_background": "light"
     },
     "output_type": "display_data"
    }
   ],
   "source": [
    "# visualize\n",
    "plt.figure()\n",
    "plt.imshow(x_train[1].astype(np.uint8))\n",
    "plt.axis(\"off\")\n",
    "plt.show()"
   ]
  },
  {
   "cell_type": "markdown",
   "metadata": {},
   "source": [
    "## 3-Create VGG19 Model\n",
    "### A) Create vgg19 and custom model\n",
    "#### NOTE\n",
    "- This model consists of 19 layers(with output).\n",
    "- ```weights = \"imagenet\"``` kodunun anlamı: **VGG19**, bir **transfer learning** modeli olduğu için, bu model bir yerde eğitilmiş. \n",
    "- Weightlerin eğitildiği yer ise, **imagenet dataseti** olsun diye belirtiyoruz.\n",
    "- ```include_top = False``` => **full connected layerı(output)** eklememek için."
   ]
  },
  {
   "cell_type": "code",
   "execution_count": 11,
   "metadata": {},
   "outputs": [],
   "source": [
    "vgg = VGG19(include_top = False, weights = \"imagenet\", input_shape = (48, 48, 3))"
   ]
  },
  {
   "cell_type": "code",
   "execution_count": 12,
   "metadata": {},
   "outputs": [
    {
     "name": "stdout",
     "output_type": "stream",
     "text": [
      "Model: \"vgg19\"\n",
      "_________________________________________________________________\n",
      " Layer (type)                Output Shape              Param #   \n",
      "=================================================================\n",
      " input_1 (InputLayer)        [(None, 48, 48, 3)]       0         \n",
      "                                                                 \n",
      " block1_conv1 (Conv2D)       (None, 48, 48, 64)        1792      \n",
      "                                                                 \n",
      " block1_conv2 (Conv2D)       (None, 48, 48, 64)        36928     \n",
      "                                                                 \n",
      " block1_pool (MaxPooling2D)  (None, 24, 24, 64)        0         \n",
      "                                                                 \n",
      " block2_conv1 (Conv2D)       (None, 24, 24, 128)       73856     \n",
      "                                                                 \n",
      " block2_conv2 (Conv2D)       (None, 24, 24, 128)       147584    \n",
      "                                                                 \n",
      " block2_pool (MaxPooling2D)  (None, 12, 12, 128)       0         \n",
      "                                                                 \n",
      " block3_conv1 (Conv2D)       (None, 12, 12, 256)       295168    \n",
      "                                                                 \n",
      " block3_conv2 (Conv2D)       (None, 12, 12, 256)       590080    \n",
      "                                                                 \n",
      " block3_conv3 (Conv2D)       (None, 12, 12, 256)       590080    \n",
      "                                                                 \n",
      " block3_conv4 (Conv2D)       (None, 12, 12, 256)       590080    \n",
      "                                                                 \n",
      " block3_pool (MaxPooling2D)  (None, 6, 6, 256)         0         \n",
      "                                                                 \n",
      " block4_conv1 (Conv2D)       (None, 6, 6, 512)         1180160   \n",
      "                                                                 \n",
      " block4_conv2 (Conv2D)       (None, 6, 6, 512)         2359808   \n",
      "                                                                 \n",
      " block4_conv3 (Conv2D)       (None, 6, 6, 512)         2359808   \n",
      "                                                                 \n",
      " block4_conv4 (Conv2D)       (None, 6, 6, 512)         2359808   \n",
      "                                                                 \n",
      " block4_pool (MaxPooling2D)  (None, 3, 3, 512)         0         \n",
      "                                                                 \n",
      " block5_conv1 (Conv2D)       (None, 3, 3, 512)         2359808   \n",
      "                                                                 \n",
      " block5_conv2 (Conv2D)       (None, 3, 3, 512)         2359808   \n",
      "                                                                 \n",
      " block5_conv3 (Conv2D)       (None, 3, 3, 512)         2359808   \n",
      "                                                                 \n",
      " block5_conv4 (Conv2D)       (None, 3, 3, 512)         2359808   \n",
      "                                                                 \n",
      " block5_pool (MaxPooling2D)  (None, 1, 1, 512)         0         \n",
      "                                                                 \n",
      "=================================================================\n",
      "Total params: 20,024,384\n",
      "Trainable params: 20,024,384\n",
      "Non-trainable params: 0\n",
      "_________________________________________________________________\n"
     ]
    }
   ],
   "source": [
    "vgg.summary()"
   ]
  },
  {
   "cell_type": "code",
   "execution_count": 13,
   "metadata": {},
   "outputs": [
    {
     "data": {
      "text/plain": [
       "[<keras.engine.input_layer.InputLayer at 0x1b2516fbcd0>,\n",
       " <keras.layers.convolutional.Conv2D at 0x1b2444acca0>,\n",
       " <keras.layers.convolutional.Conv2D at 0x1b2444ff2e0>,\n",
       " <keras.layers.pooling.MaxPooling2D at 0x1b244570760>,\n",
       " <keras.layers.convolutional.Conv2D at 0x1b2445700d0>,\n",
       " <keras.layers.convolutional.Conv2D at 0x1b2445a4bb0>,\n",
       " <keras.layers.pooling.MaxPooling2D at 0x1b2445aa340>,\n",
       " <keras.layers.convolutional.Conv2D at 0x1b2445aac70>,\n",
       " <keras.layers.convolutional.Conv2D at 0x1b244638160>,\n",
       " <keras.layers.convolutional.Conv2D at 0x1b24463d130>,\n",
       " <keras.layers.convolutional.Conv2D at 0x1b24463df40>,\n",
       " <keras.layers.pooling.MaxPooling2D at 0x1b244645340>,\n",
       " <keras.layers.convolutional.Conv2D at 0x1b244645ac0>,\n",
       " <keras.layers.convolutional.Conv2D at 0x1b244645490>,\n",
       " <keras.layers.convolutional.Conv2D at 0x1b24464d640>,\n",
       " <keras.layers.convolutional.Conv2D at 0x1b2446552b0>,\n",
       " <keras.layers.pooling.MaxPooling2D at 0x1b24464dbe0>,\n",
       " <keras.layers.convolutional.Conv2D at 0x1b2446516a0>,\n",
       " <keras.layers.convolutional.Conv2D at 0x1b24465f940>,\n",
       " <keras.layers.convolutional.Conv2D at 0x1b24464dc10>,\n",
       " <keras.layers.convolutional.Conv2D at 0x1b244669160>,\n",
       " <keras.layers.pooling.MaxPooling2D at 0x1b24466fa60>]"
      ]
     },
     "execution_count": 13,
     "metadata": {},
     "output_type": "execute_result"
    }
   ],
   "source": [
    "vgg_layer_list = vgg.layers\n",
    "vgg_layer_list"
   ]
  },
  {
   "cell_type": "code",
   "execution_count": 14,
   "metadata": {},
   "outputs": [
    {
     "data": {
      "text/plain": [
       "22"
      ]
     },
     "execution_count": 14,
     "metadata": {},
     "output_type": "execute_result"
    }
   ],
   "source": [
    "len(vgg_layer_list)"
   ]
  },
  {
   "cell_type": "code",
   "execution_count": 15,
   "metadata": {},
   "outputs": [],
   "source": [
    "model = Sequential()\n",
    "for layer in vgg_layer_list:\n",
    "    model.add(layer)"
   ]
  },
  {
   "cell_type": "code",
   "execution_count": 16,
   "metadata": {},
   "outputs": [
    {
     "name": "stdout",
     "output_type": "stream",
     "text": [
      "Model: \"sequential\"\n",
      "_________________________________________________________________\n",
      " Layer (type)                Output Shape              Param #   \n",
      "=================================================================\n",
      " block1_conv1 (Conv2D)       (None, 48, 48, 64)        1792      \n",
      "                                                                 \n",
      " block1_conv2 (Conv2D)       (None, 48, 48, 64)        36928     \n",
      "                                                                 \n",
      " block1_pool (MaxPooling2D)  (None, 24, 24, 64)        0         \n",
      "                                                                 \n",
      " block2_conv1 (Conv2D)       (None, 24, 24, 128)       73856     \n",
      "                                                                 \n",
      " block2_conv2 (Conv2D)       (None, 24, 24, 128)       147584    \n",
      "                                                                 \n",
      " block2_pool (MaxPooling2D)  (None, 12, 12, 128)       0         \n",
      "                                                                 \n",
      " block3_conv1 (Conv2D)       (None, 12, 12, 256)       295168    \n",
      "                                                                 \n",
      " block3_conv2 (Conv2D)       (None, 12, 12, 256)       590080    \n",
      "                                                                 \n",
      " block3_conv3 (Conv2D)       (None, 12, 12, 256)       590080    \n",
      "                                                                 \n",
      " block3_conv4 (Conv2D)       (None, 12, 12, 256)       590080    \n",
      "                                                                 \n",
      " block3_pool (MaxPooling2D)  (None, 6, 6, 256)         0         \n",
      "                                                                 \n",
      " block4_conv1 (Conv2D)       (None, 6, 6, 512)         1180160   \n",
      "                                                                 \n",
      " block4_conv2 (Conv2D)       (None, 6, 6, 512)         2359808   \n",
      "                                                                 \n",
      " block4_conv3 (Conv2D)       (None, 6, 6, 512)         2359808   \n",
      "                                                                 \n",
      " block4_conv4 (Conv2D)       (None, 6, 6, 512)         2359808   \n",
      "                                                                 \n",
      " block4_pool (MaxPooling2D)  (None, 3, 3, 512)         0         \n",
      "                                                                 \n",
      " block5_conv1 (Conv2D)       (None, 3, 3, 512)         2359808   \n",
      "                                                                 \n",
      " block5_conv2 (Conv2D)       (None, 3, 3, 512)         2359808   \n",
      "                                                                 \n",
      " block5_conv3 (Conv2D)       (None, 3, 3, 512)         2359808   \n",
      "                                                                 \n",
      " block5_conv4 (Conv2D)       (None, 3, 3, 512)         2359808   \n",
      "                                                                 \n",
      " block5_pool (MaxPooling2D)  (None, 1, 1, 512)         0         \n",
      "                                                                 \n",
      "=================================================================\n",
      "Total params: 20,024,384\n",
      "Trainable params: 20,024,384\n",
      "Non-trainable params: 0\n",
      "_________________________________________________________________\n"
     ]
    }
   ],
   "source": [
    "model.summary()"
   ]
  },
  {
   "cell_type": "markdown",
   "metadata": {},
   "source": [
    "### B) Add Full Connected Layers to Model"
   ]
  },
  {
   "cell_type": "markdown",
   "metadata": {},
   "source": [
    "#### NOTE\n",
    "- Aşağıda modelin her bir layerı dolaşılır.\n",
    "- Her bir layer dolaşılırken **train edilmesin** özelliği seçilir.\n",
    "- Daha önceden **ImageNet** datası kullanılarak train edilmiş weightler kullanılacak.\n",
    "- Yalnızca en son eklenecek layerın weightleri train edilecek."
   ]
  },
  {
   "cell_type": "code",
   "execution_count": 17,
   "metadata": {},
   "outputs": [],
   "source": [
    "for layer in model.layers:\n",
    "    layer.trainable = False # full connected dışındakileri train etme sakın."
   ]
  },
  {
   "cell_type": "code",
   "execution_count": 18,
   "metadata": {},
   "outputs": [],
   "source": [
    "model.add(Flatten()) # 48x48\n",
    "model.add(Dense(128)) # 128 Neron\n",
    "model.add(Dense(numberOfClass, activation= \"softmax\")) # output=neron count=numberOfClass"
   ]
  },
  {
   "cell_type": "code",
   "execution_count": 19,
   "metadata": {},
   "outputs": [
    {
     "name": "stdout",
     "output_type": "stream",
     "text": [
      "Model: \"sequential\"\n",
      "_________________________________________________________________\n",
      " Layer (type)                Output Shape              Param #   \n",
      "=================================================================\n",
      " block1_conv1 (Conv2D)       (None, 48, 48, 64)        1792      \n",
      "                                                                 \n",
      " block1_conv2 (Conv2D)       (None, 48, 48, 64)        36928     \n",
      "                                                                 \n",
      " block1_pool (MaxPooling2D)  (None, 24, 24, 64)        0         \n",
      "                                                                 \n",
      " block2_conv1 (Conv2D)       (None, 24, 24, 128)       73856     \n",
      "                                                                 \n",
      " block2_conv2 (Conv2D)       (None, 24, 24, 128)       147584    \n",
      "                                                                 \n",
      " block2_pool (MaxPooling2D)  (None, 12, 12, 128)       0         \n",
      "                                                                 \n",
      " block3_conv1 (Conv2D)       (None, 12, 12, 256)       295168    \n",
      "                                                                 \n",
      " block3_conv2 (Conv2D)       (None, 12, 12, 256)       590080    \n",
      "                                                                 \n",
      " block3_conv3 (Conv2D)       (None, 12, 12, 256)       590080    \n",
      "                                                                 \n",
      " block3_conv4 (Conv2D)       (None, 12, 12, 256)       590080    \n",
      "                                                                 \n",
      " block3_pool (MaxPooling2D)  (None, 6, 6, 256)         0         \n",
      "                                                                 \n",
      " block4_conv1 (Conv2D)       (None, 6, 6, 512)         1180160   \n",
      "                                                                 \n",
      " block4_conv2 (Conv2D)       (None, 6, 6, 512)         2359808   \n",
      "                                                                 \n",
      " block4_conv3 (Conv2D)       (None, 6, 6, 512)         2359808   \n",
      "                                                                 \n",
      " block4_conv4 (Conv2D)       (None, 6, 6, 512)         2359808   \n",
      "                                                                 \n",
      " block4_pool (MaxPooling2D)  (None, 3, 3, 512)         0         \n",
      "                                                                 \n",
      " block5_conv1 (Conv2D)       (None, 3, 3, 512)         2359808   \n",
      "                                                                 \n",
      " block5_conv2 (Conv2D)       (None, 3, 3, 512)         2359808   \n",
      "                                                                 \n",
      " block5_conv3 (Conv2D)       (None, 3, 3, 512)         2359808   \n",
      "                                                                 \n",
      " block5_conv4 (Conv2D)       (None, 3, 3, 512)         2359808   \n",
      "                                                                 \n",
      " block5_pool (MaxPooling2D)  (None, 1, 1, 512)         0         \n",
      "                                                                 \n",
      " flatten (Flatten)           (None, 512)               0         \n",
      "                                                                 \n",
      " dense (Dense)               (None, 128)               65664     \n",
      "                                                                 \n",
      " dense_1 (Dense)             (None, 10)                1290      \n",
      "                                                                 \n",
      "=================================================================\n",
      "Total params: 20,091,338\n",
      "Trainable params: 66,954\n",
      "Non-trainable params: 20,024,384\n",
      "_________________________________________________________________\n"
     ]
    }
   ],
   "source": [
    "model.summary()"
   ]
  },
  {
   "cell_type": "markdown",
   "metadata": {},
   "source": [
    "### C) Compile Model"
   ]
  },
  {
   "cell_type": "code",
   "execution_count": 20,
   "metadata": {},
   "outputs": [],
   "source": [
    "model.compile(loss = \"categorical_crossentropy\",\n",
    "              optimizer = \"rmsprop\",\n",
    "              metrics = [\"accuracy\"])"
   ]
  },
  {
   "cell_type": "markdown",
   "metadata": {},
   "source": [
    "## 3-Train Data"
   ]
  },
  {
   "cell_type": "markdown",
   "metadata": {},
   "source": [
    "### NOTE\n",
    "- ```validation_split = 0.2``` Model train edilirken, validation verisi de çıkartılıyor.\n",
    "- Bu validation datasetini x_train ve y_train içerisinden %20 olacak şekilde kendisi çıkartıyor."
   ]
  },
  {
   "cell_type": "code",
   "execution_count": 21,
   "metadata": {},
   "outputs": [
    {
     "name": "stdout",
     "output_type": "stream",
     "text": [
      "Epoch 1/25\n",
      "10/10 [==============================] - 567s 58s/step - loss: 15.2457 - accuracy: 0.2828 - val_loss: 8.7390 - val_accuracy: 0.4003\n",
      "Epoch 2/25\n",
      "10/10 [==============================] - 542s 55s/step - loss: 7.6993 - accuracy: 0.4188 - val_loss: 6.6759 - val_accuracy: 0.4405\n",
      "Epoch 3/25\n",
      "10/10 [==============================] - 570s 58s/step - loss: 6.2419 - accuracy: 0.4569 - val_loss: 6.0387 - val_accuracy: 0.4782\n",
      "Epoch 4/25\n",
      "10/10 [==============================] - 543s 55s/step - loss: 5.6680 - accuracy: 0.4677 - val_loss: 4.7353 - val_accuracy: 0.4974\n",
      "Epoch 5/25\n",
      "10/10 [==============================] - 519s 53s/step - loss: 4.6112 - accuracy: 0.4994 - val_loss: 4.8256 - val_accuracy: 0.4871\n",
      "Epoch 6/25\n",
      "10/10 [==============================] - 518s 53s/step - loss: 4.3800 - accuracy: 0.5021 - val_loss: 6.0589 - val_accuracy: 0.4781\n",
      "Epoch 7/25\n",
      "10/10 [==============================] - 539s 55s/step - loss: 4.3157 - accuracy: 0.5093 - val_loss: 3.9392 - val_accuracy: 0.4804\n",
      "Epoch 8/25\n",
      "10/10 [==============================] - 538s 55s/step - loss: 3.8575 - accuracy: 0.5116 - val_loss: 4.5536 - val_accuracy: 0.4871\n",
      "Epoch 9/25\n",
      "10/10 [==============================] - 543s 55s/step - loss: 3.7772 - accuracy: 0.5078 - val_loss: 4.9985 - val_accuracy: 0.5207\n",
      "Epoch 10/25\n",
      "10/10 [==============================] - 543s 55s/step - loss: 3.5334 - accuracy: 0.5257 - val_loss: 4.5717 - val_accuracy: 0.4634\n",
      "Epoch 11/25\n",
      "10/10 [==============================] - 537s 55s/step - loss: 3.6310 - accuracy: 0.5215 - val_loss: 3.1239 - val_accuracy: 0.5151\n",
      "Epoch 12/25\n",
      "10/10 [==============================] - 534s 54s/step - loss: 3.1306 - accuracy: 0.5310 - val_loss: 3.7422 - val_accuracy: 0.4809\n",
      "Epoch 13/25\n",
      "10/10 [==============================] - 535s 55s/step - loss: 3.1279 - accuracy: 0.5280 - val_loss: 3.8488 - val_accuracy: 0.5009\n",
      "Epoch 14/25\n",
      "10/10 [==============================] - 535s 55s/step - loss: 3.3861 - accuracy: 0.5165 - val_loss: 3.8692 - val_accuracy: 0.4446\n",
      "Epoch 15/25\n",
      "10/10 [==============================] - 540s 55s/step - loss: 3.1258 - accuracy: 0.5304 - val_loss: 2.3907 - val_accuracy: 0.5469\n",
      "Epoch 16/25\n",
      "10/10 [==============================] - 538s 55s/step - loss: 2.8324 - accuracy: 0.5353 - val_loss: 4.0113 - val_accuracy: 0.4842\n",
      "Epoch 17/25\n",
      "10/10 [==============================] - 534s 54s/step - loss: 3.2652 - accuracy: 0.5206 - val_loss: 3.6395 - val_accuracy: 0.5206\n",
      "Epoch 18/25\n",
      "10/10 [==============================] - 536s 55s/step - loss: 2.9135 - accuracy: 0.5331 - val_loss: 3.0009 - val_accuracy: 0.4893\n",
      "Epoch 19/25\n",
      "10/10 [==============================] - 534s 55s/step - loss: 2.9314 - accuracy: 0.5282 - val_loss: 3.0325 - val_accuracy: 0.5051\n",
      "Epoch 20/25\n",
      "10/10 [==============================] - 536s 55s/step - loss: 2.8916 - accuracy: 0.5274 - val_loss: 3.4644 - val_accuracy: 0.5080\n",
      "Epoch 21/25\n",
      "10/10 [==============================] - 534s 54s/step - loss: 2.7664 - accuracy: 0.5310 - val_loss: 2.9459 - val_accuracy: 0.5292\n",
      "Epoch 22/25\n",
      "10/10 [==============================] - 538s 55s/step - loss: 2.8652 - accuracy: 0.5271 - val_loss: 2.9542 - val_accuracy: 0.5067\n",
      "Epoch 23/25\n",
      "10/10 [==============================] - 537s 55s/step - loss: 2.6371 - accuracy: 0.5360 - val_loss: 3.4757 - val_accuracy: 0.4876\n",
      "Epoch 24/25\n",
      "10/10 [==============================] - 535s 55s/step - loss: 2.7445 - accuracy: 0.5261 - val_loss: 2.8704 - val_accuracy: 0.5301\n",
      "Epoch 25/25\n",
      "10/10 [==============================] - 536s 55s/step - loss: 2.7064 - accuracy: 0.5325 - val_loss: 3.0397 - val_accuracy: 0.5052\n"
     ]
    }
   ],
   "source": [
    "hist = model.fit(x_train, y_train, validation_split = 0.2, epochs = 25, batch_size = 4096)"
   ]
  },
  {
   "cell_type": "markdown",
   "metadata": {},
   "source": [
    "## 4-Save Model and History"
   ]
  },
  {
   "cell_type": "code",
   "execution_count": 22,
   "metadata": {},
   "outputs": [],
   "source": [
    "model.save(\"vgg19_demo.h5\")\n",
    "with open(\"vgg19_demo.json\", \"w\") as f:\n",
    "    json.dump(hist.history, f)"
   ]
  },
  {
   "cell_type": "markdown",
   "metadata": {},
   "source": [
    "## 5-Load Model and History"
   ]
  },
  {
   "cell_type": "code",
   "execution_count": 23,
   "metadata": {},
   "outputs": [],
   "source": [
    "with codecs.open(\"vgg19_demo.json\",\"r\", encoding = \"utf-8\") as f:\n",
    "    history1 = json.loads(f.read())\n",
    "model1 = load_model(\"vgg19_demo.h5\")"
   ]
  },
  {
   "cell_type": "code",
   "execution_count": 24,
   "metadata": {},
   "outputs": [
    {
     "data": {
      "text/plain": [
       "dict_keys(['loss', 'accuracy', 'val_loss', 'val_accuracy'])"
      ]
     },
     "execution_count": 24,
     "metadata": {},
     "output_type": "execute_result"
    }
   ],
   "source": [
    "history1.keys()"
   ]
  },
  {
   "cell_type": "markdown",
   "metadata": {},
   "source": [
    "## 6-Evaluation Model"
   ]
  },
  {
   "cell_type": "code",
   "execution_count": 25,
   "metadata": {},
   "outputs": [
    {
     "data": {
      "image/png": "[encoded data removed]",
      "text/plain": [
       "<Figure size 1080x576 with 1 Axes>"
      ]
     },
     "metadata": {
      "needs_background": "light"
     },
     "output_type": "display_data"
    },
    {
     "data": {
      "image/png": "[encoded data removed]",
      "text/plain": [
       "<Figure size 1080x576 with 1 Axes>"
      ]
     },
     "metadata": {
      "needs_background": "light"
     },
     "output_type": "display_data"
    }
   ],
   "source": [
    "plt.figure(figsize = (15, 8))\n",
    "plt.plot(history1[\"loss\"], label = \"training loss\")\n",
    "plt.plot(history1[\"val_loss\"], label = \"validation loss\")\n",
    "plt.legend()\n",
    "plt.show()\n",
    "plt.figure(figsize = (15, 8))\n",
    "plt.plot(history1[\"accuracy\"], label = \"training acc\")\n",
    "plt.plot(history1[\"val_accuracy\"], label = \"validation acc\")\n",
    "plt.legend()\n",
    "plt.show()"
   ]
  }
 ],
 "metadata": {
  "interpreter": {
   "hash": "74156147804e2a01f94a3790aedbb2aa695f9a428eee8a505618a6d74e6c12c0"
  },
  "kernelspec": {
   "display_name": "Python 3.9.7 ('base')",
   "language": "python",
   "name": "python3"
  },
  "language_info": {
   "codemirror_mode": {
    "name": "ipython",
    "version": 3
   },
   "file_extension": ".py",
   "mimetype": "text/x-python",
   "name": "python",
   "nbconvert_exporter": "python",
   "pygments_lexer": "ipython3",
   "version": "3.9.12"
  },
  "orig_nbformat": 4
 },
 "nbformat": 4,
 "nbformat_minor": 2
}
