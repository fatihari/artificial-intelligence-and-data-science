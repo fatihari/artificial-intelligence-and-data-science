{
 "cells": [
  {
   "cell_type": "markdown",
   "metadata": {},
   "source": [
    "# Nedir bu GANs ?\n",
    "* Eğitim setiyle aynı istatistiklere sahip, gerçeğinden ayırt edilemez yeni veriler üreten yapılardır.\n",
    "\n",
    "* GANs içerisinde 2 network vardır:\n",
    "  * **Generator**(Üretici ağ)         => Resimleri başlangıçta saçma sapan üreten, zamanla gerçek haline benzetmeye çalışan, yeni veri üreten yapı. (**Kalpazan**)\n",
    "  * **Discriminator**(Ayırt edici ağ) => Classifier görevi var. Üretilen data gerçek mi değil mi diye sorgulayacak. (**Dedektif**)\n",
    "* Zamanla Generator o kadar güzel resimler üretecek ki Discriminator fake mi gerçek mi anlayamayacak, Discriminator'u kandırmaya başlayacak! :)\n",
    "* <img src=\"img/gans.png\">\n",
    "* <img src=\"img/gans2.png\">\n",
    "* <img src=\"img/gans3.png\">\n",
    "* <img src=\"img/gans4.png\">"
   ]
  },
  {
   "cell_type": "markdown",
   "metadata": {},
   "source": [
    "## Sample Articles\n",
    "- https://arxiv.org/pdf/1708.05509.pdf\n",
    "- https://arxiv.org/pdf/1609.04802.pdf\n",
    "- https://arxiv.org/pdf/1704.04086.pdf\n",
    "- https://github.com/pathak22/context-encoder\n",
    "- https://github.com/hanzhanggit/StackGAN"
   ]
  },
  {
   "cell_type": "code",
   "execution_count": 1,
   "metadata": {},
   "outputs": [],
   "source": [
    "from keras.layers import Dense, Dropout, Input, ReLU\n",
    "from keras.models import Model, Sequential\n",
    "from tensorflow.keras.optimizers import Adam\n",
    "from keras.datasets import mnist\n",
    "import numpy as np\n",
    "import matplotlib.pyplot as plt\n",
    "from keras.models import load_model"
   ]
  },
  {
   "cell_type": "markdown",
   "metadata": {},
   "source": [
    "## 1-Read Data and Preprocessing"
   ]
  },
  {
   "cell_type": "code",
   "execution_count": 2,
   "metadata": {},
   "outputs": [],
   "source": [
    "(x_train, y_train), (x_test, y_test) = mnist.load_data()"
   ]
  },
  {
   "cell_type": "code",
   "execution_count": 3,
   "metadata": {},
   "outputs": [
    {
     "data": {
      "text/plain": [
       "(60000, 28, 28)"
      ]
     },
     "execution_count": 3,
     "metadata": {},
     "output_type": "execute_result"
    }
   ],
   "source": [
    "# convert (-1,1) normalization\n",
    "x_train = (x_train.astype(np.float32)-127.5)/127.5\n",
    "x_train.shape"
   ]
  },
  {
   "cell_type": "code",
   "execution_count": 4,
   "metadata": {},
   "outputs": [
    {
     "data": {
      "text/plain": [
       "(60000, 784)"
      ]
     },
     "execution_count": 4,
     "metadata": {},
     "output_type": "execute_result"
    }
   ],
   "source": [
    "x_train = x_train.reshape(x_train.shape[0], x_train.shape[1] * x_train.shape[2])\n",
    "x_train.shape"
   ]
  },
  {
   "cell_type": "code",
   "execution_count": 5,
   "metadata": {},
   "outputs": [
    {
     "data": {
      "image/png": "[encoded data removed]",
      "text/plain": [
       "<Figure size 432x288 with 1 Axes>"
      ]
     },
     "metadata": {
      "needs_background": "light"
     },
     "output_type": "display_data"
    }
   ],
   "source": [
    "plt.imshow(x_test[1])\n",
    "plt.axis(\"Off\")\n",
    "plt.show()"
   ]
  },
  {
   "cell_type": "markdown",
   "metadata": {},
   "source": [
    "## 2-Create and Compile Generator Model\n",
    "<img src=\"img/generator.png\">"
   ]
  },
  {
   "cell_type": "code",
   "execution_count": 6,
   "metadata": {},
   "outputs": [],
   "source": [
    "def create_generator():\n",
    "    generator = Sequential()\n",
    "\n",
    "    generator.add(Dense(units = 512, input_dim = 100))\n",
    "    generator.add(ReLU())\n",
    "    \n",
    "    generator.add(Dense(units = 512))\n",
    "    generator.add(ReLU())\n",
    "    \n",
    "    generator.add(Dense(units = 1024))\n",
    "    generator.add(ReLU())\n",
    "    \n",
    "    generator.add(Dense(units = 784, activation = \"tanh\"))\n",
    "    \n",
    "    # 2 output olduğu için binary\n",
    "    generator.compile(loss = \"binary_crossentropy\", optimizer = Adam(learning_rate = 0.0001, beta_1 = 0.5))\n",
    "    return generator"
   ]
  },
  {
   "cell_type": "code",
   "execution_count": 7,
   "metadata": {},
   "outputs": [
    {
     "name": "stdout",
     "output_type": "stream",
     "text": [
      "Model: \"sequential\"\n",
      "_________________________________________________________________\n",
      " Layer (type)                Output Shape              Param #   \n",
      "=================================================================\n",
      " dense (Dense)               (None, 512)               51712     \n",
      "                                                                 \n",
      " re_lu (ReLU)                (None, 512)               0         \n",
      "                                                                 \n",
      " dense_1 (Dense)             (None, 512)               262656    \n",
      "                                                                 \n",
      " re_lu_1 (ReLU)              (None, 512)               0         \n",
      "                                                                 \n",
      " dense_2 (Dense)             (None, 1024)              525312    \n",
      "                                                                 \n",
      " re_lu_2 (ReLU)              (None, 1024)              0         \n",
      "                                                                 \n",
      " dense_3 (Dense)             (None, 784)               803600    \n",
      "                                                                 \n",
      "=================================================================\n",
      "Total params: 1,643,280\n",
      "Trainable params: 1,643,280\n",
      "Non-trainable params: 0\n",
      "_________________________________________________________________\n"
     ]
    }
   ],
   "source": [
    "g = create_generator()\n",
    "g.summary()  "
   ]
  },
  {
   "cell_type": "markdown",
   "metadata": {},
   "source": [
    "## 3-Create and Compile Discriminator Model\n",
    "<img src=\"img/discriminator.png\">"
   ]
  },
  {
   "cell_type": "code",
   "execution_count": 8,
   "metadata": {},
   "outputs": [],
   "source": [
    "def create_discriminator():\n",
    "    discriminator = Sequential()\n",
    "\n",
    "    discriminator.add(Dense(units=1024, input_dim = 784))\n",
    "    discriminator.add(ReLU())\n",
    "    discriminator.add(Dropout(0.4))\n",
    "    \n",
    "    discriminator.add(Dense(units=512))\n",
    "    discriminator.add(ReLU())\n",
    "    discriminator.add(Dropout(0.4))\n",
    "    \n",
    "    discriminator.add(Dense(units=256))\n",
    "    discriminator.add(ReLU())\n",
    "    \n",
    "    discriminator.add(Dense(units=1, activation = \"sigmoid\")) # 1 neron=output\n",
    "    \n",
    "    # beta_1=1. an tahminleri için üstel bozulma oranı. default=0,9\n",
    "    discriminator.compile(loss = \"binary_crossentropy\",\n",
    "                          optimizer= Adam(learning_rate = 0.0001, beta_1 = 0.5))\n",
    "    return discriminator"
   ]
  },
  {
   "cell_type": "code",
   "execution_count": 9,
   "metadata": {},
   "outputs": [
    {
     "name": "stdout",
     "output_type": "stream",
     "text": [
      "Model: \"sequential_1\"\n",
      "_________________________________________________________________\n",
      " Layer (type)                Output Shape              Param #   \n",
      "=================================================================\n",
      " dense_4 (Dense)             (None, 1024)              803840    \n",
      "                                                                 \n",
      " re_lu_3 (ReLU)              (None, 1024)              0         \n",
      "                                                                 \n",
      " dropout (Dropout)           (None, 1024)              0         \n",
      "                                                                 \n",
      " dense_5 (Dense)             (None, 512)               524800    \n",
      "                                                                 \n",
      " re_lu_4 (ReLU)              (None, 512)               0         \n",
      "                                                                 \n",
      " dropout_1 (Dropout)         (None, 512)               0         \n",
      "                                                                 \n",
      " dense_6 (Dense)             (None, 256)               131328    \n",
      "                                                                 \n",
      " re_lu_5 (ReLU)              (None, 256)               0         \n",
      "                                                                 \n",
      " dense_7 (Dense)             (None, 1)                 257       \n",
      "                                                                 \n",
      "=================================================================\n",
      "Total params: 1,460,225\n",
      "Trainable params: 1,460,225\n",
      "Non-trainable params: 0\n",
      "_________________________________________________________________\n"
     ]
    }
   ],
   "source": [
    "d = create_discriminator()\n",
    "d.summary()"
   ]
  },
  {
   "cell_type": "markdown",
   "metadata": {},
   "source": [
    "## 4-Create and Compile GANs Model\n",
    "<img src=\"img/gans5.png\">"
   ]
  },
  {
   "cell_type": "code",
   "execution_count": 10,
   "metadata": {},
   "outputs": [],
   "source": [
    "def create_gan(discriminator, generator):\n",
    "    discriminator.trainable = False # generatorun zamanla doğru resimler üretebilmesi için, d'nin train edilemez olması gerek.\n",
    "    \n",
    "    gan_input = Input(shape=(100,))\n",
    "    \n",
    "    # x = generatorun outputu\n",
    "    x = generator(gan_input) \n",
    "\n",
    "    # generatorun outputu, discriminatorun inputudur.\n",
    "    gan_output = discriminator(x)\n",
    "    \n",
    "    gan = Model(inputs = gan_input, outputs = gan_output)\n",
    "    \n",
    "    gan.compile(loss = \"binary_crossentropy\", optimizer=\"adam\")\n",
    "    return gan"
   ]
  },
  {
   "cell_type": "code",
   "execution_count": 11,
   "metadata": {},
   "outputs": [
    {
     "name": "stdout",
     "output_type": "stream",
     "text": [
      "Model: \"model\"\n",
      "_________________________________________________________________\n",
      " Layer (type)                Output Shape              Param #   \n",
      "=================================================================\n",
      " input_1 (InputLayer)        [(None, 100)]             0         \n",
      "                                                                 \n",
      " sequential (Sequential)     (None, 784)               1643280   \n",
      "                                                                 \n",
      " sequential_1 (Sequential)   (None, 1)                 1460225   \n",
      "                                                                 \n",
      "=================================================================\n",
      "Total params: 3,103,505\n",
      "Trainable params: 1,643,280\n",
      "Non-trainable params: 1,460,225\n",
      "_________________________________________________________________\n"
     ]
    }
   ],
   "source": [
    "gan = create_gan(d,g)\n",
    "gan.summary()"
   ]
  },
  {
   "cell_type": "markdown",
   "metadata": {},
   "source": [
    "## 5-Train Data\n",
    "<img src=\"img/train.png\">"
   ]
  },
  {
   "cell_type": "code",
   "execution_count": 12,
   "metadata": {},
   "outputs": [],
   "source": [
    "epochs = 50\n",
    "batch_size = 256"
   ]
  },
  {
   "cell_type": "code",
   "execution_count": 13,
   "metadata": {},
   "outputs": [
    {
     "name": "stdout",
     "output_type": "stream",
     "text": [
      "epochs:  0\n",
      "epochs:  1\n",
      "epochs:  2\n",
      "epochs:  3\n",
      "epochs:  4\n",
      "epochs:  5\n",
      "epochs:  6\n",
      "epochs:  7\n",
      "epochs:  8\n",
      "epochs:  9\n",
      "epochs:  10\n",
      "epochs:  11\n",
      "epochs:  12\n",
      "epochs:  13\n",
      "epochs:  14\n",
      "epochs:  15\n",
      "epochs:  16\n",
      "epochs:  17\n",
      "epochs:  18\n",
      "epochs:  19\n",
      "epochs:  20\n",
      "epochs:  21\n",
      "epochs:  22\n",
      "epochs:  23\n",
      "epochs:  24\n",
      "epochs:  25\n",
      "epochs:  26\n",
      "epochs:  27\n",
      "epochs:  28\n",
      "epochs:  29\n",
      "epochs:  30\n",
      "epochs:  31\n",
      "epochs:  32\n",
      "epochs:  33\n",
      "epochs:  34\n",
      "epochs:  35\n",
      "epochs:  36\n",
      "epochs:  37\n",
      "epochs:  38\n",
      "epochs:  39\n",
      "epochs:  40\n",
      "epochs:  41\n",
      "epochs:  42\n",
      "epochs:  43\n",
      "epochs:  44\n",
      "epochs:  45\n",
      "epochs:  46\n",
      "epochs:  47\n",
      "epochs:  48\n",
      "epochs:  49\n"
     ]
    }
   ],
   "source": [
    "for e in range(epochs):\n",
    "    for _ in range(batch_size):\n",
    "        \n",
    "        noise = np.random.normal(0,1, [batch_size,100])\n",
    "        \n",
    "        generated_images = g.predict(noise)\n",
    "        \n",
    "        # x_train'in ilk ve son indexi arasında random batch size kadar resim seçer.\n",
    "        image_batch = x_train[np.random.randint(low = 0, high = x_train.shape[0], size = batch_size)]\n",
    "        \n",
    "        # ilk 256 tanesi => gercek, son 256 tanesi => fake imageler olacak şekilde merge edilir.\n",
    "        x = np.concatenate([image_batch, generated_images])\n",
    "        \n",
    "        # d'leri eğitmek için gerekli olan resimlerin labellarına(y) ihtiyaç var.\n",
    "        y_dis = np.zeros(batch_size * 2) # 512 tane 0 oluşturur. (son 256 tanesi 0)\n",
    "        y_dis[:batch_size] = 1 # ilk 256 tanesini 1 olarak güncellenir\n",
    "        \n",
    "        d.trainable = True # Artık eğitime başladık.\n",
    "        d.train_on_batch(x, y_dis) # input olarak bu parametreler verilir.\n",
    "\n",
    "        ######################## TRAIN GENERATOR ########################\n",
    "\n",
    "        noise = np.random.normal(0, 1, [batch_size, 100]) # 0-1 arasında 256x100 lük bir noise oluşturulur.\n",
    "        \n",
    "        y_gen = np.ones(batch_size) # generator resimlerin gerçek resim olduğunu iddia ediyor, o yüzden 1'le doldurulur! :)\n",
    "        \n",
    "        d.trainable = False # artık generator eğitilecek.\n",
    "        \n",
    "        gan.train_on_batch(noise, y_gen) # input olarak bu parametreler verilir.\n",
    "    print(\"epochs: \", e)\n",
    "    \n",
    "g.save('demo.h5')  # always save your weights after training or during training"
   ]
  },
  {
   "cell_type": "markdown",
   "metadata": {},
   "source": [
    "## 6-Load Model"
   ]
  },
  {
   "cell_type": "code",
   "execution_count": 15,
   "metadata": {},
   "outputs": [],
   "source": [
    "model1 = load_model(\"demo.h5\")"
   ]
  },
  {
   "cell_type": "markdown",
   "metadata": {},
   "source": [
    "## 7-Visualiza Data"
   ]
  },
  {
   "cell_type": "code",
   "execution_count": 16,
   "metadata": {},
   "outputs": [
    {
     "data": {
      "text/plain": [
       "array([[ 1.64509782, -0.35197548,  0.84913277, ...,  0.50153618,\n",
       "         1.08220526, -3.28160216],\n",
       "       [ 0.74994833, -0.23390685,  0.39053153, ...,  1.02768636,\n",
       "        -0.83149205, -1.95445166],\n",
       "       [-1.21841654, -0.81404729,  0.39729674, ..., -0.31197976,\n",
       "         0.96442003,  0.34890993],\n",
       "       ...,\n",
       "       [-2.24545785,  0.55092833,  0.07647887, ...,  1.35136571,\n",
       "        -1.5346627 ,  0.56883921],\n",
       "       [-0.04048832,  1.83652184,  1.17422021, ...,  1.51133025,\n",
       "        -0.66080862,  0.01275371],\n",
       "       [-0.63695126,  1.07570348, -0.24085974, ...,  0.95549412,\n",
       "         0.04997536,  0.35381645]])"
      ]
     },
     "execution_count": 16,
     "metadata": {},
     "output_type": "execute_result"
    }
   ],
   "source": [
    "noise = np.random.normal(loc=0, scale=1, size=[100, 100])\n",
    "noise"
   ]
  },
  {
   "cell_type": "markdown",
   "metadata": {},
   "source": [
    "- Aşağıdaki plotlarda yalnızca 50 epoch ile gerçeğe çok yakın resimler elde edilmiş olduk."
   ]
  },
  {
   "cell_type": "code",
   "execution_count": 21,
   "metadata": {},
   "outputs": [
    {
     "data": {
      "image/png": "[encoded data removed]",
      "text/plain": [
       "<Figure size 432x288 with 1 Axes>"
      ]
     },
     "metadata": {
      "needs_background": "light"
     },
     "output_type": "display_data"
    }
   ],
   "source": [
    "generated_images = g.predict(noise)\n",
    "generated_images = generated_images.reshape(100, 28, 28)\n",
    "plt.imshow(generated_images[0], interpolation='nearest')\n",
    "plt.axis('off')\n",
    "plt.show() "
   ]
  },
  {
   "cell_type": "code",
   "execution_count": null,
   "metadata": {},
   "outputs": [],
   "source": []
  }
 ],
 "metadata": {
  "interpreter": {
   "hash": "74156147804e2a01f94a3790aedbb2aa695f9a428eee8a505618a6d74e6c12c0"
  },
  "kernelspec": {
   "display_name": "Python 3.9.12 ('base')",
   "language": "python",
   "name": "python3"
  },
  "language_info": {
   "codemirror_mode": {
    "name": "ipython",
    "version": 3
   },
   "file_extension": ".py",
   "mimetype": "text/x-python",
   "name": "python",
   "nbconvert_exporter": "python",
   "pygments_lexer": "ipython3",
   "version": "3.9.12"
  },
  "orig_nbformat": 4
 },
 "nbformat": 4,
 "nbformat_minor": 2
}
