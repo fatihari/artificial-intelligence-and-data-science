{
 "cells": [
  {
   "cell_type": "code",
   "execution_count": 2,
   "metadata": {},
   "outputs": [],
   "source": [
    "import torch\n",
    "import torch.nn as nn # neural network yapısı\n",
    "import torch.nn.functional as F # activation functions: relu, sigmoid etc.\n",
    "from PIL import Image # python image lib for preprocessing\n",
    "import matplotlib.pyplot as plt\n",
    "import numpy as np\n",
    "import os # retrive images from folder\n",
    "import time # calculate for algorithm running time"
   ]
  },
  {
   "cell_type": "markdown",
   "metadata": {},
   "source": [
    "### NOTE\n",
    "* Kodu CPU yerine GPU'da daha hızlı çalıştırmak için cuda indirilebiliriz. \n",
    "* Aşağıdaki kod satırı çalıştırılarak, **cpu** mu **gpu** mu varsayılan aygıt onu gösterir.\n",
    "* Bunun için **cuda** yı internetten indirmek gerekir.\n",
    "* Bu proje için **cuda** gerekli değil."
   ]
  },
  {
   "cell_type": "code",
   "execution_count": 3,
   "metadata": {},
   "outputs": [
    {
     "name": "stdout",
     "output_type": "stream",
     "text": [
      "Device:  cpu\n"
     ]
    }
   ],
   "source": [
    "#%% device configuration OPTIONAL method: DEFAULT CPU but there is also GPU.\n",
    "device = torch.device(\"cuda:0\" if torch.cuda.is_available() else \"cpu\")\n",
    "print(\"Device: \", device)"
   ]
  },
  {
   "cell_type": "markdown",
   "metadata": {},
   "source": [
    "## 1-Read Dataset"
   ]
  },
  {
   "cell_type": "code",
   "execution_count": null,
   "metadata": {},
   "outputs": [],
   "source": [
    "def read_images(path, num_img):\n",
    "    array = np.zeros([num_img, 64*32]) # A 64x32 array containing *num_img* data is created, consisting of only 0's. \n",
    "    i = 0\n",
    "    for img in os.listdir(path):\n",
    "        img_path = path + \"\\\\\" + img\n",
    "        img = Image.open(img_path, mode = \"r\")\n",
    "        data = np.asarray(img, dtype = \"uint8\")\n",
    "        data = data.flatten()\n",
    "        array[i,:] = data\n",
    "        i += 1\n",
    "    return array"
   ]
  }
 ],
 "metadata": {
  "interpreter": {
   "hash": "74156147804e2a01f94a3790aedbb2aa695f9a428eee8a505618a6d74e6c12c0"
  },
  "kernelspec": {
   "display_name": "Python 3.9.7 ('base')",
   "language": "python",
   "name": "python3"
  },
  "language_info": {
   "codemirror_mode": {
    "name": "ipython",
    "version": 3
   },
   "file_extension": ".py",
   "mimetype": "text/x-python",
   "name": "python",
   "nbconvert_exporter": "python",
   "pygments_lexer": "ipython3",
   "version": "3.9.7"
  },
  "orig_nbformat": 4
 },
 "nbformat": 4,
 "nbformat_minor": 2
}
