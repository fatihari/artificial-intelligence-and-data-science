{
 "cells": [
  {
   "cell_type": "code",
   "execution_count": 1,
   "metadata": {},
   "outputs": [],
   "source": [
    "import torch\n",
    "import torch.nn as nn # neural network yapısı\n",
    "import torch.nn.functional as F # activation functions: relu, sigmoid etc.\n",
    "import torch.utils.data as dt\n",
    "import torch.optim as optim\n",
    "from PIL import Image # python image lib for preprocessing\n",
    "import matplotlib.pyplot as plt\n",
    "import numpy as np\n",
    "import os # retrive images from folder\n",
    "import time # calculate for algorithm running time\n",
    "# os.environ['KMP_DUPLICATE_LIB_OK']='True'"
   ]
  },
  {
   "cell_type": "markdown",
   "metadata": {},
   "source": [
    "### NOTE\n",
    "* Kodu CPU yerine GPU'da daha hızlı çalıştırmak için cuda indirilebiliriz. \n",
    "* Aşağıdaki kod satırı çalıştırılarak, **cpu** mu **gpu** mu varsayılan aygıt onu gösterir.\n",
    "* Bunun için **cuda** yı internetten indirmek gerekir.\n",
    "* Bu proje için **cuda** gerekli değil."
   ]
  },
  {
   "cell_type": "code",
   "execution_count": 2,
   "metadata": {},
   "outputs": [
    {
     "name": "stdout",
     "output_type": "stream",
     "text": [
      "Device:  cpu\n"
     ]
    }
   ],
   "source": [
    "#%% device configuration OPTIONAL method: DEFAULT CPU but there is also GPU.\n",
    "device = torch.device(\"cuda:0\" if torch.cuda.is_available() else \"cpu\")\n",
    "print(\"Device: \", device)"
   ]
  },
  {
   "cell_type": "markdown",
   "metadata": {},
   "source": [
    "## 1-Read Dataset"
   ]
  },
  {
   "cell_type": "markdown",
   "metadata": {},
   "source": [
    "### NOTE:\n",
    "Aşağıdaki return edilen array içerisinde:\n",
    "\n",
    "0. indexinde 1x2048\n",
    "1. indexinde 1x2048\n",
    "2. indexinde 1x2048\n",
    "   \n",
    "   n. indexinde 1x.2048 tane veri olacaktır."
   ]
  },
  {
   "cell_type": "code",
   "execution_count": 3,
   "metadata": {},
   "outputs": [],
   "source": [
    "def read_images(path, num_img):\n",
    "    array = np.zeros([num_img, 64*32]) # A 64x32 array containing *num_img* data is created, consisting of only 0's. (empty array)\n",
    "    i = 0\n",
    "    for img in os.listdir(path): # # loops through directory on given path on os.\n",
    "        img_path = path + \"\\\\\" + img # path=C:\\User...\\neg + \\\\ + img=00000.png\n",
    "        img = Image.open(img_path, mode = \"r\") # read and open image\n",
    "        data = np.asarray(img, dtype = \"uint8\") # convert uint8 as array.\n",
    "        data = data.flatten() # 64x32 => 1x2048 vectorial \n",
    "        array[i,:] = data # add data to row i and all columns in array.\n",
    "        i += 1\n",
    "    return array"
   ]
  },
  {
   "cell_type": "markdown",
   "metadata": {},
   "source": [
    "### A) Read Train Negative(Nonpedestrian) Files\n",
    "- Aşağıda kontrol amaçlı ilgili dizinde ilk 5 dosyanın gösterilmiştir."
   ]
  },
  {
   "cell_type": "code",
   "execution_count": 4,
   "metadata": {},
   "outputs": [
    {
     "name": "stdout",
     "output_type": "stream",
     "text": [
      "0 00000.png\n",
      "1 00001.png\n",
      "2 00002.png\n",
      "3 00003.png\n",
      "4 00004.png\n",
      "5 00005.png\n",
      "\n",
      "There are 43390 images in the specified path.\n"
     ]
    }
   ],
   "source": [
    "with os.scandir('data/Train/neg') as entries:\n",
    "    for index, entry in enumerate(entries):\n",
    "        if(index<=5): #\n",
    "            print(index, entry.name)\n",
    "print(\"\\nThere are {} images in the specified path.\".format(index+1))"
   ]
  },
  {
   "cell_type": "code",
   "execution_count": 5,
   "metadata": {},
   "outputs": [],
   "source": [
    "train_negative_path = r\"data/Train/neg\"\n",
    "num_train_negative_img = index+1\n",
    "train_negative_array = read_images(train_negative_path, num_train_negative_img)"
   ]
  },
  {
   "cell_type": "code",
   "execution_count": 6,
   "metadata": {},
   "outputs": [
    {
     "name": "stdout",
     "output_type": "stream",
     "text": [
      "175.0\n",
      "99.0\n"
     ]
    }
   ],
   "source": [
    "print(train_negative_array[0][0])    # first index and first column\n",
    "print(train_negative_array[0][2047]) # first index and last column"
   ]
  },
  {
   "cell_type": "markdown",
   "metadata": {},
   "source": [
    "### NOTE\n",
    "- Numpy'da array, torch'ta tensor kullanılır. 1D, 2D, 3D bunların genel ismi tensor'dur."
   ]
  },
  {
   "cell_type": "code",
   "execution_count": 7,
   "metadata": {},
   "outputs": [
    {
     "name": "stdout",
     "output_type": "stream",
     "text": [
      "x_train_negative_tensor: torch.Size([43390, 2048])\n",
      "tensor(175., dtype=torch.float64)\n",
      "tensor(99., dtype=torch.float64)\n"
     ]
    }
   ],
   "source": [
    "x_train_negative_tensor = torch.from_numpy(train_negative_array)\n",
    "print(\"x_train_negative_tensor:\", x_train_negative_tensor.size())\n",
    "print(x_train_negative_tensor[0][0])    # first index and first column\n",
    "print(x_train_negative_tensor[0][2047]) # first index and last column"
   ]
  },
  {
   "cell_type": "markdown",
   "metadata": {},
   "source": [
    "### NOTE\n",
    "- **y_train**'de negativelere yani yaya olmayanlara 0 olarak label, class tanımlaması yaptık."
   ]
  },
  {
   "cell_type": "code",
   "execution_count": 8,
   "metadata": {},
   "outputs": [
    {
     "name": "stdout",
     "output_type": "stream",
     "text": [
      "y_train_negatice_tensor: torch.Size([43390])\n"
     ]
    }
   ],
   "source": [
    "y_train_negative_tensor = torch.zeros(num_train_negative_img, dtype = torch.long)\n",
    "print(\"y_train_negatice_tensor:\", y_train_negative_tensor.size())"
   ]
  },
  {
   "cell_type": "markdown",
   "metadata": {},
   "source": [
    "### B) Read Train Positive(Pedestrian) Files\n",
    "- Aşağıda kontrol amaçlı ilgili dizinde ilk 5 dosyanın gösterilmiştir."
   ]
  },
  {
   "cell_type": "code",
   "execution_count": 9,
   "metadata": {},
   "outputs": [
    {
     "name": "stdout",
     "output_type": "stream",
     "text": [
      "0 00000.png\n",
      "1 00001.png\n",
      "2 00002.png\n",
      "3 00003.png\n",
      "4 00004.png\n",
      "5 00005.png\n",
      "\n",
      "There are 10208 images in the specified path.\n"
     ]
    }
   ],
   "source": [
    "with os.scandir('data/Train/pos') as entries:\n",
    "    for index2, entry in enumerate(entries):\n",
    "        if(index2<=5): #\n",
    "            print(index2, entry.name)\n",
    "print(\"\\nThere are {} images in the specified path.\".format(index2+1))"
   ]
  },
  {
   "cell_type": "markdown",
   "metadata": {},
   "source": [
    "### NOTE\n",
    "- **y_train**'de positivelere yani yaya olanlara 1 olarak label, class tanımlaması yaptık."
   ]
  },
  {
   "cell_type": "code",
   "execution_count": 10,
   "metadata": {},
   "outputs": [
    {
     "name": "stdout",
     "output_type": "stream",
     "text": [
      "x_train_positive_tensor: torch.Size([10208, 2048])\n",
      "y_train_positive_tensor: torch.Size([10208])\n"
     ]
    }
   ],
   "source": [
    "train_positive_path = r\"data/Train/pos\"\n",
    "num_train_positive_img = index2+1\n",
    "train_positive_array = read_images(train_positive_path, num_train_positive_img) \n",
    "\n",
    "x_train_positive_tensor = torch.from_numpy(train_positive_array)\n",
    "print(\"x_train_positive_tensor:\", x_train_positive_tensor.size())\n",
    "\n",
    "y_train_positive_tensor = torch.ones(num_train_positive_img, dtype = torch.long)\n",
    "print(\"y_train_positive_tensor:\", y_train_positive_tensor.size())"
   ]
  },
  {
   "cell_type": "markdown",
   "metadata": {},
   "source": [
    "### C) Concat images in pos and neg folders.\n",
    "### NOTE\n",
    "- The **cat** function is called for concat in Pytorch.\n",
    "- **Rows** are concatenated with **0** in the code block below.\n",
    "- If it was 1 instead of **0**, the **columns** would be concatenated. "
   ]
  },
  {
   "cell_type": "code",
   "execution_count": 11,
   "metadata": {},
   "outputs": [
    {
     "name": "stdout",
     "output_type": "stream",
     "text": [
      "x_train: torch.Size([53598, 2048])\n",
      "y_train: torch.Size([53598])\n"
     ]
    }
   ],
   "source": [
    "x_train = torch.cat((x_train_negative_tensor, x_train_positive_tensor), 0)\n",
    "y_train = torch.cat((y_train_negative_tensor, y_train_positive_tensor), 0)\n",
    "print(\"x_train:\", x_train.size())\n",
    "print(\"y_train:\", y_train.size())"
   ]
  },
  {
   "cell_type": "markdown",
   "metadata": {},
   "source": [
    "### D) Read Test Negative(Nonpedestrian) Files\n",
    "- Aşağıda kontrol amaçlı ilgili dizinde ilk 5 dosyanın gösterilmiştir."
   ]
  },
  {
   "cell_type": "code",
   "execution_count": 12,
   "metadata": {},
   "outputs": [
    {
     "name": "stdout",
     "output_type": "stream",
     "text": [
      "0 00000.png\n",
      "1 00001.png\n",
      "2 00002.png\n",
      "3 00003.png\n",
      "4 00004.png\n",
      "5 00005.png\n",
      "\n",
      "There are 22050 images in the specified path.\n"
     ]
    }
   ],
   "source": [
    "with os.scandir('data/Test/neg') as entries:\n",
    "    for index3, entry in enumerate(entries):\n",
    "        if(index3<=5): #\n",
    "            print(index3, entry.name)\n",
    "print(\"\\nThere are {} images in the specified path.\".format(index3+1))"
   ]
  },
  {
   "cell_type": "markdown",
   "metadata": {},
   "source": [
    "### NOTE\n",
    "- **y_test**'de negative yani yaya olmayanlara 0 olarak label, class tanımlaması yaptık."
   ]
  },
  {
   "cell_type": "code",
   "execution_count": 13,
   "metadata": {},
   "outputs": [
    {
     "name": "stdout",
     "output_type": "stream",
     "text": [
      "x_test_negative_tensor: torch.Size([22050, 2048])\n",
      "y_test_negative_tensor: torch.Size([22050])\n"
     ]
    }
   ],
   "source": [
    "test_negative_path = r\"data/Test/neg\"\n",
    "num_test_negative_img = index3+1\n",
    "test_negative_array = read_images(test_negative_path, num_test_negative_img) \n",
    "\n",
    "x_test_negative_tensor = torch.from_numpy(test_negative_array)\n",
    "print(\"x_test_negative_tensor:\", x_test_negative_tensor.size())\n",
    "\n",
    "y_test_negative_tensor = torch.ones(num_test_negative_img, dtype = torch.long)\n",
    "print(\"y_test_negative_tensor:\", y_test_negative_tensor.size())"
   ]
  },
  {
   "cell_type": "markdown",
   "metadata": {},
   "source": [
    "### E) Read Test Positive(Pedestrian) Files\n",
    "- Aşağıda kontrol amaçlı ilgili dizinde ilk 5 dosyanın gösterilmiştir."
   ]
  },
  {
   "cell_type": "code",
   "execution_count": 14,
   "metadata": {},
   "outputs": [
    {
     "name": "stdout",
     "output_type": "stream",
     "text": [
      "0 00000.png\n",
      "1 00001.png\n",
      "2 00002.png\n",
      "3 00003.png\n",
      "4 00004.png\n",
      "5 00005.png\n",
      "\n",
      "There are 5944 images in the specified path.\n"
     ]
    }
   ],
   "source": [
    "with os.scandir('data/Test/pos') as entries:\n",
    "    for index4, entry in enumerate(entries):\n",
    "        if(index4<=5): #\n",
    "            print(index4, entry.name)\n",
    "print(\"\\nThere are {} images in the specified path.\".format(index4+1))"
   ]
  },
  {
   "cell_type": "markdown",
   "metadata": {},
   "source": [
    "### NOTE\n",
    "- **y_test**'de positivelere yani yaya olanlara 1 olarak label, class tanımlaması yaptık."
   ]
  },
  {
   "cell_type": "code",
   "execution_count": 15,
   "metadata": {},
   "outputs": [
    {
     "name": "stdout",
     "output_type": "stream",
     "text": [
      "x_test_positive_tensor: torch.Size([5944, 2048])\n",
      "y_test_positive_tensor: torch.Size([5944])\n"
     ]
    }
   ],
   "source": [
    "test_positive_path = r\"data/Test/pos\"\n",
    "num_test_positive_img = index4+1\n",
    "test_positive_array = read_images(test_positive_path, num_test_positive_img) \n",
    "\n",
    "x_test_positive_tensor = torch.from_numpy(test_positive_array)\n",
    "print(\"x_test_positive_tensor:\", x_test_positive_tensor.size())\n",
    "\n",
    "y_test_positive_tensor = torch.ones(num_test_positive_img, dtype = torch.long)\n",
    "print(\"y_test_positive_tensor:\", y_test_positive_tensor.size())"
   ]
  },
  {
   "cell_type": "markdown",
   "metadata": {},
   "source": [
    "### F) Concat images in pos and neg folders in Test.\n",
    "### NOTE\n",
    "- The **cat** function is called for concat in Pytorch.\n",
    "- **Rows** are concatenated with **0** in the code block below.\n",
    "- If it was 1 instead of **0**, the **columns** would be concatenated. "
   ]
  },
  {
   "cell_type": "code",
   "execution_count": 16,
   "metadata": {},
   "outputs": [
    {
     "name": "stdout",
     "output_type": "stream",
     "text": [
      "x_test: torch.Size([53598, 2048])\n",
      "y_test: torch.Size([53598])\n"
     ]
    }
   ],
   "source": [
    "x_test = torch.cat((x_test_negative_tensor, x_test_positive_tensor), 0)\n",
    "y_test = torch.cat((y_test_negative_tensor, y_test_positive_tensor), 0)\n",
    "print(\"x_test:\", x_train.size())\n",
    "print(\"y_test:\", y_train.size())"
   ]
  },
  {
   "cell_type": "markdown",
   "metadata": {},
   "source": [
    "### G) Visualize Data"
   ]
  },
  {
   "cell_type": "markdown",
   "metadata": {},
   "source": [
    "### NOTE \n",
    "- If you are take error, for example, Kernel Died etc, so, you can install **conda install nomkl** command in terminal. \n",
    "- If it cannot be installed with this command, it is necessary to **remove** the **mkl package**. "
   ]
  },
  {
   "cell_type": "code",
   "execution_count": 17,
   "metadata": {},
   "outputs": [
    {
     "data": {
      "image/png": "[encoded data removed]",
      "text/plain": [
       "<Figure size 432x288 with 1 Axes>"
      ]
     },
     "metadata": {
      "needs_background": "light"
     },
     "output_type": "display_data"
    }
   ],
   "source": [
    "plt.imshow(x_train[45000, :].reshape(64, 32), cmap = \"gray\")\n",
    "plt.show()"
   ]
  },
  {
   "cell_type": "markdown",
   "metadata": {},
   "source": [
    "## 2-Create CNN Model"
   ]
  },
  {
   "cell_type": "markdown",
   "metadata": {},
   "source": [
    "### A) Defining Hyperparameters\n",
    "\n",
    "53598 tane veri var, bu sayının bölenleri:\n",
    "- 1\n",
    "- 2\n",
    "- 3\n",
    "- 6\n",
    "- 8933\n",
    "- 17866\n",
    "- 26799\n",
    "- 53598\n",
    "Batch_size train için farklı, test için farklı bunlardan biri seçilir. Memory'ye göre seçilmelidir."
   ]
  },
  {
   "cell_type": "code",
   "execution_count": 18,
   "metadata": {},
   "outputs": [],
   "source": [
    "num_epochs = 100\n",
    "num_classes = 2\n",
    "batch_size = 6 #train # veri seti size / batch size => kalan 0 olmalı\n",
    "batch_size_t = 2 #test # veri seti size / batch size => kalan 0 olmalı\n",
    "learning_rate = 0.00001"
   ]
  },
  {
   "cell_type": "markdown",
   "metadata": {},
   "source": [
    "### B) Create CNN model class\n",
    "- Keras'da CNN modelini yaratmak Pytorch'a göre daha kolay denilebilir."
   ]
  },
  {
   "cell_type": "code",
   "execution_count": 19,
   "metadata": {},
   "outputs": [],
   "source": [
    "# class Net => CNN class\n",
    "class Net(nn.Module): # Tüm Neural Network modüllerini inherit eder.(Conv2d, maxPool2d, Linear etc)\n",
    "    \n",
    "    def __init__(self): # Constructor\n",
    "        super(Net, self).__init__() # nn.Module'u inherit edilir.\n",
    "        \n",
    "        # input_channels = 3 => rgb, 1 => gray\n",
    "        # output_channels = 10 => layerdaki nöron sayısı\n",
    "        self.conv1 = nn.Conv2d(in_channels = 1, out_channels = 10, kernel_size = 5) # 5 => 5x5\n",
    "        self.pool = nn.MaxPool2d(kernel_size = 2, stride = 2) # Pencere, her bir boyut boyunca adım adım(stride) kaydırılır.\n",
    "        self.conv2 = nn.Conv2d(in_channels = 10, out_channels = 16, kernel_size = 5) # second hidden layer\n",
    "        \n",
    "        # full connected layer(ann)\n",
    "        self.fc1 = nn.Linear(in_features = 16*13*5, out_features = 520)\n",
    "        self.fc2 = nn.Linear(in_features = 520, out_features = 130)\n",
    "        self.fc3 = nn.Linear(in_features = 130, out_features = num_classes)\n",
    "\n",
    "    # x = input\n",
    "    def forward(self, x): # Sequential ile aynı mantıkta çalışıyor\n",
    "        \n",
    "        # input => conv layer => relu => pooling\n",
    "        x = self.pool(F.relu((self.conv1(x))))\n",
    "        x = self.pool(F.relu(self.conv2(x)))\n",
    "        \n",
    "        x = x.view(-1, 16*13*5) # flatten (-1 ne yazacağımı bilmiyorsam yazarım)\n",
    "        x = F.relu(self.fc1(x))\n",
    "        x = F.relu(self.fc2(x))\n",
    "        x = self.fc3(x) # 3.den sonra relu yok. Kerasta softmax vardı, burada neden yok?\n",
    "        return x"
   ]
  },
  {
   "cell_type": "markdown",
   "metadata": {},
   "source": [
    "### C) Merge x and y train/test tensors and convert data"
   ]
  },
  {
   "cell_type": "code",
   "execution_count": 20,
   "metadata": {},
   "outputs": [],
   "source": [
    "train = dt.TensorDataset(x_train, y_train) # merge x_train and y_train\n",
    "trainloader = dt.DataLoader(train, batch_size = batch_size, shuffle = True) # train, convert to data.\n",
    "\n",
    "test = dt.TensorDataset(x_test, y_test) # merge x_test and y_test\n",
    "testloader = dt.DataLoader(test, batch_size = batch_size_t, shuffle = False)"
   ]
  },
  {
   "cell_type": "markdown",
   "metadata": {},
   "source": [
    "### D) Create Model and criterion and optimizer"
   ]
  },
  {
   "cell_type": "markdown",
   "metadata": {},
   "source": [
    "### NOTE\n",
    "- GPU aktif edildiyse **net = Net().to(device)** run edilerek GPU'da işlemler hızlı bir şekilde gerçekleştirilir."
   ]
  },
  {
   "cell_type": "code",
   "execution_count": 21,
   "metadata": {},
   "outputs": [],
   "source": [
    "net = Net() # Crete CNN Model.\n",
    "# net = Net().to(device) # in GPU"
   ]
  },
  {
   "cell_type": "code",
   "execution_count": 22,
   "metadata": {},
   "outputs": [],
   "source": [
    "criterion = nn.CrossEntropyLoss()\n",
    "optimizer = optim.SGD(net.parameters(), lr = learning_rate, momentum = 0.8) # momentum=SGD'nin hızlanma parametresi"
   ]
  },
  {
   "cell_type": "markdown",
   "metadata": {},
   "source": [
    "## 3) Train Data"
   ]
  },
  {
   "cell_type": "markdown",
   "metadata": {},
   "source": [
    "### A) Define Basic Variables"
   ]
  },
  {
   "cell_type": "code",
   "execution_count": 23,
   "metadata": {},
   "outputs": [],
   "source": [
    "start = time.time()\n",
    "train_acc = []\n",
    "test_acc = []\n",
    "loss_list = [] # total error (kayıp)\n",
    "use_gpu = False # True # if we use GPU"
   ]
  },
  {
   "cell_type": "code",
   "execution_count": 24,
   "metadata": {},
   "outputs": [
    {
     "name": "stdout",
     "output_type": "stream",
     "text": [
      "accuracy test:  6.340644423805101\n",
      "accuracy train:  92.74413224374044\n",
      "accuracy test:  14.76030577980996\n",
      "accuracy train:  96.40471659390276\n",
      "accuracy test:  10.587983139244123\n",
      "accuracy train:  97.1174297548416\n",
      "accuracy test:  15.18539687075802\n",
      "accuracy train:  97.7163326989813\n",
      "accuracy test:  13.874401657498035\n",
      "accuracy train:  98.39546251725811\n",
      "accuracy test:  10.141458884046582\n",
      "accuracy train:  98.28165230045897\n",
      "accuracy test:  15.446167035793385\n",
      "accuracy train:  98.71077279002948\n",
      "accuracy test:  11.513181396013431\n",
      "accuracy train:  99.07086085301691\n",
      "accuracy test:  10.45581195970565\n",
      "accuracy train:  99.03727751035487\n",
      "accuracy test:  13.456454954633136\n",
      "accuracy train:  99.43094891600433\n",
      "accuracy test:  18.325355433307138\n",
      "accuracy train:  98.70330982499347\n",
      "accuracy test:  12.266914338786883\n",
      "accuracy train:  99.53543042650846\n",
      "accuracy test:  13.788669000500107\n",
      "accuracy train:  99.59513414679652\n",
      "accuracy test:  10.34150175037508\n",
      "accuracy train:  99.30594425165118\n",
      "accuracy test:  10.820175751946845\n",
      "accuracy train:  99.48132392999739\n",
      "accuracy test:  14.817460884475246\n",
      "accuracy train:  99.69588417478263\n",
      "accuracy test:  16.46781453168536\n",
      "accuracy train:  99.59513414679652\n",
      "accuracy test:  14.045866971493892\n",
      "accuracy train:  99.80036568528676\n",
      "accuracy test:  16.074873187111525\n",
      "accuracy train:  99.68468972722863\n",
      "accuracy test:  12.956347788811888\n",
      "accuracy train:  99.84700921676182\n",
      "accuracy test:  11.670357933842967\n",
      "accuracy train:  99.78357401395574\n",
      "accuracy test:  14.149460598699722\n",
      "accuracy train:  99.88618978320086\n",
      "accuracy test:  14.817460884475246\n",
      "accuracy train:  99.89365274823687\n",
      "accuracy test:  15.339001214545974\n",
      "accuracy train:  99.88432404194187\n",
      "accuracy test:  16.692862756304923\n",
      "accuracy train:  99.7387962237397\n",
      "accuracy test:  13.50289347717368\n",
      "accuracy train:  99.94775924474794\n",
      "accuracy test:  15.803386439951419\n",
      "accuracy train:  99.86939811186984\n",
      "accuracy test:  13.624348074587411\n",
      "accuracy train:  99.95895369230195\n",
      "accuracy test:  12.106165606915768\n",
      "accuracy train:  99.94029627971193\n",
      "accuracy test:  13.577909552046867\n",
      "accuracy train:  99.96828239859697\n",
      "accuracy test:  14.928198899764235\n",
      "accuracy train:  99.95149072726595\n",
      "accuracy test:  12.138315353289991\n",
      "accuracy train:  99.96081943356096\n",
      "accuracy test:  12.53482889190541\n",
      "accuracy train:  99.97201388111496\n",
      "accuracy test:  13.07780238622562\n",
      "accuracy train:  99.97574536363297\n",
      "accuracy test:  13.92084018003858\n",
      "accuracy train:  99.98693981118699\n",
      "accuracy test:  12.327641637493748\n",
      "accuracy train:  99.96081943356096\n",
      "accuracy test:  11.959705651210975\n",
      "accuracy train:  99.97387962237397\n",
      "accuracy test:  14.285203972279774\n",
      "accuracy train:  99.99253703496399\n",
      "accuracy test:  14.185182539115525\n",
      "accuracy train:  99.99253703496399\n",
      "accuracy test:  14.356647853111381\n",
      "accuracy train:  99.994402776223\n",
      "accuracy test:  14.185182539115525\n",
      "accuracy train:  99.996268517482\n",
      "accuracy test:  13.81367435879117\n",
      "accuracy train:  99.996268517482\n",
      "accuracy test:  11.348860470100735\n",
      "accuracy train:  99.97201388111496\n",
      "accuracy test:  13.538615417589483\n",
      "accuracy train:  99.998134258741\n",
      "accuracy test:  14.703150675144673\n",
      "accuracy train:  99.998134258741\n",
      "accuracy test:  12.670572265485461\n",
      "accuracy train:  100.0\n",
      "accuracy test:  12.43837965278274\n",
      "accuracy train:  100.0\n",
      "accuracy test:  13.792241194541688\n",
      "accuracy train:  99.998134258741\n",
      "accuracy test:  13.720797313710081\n",
      "accuracy train:  100.0\n",
      "accuracy test:  12.720582982067587\n",
      "accuracy train:  100.0\n",
      "accuracy test:  15.621204543830821\n",
      "accuracy train:  99.996268517482\n",
      "accuracy test:  13.48860470100736\n",
      "accuracy train:  100.0\n",
      "accuracy test:  13.084946774308781\n",
      "accuracy train:  100.0\n",
      "accuracy test:  13.481460312924199\n",
      "accuracy train:  100.0\n",
      "accuracy test:  13.881546045581196\n",
      "accuracy train:  100.0\n",
      "accuracy test:  13.992284060870187\n",
      "accuracy train:  100.0\n",
      "accuracy test:  13.627920268628992\n",
      "accuracy train:  100.0\n",
      "accuracy test:  13.48860470100736\n",
      "accuracy train:  100.0\n",
      "accuracy test:  13.906551403872259\n",
      "accuracy train:  100.0\n",
      "accuracy test:  13.785096806458526\n",
      "accuracy train:  100.0\n",
      "accuracy test:  14.292348360362935\n",
      "accuracy train:  100.0\n",
      "accuracy test:  12.75630492248339\n",
      "accuracy train:  100.0\n",
      "accuracy test:  13.510037865256841\n",
      "accuracy train:  100.0\n",
      "accuracy test:  13.567192969922127\n",
      "accuracy train:  100.0\n",
      "accuracy test:  14.374508823319283\n",
      "accuracy train:  100.0\n",
      "accuracy test:  13.656497820961635\n",
      "accuracy train:  100.0\n",
      "accuracy test:  13.095663356433521\n",
      "accuracy train:  100.0\n",
      "accuracy test:  14.23876544973923\n",
      "accuracy train:  100.0\n",
      "accuracy test:  13.845824105165393\n",
      "accuracy train:  100.0\n",
      "accuracy test:  13.431449596342073\n",
      "accuracy train:  100.0\n",
      "accuracy test:  12.909909266271343\n",
      "accuracy train:  100.0\n",
      "accuracy test:  13.810102164749589\n",
      "accuracy train:  100.0\n",
      "accuracy test:  13.477888118882618\n",
      "accuracy train:  100.0\n",
      "accuracy test:  13.799385582624849\n",
      "accuracy train:  100.0\n",
      "accuracy test:  14.388797599485605\n",
      "accuracy train:  100.0\n",
      "accuracy test:  13.095663356433521\n",
      "accuracy train:  100.0\n",
      "accuracy test:  12.795599056940773\n",
      "accuracy train:  100.0\n",
      "accuracy test:  14.34593127098664\n",
      "accuracy train:  100.0\n",
      "accuracy test:  13.349289133385726\n",
      "accuracy train:  100.0\n",
      "accuracy test:  13.138529684932486\n",
      "accuracy train:  100.0\n",
      "accuracy test:  13.760091448167465\n",
      "accuracy train:  100.0\n",
      "accuracy test:  14.406658569693505\n",
      "accuracy train:  100.0\n",
      "accuracy test:  14.292348360362935\n",
      "accuracy train:  100.0\n",
      "accuracy test:  12.499106951489605\n",
      "accuracy train:  100.0\n",
      "accuracy test:  14.099449882117597\n",
      "accuracy train:  100.0\n",
      "accuracy test:  13.131385296849325\n",
      "accuracy train:  100.0\n",
      "accuracy test:  13.735086089876402\n",
      "accuracy train:  100.0\n",
      "accuracy test:  13.39929984996785\n",
      "accuracy train:  100.0\n",
      "accuracy test:  13.635064656712153\n",
      "accuracy train:  100.0\n",
      "accuracy test:  13.656497820961635\n",
      "accuracy train:  100.0\n",
      "accuracy test:  13.39215546188469\n",
      "accuracy train:  100.0\n",
      "accuracy test:  13.302850610845182\n",
      "accuracy train:  100.0\n",
      "accuracy test:  13.727941701793242\n",
      "accuracy train:  100.0\n",
      "accuracy test:  13.50646567121526\n",
      "accuracy train:  100.0\n",
      "accuracy test:  13.306422804886761\n",
      "accuracy train:  100.0\n",
      "accuracy test:  13.560048581838965\n",
      "accuracy train:  100.0\n",
      "accuracy test:  13.799385582624849\n",
      "accuracy train:  100.0\n",
      "accuracy test:  13.674358791169537\n",
      "accuracy train:  100.0\n",
      "accuracy test:  13.4993212831321\n",
      "accuracy train:  100.0\n",
      "accuracy test:  13.974423090662285\n",
      "accuracy train:  100.0\n"
     ]
    }
   ],
   "source": [
    "for epoch in range(num_epochs): # 100 kez train edilecek.\n",
    "    for i, data in enumerate(trainloader, 0):\n",
    "        # inputs = images, labels = 0 or 1\n",
    "        inputs, labels = data\n",
    "        inputs = inputs.view(batch_size, 1, 64, 32) # view=reshape, 1=color channel\n",
    "        inputs = inputs.float() # float\n",
    "        \n",
    "        # use gpu\n",
    "        if use_gpu:\n",
    "            if torch.cuda.is_available():\n",
    "                inputs, labels = inputs.to(device), labels.to(device)\n",
    "                \n",
    "        # zero gradient (türevler her adımda 0'lanmalı)\n",
    "        optimizer.zero_grad()\n",
    "        \n",
    "        # forward (inputs => outputs)\n",
    "        outputs = net(inputs)\n",
    "        \n",
    "        # loss (compare outputs vs labels)\n",
    "        loss = criterion(outputs, labels)\n",
    "        \n",
    "        # back (finding gradient)\n",
    "        loss.backward()\n",
    "        \n",
    "        # update weights\n",
    "        optimizer.step()\n",
    "    \n",
    "    # test\n",
    "    correct = 0 # correct predict\n",
    "    total = 0 # total data\n",
    "    with torch.no_grad(): # back propagation'u kapatıyoruz(train bitti).\n",
    "        for data in testloader:\n",
    "            images, labels = data\n",
    "            \n",
    "            images = images.view(batch_size_t, 1, 64, 32)\n",
    "            images = images.float()\n",
    "            \n",
    "            # gpu\n",
    "            if use_gpu:\n",
    "                if torch.cuda.is_available():\n",
    "                    images, labels = images.to(device), labels.to(device)\n",
    "            \n",
    "            outputs = net(images) # outputlar doğru mu yanlış mı acaba?\n",
    "            \n",
    "            _, predicted = torch.max(outputs.data,1) # maximum olanlar predictler\n",
    "            \n",
    "            total += labels.size(0)\n",
    "            correct += (predicted == labels).sum().item() # for int value we use item()\n",
    "        \n",
    "    acc1 = 100 * correct / total\n",
    "    print(\"accuracy test: \", acc1)\n",
    "    test_acc.append(acc1)\n",
    "\n",
    "    # train (train ile predict yapma)\n",
    "    correct = 0\n",
    "    total = 0\n",
    "    with torch.no_grad():\n",
    "        for data in trainloader:\n",
    "            images, labels= data\n",
    "            \n",
    "            images = images.view(batch_size, 1, 64, 32)\n",
    "            images = images.float()\n",
    "            \n",
    "            # gpu\n",
    "            if use_gpu:\n",
    "                if torch.cuda.is_available():\n",
    "                    images, labels = images.to(device), labels.to(device)\n",
    "            \n",
    "            outputs = net(images)\n",
    "            \n",
    "            _, predicted = torch.max(outputs.data, 1)\n",
    "            \n",
    "            total += labels.size(0)\n",
    "            correct += (predicted == labels).sum().item()\n",
    "        \n",
    "    acc2 = 100 * correct / total\n",
    "    print(\"accuracy train: \", acc2)\n",
    "    train_acc.append(acc2)"
   ]
  },
  {
   "cell_type": "code",
   "execution_count": 25,
   "metadata": {},
   "outputs": [
    {
     "name": "stdout",
     "output_type": "stream",
     "text": [
      "train is done.\n",
      "process time:  162.558222647508\n"
     ]
    }
   ],
   "source": [
    "print(\"train is done.\")\n",
    "\n",
    "end = time.time()\n",
    "process_time = (end - start) / 60\n",
    "print(\"process time: \", process_time)"
   ]
  },
  {
   "cell_type": "markdown",
   "metadata": {},
   "source": [
    "## 4-Visualize Data"
   ]
  },
  {
   "cell_type": "code",
   "execution_count": 26,
   "metadata": {},
   "outputs": [
    {
     "data": {
      "image/png": "[encoded data removed]",
      "text/plain": [
       "<Figure size 432x288 with 2 Axes>"
      ]
     },
     "metadata": {
      "needs_background": "light"
     },
     "output_type": "display_data"
    }
   ],
   "source": [
    "#%% visualize\n",
    "fig, ax1 = plt.subplots()\n",
    "\n",
    "plt.plot(loss_list, label = \"Loss\", color = \"black\")\n",
    "\n",
    "ax2 = ax1.twinx()\n",
    "\n",
    "ax2.plot(np.array(test_acc) / 100, label = \"Test Acc\", color=\"green\")\n",
    "ax2.plot(np.array(train_acc) / 100, label = \"Train Acc\", color= \"red\")\n",
    "ax1.legend()\n",
    "ax2.legend()\n",
    "ax1.set_xlabel('Epoch')\n",
    "fig.tight_layout()\n",
    "plt.title(\"Loss vs Test Accuracy\")\n",
    "plt.show()\n"
   ]
  }
 ],
 "metadata": {
  "interpreter": {
   "hash": "74156147804e2a01f94a3790aedbb2aa695f9a428eee8a505618a6d74e6c12c0"
  },
  "kernelspec": {
   "display_name": "Python 3.9.7 ('base')",
   "language": "python",
   "name": "python3"
  },
  "language_info": {
   "codemirror_mode": {
    "name": "ipython",
    "version": 3
   },
   "file_extension": ".py",
   "mimetype": "text/x-python",
   "name": "python",
   "nbconvert_exporter": "python",
   "pygments_lexer": "ipython3",
   "version": "3.9.7"
  },
  "orig_nbformat": 4
 },
 "nbformat": 4,
 "nbformat_minor": 2
}
