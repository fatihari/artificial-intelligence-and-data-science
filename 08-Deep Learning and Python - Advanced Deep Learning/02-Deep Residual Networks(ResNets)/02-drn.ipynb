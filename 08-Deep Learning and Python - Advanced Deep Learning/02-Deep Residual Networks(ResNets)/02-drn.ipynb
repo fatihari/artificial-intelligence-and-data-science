{
 "cells": [
  {
   "cell_type": "code",
   "execution_count": 1,
   "metadata": {},
   "outputs": [],
   "source": [
    "import torch\n",
    "import torch.nn as nn # neural network yapısı\n",
    "import torch.nn.functional as F # activation functions: relu, sigmoid etc.\n",
    "import torch.utils.data as dt\n",
    "import torch.optim as optim\n",
    "from PIL import Image # python image lib for preprocessing\n",
    "import matplotlib.pyplot as plt\n",
    "import numpy as np\n",
    "import os # retrive images from folder\n",
    "import time # calculate for algorithm running time\n",
    "# os.environ['KMP_DUPLICATE_LIB_OK']='True'"
   ]
  },
  {
   "cell_type": "markdown",
   "metadata": {},
   "source": [
    "### NOTE\n",
    "* Kodu CPU yerine GPU'da daha hızlı çalıştırmak için cuda indirilebiliriz. \n",
    "* Aşağıdaki kod satırı çalıştırılarak, **cpu** mu **gpu** mu varsayılan aygıt onu gösterir.\n",
    "* Bunun için **cuda** yı internetten indirmek gerekir.\n",
    "* Bu proje için **cuda** gerekli değil."
   ]
  },
  {
   "cell_type": "code",
   "execution_count": 2,
   "metadata": {},
   "outputs": [
    {
     "name": "stdout",
     "output_type": "stream",
     "text": [
      "Device:  cpu\n"
     ]
    }
   ],
   "source": [
    "#%% device configuration OPTIONAL method: DEFAULT CPU but there is also GPU.\n",
    "device = torch.device(\"cuda:0\" if torch.cuda.is_available() else \"cpu\")\n",
    "print(\"Device: \", device)"
   ]
  },
  {
   "cell_type": "markdown",
   "metadata": {},
   "source": [
    "## 1-Read Dataset"
   ]
  },
  {
   "cell_type": "markdown",
   "metadata": {},
   "source": [
    "### NOTE:\n",
    "Aşağıdaki return edilen array içerisinde:\n",
    "\n",
    "0. indexinde 1x2048\n",
    "1. indexinde 1x2048\n",
    "2. indexinde 1x2048\n",
    "   \n",
    "   n. indexinde 1x.2048 tane veri olacaktır."
   ]
  },
  {
   "cell_type": "code",
   "execution_count": 3,
   "metadata": {},
   "outputs": [],
   "source": [
    "def read_images(path, num_img):\n",
    "    array = np.zeros([num_img, 64*32]) # A 64x32 array containing *num_img* data is created, consisting of only 0's. (empty array)\n",
    "    i = 0\n",
    "    for img in os.listdir(path): # # loops through directory on given path on os.\n",
    "        img_path = path + \"\\\\\" + img # path=C:\\User...\\neg + \\\\ + img=00000.png\n",
    "        img = Image.open(img_path, mode = \"r\") # read and open image\n",
    "        data = np.asarray(img, dtype = \"uint8\") # convert uint8 as array.\n",
    "        data = data.flatten() # 64x32 => 1x2048 vectorial \n",
    "        array[i,:] = data # add data to row i and all columns in array.\n",
    "        i += 1\n",
    "    return array"
   ]
  },
  {
   "cell_type": "markdown",
   "metadata": {},
   "source": [
    "### A) Read Train Negative(Nonpedestrian) Files\n",
    "- Aşağıda kontrol amaçlı ilgili dizinde ilk 5 dosyanın gösterilmiştir."
   ]
  },
  {
   "cell_type": "code",
   "execution_count": 4,
   "metadata": {},
   "outputs": [
    {
     "name": "stdout",
     "output_type": "stream",
     "text": [
      "0 00000.png\n",
      "1 00001.png\n",
      "2 00002.png\n",
      "3 00003.png\n",
      "4 00004.png\n",
      "5 00005.png\n",
      "\n",
      "There are 43390 images in the specified path.\n"
     ]
    }
   ],
   "source": [
    "with os.scandir('data/Train/neg') as entries:\n",
    "    for index, entry in enumerate(entries):\n",
    "        if(index<=5): #\n",
    "            print(index, entry.name)\n",
    "print(\"\\nThere are {} images in the specified path.\".format(index+1))"
   ]
  },
  {
   "cell_type": "code",
   "execution_count": 5,
   "metadata": {},
   "outputs": [],
   "source": [
    "train_negative_path = r\"data/Train/neg\"\n",
    "num_train_negative_img = index+1\n",
    "train_negative_array = read_images(train_negative_path, num_train_negative_img)"
   ]
  },
  {
   "cell_type": "code",
   "execution_count": 6,
   "metadata": {},
   "outputs": [
    {
     "name": "stdout",
     "output_type": "stream",
     "text": [
      "175.0\n",
      "99.0\n"
     ]
    }
   ],
   "source": [
    "print(train_negative_array[0][0])    # first index and first column\n",
    "print(train_negative_array[0][2047]) # first index and last column"
   ]
  },
  {
   "cell_type": "markdown",
   "metadata": {},
   "source": [
    "### NOTE\n",
    "- Numpy'da array, torch'ta tensor kullanılır. 1D, 2D, 3D bunların genel ismi tensor'dur."
   ]
  },
  {
   "cell_type": "code",
   "execution_count": 7,
   "metadata": {},
   "outputs": [
    {
     "name": "stdout",
     "output_type": "stream",
     "text": [
      "x_train_negative_tensor: torch.Size([43390, 2048])\n",
      "tensor(175., dtype=torch.float64)\n",
      "tensor(99., dtype=torch.float64)\n"
     ]
    }
   ],
   "source": [
    "x_train_negative_tensor = torch.from_numpy(train_negative_array)\n",
    "print(\"x_train_negative_tensor:\", x_train_negative_tensor.size())\n",
    "print(x_train_negative_tensor[0][0])    # first index and first column\n",
    "print(x_train_negative_tensor[0][2047]) # first index and last column"
   ]
  },
  {
   "cell_type": "markdown",
   "metadata": {},
   "source": [
    "### NOTE\n",
    "- **y_train**'de negativelere yani yaya olmayanlara 0 olarak label, class tanımlaması yaptık."
   ]
  },
  {
   "cell_type": "code",
   "execution_count": 8,
   "metadata": {},
   "outputs": [
    {
     "name": "stdout",
     "output_type": "stream",
     "text": [
      "y_train_negatice_tensor: torch.Size([43390])\n"
     ]
    }
   ],
   "source": [
    "y_train_negative_tensor = torch.zeros(num_train_negative_img, dtype = torch.long)\n",
    "print(\"y_train_negatice_tensor:\", y_train_negative_tensor.size())"
   ]
  },
  {
   "cell_type": "markdown",
   "metadata": {},
   "source": [
    "### B) Read Train Positive(Pedestrian) Files\n",
    "- Aşağıda kontrol amaçlı ilgili dizinde ilk 5 dosyanın gösterilmiştir."
   ]
  },
  {
   "cell_type": "code",
   "execution_count": 9,
   "metadata": {},
   "outputs": [
    {
     "name": "stdout",
     "output_type": "stream",
     "text": [
      "0 00000.png\n",
      "1 00001.png\n",
      "2 00002.png\n",
      "3 00003.png\n",
      "4 00004.png\n",
      "5 00005.png\n",
      "\n",
      "There are 10208 images in the specified path.\n"
     ]
    }
   ],
   "source": [
    "with os.scandir('data/Train/pos') as entries:\n",
    "    for index2, entry in enumerate(entries):\n",
    "        if(index2<=5): #\n",
    "            print(index2, entry.name)\n",
    "print(\"\\nThere are {} images in the specified path.\".format(index2+1))"
   ]
  },
  {
   "cell_type": "markdown",
   "metadata": {},
   "source": [
    "### NOTE\n",
    "- **y_train**'de positivelere yani yaya olanlara 1 olarak label, class tanımlaması yaptık."
   ]
  },
  {
   "cell_type": "code",
   "execution_count": 10,
   "metadata": {},
   "outputs": [
    {
     "name": "stdout",
     "output_type": "stream",
     "text": [
      "x_train_positive_tensor: torch.Size([10208, 2048])\n",
      "y_train_positive_tensor: torch.Size([10208])\n"
     ]
    }
   ],
   "source": [
    "train_positive_path = r\"data/Train/pos\"\n",
    "num_train_positive_img = index2+1\n",
    "train_positive_array = read_images(train_positive_path, num_train_positive_img) \n",
    "\n",
    "x_train_positive_tensor = torch.from_numpy(train_positive_array)\n",
    "print(\"x_train_positive_tensor:\", x_train_positive_tensor.size())\n",
    "\n",
    "y_train_positive_tensor = torch.ones(num_train_positive_img, dtype = torch.long)\n",
    "print(\"y_train_positive_tensor:\", y_train_positive_tensor.size())"
   ]
  },
  {
   "cell_type": "markdown",
   "metadata": {},
   "source": [
    "### C) Concat images in pos and neg folders.\n",
    "### NOTE\n",
    "- The **cat** function is called for concat in Pytorch.\n",
    "- **Rows** are concatenated with **0** in the code block below.\n",
    "- If it was 1 instead of **0**, the **columns** would be concatenated. "
   ]
  },
  {
   "cell_type": "code",
   "execution_count": 11,
   "metadata": {},
   "outputs": [
    {
     "name": "stdout",
     "output_type": "stream",
     "text": [
      "x_train: torch.Size([53598, 2048])\n",
      "y_train: torch.Size([53598])\n"
     ]
    }
   ],
   "source": [
    "x_train = torch.cat((x_train_negative_tensor, x_train_positive_tensor), 0)\n",
    "y_train = torch.cat((y_train_negative_tensor, y_train_positive_tensor), 0)\n",
    "print(\"x_train:\", x_train.size())\n",
    "print(\"y_train:\", y_train.size())"
   ]
  },
  {
   "cell_type": "markdown",
   "metadata": {},
   "source": [
    "### D) Read Test Negative(Nonpedestrian) Files\n",
    "- Aşağıda kontrol amaçlı ilgili dizinde ilk 5 dosyanın gösterilmiştir."
   ]
  },
  {
   "cell_type": "code",
   "execution_count": 12,
   "metadata": {},
   "outputs": [
    {
     "name": "stdout",
     "output_type": "stream",
     "text": [
      "0 00000.png\n",
      "1 00001.png\n",
      "2 00002.png\n",
      "3 00003.png\n",
      "4 00004.png\n",
      "5 00005.png\n",
      "\n",
      "There are 22050 images in the specified path.\n"
     ]
    }
   ],
   "source": [
    "with os.scandir('data/Test/neg') as entries:\n",
    "    for index3, entry in enumerate(entries):\n",
    "        if(index3<=5): #\n",
    "            print(index3, entry.name)\n",
    "print(\"\\nThere are {} images in the specified path.\".format(index3+1))"
   ]
  },
  {
   "cell_type": "markdown",
   "metadata": {},
   "source": [
    "### NOTE\n",
    "- **y_test**'de negative yani yaya olmayanlara 0 olarak label, class tanımlaması yaptık."
   ]
  },
  {
   "cell_type": "code",
   "execution_count": 13,
   "metadata": {},
   "outputs": [
    {
     "name": "stdout",
     "output_type": "stream",
     "text": [
      "x_test_negative_tensor: torch.Size([22050, 2048])\n",
      "y_test_negative_tensor: torch.Size([22050])\n"
     ]
    }
   ],
   "source": [
    "test_negative_path = r\"data/Test/neg\"\n",
    "num_test_negative_img = index3+1\n",
    "test_negative_array = read_images(test_negative_path, num_test_negative_img) \n",
    "\n",
    "x_test_negative_tensor = torch.from_numpy(test_negative_array)\n",
    "print(\"x_test_negative_tensor:\", x_test_negative_tensor.size())\n",
    "\n",
    "y_test_negative_tensor = torch.ones(num_test_negative_img, dtype = torch.long)\n",
    "print(\"y_test_negative_tensor:\", y_test_negative_tensor.size())"
   ]
  },
  {
   "cell_type": "markdown",
   "metadata": {},
   "source": [
    "### E) Read Test Positive(Pedestrian) Files\n",
    "- Aşağıda kontrol amaçlı ilgili dizinde ilk 5 dosyanın gösterilmiştir."
   ]
  },
  {
   "cell_type": "code",
   "execution_count": 14,
   "metadata": {},
   "outputs": [
    {
     "name": "stdout",
     "output_type": "stream",
     "text": [
      "0 00000.png\n",
      "1 00001.png\n",
      "2 00002.png\n",
      "3 00003.png\n",
      "4 00004.png\n",
      "5 00005.png\n",
      "\n",
      "There are 5944 images in the specified path.\n"
     ]
    }
   ],
   "source": [
    "with os.scandir('data/Test/pos') as entries:\n",
    "    for index4, entry in enumerate(entries):\n",
    "        if(index4<=5): #\n",
    "            print(index4, entry.name)\n",
    "print(\"\\nThere are {} images in the specified path.\".format(index4+1))"
   ]
  },
  {
   "cell_type": "markdown",
   "metadata": {},
   "source": [
    "### NOTE\n",
    "- **y_test**'de positivelere yani yaya olanlara 1 olarak label, class tanımlaması yaptık."
   ]
  },
  {
   "cell_type": "code",
   "execution_count": 15,
   "metadata": {},
   "outputs": [
    {
     "name": "stdout",
     "output_type": "stream",
     "text": [
      "x_test_positive_tensor: torch.Size([5944, 2048])\n",
      "y_test_positive_tensor: torch.Size([5944])\n"
     ]
    }
   ],
   "source": [
    "test_positive_path = r\"data/Test/pos\"\n",
    "num_test_positive_img = index4+1\n",
    "test_positive_array = read_images(test_positive_path, num_test_positive_img) \n",
    "\n",
    "x_test_positive_tensor = torch.from_numpy(test_positive_array)\n",
    "print(\"x_test_positive_tensor:\", x_test_positive_tensor.size())\n",
    "\n",
    "y_test_positive_tensor = torch.ones(num_test_positive_img, dtype = torch.long)\n",
    "print(\"y_test_positive_tensor:\", y_test_positive_tensor.size())"
   ]
  },
  {
   "cell_type": "markdown",
   "metadata": {},
   "source": [
    "### F) Concat images in pos and neg folders in Test.\n",
    "### NOTE\n",
    "- The **cat** function is called for concat in Pytorch.\n",
    "- **Rows** are concatenated with **0** in the code block below.\n",
    "- If it was 1 instead of **0**, the **columns** would be concatenated. "
   ]
  },
  {
   "cell_type": "code",
   "execution_count": 16,
   "metadata": {},
   "outputs": [
    {
     "name": "stdout",
     "output_type": "stream",
     "text": [
      "x_test: torch.Size([27994, 2048])\n",
      "y_test: torch.Size([27994])\n"
     ]
    }
   ],
   "source": [
    "x_test = torch.cat((x_test_negative_tensor, x_test_positive_tensor), 0)\n",
    "y_test = torch.cat((y_test_negative_tensor, y_test_positive_tensor), 0)\n",
    "print(\"x_test:\", x_test.size())\n",
    "print(\"y_test:\", y_test.size())"
   ]
  },
  {
   "cell_type": "markdown",
   "metadata": {},
   "source": [
    "### G) Visualize Data"
   ]
  },
  {
   "cell_type": "markdown",
   "metadata": {},
   "source": [
    "### NOTE \n",
    "- If you are take error, for example, Kernel Died etc, so, you can install **conda install nomkl** command in terminal. \n",
    "- If it cannot be installed with this command, it is necessary to **remove** the **mkl package**. "
   ]
  },
  {
   "cell_type": "code",
   "execution_count": 17,
   "metadata": {},
   "outputs": [
    {
     "data": {
      "image/png": "[encoded data removed]",
      "text/plain": [
       "<Figure size 432x288 with 1 Axes>"
      ]
     },
     "metadata": {
      "needs_background": "light"
     },
     "output_type": "display_data"
    }
   ],
   "source": [
    "plt.imshow(x_train[45000, :].reshape(64, 32), cmap = \"gray\")\n",
    "plt.show()"
   ]
  },
  {
   "cell_type": "markdown",
   "metadata": {},
   "source": [
    "## 2-Create DRN Model"
   ]
  },
  {
   "cell_type": "markdown",
   "metadata": {},
   "source": [
    "### A) Defining Hyperparameters\n",
    "\n",
    "53598 tane train verisi var, bu sayının bölenleri:\n",
    "- 1\n",
    "- 2\n",
    "- 3\n",
    "- 6\n",
    "- **8933** bu seçildi.\n",
    "- 17866\n",
    "- 26799\n",
    "- 53598\n",
    "Batch_size train için seçilecektir.\n",
    "\n",
    "27994 tane test verisi var, bu sayının bölkenleri:\n",
    "- 1\n",
    "- 2\n",
    "- **13997** bu seçildi.\n",
    "- 27994\n",
    "\n",
    "test için farklı bunlardan biri seçilir. Memory'ye göre seçilmelidir."
   ]
  },
  {
   "cell_type": "code",
   "execution_count": 18,
   "metadata": {},
   "outputs": [],
   "source": [
    "num_epochs = 10\n",
    "num_classes = 2\n",
    "batch_size = 8933 #train # veri seti size / batch size => kalan 0 olmalı\n",
    "batch_size_t = 13997 #test # veri seti size / batch size => kalan 0 olmalı\n",
    "learning_rate = 0.00001"
   ]
  },
  {
   "cell_type": "markdown",
   "metadata": {},
   "source": [
    "### B) Merge x and y train/test tensors and convert data"
   ]
  },
  {
   "cell_type": "code",
   "execution_count": 19,
   "metadata": {},
   "outputs": [],
   "source": [
    "train = dt.TensorDataset(x_train, y_train) # merge x_train and y_train\n",
    "trainloader = dt.DataLoader(train, batch_size = batch_size, shuffle = True) # train, convert to data.\n",
    "\n",
    "test = dt.TensorDataset(x_test, y_test) # merge x_test and y_test\n",
    "testloader = dt.DataLoader(test, batch_size = batch_size_t, shuffle = False)"
   ]
  },
  {
   "cell_type": "markdown",
   "metadata": {},
   "source": [
    "### C) Define Convolotional Layers"
   ]
  },
  {
   "cell_type": "code",
   "execution_count": 20,
   "metadata": {},
   "outputs": [],
   "source": [
    "# kernel_size = 3x3\n",
    "# input_channels = 3 => rgb, 1 => gray\n",
    "# output_channels = 10 => layerdaki nöron sayısı\n",
    "# stride = 1 => Filter 1'er 1'er dolaşacak.\n",
    "# padding = 1 => input resmin etrafına 0'lar eklenir, size korunur. \n",
    "def conv3x3(in_planes, out_planes, stride = 1):\n",
    "    return nn.Conv2d(in_planes, out_planes, kernel_size = 3, stride = stride, padding = 1, bias = False)\n",
    "\n",
    "# kernel_size = 1x1\n",
    "def conv1x1(in_planes, out_planes, stride = 1):\n",
    "    return nn.Conv2d(in_planes, out_planes, kernel_size = 1, stride = stride, bias = False)"
   ]
  },
  {
   "cell_type": "markdown",
   "metadata": {},
   "source": [
    "### D) Create Basic Block"
   ]
  },
  {
   "cell_type": "markdown",
   "metadata": {},
   "source": [
    "### NOTE\n",
    "- input da tutulduğu için, input yani idendity (x) en son toplanır ve reluya diğer out ile birlikte gönderilir. Yani:\n",
    "- x => conv1 => bn1 => relu => dropout => conv2 => bn2 => odwnsample => stride = **out** iken,\n",
    "- out + idendity(input) = ile son bir relu'ya işleme koyarız."
   ]
  },
  {
   "cell_type": "code",
   "execution_count": 21,
   "metadata": {},
   "outputs": [],
   "source": [
    "class BasicBlock(nn.Module): # Tüm Neural Network modüllerini inherit eder.\n",
    "    \n",
    "    expansion = 1\n",
    "    \n",
    "    def __init__(self, inplanes, outplanes, stride = 1, downsample = None):\n",
    "        super(BasicBlock, self).__init__() # nn.Module'u inherit edilir.\n",
    "        self.conv1 = conv3x3(inplanes, outplanes, stride)\n",
    "        self.bn1 = nn.BatchNorm2d(outplanes) # her layerda normalization yapılır.\n",
    "        self.relu = nn.ReLU(inplace = True)\n",
    "        self.drop = nn.Dropout(0.9)\n",
    "        self.conv2 = conv3x3(outplanes, outplanes)\n",
    "        self.bn2 = nn.BatchNorm2d(outplanes)\n",
    "        self.downsample = downsample\n",
    "        self.stride = stride\n",
    "        \n",
    "    def forward(self, x): # layerları birbirlerine bağlar\n",
    "        identity = x # idendity=shortcut=x.  \n",
    "        \n",
    "        out = self.conv1(x)\n",
    "        out = self.bn1(out)\n",
    "        out = self.relu(out)\n",
    "        out = self.drop(out)\n",
    "        out = self.conv2(out)\n",
    "        out = self.bn2(out)\n",
    "        out = self.drop(out)\n",
    "        \n",
    "        if self.downsample is not None: # if stride != 1,\n",
    "            identity = self.downsample(x)\n",
    "            \n",
    "        out += identity # input=idendity=x relu \n",
    "        out = self.relu(out)\n",
    "        return out"
   ]
  },
  {
   "cell_type": "markdown",
   "metadata": {},
   "source": [
    "### E) Create RestNet Class"
   ]
  },
  {
   "cell_type": "code",
   "execution_count": 22,
   "metadata": {},
   "outputs": [],
   "source": [
    "class ResNet(nn.Module):\n",
    "    \n",
    "    def __init__(self, block, layers, num_classes = num_classes):\n",
    "        super(ResNet, self).__init__()\n",
    "        self.inplanes = 64\n",
    "        self.conv1 = nn.Conv2d(1, 64, kernel_size=7, stride = 2, padding = 3, bias= False) # stride=2 => downsampling\n",
    "        self.bn1 = nn.BatchNorm2d(64)\n",
    "        self.relu = nn.ReLU(inplace = True)\n",
    "        self.maxpool = nn.MaxPool2d(kernel_size= 3, stride = 2, padding = 1)\n",
    "        self.layer1 = self._make_layer(block, 64, layers[0], stride = 1)\n",
    "        self.layer2 = self._make_layer(block, 128, layers[1], stride = 2)\n",
    "        self.layer3 = self._make_layer(block, 256, layers[2], stride = 2)\n",
    "    \n",
    "        self.avgpool = nn.AdaptiveAvgPool2d((1,1)) # average=> output 1,1 olsun diyoruz.\n",
    "        self.fc = nn.Linear( 256 * block.expansion, num_classes)\n",
    "\n",
    "        # update weights\n",
    "        for m in self.modules():\n",
    "            if isinstance(m, nn.Conv2d): # conv layerındaysa\n",
    "                # Yalnızca 0'a yakın sayıları weighte initiliaze ediyor.\n",
    "                nn.init.kaiming_normal_(m.weight, mode = \"fan_out\", nonlinearity = \"relu\")\n",
    "            elif isinstance(m, nn.BatchNorm2d): # batch layerındaysa\n",
    "                nn.init.constant_(m.weight, 1) # tüm weightleri 1 yap\n",
    "                nn.init.constant_(m.bias, 0) # bias 0 yapılır\n",
    "\n",
    "    # amaç basic_blockları(2 tane block) oluştururak ard arada bir layer oluşturmak\n",
    "    # block=BasicBlock\n",
    "    # blocks=2 için 2 tane bloku ard arda bağlayacak.        \n",
    "    def _make_layer(self, block, input_channels, blocks, stride = 1):\n",
    "        downsample = None # başlangıçta none\n",
    "        if stride != 1 or self.inplanes != input_channels * block.expansion:\n",
    "            downsample = nn.Sequential(\n",
    "                    conv1x1(self.inplanes, input_channels*block.expansion, stride),\n",
    "                    nn.BatchNorm2d(input_channels * block.expansion)) # her zaman 1 geliyor, göz ardı edebiliriz.\n",
    "        layers = []\n",
    "        layers.append(block(self.inplanes, input_channels, stride, downsample)) # default  olarak 1 block ekledik.\n",
    "        self.inplanes = input_channels * block.expansion # expansion=1, return 1\n",
    "\n",
    "        # kullanılmayacağı zaman _ koyabiliriz.\n",
    "        for _ in range(1, blocks): #1 den başlattık, çünkü yukarıda zaten 1 tane append yaptık.\n",
    "            layers.append(block(self.inplanes, input_channels))\n",
    "        \n",
    "        return nn.Sequential(*layers) # hepsini alabilmesi için * koyarız ve arda arda layerları dizecek tüm layerlerı 1 layer yapacak.\n",
    "        \n",
    "    #sequantial path\n",
    "    def forward(self,x):\n",
    "        \n",
    "        x = self.conv1(x)\n",
    "        x = self.bn1(x)\n",
    "        x = self.relu(x)\n",
    "        x = self.maxpool(x)\n",
    "        x = self.layer1(x)\n",
    "        x = self.layer2(x)\n",
    "        x = self.layer3(x)\n",
    "        x = self.avgpool(x)\n",
    "        x = x.view(x.size(0),-1) # x.size/2 and -1 => kendisi hesaplayıp söyleyecek, ne olduğu önemli değil.\n",
    "        x = self.fc(x)\n",
    "        \n",
    "        return x"
   ]
  },
  {
   "cell_type": "markdown",
   "metadata": {},
   "source": [
    "### F) Create Model and criterion and optimizer"
   ]
  },
  {
   "cell_type": "markdown",
   "metadata": {},
   "source": [
    "### NOTE\n",
    "- GPU aktif edildiyse **model = ResNet(BasicBlock, [2,2,2]).to(device)** run edilerek GPU'da işlemler hızlı bir şekilde gerçekleştirilir."
   ]
  },
  {
   "cell_type": "code",
   "execution_count": 23,
   "metadata": {},
   "outputs": [],
   "source": [
    "model = ResNet(BasicBlock, [2,2,2])  # Crete DRN Model with 2 blocks \n",
    "# model = ResNet(BasicBlock, [2,2,2]).to(device) # for GPU"
   ]
  },
  {
   "cell_type": "code",
   "execution_count": 24,
   "metadata": {},
   "outputs": [],
   "source": [
    "criterion = nn.CrossEntropyLoss()\n",
    "optimizer = optim.Adam(model.parameters(), lr = learning_rate)"
   ]
  },
  {
   "cell_type": "markdown",
   "metadata": {},
   "source": [
    "## 3) Train Data"
   ]
  },
  {
   "cell_type": "markdown",
   "metadata": {},
   "source": [
    "### A) Define Basic Variables"
   ]
  },
  {
   "cell_type": "code",
   "execution_count": 25,
   "metadata": {},
   "outputs": [],
   "source": [
    "start = time.time()\n",
    "train_acc = []\n",
    "test_acc = []\n",
    "loss_list = [] # total error (kayıp)\n",
    "use_gpu = False # True # if we use GPU\n",
    "total_step = len(trainloader)"
   ]
  },
  {
   "cell_type": "code",
   "execution_count": 26,
   "metadata": {},
   "outputs": [
    {
     "name": "stdout",
     "output_type": "stream",
     "text": [
      "epoch: 0 0/6\n",
      "epoch: 0 2/6\n",
      "epoch: 0 4/6\n",
      "Accuracy train 69 %\n",
      "Accuracy test 18 %\n",
      "epoch: 1 0/6\n",
      "epoch: 1 2/6\n",
      "epoch: 1 4/6\n",
      "Accuracy train 70 %\n",
      "Accuracy test 17 %\n",
      "epoch: 2 0/6\n",
      "epoch: 2 2/6\n",
      "epoch: 2 4/6\n",
      "Accuracy train 71 %\n",
      "Accuracy test 15 %\n",
      "epoch: 3 0/6\n",
      "epoch: 3 2/6\n",
      "epoch: 3 4/6\n",
      "Accuracy train 72 %\n",
      "Accuracy test 14 %\n",
      "epoch: 4 0/6\n",
      "epoch: 4 2/6\n",
      "epoch: 4 4/6\n",
      "Accuracy train 72 %\n",
      "Accuracy test 14 %\n",
      "epoch: 5 0/6\n",
      "epoch: 5 2/6\n",
      "epoch: 5 4/6\n",
      "Accuracy train 72 %\n",
      "Accuracy test 12 %\n",
      "epoch: 6 0/6\n",
      "epoch: 6 2/6\n",
      "epoch: 6 4/6\n",
      "Accuracy train 73 %\n",
      "Accuracy test 12 %\n",
      "epoch: 7 0/6\n",
      "epoch: 7 2/6\n",
      "epoch: 7 4/6\n",
      "Accuracy train 73 %\n",
      "Accuracy test 11 %\n",
      "epoch: 8 0/6\n",
      "epoch: 8 2/6\n",
      "epoch: 8 4/6\n",
      "Accuracy train 74 %\n",
      "Accuracy test 11 %\n",
      "epoch: 9 0/6\n",
      "epoch: 9 2/6\n",
      "epoch: 9 4/6\n",
      "Accuracy train 74 %\n",
      "Accuracy test 10 %\n"
     ]
    }
   ],
   "source": [
    "for epoch in range(num_epochs): # 100 kez train edilecek.\n",
    "    for i, (images, labels) in enumerate(trainloader, 0):\n",
    "       \n",
    "        # images = inputs , labels = 0 or 1\n",
    "        images = images.view(batch_size, 1, 64, 32) # view=reshape, 1=color channel\n",
    "        images = images.float() # convert float\n",
    "        \n",
    "        # use gpu\n",
    "        if use_gpu:\n",
    "            if torch.cuda.is_available():\n",
    "                images, labels = images.to(device), labels.to(device)\n",
    "\n",
    "        outputs = model(images) #forward (inputs => outputs)\n",
    "        \n",
    "        loss = criterion(outputs, labels) # loss (compare outputs vs labels)\n",
    "        \n",
    "        # backward and optimization\n",
    "        optimizer.zero_grad() # zero gradient (türevler her adımda 0'lanmalı)\n",
    "        loss.backward() # back (finding gradient)\n",
    "        optimizer.step() # update weights\n",
    "\n",
    "        if i % 2 == 0: # ekrranda ne kadar sık görmek istiyoruz.\n",
    "            print(\"epoch: {} {}/{}\".format(epoch, i, total_step))\n",
    "    \n",
    "    # train\n",
    "    correct = 0 # correct predict\n",
    "    total = 0 # total data\n",
    "    with torch.no_grad(): # back propagation'u kapatıyoruz(train bitti)\n",
    "        for data in trainloader:\n",
    "            images, labels = data\n",
    "            images = images.view(batch_size, 1, 64, 32)\n",
    "            images = images.float()\n",
    "            \n",
    "            # gpu\n",
    "            if use_gpu:\n",
    "                if torch.cuda.is_available():\n",
    "                    images, labels = images.to(device), labels.to(device)\n",
    "                    \n",
    "            outputs = model(images) # outputlar doğru mu yanlış mı acaba?\n",
    "            _, predicted = torch.max(outputs.data,1) # maximum olanlar predictlerin indexini verir.\n",
    "            total += labels.size(0) # toplamımız size'a eşit olacak\n",
    "            correct += (predicted == labels).sum().item() # for int value we use item()\n",
    "        \n",
    "    print(\"Accuracy train %d %%\"%(100 * correct / total))\n",
    "    train_acc.append(100 * correct / total)\n",
    "\n",
    "    # test\n",
    "    correct = 0\n",
    "    total = 0\n",
    "    with torch.no_grad():\n",
    "        for data in testloader:\n",
    "            images, labels = data\n",
    "            images = images.view(batch_size_t, 1, 64, 32)\n",
    "            images = images.float()\n",
    "            \n",
    "            # gpu\n",
    "            if use_gpu:\n",
    "                if torch.cuda.is_available():\n",
    "                    images, labels = images.to(device), labels.to(device)\n",
    "                    \n",
    "            outputs = model(images)\n",
    "            _, predicted = torch.max(outputs.data,1)\n",
    "            total += labels.size(0)\n",
    "            correct += (predicted == labels).sum().item()\n",
    "    print(\"Accuracy test %d %%\"%(100*correct/total))\n",
    "    train_acc.append(100 * correct /  total)\n",
    "\n",
    "    loss_list.append(loss.item())"
   ]
  },
  {
   "cell_type": "code",
   "execution_count": 27,
   "metadata": {},
   "outputs": [
    {
     "name": "stdout",
     "output_type": "stream",
     "text": [
      "train is done.\n",
      "process time:  70.25288607676823\n"
     ]
    }
   ],
   "source": [
    "print(\"train is done.\")\n",
    "\n",
    "end = time.time()\n",
    "process_time = (end - start) / 60\n",
    "print(\"process time: \", process_time)"
   ]
  },
  {
   "cell_type": "markdown",
   "metadata": {},
   "source": [
    "## 4-Visualize Data"
   ]
  },
  {
   "cell_type": "code",
   "execution_count": 28,
   "metadata": {},
   "outputs": [
    {
     "data": {
      "image/png": "[encoded data removed]",
      "text/plain": [
       "<Figure size 432x288 with 2 Axes>"
      ]
     },
     "metadata": {
      "needs_background": "light"
     },
     "output_type": "display_data"
    }
   ],
   "source": [
    "#%% visualize\n",
    "\n",
    "fig, ax1 = plt.subplots()\n",
    "plt.plot(loss_list,label = \"Loss\",color = \"black\")\n",
    "ax2 = ax1.twinx()\n",
    "ax2.plot(np.array(test_acc)/100,label = \"Test Acc\",color=\"green\")\n",
    "ax2.plot(np.array(train_acc)/100,label = \"Train Acc\",color= \"red\")\n",
    "ax1.legend()\n",
    "ax2.legend()\n",
    "ax1.set_xlabel('Epoch')\n",
    "fig.tight_layout()\n",
    "plt.title(\"Loss vs Test Accuracy\")\n",
    "plt.show()"
   ]
  }
 ],
 "metadata": {
  "interpreter": {
   "hash": "74156147804e2a01f94a3790aedbb2aa695f9a428eee8a505618a6d74e6c12c0"
  },
  "kernelspec": {
   "display_name": "Python 3.9.7 ('base')",
   "language": "python",
   "name": "python3"
  },
  "language_info": {
   "codemirror_mode": {
    "name": "ipython",
    "version": 3
   },
   "file_extension": ".py",
   "mimetype": "text/x-python",
   "name": "python",
   "nbconvert_exporter": "python",
   "pygments_lexer": "ipython3",
   "version": "3.9.7"
  },
  "orig_nbformat": 4
 },
 "nbformat": 4,
 "nbformat_minor": 2
}
