{
 "cells": [
  {
   "cell_type": "code",
   "execution_count": 31,
   "metadata": {},
   "outputs": [
    {
     "name": "stdout",
     "output_type": "stream",
     "text": [
      "a + b: [5 7 9]\n",
      "a - b: [-3 -3 -3]\n",
      "a ^ 2: [1 4 9]\n",
      "a < 2: [ True False False]\n",
      "sin(a): [0.84147098 0.90929743 0.14112001]\n"
     ]
    }
   ],
   "source": [
    "import numpy as np\n",
    "\n",
    "a = np.array([1,2,3])\n",
    "b = np.array([4,5,6])\n",
    "\n",
    "print('a + b:', a + b)\n",
    "print('a - b:', a - b)\n",
    "print('a ^ 2:', a ** 2)\n",
    "print('a < 2:', a < 2)\n",
    "print('sin(a):', np.sin(a))"
   ]
  },
  {
   "cell_type": "code",
   "execution_count": 32,
   "metadata": {},
   "outputs": [],
   "source": [
    "a = np.array([[1,2,3],[4,5,6]])\n",
    "b = np.array([[1,2,3],[4,5,6]])"
   ]
  },
  {
   "cell_type": "code",
   "execution_count": 33,
   "metadata": {},
   "outputs": [
    {
     "name": "stdout",
     "output_type": "stream",
     "text": [
      "[[ 1  4  9]\n",
      " [16 25 36]]\n"
     ]
    }
   ],
   "source": [
    "print(a*b) # element wise prodcut"
   ]
  },
  {
   "cell_type": "code",
   "execution_count": 34,
   "metadata": {},
   "outputs": [
    {
     "data": {
      "text/plain": [
       "array([[1, 2, 3],\n",
       "       [4, 5, 6]])"
      ]
     },
     "execution_count": 34,
     "metadata": {},
     "output_type": "execute_result"
    }
   ],
   "source": [
    "# matrix prodcut (satır ve sütün uyumlu olmalı. a=2,3 ise b=3,2 olmalı\n",
    "a.dot(b.T)\n",
    "a"
   ]
  },
  {
   "cell_type": "code",
   "execution_count": 35,
   "metadata": {},
   "outputs": [
    {
     "name": "stdout",
     "output_type": "stream",
     "text": [
      "[[  2.71828183   7.3890561   20.08553692]\n",
      " [ 54.59815003 148.4131591  403.42879349]]\n"
     ]
    }
   ],
   "source": [
    "print(np.exp(a))"
   ]
  },
  {
   "cell_type": "code",
   "execution_count": 37,
   "metadata": {},
   "outputs": [
    {
     "name": "stdout",
     "output_type": "stream",
     "text": [
      "Matrix: [[0.69429069 0.71843031 0.32859167 0.9788349  0.20446989]\n",
      " [0.95578369 0.15953539 0.09688165 0.04659447 0.93355531]\n",
      " [0.01361405 0.88941639 0.86569493 0.81310053 0.10521195]\n",
      " [0.82199072 0.16146101 0.32070385 0.79373829 0.09564678]\n",
      " [0.34205724 0.74914709 0.18230117 0.41854374 0.60455897]]\n",
      "\n",
      "Sum of elements: 12.294154678370019\n",
      "Maximum value of elements: 0.9788348961481641\n",
      "Minimum value of elements: 0.013614053745868548\n",
      "Sum of columns: [5 7 9]\n",
      "Sum of rows: [ 6 15]\n",
      "Square root of elements:\n",
      " [[1.         1.41421356 1.73205081]\n",
      " [2.         2.23606798 2.44948974]]\n",
      "Square of elements:\n",
      " [[ 1  4  9]\n",
      " [16 25 36]]\n",
      "Sum of a+a:\n",
      " [[ 2  4  6]\n",
      " [ 8 10 12]]\n"
     ]
    }
   ],
   "source": [
    "array1 = np.random.random((5,5)) # 5x5 lik 0-1 arasında rasgele elemanları olan matris oluşturur.\n",
    "print('Matrix:', array1)\n",
    "print('\\nSum of elements:', array1.sum()) # arrayin içindeki elemanların toplamı\n",
    "print('Maximum value of elements:', array1.max()) # arrayin içindeki elemanların toplamı\n",
    "print('Minimum value of elements:', array1.min()) # arrayin içindeki elemanların toplamı\n",
    "print('Sum of columns:', a.sum(axis=0))\n",
    "print('Sum of rows:', a.sum(axis=1))\n",
    "print('Square root of elements:\\n', np.sqrt(a))\n",
    "print('Square of elements:\\n', np.square(a)) # a ** 2\n",
    "print('Sum of a+a:\\n', np.add(a,a)) # or a+a"
   ]
  }
 ],
 "metadata": {
  "interpreter": {
   "hash": "e78dbf5722967f313c4c7f2f73db293759ee911f3cc260e746cc2fb2541b961a"
  },
  "kernelspec": {
   "display_name": "Python 3.9.7 ('base')",
   "language": "python",
   "name": "python3"
  },
  "language_info": {
   "codemirror_mode": {
    "name": "ipython",
    "version": 3
   },
   "file_extension": ".py",
   "mimetype": "text/x-python",
   "name": "python",
   "nbconvert_exporter": "python",
   "pygments_lexer": "ipython3",
   "version": "3.9.7"
  },
  "orig_nbformat": 4
 },
 "nbformat": 4,
 "nbformat_minor": 2
}
