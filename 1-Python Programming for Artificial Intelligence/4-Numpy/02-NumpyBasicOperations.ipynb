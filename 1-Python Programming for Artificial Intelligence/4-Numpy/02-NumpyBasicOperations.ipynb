{
 "cells": [
  {
   "cell_type": "code",
   "execution_count": 1,
   "metadata": {},
   "outputs": [
    {
     "name": "stdout",
     "output_type": "stream",
     "text": [
      "a + b: [5 7 9]\n",
      "a - b: [-3 -3 -3]\n",
      "a ^ 2: [1 4 9]\n",
      "a < 2: [ True False False]\n",
      "sin(a): [0.84147098 0.90929743 0.14112001]\n"
     ]
    }
   ],
   "source": [
    "import numpy as np\n",
    "\n",
    "a = np.array([1,2,3])\n",
    "b = np.array([4,5,6])\n",
    "\n",
    "print('a + b:', a + b)\n",
    "print('a - b:', a - b)\n",
    "print('a ^ 2:', a ** 2)\n",
    "print('a < 2:', a < 2)\n",
    "print('sin(a):', np.sin(a))"
   ]
  },
  {
   "cell_type": "code",
   "execution_count": 2,
   "metadata": {},
   "outputs": [],
   "source": [
    "a = np.array([[1,2,3],[4,5,6]])\n",
    "b = np.array([[1,2,3],[4,5,6]])"
   ]
  },
  {
   "cell_type": "code",
   "execution_count": 3,
   "metadata": {},
   "outputs": [
    {
     "name": "stdout",
     "output_type": "stream",
     "text": [
      "[[ 1  4  9]\n",
      " [16 25 36]]\n"
     ]
    }
   ],
   "source": [
    "print(a*b) # element wise prodcut"
   ]
  },
  {
   "cell_type": "code",
   "execution_count": 4,
   "metadata": {},
   "outputs": [
    {
     "data": {
      "text/plain": [
       "array([[1, 2, 3],\n",
       "       [4, 5, 6]])"
      ]
     },
     "execution_count": 4,
     "metadata": {},
     "output_type": "execute_result"
    }
   ],
   "source": [
    "# matrix prodcut (satır ve sütün uyumlu olmalı. a=2,3 ise b=3,2 olmalı\n",
    "a.dot(b.T)\n",
    "a"
   ]
  },
  {
   "cell_type": "code",
   "execution_count": 5,
   "metadata": {},
   "outputs": [
    {
     "name": "stdout",
     "output_type": "stream",
     "text": [
      "[[  2.71828183   7.3890561   20.08553692]\n",
      " [ 54.59815003 148.4131591  403.42879349]]\n"
     ]
    }
   ],
   "source": [
    "print(np.exp(a))"
   ]
  },
  {
   "cell_type": "code",
   "execution_count": 6,
   "metadata": {},
   "outputs": [
    {
     "name": "stdout",
     "output_type": "stream",
     "text": [
      "Matrix: [[0.43279719 0.97938857 0.20952242 0.72871017 0.79552074]\n",
      " [0.20660956 0.21334531 0.37475473 0.87095734 0.81187333]\n",
      " [0.47425116 0.24304781 0.85327812 0.29917852 0.70366373]\n",
      " [0.19459752 0.8418647  0.28306284 0.3249931  0.58243898]\n",
      " [0.80530443 0.57772997 0.89745502 0.13835033 0.67879401]]\n",
      "\n",
      "Sum of elements: 13.521489590596664\n",
      "Maximum value of elements: 0.97938857334388\n",
      "Minimum value of elements: 0.13835033163585708\n",
      "Sum of columns: [5 7 9]\n",
      "Sum of rows: [ 6 15]\n",
      "Square root of elements:\n",
      " [[1.         1.41421356 1.73205081]\n",
      " [2.         2.23606798 2.44948974]]\n",
      "Square of elements:\n",
      " [[ 1  4  9]\n",
      " [16 25 36]]\n",
      "Sum of a+a:\n",
      " [[ 2  4  6]\n",
      " [ 8 10 12]]\n"
     ]
    }
   ],
   "source": [
    "array1 = np.random.random((5,5)) # 5x5 lik 0-1 arasında rasgele elemanları olan matris oluşturur.\n",
    "print('Matrix:', array1)\n",
    "print('\\nSum of elements:', array1.sum()) # arrayin içindeki elemanların toplamı\n",
    "print('Maximum value of elements:', array1.max()) # arrayin içindeki elemanların toplamı\n",
    "print('Minimum value of elements:', array1.min()) # arrayin içindeki elemanların toplamı\n",
    "print('Sum of columns:', a.sum(axis=0))\n",
    "print('Sum of rows:', a.sum(axis=1))\n",
    "print('Square root of elements:\\n', np.sqrt(a))\n",
    "print('Square of elements:\\n', np.square(a)) # a ** 2\n",
    "print('Sum of a+a:\\n', np.add(a,a)) # or a+a"
   ]
  }
 ],
 "metadata": {
  "interpreter": {
   "hash": "e78dbf5722967f313c4c7f2f73db293759ee911f3cc260e746cc2fb2541b961a"
  },
  "kernelspec": {
   "display_name": "Python 3.9.7 ('base')",
   "language": "python",
   "name": "python3"
  },
  "language_info": {
   "codemirror_mode": {
    "name": "ipython",
    "version": 3
   },
   "file_extension": ".py",
   "mimetype": "text/x-python",
   "name": "python",
   "nbconvert_exporter": "python",
   "pygments_lexer": "ipython3",
   "version": "3.9.7"
  },
  "orig_nbformat": 4
 },
 "nbformat": 4,
 "nbformat_minor": 2
}
