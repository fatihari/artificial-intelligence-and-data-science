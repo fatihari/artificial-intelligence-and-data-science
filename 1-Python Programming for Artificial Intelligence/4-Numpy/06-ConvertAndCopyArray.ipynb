{
 "cells": [
  {
   "cell_type": "code",
   "execution_count": 5,
   "metadata": {},
   "outputs": [
    {
     "name": "stdout",
     "output_type": "stream",
     "text": [
      "[1, 2, 3, 4]\n",
      "[1 2 3 4]\n"
     ]
    }
   ],
   "source": [
    "import numpy as np\n",
    "\n",
    "list1 = [1,2,3,4]\n",
    "print(list1)\n",
    "array1 = np.array([1,2,3,4])\n",
    "print(array1)"
   ]
  },
  {
   "cell_type": "markdown",
   "metadata": {},
   "source": [
    "> Outputlar **list** olarak verildiyse, daha güzel ve çeşitli işlemler yapabilmek için onu **Array** e convert ederiz. Ya da tam tersi."
   ]
  },
  {
   "cell_type": "code",
   "execution_count": 6,
   "metadata": {},
   "outputs": [
    {
     "name": "stdout",
     "output_type": "stream",
     "text": [
      "[1 2 3 4]\n"
     ]
    }
   ],
   "source": [
    "array2 = np.array(list1) # convert from list to array\n",
    "print(array2)"
   ]
  },
  {
   "cell_type": "code",
   "execution_count": 8,
   "metadata": {},
   "outputs": [
    {
     "name": "stdout",
     "output_type": "stream",
     "text": [
      "[1, 2, 3, 4]\n"
     ]
    }
   ],
   "source": [
    "list2 = list(array2) # convert from array to list\n",
    "print(list2)"
   ]
  },
  {
   "cell_type": "markdown",
   "metadata": {},
   "source": [
    "> np array memoryde değer olarak değil, alan olarak depolanmaktadır. Aslında aynı alanı ayırdığımız için a,b veya c'den bir tanesini değiştirdiğimiz zaman diğerleri de otomatik olarak değişir!"
   ]
  },
  {
   "cell_type": "code",
   "execution_count": 9,
   "metadata": {},
   "outputs": [],
   "source": [
    "a = np.array([1,2,3]) \n",
    "b = a\n",
    "b[0] = 5\n",
    "c = a"
   ]
  },
  {
   "cell_type": "code",
   "execution_count": 10,
   "metadata": {},
   "outputs": [],
   "source": [
    "d =  np.array([1,2,3])\n",
    "e = d.copy() # d değil d'nin kopyasına eşitleriz, bu bize memory'de yeni bir alan tahsis eder, bu yüzden e değiştiğinde d değişmez! :)\n",
    "f = d.copy()\n",
    "f[0] = 5 # bir tanesinin değerini değiştirince, artık diğerleri değişmez! :)"
   ]
  }
 ],
 "metadata": {
  "interpreter": {
   "hash": "e78dbf5722967f313c4c7f2f73db293759ee911f3cc260e746cc2fb2541b961a"
  },
  "kernelspec": {
   "display_name": "Python 3.9.7 ('base')",
   "language": "python",
   "name": "python3"
  },
  "language_info": {
   "codemirror_mode": {
    "name": "ipython",
    "version": 3
   },
   "file_extension": ".py",
   "mimetype": "text/x-python",
   "name": "python",
   "nbconvert_exporter": "python",
   "pygments_lexer": "ipython3",
   "version": "3.9.7"
  },
  "orig_nbformat": 4
 },
 "nbformat": 4,
 "nbformat_minor": 2
}
