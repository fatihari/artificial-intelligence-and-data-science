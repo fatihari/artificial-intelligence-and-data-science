{
 "cells": [
  {
   "cell_type": "markdown",
   "metadata": {},
   "source": [
    "> matplotlib kutuphanesi\n",
    ">\n",
    "> gorsellestime kotuphanesi\n",
    ">\n",
    "> line plot, scatter plot, bar plot, subplots, histogram\n",
    ">"
   ]
  },
  {
   "cell_type": "code",
   "execution_count": null,
   "metadata": {},
   "outputs": [],
   "source": [
    "import pandas as pd\n",
    "\n",
    "df = pd.read_csv(\"dataset\\iris.csv\") # df=dataFrame\n",
    "df"
   ]
  },
  {
   "cell_type": "code",
   "execution_count": null,
   "metadata": {},
   "outputs": [],
   "source": [
    "df.columns"
   ]
  },
  {
   "cell_type": "code",
   "execution_count": null,
   "metadata": {},
   "outputs": [],
   "source": [
    "df.Species"
   ]
  },
  {
   "cell_type": "code",
   "execution_count": null,
   "metadata": {},
   "outputs": [],
   "source": [
    "df.Species.unique()"
   ]
  },
  {
   "cell_type": "code",
   "execution_count": null,
   "metadata": {},
   "outputs": [],
   "source": [
    "df.info()"
   ]
  },
  {
   "cell_type": "code",
   "execution_count": null,
   "metadata": {},
   "outputs": [],
   "source": [
    "df.describe() # string olmayan numeric değerleri okumak için"
   ]
  },
  {
   "cell_type": "code",
   "execution_count": null,
   "metadata": {},
   "outputs": [],
   "source": [
    "setosa = df[df.Species == 'Iris-setosa'] # yalnızca setosa türündeki çiçekler gelir.\n",
    "setosa"
   ]
  },
  {
   "cell_type": "code",
   "execution_count": null,
   "metadata": {},
   "outputs": [],
   "source": [
    "versicolor = df[df.Species == \"Iris-versicolor\"]\n",
    "versicolor"
   ]
  },
  {
   "cell_type": "code",
   "execution_count": null,
   "metadata": {},
   "outputs": [],
   "source": [
    "# setosa ve versicolor türlerini karşılaştırabiliriz.\n",
    "print(setosa.describe())\n",
    "print()\n",
    "print(versicolor.describe())\n",
    "\n",
    "# Aşağıda tabloya baktığımızda PetalLengthCm'de setosa'da mean = 1.464000 iken, versicolor'da mean = 4.260000 dir. \n",
    "# Ya da PetalWidthCm'de setosa'da mean = 0.24400 iken, versicolor'da mean =  1.326000'dir. \n",
    "# Bunlar göze çarpan bir farktır. Bu bilgiyi kullanabilirim. Std'de göze çarpan bir fark yok."
   ]
  },
  {
   "cell_type": "code",
   "execution_count": null,
   "metadata": {},
   "outputs": [],
   "source": []
  }
 ],
 "metadata": {
  "interpreter": {
   "hash": "e78dbf5722967f313c4c7f2f73db293759ee911f3cc260e746cc2fb2541b961a"
  },
  "kernelspec": {
   "display_name": "Python 3.9.7 ('base')",
   "language": "python",
   "name": "python3"
  },
  "language_info": {
   "codemirror_mode": {
    "name": "ipython",
    "version": 3
   },
   "file_extension": ".py",
   "mimetype": "text/x-python",
   "name": "python",
   "nbconvert_exporter": "python",
   "pygments_lexer": "ipython3",
   "version": "3.9.7"
  },
  "orig_nbformat": 4
 },
 "nbformat": 4,
 "nbformat_minor": 2
}
