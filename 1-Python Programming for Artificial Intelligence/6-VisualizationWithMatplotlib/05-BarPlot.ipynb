{
 "cells": [
  {
   "cell_type": "markdown",
   "metadata": {},
   "source": [
    "#### Bar Plot Ne İçin Kullanılır?\n",
    "> <br>\n",
    ">\n",
    "> Barchartların kullanım amacı histogramlara benzerdir.\n",
    ">\n",
    "> Her şeyden önce, bir histogram bar chart'a göre bir gelişmedir, ancak bar chart ile aynı değildir. Histogramlar bir çeşit bar charttır, ancakbar chartlar kesinlikle histogram değildir.\n",
    ">\n",
    "> Bar chartlar değişkenleri karşılaştırmak için kullanılırken histogramlar değişkenlerin dağılımlarını göstermek için kullanılır\n",
    ">\n",
    "> Bar chartlar iki bar arasında boşluklara sahiptir, ancak histogramlarda çubuklar arasında boşluk yoktur. Bunun nedeni, bar chartlardaki x ekseni ayrı kategorik değerlerken, histogramlarda ya ayrı ya da sürekli dağılımı vardır.\n",
    "> <br> <br>"
   ]
  },
  {
   "cell_type": "code",
   "execution_count": 1,
   "metadata": {},
   "outputs": [],
   "source": [
    "import pandas as pd\n",
    "import matplotlib.pyplot as plt\n",
    "import numpy as np"
   ]
  },
  {
   "cell_type": "code",
   "execution_count": 2,
   "metadata": {},
   "outputs": [],
   "source": [
    "# x = np.array([1,2,3,4,5,6,7])\n",
    "\n",
    "# y = x * 2 + 5\n",
    "\n",
    "# plt.bar(x,y)\n",
    "# plt.title(\"bar plot\")\n",
    "# plt.xlabel(\"x\")\n",
    "# plt.ylabel(\"y\")\n",
    "# plt.show()"
   ]
  },
  {
   "cell_type": "code",
   "execution_count": 3,
   "metadata": {},
   "outputs": [
    {
     "data": {
      "image/png": "[encoded data removed]",
      "text/plain": [
       "<Figure size 432x288 with 1 Axes>"
      ]
     },
     "metadata": {
      "needs_background": "light"
     },
     "output_type": "display_data"
    }
   ],
   "source": [
    "x = np.array([1,2,3,4,5,6,7])\n",
    "a = [\"turkey\",\"usa\",\"germany\",\"france\",\"england\",\"polond\",\"italy\" ]\n",
    "y = x * 2 + 5\n",
    "\n",
    "plt.bar(a,y)\n",
    "plt.title(\"Bar Plot\")\n",
    "plt.xlabel(\"Country\")\n",
    "plt.ylabel(\"Income distribution\")\n",
    "plt.show()"
   ]
  }
 ],
 "metadata": {
  "interpreter": {
   "hash": "e78dbf5722967f313c4c7f2f73db293759ee911f3cc260e746cc2fb2541b961a"
  },
  "kernelspec": {
   "display_name": "Python 3.9.7 ('base')",
   "language": "python",
   "name": "python3"
  },
  "language_info": {
   "codemirror_mode": {
    "name": "ipython",
    "version": 3
   },
   "file_extension": ".py",
   "mimetype": "text/x-python",
   "name": "python",
   "nbconvert_exporter": "python",
   "pygments_lexer": "ipython3",
   "version": "3.9.7"
  },
  "orig_nbformat": 4
 },
 "nbformat": 4,
 "nbformat_minor": 2
}
