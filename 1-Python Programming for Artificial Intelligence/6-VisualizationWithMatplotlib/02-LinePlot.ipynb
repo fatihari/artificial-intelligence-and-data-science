{
 "cells": [
  {
   "cell_type": "code",
   "execution_count": null,
   "metadata": {},
   "outputs": [],
   "source": [
    "import pandas as pd\n",
    "import matplotlib.pyplot as plt\n",
    "%matplotlib widget\n",
    "\n",
    "df = pd.read_csv(\"dataset\\iris.csv\") # df=dataFrame\n",
    "df"
   ]
  },
  {
   "cell_type": "code",
   "execution_count": null,
   "metadata": {},
   "outputs": [],
   "source": [
    "df1 = df.drop([\"Id\"],axis=1) # id bilgisi kullancağım bir veri olmadığı için drop ederiz.\n",
    "df1"
   ]
  },
  {
   "cell_type": "code",
   "execution_count": null,
   "metadata": {},
   "outputs": [],
   "source": [
    "#df1.plot()\n",
    "#plt.show()"
   ]
  },
  {
   "cell_type": "code",
   "execution_count": null,
   "metadata": {},
   "outputs": [],
   "source": [
    "setosa = df[df.Species == \"Iris-setosa\"]\n",
    "versicolor = df[df.Species == \"Iris-versicolor\"]\n",
    "virginica = df[df.Species == \"Iris-virginica\"]"
   ]
  },
  {
   "cell_type": "code",
   "execution_count": null,
   "metadata": {},
   "outputs": [],
   "source": [
    "# plt.plot(setosa.Id, setosa.PetalLengthCm, color=\"red\", label= \"setosa\")\n",
    "# plt.legend() # label'ı grafiğin üst kısmında bastımak için kullanırız.\n",
    "# plt.xlabel(\"Id\")\n",
    "# plt.ylabel(\"PetalLengthCm\")\n",
    "# plt.show()"
   ]
  },
  {
   "cell_type": "code",
   "execution_count": null,
   "metadata": {},
   "outputs": [],
   "source": [
    "plt.plot(setosa.Id,setosa.PetalLengthCm,color=\"red\",label= \"setosa\")\n",
    "plt.plot(versicolor.Id,versicolor.PetalLengthCm,color=\"green\",label= \"versicolor\")\n",
    "plt.plot(virginica.Id,virginica.PetalLengthCm,color=\"blue\",label= \"virginica\")\n",
    "plt.legend()\n",
    "plt.xlabel(\"Id\")\n",
    "plt.ylabel(\"PetalLengthCm\")\n",
    "plt.show()"
   ]
  },
  {
   "cell_type": "code",
   "execution_count": null,
   "metadata": {},
   "outputs": [],
   "source": [
    "df1.plot(grid=True,alpha= 0.9) # alpha = opacity rate\n",
    "plt.show()"
   ]
  }
 ],
 "metadata": {
  "interpreter": {
   "hash": "e78dbf5722967f313c4c7f2f73db293759ee911f3cc260e746cc2fb2541b961a"
  },
  "kernelspec": {
   "display_name": "Python 3.9.7 ('base')",
   "language": "python",
   "name": "python3"
  },
  "language_info": {
   "codemirror_mode": {
    "name": "ipython",
    "version": 3
   },
   "file_extension": ".py",
   "mimetype": "text/x-python",
   "name": "python",
   "nbconvert_exporter": "python",
   "pygments_lexer": "ipython3",
   "version": "3.9.7"
  },
  "orig_nbformat": 4
 },
 "nbformat": 4,
 "nbformat_minor": 2
}
