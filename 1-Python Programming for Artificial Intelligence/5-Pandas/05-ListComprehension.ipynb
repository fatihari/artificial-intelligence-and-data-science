{
 "cells": [
  {
   "cell_type": "code",
   "execution_count": 27,
   "metadata": {},
   "outputs": [
    {
     "name": "stdout",
     "output_type": "stream",
     "text": [
      "    NAME  AGE  SALARY\n",
      "0    ali   15     100\n",
      "1   veli   16     150\n",
      "2  kenan   17     240\n",
      "3  hilal   33     350\n",
      "4   ayse   45     110\n",
      "5  evren   66     220\n"
     ]
    }
   ],
   "source": [
    "import pandas as pd\n",
    "dictionary = {  \"NAME\":[\"ali\",\"veli\",\"kenan\",\"hilal\",\"ayse\",\"evren\"],\n",
    "                \"AGE\":[15,16,17,33,45,66],\n",
    "                \"SALARY\": [100,150,240,350,110,220]} \n",
    "dataFrame1 = pd.DataFrame(dictionary) # Verilen bir listi (dict) kullanarak, bir veri tablosu oluşturur.\n",
    "print(dataFrame1)"
   ]
  },
  {
   "cell_type": "code",
   "execution_count": 28,
   "metadata": {},
   "outputs": [
    {
     "name": "stdout",
     "output_type": "stream",
     "text": [
      "0    100\n",
      "1    150\n",
      "2    240\n",
      "3    350\n",
      "4    110\n",
      "5    220\n",
      "Name: SALARY, dtype: int64\n"
     ]
    }
   ],
   "source": [
    "print(dataFrame1.SALARY)"
   ]
  },
  {
   "cell_type": "code",
   "execution_count": 29,
   "metadata": {},
   "outputs": [
    {
     "name": "stdout",
     "output_type": "stream",
     "text": [
      "195.0\n"
     ]
    }
   ],
   "source": [
    "average_salary = dataFrame1.SALARY.mean()\n",
    "print(average_salary)"
   ]
  },
  {
   "cell_type": "markdown",
   "metadata": {},
   "source": [
    "> Aynı yöntem numpy'da da yapılabilir."
   ]
  },
  {
   "cell_type": "code",
   "execution_count": 30,
   "metadata": {},
   "outputs": [
    {
     "name": "stdout",
     "output_type": "stream",
     "text": [
      "195.0\n"
     ]
    }
   ],
   "source": [
    "import numpy as np\n",
    "average_salary_np = np.mean(dataFrame1.SALARY)\n",
    "print(average_salary_np)"
   ]
  },
  {
   "cell_type": "code",
   "execution_count": 31,
   "metadata": {},
   "outputs": [
    {
     "name": "stdout",
     "output_type": "stream",
     "text": [
      "low\n",
      "low\n",
      "high\n",
      "high\n",
      "low\n",
      "high\n"
     ]
    }
   ],
   "source": [
    "for i in dataFrame1.SALARY:\n",
    "    if(average_salary > i):\n",
    "        print(\"low\")\n",
    "    else:\n",
    "        print(\"high\")"
   ]
  },
  {
   "cell_type": "markdown",
   "metadata": {},
   "source": [
    "> List comprehension: offers a **shorter syntax** when you want to create a new list based on the values of an existing list.\n",
    "\n"
   ]
  },
  {
   "cell_type": "code",
   "execution_count": 32,
   "metadata": {},
   "outputs": [
    {
     "name": "stdout",
     "output_type": "stream",
     "text": [
      "    NAME  AGE  SALARY SALARY LEVEL\n",
      "0    ali   15     100          low\n",
      "1   veli   16     150          low\n",
      "2  kenan   17     240         high\n",
      "3  hilal   33     350         high\n",
      "4   ayse   45     110          low\n",
      "5  evren   66     220         high\n"
     ]
    }
   ],
   "source": [
    "dataFrame1[\"SALARY LEVEL\"] = [\"high\" if i > average_salary else \"low\" for i in dataFrame1.SALARY]\n",
    "print(dataFrame1)"
   ]
  },
  {
   "cell_type": "code",
   "execution_count": 33,
   "metadata": {},
   "outputs": [
    {
     "name": "stdout",
     "output_type": "stream",
     "text": [
      "Index(['NAME', 'AGE', 'SALARY', 'SALARY LEVEL'], dtype='object')\n"
     ]
    }
   ],
   "source": [
    "print(dataFrame1.columns)"
   ]
  },
  {
   "cell_type": "code",
   "execution_count": 34,
   "metadata": {},
   "outputs": [
    {
     "name": "stdout",
     "output_type": "stream",
     "text": [
      "Index(['name', 'age', 'salary', 'salary level'], dtype='object')\n"
     ]
    }
   ],
   "source": [
    "dataFrame1.columns = [ each.lower() for each in dataFrame1.columns]\n",
    "print(dataFrame1.columns)"
   ]
  },
  {
   "cell_type": "code",
   "execution_count": 36,
   "metadata": {},
   "outputs": [
    {
     "name": "stdout",
     "output_type": "stream",
     "text": [
      "Index(['name', 'age', 'salary', 'salary_level'], dtype='object')\n"
     ]
    }
   ],
   "source": [
    "dataFrame1.columns = [each.split()[0]+\"_\"+each.split()[1] if(len(each.split())>1) else each for each in dataFrame1.columns]\n",
    "print(dataFrame1.columns) # sütundaki boşluk yerine _ yazıldı."
   ]
  }
 ],
 "metadata": {
  "interpreter": {
   "hash": "e78dbf5722967f313c4c7f2f73db293759ee911f3cc260e746cc2fb2541b961a"
  },
  "kernelspec": {
   "display_name": "Python 3.9.7 ('base')",
   "language": "python",
   "name": "python3"
  },
  "language_info": {
   "codemirror_mode": {
    "name": "ipython",
    "version": 3
   },
   "file_extension": ".py",
   "mimetype": "text/x-python",
   "name": "python",
   "nbconvert_exporter": "python",
   "pygments_lexer": "ipython3",
   "version": "3.9.7"
  },
  "orig_nbformat": 4
 },
 "nbformat": 4,
 "nbformat_minor": 2
}
