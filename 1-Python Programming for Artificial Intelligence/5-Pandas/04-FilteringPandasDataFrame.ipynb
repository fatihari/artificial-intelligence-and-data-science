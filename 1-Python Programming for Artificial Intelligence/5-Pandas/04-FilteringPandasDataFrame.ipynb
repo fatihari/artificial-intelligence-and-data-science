{
 "cells": [
  {
   "cell_type": "code",
   "execution_count": 1,
   "metadata": {},
   "outputs": [
    {
     "name": "stdout",
     "output_type": "stream",
     "text": [
      "    NAME  AGE  SALARY\n",
      "0    ali   15     100\n",
      "1   veli   16     150\n",
      "2  kenan   17     240\n",
      "3  hilal   33     350\n",
      "4   ayse   45     110\n",
      "5  evren   66     220\n"
     ]
    }
   ],
   "source": [
    "import pandas as pd\n",
    "dictionary = {  \"NAME\":[\"ali\",\"veli\",\"kenan\",\"hilal\",\"ayse\",\"evren\"],\n",
    "                \"AGE\":[15,16,17,33,45,66],\n",
    "                \"SALARY\": [100,150,240,350,110,220]} \n",
    "dataFrame1 = pd.DataFrame(dictionary) # Verilen bir listi (dict) kullanarak, bir veri tablosu oluşturur.\n",
    "print(dataFrame1)"
   ]
  },
  {
   "cell_type": "code",
   "execution_count": 5,
   "metadata": {},
   "outputs": [
    {
     "name": "stdout",
     "output_type": "stream",
     "text": [
      "0    False\n",
      "1    False\n",
      "2     True\n",
      "3     True\n",
      "4    False\n",
      "5     True\n",
      "Name: SALARY, dtype: bool\n",
      "Type of filter1 is: <class 'pandas.core.series.Series'>\n"
     ]
    }
   ],
   "source": [
    "filter1 = dataFrame1.SALARY > 200 # Maaşı 200'den büyük insanlara listelemek için filtering kullanırız. Bu numpydeki tek boyutlu arrayle aynı (series çıktısı vardır)\n",
    "print(filter1) # filter1 ile filtredeki true ve falseları görürüz.\n",
    "print('Type of filter1 is:', type(filter1))"
   ]
  },
  {
   "cell_type": "code",
   "execution_count": 8,
   "metadata": {},
   "outputs": [
    {
     "name": "stdout",
     "output_type": "stream",
     "text": [
      "    NAME  AGE  SALARY\n",
      "2  kenan   17     240\n",
      "3  hilal   33     350\n",
      "5  evren   66     220\n"
     ]
    }
   ],
   "source": [
    "filtered_data = dataFrame1[filter1] # Burada filter1 içerisindeki yalnızca true değerleri alır yani maaşı 200'den fazla olanları.\n",
    "print(filtered_data)"
   ]
  },
  {
   "cell_type": "code",
   "execution_count": 9,
   "metadata": {},
   "outputs": [
    {
     "name": "stdout",
     "output_type": "stream",
     "text": [
      "0     True\n",
      "1     True\n",
      "2     True\n",
      "3    False\n",
      "4    False\n",
      "5    False\n",
      "Name: AGE, dtype: bool\n"
     ]
    }
   ],
   "source": [
    "filter2 = dataFrame1.AGE < 20\n",
    "print(filter2)"
   ]
  },
  {
   "cell_type": "code",
   "execution_count": 12,
   "metadata": {},
   "outputs": [
    {
     "name": "stdout",
     "output_type": "stream",
     "text": [
      "    NAME  AGE  SALARY\n",
      "2  kenan   17     240\n"
     ]
    }
   ],
   "source": [
    "filtered_data2 = dataFrame1[filter1 & filter2] # yaşı 20den küçük, maaşı 200den büyük\n",
    "print(filtered_data2)"
   ]
  },
  {
   "cell_type": "code",
   "execution_count": 15,
   "metadata": {},
   "outputs": [
    {
     "name": "stdout",
     "output_type": "stream",
     "text": [
      "    NAME  AGE  SALARY\n",
      "5  evren   66     220\n"
     ]
    }
   ],
   "source": [
    "print(dataFrame1[dataFrame1.AGE > 60]) # uzun uzadıya yazmak yerine, tek bir kerede filteremek için"
   ]
  }
 ],
 "metadata": {
  "interpreter": {
   "hash": "e78dbf5722967f313c4c7f2f73db293759ee911f3cc260e746cc2fb2541b961a"
  },
  "kernelspec": {
   "display_name": "Python 3.9.7 ('base')",
   "language": "python",
   "name": "python3"
  },
  "language_info": {
   "codemirror_mode": {
    "name": "ipython",
    "version": 3
   },
   "file_extension": ".py",
   "mimetype": "text/x-python",
   "name": "python",
   "nbconvert_exporter": "python",
   "pygments_lexer": "ipython3",
   "version": "3.9.7"
  },
  "orig_nbformat": 4
 },
 "nbformat": 4,
 "nbformat_minor": 2
}
