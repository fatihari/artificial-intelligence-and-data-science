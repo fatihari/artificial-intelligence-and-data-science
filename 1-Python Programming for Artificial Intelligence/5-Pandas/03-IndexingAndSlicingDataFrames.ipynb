{
 "cells": [
  {
   "cell_type": "code",
   "execution_count": 23,
   "metadata": {},
   "outputs": [
    {
     "name": "stdout",
     "output_type": "stream",
     "text": [
      "    NAME  AGE  SALARY\n",
      "0    ali   15     100\n",
      "1   veli   16     150\n",
      "2  kenan   17     240\n",
      "3  hilal   33     350\n",
      "4   ayse   45     110\n",
      "5  evren   66     220\n"
     ]
    }
   ],
   "source": [
    "import pandas as pd\n",
    "dictionary = {  \"NAME\":[\"ali\",\"veli\",\"kenan\",\"hilal\",\"ayse\",\"evren\"],\n",
    "                \"AGE\":[15,16,17,33,45,66],\n",
    "                \"SALARY\": [100,150,240,350,110,220]} \n",
    "dataFrame1 = pd.DataFrame(dictionary) # Verilen bir listi (dict) kullanarak, bir veri tablosu oluşturur.\n",
    "print(dataFrame1)"
   ]
  },
  {
   "cell_type": "code",
   "execution_count": 24,
   "metadata": {},
   "outputs": [
    {
     "name": "stdout",
     "output_type": "stream",
     "text": [
      "0    15\n",
      "1    16\n",
      "2    17\n",
      "3    33\n",
      "4    45\n",
      "5    66\n",
      "Name: AGE, dtype: int64\n"
     ]
    }
   ],
   "source": [
    "print(dataFrame1[\"AGE\"]) # numpy ve listten farklı olarak index de yazılır."
   ]
  },
  {
   "cell_type": "code",
   "execution_count": 25,
   "metadata": {},
   "outputs": [
    {
     "name": "stdout",
     "output_type": "stream",
     "text": [
      "0    15\n",
      "1    16\n",
      "2    17\n",
      "3    33\n",
      "4    45\n",
      "5    66\n",
      "Name: AGE, dtype: int64\n"
     ]
    }
   ],
   "source": [
    "print(dataFrame1.AGE) # second method"
   ]
  },
  {
   "cell_type": "code",
   "execution_count": 26,
   "metadata": {},
   "outputs": [
    {
     "name": "stdout",
     "output_type": "stream",
     "text": [
      "    NAME  AGE  SALARY  new_feature\n",
      "0    ali   15     100           -1\n",
      "1   veli   16     150           -2\n",
      "2  kenan   17     240           -3\n",
      "3  hilal   33     350           -4\n",
      "4   ayse   45     110           -5\n",
      "5  evren   66     220           -6\n"
     ]
    }
   ],
   "source": [
    "dataFrame1[\"new_feature\"] = [-1,-2,-3,-4,-5,-6] # feature ismine boşluk bırakma. :)\n",
    "print(dataFrame1)"
   ]
  },
  {
   "cell_type": "markdown",
   "metadata": {},
   "source": [
    "> loc: (String **Location**) Access a group of rows and columns by **label(s)** or a boolean array."
   ]
  },
  {
   "cell_type": "code",
   "execution_count": 27,
   "metadata": {},
   "outputs": [
    {
     "name": "stdout",
     "output_type": "stream",
     "text": [
      "0    15\n",
      "1    16\n",
      "2    17\n",
      "3    33\n",
      "4    45\n",
      "5    66\n",
      "Name: AGE, dtype: int64\n"
     ]
    }
   ],
   "source": [
    "print(dataFrame1.loc[:, \"AGE\"]) # tüm satırlarını ve \"AGE\" sütununu alır. "
   ]
  },
  {
   "cell_type": "markdown",
   "metadata": {},
   "source": [
    "> Aşağıdaki :3 ya da 0:3 değeri, List ve Numpy'da bu 3 exclusive, fakat pandas'ta inclusive'dir! :)"
   ]
  },
  {
   "cell_type": "code",
   "execution_count": 28,
   "metadata": {},
   "outputs": [
    {
     "name": "stdout",
     "output_type": "stream",
     "text": [
      "0    15\n",
      "1    16\n",
      "2    17\n",
      "3    33\n",
      "Name: AGE, dtype: int64\n"
     ]
    }
   ],
   "source": [
    "print(dataFrame1.loc[:3, \"AGE\"]) # 0'dan : 3'e kadar satırları(3 dahil) ve AGE sütunundaki verileri salır. :3 yerine 0:3 te yazabilirdik."
   ]
  },
  {
   "cell_type": "code",
   "execution_count": 42,
   "metadata": {},
   "outputs": [
    {
     "name": "stdout",
     "output_type": "stream",
     "text": [
      "    NAME  AGE  SALARY\n",
      "0    ali   15     100\n",
      "1   veli   16     150\n",
      "2  kenan   17     240\n",
      "3  hilal   33     350\n"
     ]
    }
   ],
   "source": [
    "print(dataFrame1.loc[0:3, \"NAME\":\"SALARY\"]) # name'den salary sütununa kadar ve 0'dan 3. satıra kadar(3 inclusive) yazdırır."
   ]
  },
  {
   "cell_type": "code",
   "execution_count": 43,
   "metadata": {},
   "outputs": [
    {
     "name": "stdout",
     "output_type": "stream",
     "text": [
      "    NAME  AGE\n",
      "0    ali   15\n",
      "1   veli   16\n",
      "2  kenan   17\n",
      "3  hilal   33\n"
     ]
    }
   ],
   "source": [
    "print(dataFrame1.loc[0:3, [\"NAME\",\"AGE\"]]) # yalnızca name ve age sütunları ve 0'dan 3. satıra kadar(3 inclusive) yazdırır."
   ]
  },
  {
   "cell_type": "code",
   "execution_count": 46,
   "metadata": {},
   "outputs": [
    {
     "name": "stdout",
     "output_type": "stream",
     "text": [
      "    NAME  AGE  SALARY  new_feature\n",
      "5  evren   66     220           -6\n",
      "4   ayse   45     110           -5\n",
      "3  hilal   33     350           -4\n",
      "2  kenan   17     240           -3\n",
      "1   veli   16     150           -2\n",
      "0    ali   15     100           -1\n"
     ]
    }
   ],
   "source": [
    "print(dataFrame1.loc[::-1,:]) # reverse all data"
   ]
  },
  {
   "cell_type": "code",
   "execution_count": 48,
   "metadata": {},
   "outputs": [
    {
     "name": "stdout",
     "output_type": "stream",
     "text": [
      "    NAME  AGE\n",
      "0    ali   15\n",
      "1   veli   16\n",
      "2  kenan   17\n",
      "3  hilal   33\n",
      "4   ayse   45\n",
      "5  evren   66\n"
     ]
    }
   ],
   "source": [
    "print(dataFrame1.loc[:, :\"AGE\"]) # tüm satırları yazdır ancak bana buradan AGE'e kadar olan sütunları yazdır.\n",
    "# print(dataFrame1.loc[:, 0 :\"AGE\"]) # iki si de aynı"
   ]
  },
  {
   "cell_type": "markdown",
   "metadata": {},
   "source": [
    "> iloc: **(Integer Location)** Purely integer-location based indexing for selection by position.\n",
    ">\n",
    "> .iloc[] is primarily integer position based (from 0 to length-1 of the axis)\n"
   ]
  },
  {
   "cell_type": "code",
   "execution_count": 52,
   "metadata": {},
   "outputs": [
    {
     "name": "stdout",
     "output_type": "stream",
     "text": [
      "0    15\n",
      "1    16\n",
      "2    17\n",
      "3    33\n",
      "4    45\n",
      "5    66\n",
      "Name: AGE, dtype: int64\n"
     ]
    }
   ],
   "source": [
    "print(dataFrame1.iloc[:,1]) # 1. indexte Age sütunu var."
   ]
  },
  {
   "cell_type": "code",
   "execution_count": 54,
   "metadata": {},
   "outputs": [
    {
     "data": {
      "text/plain": [
       "AGE        33\n",
       "NAME    hilal\n",
       "Name: 3, dtype: object"
      ]
     },
     "execution_count": 54,
     "metadata": {},
     "output_type": "execute_result"
    }
   ],
   "source": [
    "dataFrame1.loc[3, [\"AGE\",\"NAME\"]] # 3. indexin age ve name'ini bastırır."
   ]
  }
 ],
 "metadata": {
  "interpreter": {
   "hash": "e78dbf5722967f313c4c7f2f73db293759ee911f3cc260e746cc2fb2541b961a"
  },
  "kernelspec": {
   "display_name": "Python 3.9.7 ('base')",
   "language": "python",
   "name": "python3"
  },
  "language_info": {
   "codemirror_mode": {
    "name": "ipython",
    "version": 3
   },
   "file_extension": ".py",
   "mimetype": "text/x-python",
   "name": "python",
   "nbconvert_exporter": "python",
   "pygments_lexer": "ipython3",
   "version": "3.9.7"
  },
  "orig_nbformat": 4
 },
 "nbformat": 4,
 "nbformat_minor": 2
}
