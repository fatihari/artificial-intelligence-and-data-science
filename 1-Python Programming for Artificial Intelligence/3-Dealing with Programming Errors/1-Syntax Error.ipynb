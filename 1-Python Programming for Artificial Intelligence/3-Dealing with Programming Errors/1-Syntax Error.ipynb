{
 "cells": [
  {
   "cell_type": "code",
   "execution_count": 9,
   "metadata": {},
   "outputs": [
    {
     "name": "stdout",
     "output_type": "stream",
     "text": [
      "9\n"
     ]
    }
   ],
   "source": [
    "print(9)\n",
    "# print 9\n",
    "# out = SyntaxError: invalid syntax"
   ]
  },
  {
   "cell_type": "code",
   "execution_count": 10,
   "metadata": {},
   "outputs": [
    {
     "data": {
      "text/plain": [
       "10"
      ]
     },
     "execution_count": 10,
     "metadata": {},
     "output_type": "execute_result"
    }
   ],
   "source": [
    "int(10.0)\n",
    "# int 10.0\n",
    "# out = SyntaxError: invalid syntax"
   ]
  },
  {
   "cell_type": "code",
   "execution_count": 11,
   "metadata": {},
   "outputs": [
    {
     "name": "stdout",
     "output_type": "stream",
     "text": [
      "0\n",
      "1\n",
      "2\n",
      "3\n",
      "4\n"
     ]
    }
   ],
   "source": [
    "i = 0\n",
    "while(i<5):\n",
    "    print(i)\n",
    "    i += 1\n",
    "\n",
    "# i = 0\n",
    "# whille(i<5):\n",
    "#    print(i)\n",
    "#    i += 1\n",
    "# out = SyntaxError: invalid syntax"
   ]
  },
  {
   "cell_type": "code",
   "execution_count": 1,
   "metadata": {},
   "outputs": [
    {
     "name": "stdout",
     "output_type": "stream",
     "text": [
      "6\n"
     ]
    }
   ],
   "source": [
    "list = [1,2,3]\n",
    "print(sum(list))\n",
    "\n",
    "# list = [1,2,3]\n",
    "# print(sum(list)\n",
    "# out=SyntaxError: unexpected EOF while parsing"
   ]
  },
  {
   "cell_type": "code",
   "execution_count": 2,
   "metadata": {},
   "outputs": [
    {
     "name": "stdout",
     "output_type": "stream",
     "text": [
      "\"Ali\", hello world\n",
      "'Ali', hello world\n",
      "Ali '\n",
      "\n",
      "\"Ali\", hello world\n"
     ]
    }
   ],
   "source": [
    "# string1 = ''Ali', hello world'\n",
    "# SyntaxError: invalid syntax\n",
    "string1 = '\"Ali\", hello world'\n",
    "string2 = \"'Ali', hello world\"\n",
    "string3 = \"Ali '\\n\"\n",
    "string4 = \"\\\"Ali\\\", hello world\"\n",
    "print(string1)\n",
    "print(string2)\n",
    "print(string3)\n",
    "print(string4)"
   ]
  }
 ],
 "metadata": {
  "interpreter": {
   "hash": "e78dbf5722967f313c4c7f2f73db293759ee911f3cc260e746cc2fb2541b961a"
  },
  "kernelspec": {
   "display_name": "Python 3.9.7 ('base')",
   "language": "python",
   "name": "python3"
  },
  "language_info": {
   "codemirror_mode": {
    "name": "ipython",
    "version": 3
   },
   "file_extension": ".py",
   "mimetype": "text/x-python",
   "name": "python",
   "nbconvert_exporter": "python",
   "pygments_lexer": "ipython3",
   "version": "3.9.7"
  },
  "orig_nbformat": 4
 },
 "nbformat": 4,
 "nbformat_minor": 2
}
