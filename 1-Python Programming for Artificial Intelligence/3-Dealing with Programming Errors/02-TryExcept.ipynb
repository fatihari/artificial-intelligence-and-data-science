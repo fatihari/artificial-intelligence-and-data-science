{
 "cells": [
  {
   "cell_type": "code",
   "execution_count": 1,
   "metadata": {},
   "outputs": [
    {
     "name": "stdout",
     "output_type": "stream",
     "text": [
      "102\n",
      "12\n"
     ]
    }
   ],
   "source": [
    "# python ilk başta syntax error var mı ona bakar. Syntax hatası varsa diğer hatalara bakmaz. Eğer Syntax sorunu çözülürse exceptionslara(diğer hatalara) bakacaktır.\n",
    "\n",
    "a = 10\n",
    "b = '2'\n",
    "\n",
    "# In order not to get the following error, one of the two print operations must be done. \n",
    "\n",
    "print(str(a)+b)\n",
    "print(a+int(b))\n",
    "\n",
    "# print(a+b) # error\n",
    "# TypeError: unsupported operand type(s) for +: 'int' and 'str'"
   ]
  },
  {
   "cell_type": "code",
   "execution_count": 2,
   "metadata": {},
   "outputs": [],
   "source": [
    "# TypeError: can only concatenate str (not \"int\") to str\n",
    "# '2' + 2"
   ]
  },
  {
   "cell_type": "code",
   "execution_count": 3,
   "metadata": {},
   "outputs": [
    {
     "name": "stdout",
     "output_type": "stream",
     "text": [
      "10\n"
     ]
    }
   ],
   "source": [
    "# print(k) # error\n",
    "# NameError: name 'k' is not defined\n",
    "\n",
    "k = 10\n",
    "print(k)"
   ]
  },
  {
   "cell_type": "code",
   "execution_count": 4,
   "metadata": {},
   "outputs": [
    {
     "data": {
      "text/plain": [
       "0"
      ]
     },
     "execution_count": 4,
     "metadata": {},
     "output_type": "execute_result"
    }
   ],
   "source": [
    "# print(k / 0) # error\n",
    "# ZeroDivisionError: division by zero\n",
    "\n",
    "# First Solution\n",
    "\n",
    "number = 0\n",
    "if(number==0):\n",
    "    a = 0\n",
    "else: # number !=0\n",
    "    a = k/number\n",
    "a"
   ]
  },
  {
   "cell_type": "code",
   "execution_count": 5,
   "metadata": {},
   "outputs": [
    {
     "data": {
      "text/plain": [
       "0"
      ]
     },
     "execution_count": 5,
     "metadata": {},
     "output_type": "execute_result"
    }
   ],
   "source": [
    "# Second Solution\n",
    "try:  # k'yı numbera bölmeyi dene.\n",
    "    a = k/number\n",
    "except ZeroDivisionError: # eger bölemez ve ZeroDivisionError hatasını alırsan, a=0 olsun.\n",
    "    a = 0\n",
    "a"
   ]
  },
  {
   "cell_type": "code",
   "execution_count": 6,
   "metadata": {},
   "outputs": [
    {
     "name": "stdout",
     "output_type": "stream",
     "text": [
      "except\n",
      "done\n"
     ]
    }
   ],
   "source": [
    "try:\n",
    "    1/0 # hata verdiği için excepte ve sonrasında finally'ye girer. ama ekrana hata basılmaz.\n",
    "     \n",
    "except:\n",
    "    print(\"except\")\n",
    "else:\n",
    "    print(\"else\")\n",
    "finally:\n",
    "    print(\"done\")"
   ]
  },
  {
   "cell_type": "code",
   "execution_count": 7,
   "metadata": {},
   "outputs": [
    {
     "name": "stdout",
     "output_type": "stream",
     "text": [
      "else\n",
      "done\n"
     ]
    }
   ],
   "source": [
    "try:\n",
    "    1/1 # hata vermediği için bir sonraki adımda else kısmına ve sonrasında finally'ye girer.\n",
    "     \n",
    "except:\n",
    "    print(\"except\")\n",
    "else:\n",
    "    print(\"else\")\n",
    "finally:\n",
    "    print(\"done\")"
   ]
  },
  {
   "cell_type": "code",
   "execution_count": 8,
   "metadata": {},
   "outputs": [
    {
     "data": {
      "text/plain": [
       "4"
      ]
     },
     "execution_count": 8,
     "metadata": {},
     "output_type": "execute_result"
    }
   ],
   "source": [
    "list1 = [1,2,3,4]\n",
    "list1[3]\n",
    "\n",
    "# list1[15] # error\n",
    "# IndexError: list index out of range"
   ]
  },
  {
   "cell_type": "code",
   "execution_count": 9,
   "metadata": {},
   "outputs": [],
   "source": [
    "# ModuleNotFoundError: No module named 'numpyy'\n",
    "# import numpyy\n",
    "import numpy"
   ]
  },
  {
   "cell_type": "code",
   "execution_count": 10,
   "metadata": {},
   "outputs": [],
   "source": [
    "# FileNotFoundError: [Errno 2] No such file or directory: 'asd'\n",
    "import pandas as pd\n",
    "# pd.read_csv('asd') # böyle bir dosya yok"
   ]
  },
  {
   "cell_type": "code",
   "execution_count": 11,
   "metadata": {},
   "outputs": [
    {
     "data": {
      "text/plain": [
       "123"
      ]
     },
     "execution_count": 11,
     "metadata": {},
     "output_type": "execute_result"
    }
   ],
   "source": [
    "# ValueError: invalid literal for int() with base 10: 'asd'\n",
    "# int('asd') # yalnızca sayilari convert edebilirz.\n",
    "\n",
    "int('123')"
   ]
  },
  {
   "cell_type": "code",
   "execution_count": 12,
   "metadata": {},
   "outputs": [],
   "source": [
    "# d1 = dict(1,2)\n",
    "# TypeError: dict expected at most 1 argument, got 2"
   ]
  }
 ],
 "metadata": {
  "interpreter": {
   "hash": "e78dbf5722967f313c4c7f2f73db293759ee911f3cc260e746cc2fb2541b961a"
  },
  "kernelspec": {
   "display_name": "Python 3.9.7 ('base')",
   "language": "python",
   "name": "python3"
  },
  "language_info": {
   "codemirror_mode": {
    "name": "ipython",
    "version": 3
   },
   "file_extension": ".py",
   "mimetype": "text/x-python",
   "name": "python",
   "nbconvert_exporter": "python",
   "pygments_lexer": "ipython3",
   "version": "3.9.7"
  },
  "orig_nbformat": 4
 },
 "nbformat": 4,
 "nbformat_minor": 2
}
