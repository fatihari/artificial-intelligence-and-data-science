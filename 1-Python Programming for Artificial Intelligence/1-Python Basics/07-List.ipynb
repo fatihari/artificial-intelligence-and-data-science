{
 "cells": [
  {
   "cell_type": "code",
   "execution_count": 1,
   "id": "764007e2",
   "metadata": {},
   "outputs": [
    {
     "data": {
      "text/plain": [
       "list"
      ]
     },
     "execution_count": 1,
     "metadata": {},
     "output_type": "execute_result"
    }
   ],
   "source": [
    "list1 = [1,2,3,4,5,6]\n",
    "type(list1)"
   ]
  },
  {
   "cell_type": "code",
   "execution_count": 2,
   "id": "b34a391d",
   "metadata": {},
   "outputs": [
    {
     "data": {
      "text/plain": [
       "list"
      ]
     },
     "execution_count": 2,
     "metadata": {},
     "output_type": "execute_result"
    }
   ],
   "source": [
    "list_str = [\"ptesi\",\"sali\",\"cars\"]\n",
    "type(list_str)"
   ]
  },
  {
   "cell_type": "code",
   "execution_count": 3,
   "id": "86433823",
   "metadata": {},
   "outputs": [
    {
     "name": "stdout",
     "output_type": "stream",
     "text": [
      "2\n",
      "sali\n"
     ]
    }
   ],
   "source": [
    "# dir(list1) # diyerek methodlarını görebiliriz\n",
    "\n",
    "print(list1[1])\n",
    "print(list_str[1])"
   ]
  },
  {
   "cell_type": "code",
   "execution_count": 4,
   "id": "3eda8464",
   "metadata": {},
   "outputs": [
    {
     "name": "stdout",
     "output_type": "stream",
     "text": [
      "6\n",
      "[1, 2, 3]\n",
      "[6, 4, 2]\n"
     ]
    }
   ],
   "source": [
    "last_value = list1[-1]\n",
    "list_divide = list1[0:3]\n",
    "print(last_value)\n",
    "print(list_divide)\n",
    "print(list1[::-2]) ## sondan başlayıp başa kadar 2'şerli olarak yazdırır."
   ]
  },
  {
   "cell_type": "code",
   "execution_count": 5,
   "id": "0696fff0",
   "metadata": {},
   "outputs": [],
   "source": [
    "# dir(list1)"
   ]
  },
  {
   "cell_type": "code",
   "execution_count": 6,
   "id": "bcab6ff4",
   "metadata": {},
   "outputs": [],
   "source": [
    "def deneme():\n",
    "    dictionary = {\"ali\":32,\"veli\":45,\"ayse\":13}\n",
    "    return dictionary"
   ]
  },
  {
   "cell_type": "code",
   "execution_count": 7,
   "id": "8b081c30",
   "metadata": {},
   "outputs": [
    {
     "name": "stdout",
     "output_type": "stream",
     "text": [
      "45\n"
     ]
    }
   ],
   "source": [
    "dic = deneme()\n",
    "print(dic['veli'])"
   ]
  },
  {
   "cell_type": "code",
   "execution_count": 8,
   "id": "23b33cab",
   "metadata": {},
   "outputs": [
    {
     "data": {
      "text/plain": [
       "[1, 2, 3, 4, 5, 6, 7]"
      ]
     },
     "execution_count": 8,
     "metadata": {},
     "output_type": "execute_result"
    }
   ],
   "source": [
    "list1.append(7)\n",
    "list1"
   ]
  },
  {
   "cell_type": "code",
   "execution_count": 9,
   "id": "dfb814bb",
   "metadata": {},
   "outputs": [
    {
     "data": {
      "text/plain": [
       "7"
      ]
     },
     "execution_count": 9,
     "metadata": {},
     "output_type": "execute_result"
    }
   ],
   "source": [
    "# help(list1.insert)\n",
    "len(list1)"
   ]
  },
  {
   "cell_type": "code",
   "execution_count": 10,
   "id": "28c347da",
   "metadata": {},
   "outputs": [
    {
     "data": {
      "text/plain": [
       "[1, 2, 3, 4, 5, 6, 7, 20]"
      ]
     },
     "execution_count": 10,
     "metadata": {},
     "output_type": "execute_result"
    }
   ],
   "source": [
    "list1.insert(7,20)\n",
    "list1"
   ]
  },
  {
   "cell_type": "code",
   "execution_count": 11,
   "id": "71dc9891",
   "metadata": {},
   "outputs": [
    {
     "data": {
      "text/plain": [
       "[1, 2, 3, -20, 4, 5, 6, 7, 20, 41]"
      ]
     },
     "execution_count": 11,
     "metadata": {},
     "output_type": "execute_result"
    }
   ],
   "source": [
    "list1.insert(3, -20)\n",
    "list1.append(41)\n",
    "list1"
   ]
  },
  {
   "cell_type": "code",
   "execution_count": 12,
   "id": "c5607a4e",
   "metadata": {},
   "outputs": [
    {
     "name": "stdout",
     "output_type": "stream",
     "text": [
      "Original List:  [1, 2, 3, -20, 4, 5, 6, 7, 20]\n",
      "Reversed List:  [20, 7, 6, 5, 4, -20, 3, 2, 1]\n",
      "Sorted List:    [-20, 1, 2, 3, 4, 5, 6, 7, 20]\n",
      "Reversed List:  [20, 7, 6, 5, 4, 3, 2, 1, -20]\n"
     ]
    }
   ],
   "source": [
    "list1.remove(41)\n",
    "print('Original List: ', list1)\n",
    "list1.reverse()\n",
    "print('Reversed List: ', list1)\n",
    "list1.sort() # list1 artık sıralanmış bir şekilde güncellenir.\n",
    "print('Sorted List:   ', list1)\n",
    "list1.reverse()\n",
    "print('Reversed List: ', list1)"
   ]
  },
  {
   "cell_type": "code",
   "execution_count": 13,
   "id": "c03dd9a9",
   "metadata": {},
   "outputs": [
    {
     "data": {
      "text/plain": [
       "'asla vazgecmeyin'"
      ]
     },
     "execution_count": 13,
     "metadata": {},
     "output_type": "execute_result"
    }
   ],
   "source": [
    "a = 'sakin calismaktan vazgecmeyin'\n",
    "a[1]+a[0]+a[8]+a[1] + \" \" + a[-11:] # sondan 11. indexten itibaren, sona kadar."
   ]
  },
  {
   "cell_type": "code",
   "execution_count": 14,
   "id": "a7666253",
   "metadata": {},
   "outputs": [
    {
     "data": {
      "text/plain": [
       "'ak'"
      ]
     },
     "execution_count": 14,
     "metadata": {},
     "output_type": "execute_result"
    }
   ],
   "source": [
    "a[1:3] # 1.indexten başlar, 3. indexe kadar yazdırır."
   ]
  },
  {
   "cell_type": "code",
   "execution_count": 15,
   "id": "26ec9eb8",
   "metadata": {},
   "outputs": [
    {
     "data": {
      "text/plain": [
       "2"
      ]
     },
     "execution_count": 15,
     "metadata": {},
     "output_type": "execute_result"
    }
   ],
   "source": [
    "a = [[1,2,3],[3,2,1],[0,0,0]]\n",
    "a[1][1]"
   ]
  },
  {
   "cell_type": "code",
   "execution_count": 16,
   "id": "86d177ed",
   "metadata": {},
   "outputs": [
    {
     "data": {
      "text/plain": [
       "['d', 'a', 't', 'a', 'i', 't', 'e', 'a', 'm']"
      ]
     },
     "execution_count": 16,
     "metadata": {},
     "output_type": "execute_result"
    }
   ],
   "source": [
    "# del list # Let's remove \"list\" from the global namespace\n",
    "# Since there is no \"list\" in the global namespace of the module,\n",
    "# Python goes to a higher-level namespace to find the name. \n",
    "list(\"dataiteam\") # # It works."
   ]
  }
 ],
 "metadata": {
  "kernelspec": {
   "display_name": "Python 3 (ipykernel)",
   "language": "python",
   "name": "python3"
  },
  "language_info": {
   "codemirror_mode": {
    "name": "ipython",
    "version": 3
   },
   "file_extension": ".py",
   "mimetype": "text/x-python",
   "name": "python",
   "nbconvert_exporter": "python",
   "pygments_lexer": "ipython3",
   "version": "3.9.7"
  }
 },
 "nbformat": 4,
 "nbformat_minor": 5
}
