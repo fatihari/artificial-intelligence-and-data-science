{
 "cells": [
  {
   "cell_type": "code",
   "execution_count": 1,
   "id": "764007e2",
   "metadata": {},
   "outputs": [],
   "source": [
    "dictionary = {\"ali\":32,\"veli\":45,\"ayse\":13}"
   ]
  },
  {
   "cell_type": "code",
   "execution_count": 2,
   "id": "b34a391d",
   "metadata": {},
   "outputs": [
    {
     "name": "stdout",
     "output_type": "stream",
     "text": [
      "dict_keys(['ali', 'veli', 'ayse'])\n"
     ]
    }
   ],
   "source": [
    "print(dictionary.keys())"
   ]
  },
  {
   "cell_type": "code",
   "execution_count": 3,
   "id": "86433823",
   "metadata": {},
   "outputs": [
    {
     "name": "stdout",
     "output_type": "stream",
     "text": [
      "dict_values([32, 45, 13])\n"
     ]
    }
   ],
   "source": [
    "print(dictionary.values())"
   ]
  },
  {
   "cell_type": "code",
   "execution_count": 4,
   "id": "bcab6ff4",
   "metadata": {},
   "outputs": [],
   "source": [
    "def deneme():\n",
    "    dictionary = {\"ali\":32,\"veli\":45,\"ayse\":13}\n",
    "    return dictionary"
   ]
  },
  {
   "cell_type": "code",
   "execution_count": 5,
   "id": "8b081c30",
   "metadata": {},
   "outputs": [
    {
     "name": "stdout",
     "output_type": "stream",
     "text": [
      "45\n"
     ]
    }
   ],
   "source": [
    "dic = deneme()\n",
    "print(dic['veli'])"
   ]
  },
  {
   "cell_type": "code",
   "execution_count": 6,
   "id": "23b33cab",
   "metadata": {},
   "outputs": [
    {
     "data": {
      "text/plain": [
       "False"
      ]
     },
     "execution_count": 6,
     "metadata": {},
     "output_type": "execute_result"
    }
   ],
   "source": [
    "d1 = {\"datai\" : 40,\"team\" : 45}\n",
    "d2 = {\"datai\" : 55,\"team\" : 45}\n",
    "d1 == d2"
   ]
  },
  {
   "cell_type": "code",
   "execution_count": 7,
   "id": "093bdc24",
   "metadata": {},
   "outputs": [
    {
     "data": {
      "text/plain": [
       "{2: 'x', 3: 'y'}"
      ]
     },
     "execution_count": 7,
     "metadata": {},
     "output_type": "execute_result"
    }
   ],
   "source": [
    "a = {\"x\":2,\"y\":3}\n",
    "\n",
    "b = dict(zip(a.values(),a.keys()))\n",
    "b"
   ]
  }
 ],
 "metadata": {
  "kernelspec": {
   "display_name": "Python 3 (ipykernel)",
   "language": "python",
   "name": "python3"
  },
  "language_info": {
   "codemirror_mode": {
    "name": "ipython",
    "version": 3
   },
   "file_extension": ".py",
   "mimetype": "text/x-python",
   "name": "python",
   "nbconvert_exporter": "python",
   "pygments_lexer": "ipython3",
   "version": "3.9.7"
  }
 },
 "nbformat": 4,
 "nbformat_minor": 5
}
