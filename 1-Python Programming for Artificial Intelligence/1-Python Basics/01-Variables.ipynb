{
 "cells": [
  {
   "cell_type": "code",
   "execution_count": 1,
   "metadata": {},
   "outputs": [
    {
     "name": "stdout",
     "output_type": "stream",
     "text": [
      "\"Ali\", hello world\n",
      "'Ali', hello world\n",
      "Ali '\n",
      "\n",
      "\"Ali\", hello world\n"
     ]
    }
   ],
   "source": [
    "# string1 = ''Ali', hello world'\n",
    "# SyntaxError: invalid syntax\n",
    "string1 = '\"Ali\", hello world'\n",
    "string2 = \"'Ali', hello world\"\n",
    "string3 = \"Ali '\\n\"\n",
    "string4 = \"\\\"Ali\\\", hello world\"\n",
    "print(string1)\n",
    "print(string2)\n",
    "print(string3)\n",
    "print(string4)"
   ]
  },
  {
   "cell_type": "code",
   "execution_count": 2,
   "metadata": {},
   "outputs": [
    {
     "name": "stdout",
     "output_type": "stream",
     "text": [
      "True\n"
     ]
    }
   ],
   "source": [
    "a = \"zaa\"\n",
    "b = \"maa\"\n",
    "print(\"aa\" in 2*(a+b))"
   ]
  },
  {
   "cell_type": "code",
   "execution_count": 3,
   "metadata": {},
   "outputs": [
    {
     "name": "stdout",
     "output_type": "stream",
     "text": [
      "bugun gunlerden pazartesi\n",
      "<class 'str'>\n"
     ]
    }
   ],
   "source": [
    "s = \"bugun gunlerden pazartesi\"\n",
    "print(s)\n",
    "print(type(s))   # str = string"
   ]
  },
  {
   "cell_type": "code",
   "execution_count": 4,
   "metadata": {},
   "outputs": [
    {
     "name": "stdout",
     "output_type": "stream",
     "text": [
      "100200\n",
      "length of var3: 6\n",
      "300\n",
      "length of var5: 3\n"
     ]
    }
   ],
   "source": [
    "var1 = \"100\"\n",
    "var2 = \"200\"\n",
    "var3 = var1+var2\n",
    "var4 = int(var1) + int(var2)\n",
    "var5 = str(var4)\n",
    "print(var3)\n",
    "print(\"length of var3:\", len(var3))\n",
    "print(var4)\n",
    "print(\"length of var5: {}\".format(len(var5))) # second spelling method"
   ]
  }
 ],
 "metadata": {
  "interpreter": {
   "hash": "e78dbf5722967f313c4c7f2f73db293759ee911f3cc260e746cc2fb2541b961a"
  },
  "kernelspec": {
   "display_name": "Python 3.9.7 ('base')",
   "language": "python",
   "name": "python3"
  },
  "language_info": {
   "codemirror_mode": {
    "name": "ipython",
    "version": 3
   },
   "file_extension": ".py",
   "mimetype": "text/x-python",
   "name": "python",
   "nbconvert_exporter": "python",
   "pygments_lexer": "ipython3",
   "version": "3.9.7"
  },
  "orig_nbformat": 4
 },
 "nbformat": 4,
 "nbformat_minor": 2
}
