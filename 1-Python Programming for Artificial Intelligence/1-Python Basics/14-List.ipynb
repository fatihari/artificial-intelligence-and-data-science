{
 "cells": [
  {
   "cell_type": "code",
   "execution_count": 102,
   "id": "764007e2",
   "metadata": {},
   "outputs": [
    {
     "data": {
      "text/plain": [
       "list"
      ]
     },
     "execution_count": 102,
     "metadata": {},
     "output_type": "execute_result"
    }
   ],
   "source": [
    "list = [1,2,3,4,5,6]\n",
    "type(list)"
   ]
  },
  {
   "cell_type": "code",
   "execution_count": 103,
   "id": "b34a391d",
   "metadata": {},
   "outputs": [
    {
     "data": {
      "text/plain": [
       "list"
      ]
     },
     "execution_count": 103,
     "metadata": {},
     "output_type": "execute_result"
    }
   ],
   "source": [
    "list_str = [\"ptesi\",\"sali\",\"cars\"]\n",
    "type(list_str)"
   ]
  },
  {
   "cell_type": "code",
   "execution_count": 104,
   "id": "86433823",
   "metadata": {},
   "outputs": [
    {
     "name": "stdout",
     "output_type": "stream",
     "text": [
      "2\n",
      "sali\n"
     ]
    }
   ],
   "source": [
    "# dir(list) # diyerek methodlarını görebiliriz\n",
    "\n",
    "print(list[1])\n",
    "print(list_str[1])"
   ]
  },
  {
   "cell_type": "code",
   "execution_count": 105,
   "id": "3eda8464",
   "metadata": {},
   "outputs": [
    {
     "name": "stdout",
     "output_type": "stream",
     "text": [
      "6\n",
      "[1, 2, 3]\n"
     ]
    }
   ],
   "source": [
    "last_value = list[-1]\n",
    "list_divide = list[0:3]\n",
    "print(last_value)\n",
    "print(list_divide)"
   ]
  },
  {
   "cell_type": "code",
   "execution_count": 106,
   "id": "0696fff0",
   "metadata": {},
   "outputs": [],
   "source": [
    "# dir(list)"
   ]
  },
  {
   "cell_type": "code",
   "execution_count": 107,
   "id": "bcab6ff4",
   "metadata": {},
   "outputs": [],
   "source": [
    "def deneme():\n",
    "    dictionary = {\"ali\":32,\"veli\":45,\"ayse\":13}\n",
    "    return dictionary"
   ]
  },
  {
   "cell_type": "code",
   "execution_count": 108,
   "id": "8b081c30",
   "metadata": {},
   "outputs": [
    {
     "name": "stdout",
     "output_type": "stream",
     "text": [
      "45\n"
     ]
    }
   ],
   "source": [
    "dic = deneme()\n",
    "print(dic['veli'])"
   ]
  },
  {
   "cell_type": "code",
   "execution_count": 109,
   "id": "23b33cab",
   "metadata": {},
   "outputs": [
    {
     "data": {
      "text/plain": [
       "[1, 2, 3, 4, 5, 6, 7]"
      ]
     },
     "execution_count": 109,
     "metadata": {},
     "output_type": "execute_result"
    }
   ],
   "source": [
    "list.append(7)\n",
    "list"
   ]
  },
  {
   "cell_type": "code",
   "execution_count": 110,
   "id": "dfb814bb",
   "metadata": {},
   "outputs": [
    {
     "data": {
      "text/plain": [
       "7"
      ]
     },
     "execution_count": 110,
     "metadata": {},
     "output_type": "execute_result"
    }
   ],
   "source": [
    "# help(list.insert)\n",
    "len(list)"
   ]
  },
  {
   "cell_type": "code",
   "execution_count": 111,
   "id": "28c347da",
   "metadata": {},
   "outputs": [
    {
     "data": {
      "text/plain": [
       "[1, 2, 3, 4, 5, 6, 7, 20]"
      ]
     },
     "execution_count": 111,
     "metadata": {},
     "output_type": "execute_result"
    }
   ],
   "source": [
    "list.insert(7,20)\n",
    "list"
   ]
  },
  {
   "cell_type": "code",
   "execution_count": 112,
   "id": "71dc9891",
   "metadata": {},
   "outputs": [
    {
     "data": {
      "text/plain": [
       "[1, 2, 3, -20, 4, 5, 6, 7, 20, 41]"
      ]
     },
     "execution_count": 112,
     "metadata": {},
     "output_type": "execute_result"
    }
   ],
   "source": [
    "list.insert(3, -20)\n",
    "list.append(41)\n",
    "list"
   ]
  },
  {
   "cell_type": "code",
   "execution_count": 118,
   "id": "c5607a4e",
   "metadata": {},
   "outputs": [
    {
     "name": "stdout",
     "output_type": "stream",
     "text": [
      "Original List:  [20, 7, 6, 5, 4, 3, 2, 1, -20]\n",
      "Reversed List:  [-20, 1, 2, 3, 4, 5, 6, 7, 20]\n",
      "Sorted List:    [-20, 1, 2, 3, 4, 5, 6, 7, 20]\n",
      "Reversed List:  [20, 7, 6, 5, 4, 3, 2, 1, -20]\n"
     ]
    }
   ],
   "source": [
    "list.remove(41)\n",
    "print('Original List: ', list)\n",
    "list.reverse()\n",
    "print('Reversed List: ', list)\n",
    "list.sort() # list artık sıralanmış bir şekilde güncellenir.\n",
    "print('Sorted List:   ', list)\n",
    "list.reverse()\n",
    "print('Reversed List: ', list)"
   ]
  },
  {
   "cell_type": "code",
   "execution_count": 114,
   "id": "c03dd9a9",
   "metadata": {},
   "outputs": [
    {
     "data": {
      "text/plain": [
       "'asla vazgecmeyin'"
      ]
     },
     "execution_count": 114,
     "metadata": {},
     "output_type": "execute_result"
    }
   ],
   "source": [
    "a = 'sakin calismaktan vazgecmeyin'\n",
    "a[1]+a[0]+a[8]+a[1] + \" \" + a[-11:] # sondan 11. indexten itibaren, sona kadar."
   ]
  },
  {
   "cell_type": "code",
   "execution_count": 115,
   "id": "a7666253",
   "metadata": {},
   "outputs": [
    {
     "data": {
      "text/plain": [
       "'ak'"
      ]
     },
     "execution_count": 115,
     "metadata": {},
     "output_type": "execute_result"
    }
   ],
   "source": [
    "a[1:3] # 1.indexten başlar, 3. indexe kadar yazdırır."
   ]
  }
 ],
 "metadata": {
  "kernelspec": {
   "display_name": "Python 3 (ipykernel)",
   "language": "python",
   "name": "python3"
  },
  "language_info": {
   "codemirror_mode": {
    "name": "ipython",
    "version": 3
   },
   "file_extension": ".py",
   "mimetype": "text/x-python",
   "name": "python",
   "nbconvert_exporter": "python",
   "pygments_lexer": "ipython3",
   "version": "3.9.7"
  }
 },
 "nbformat": 4,
 "nbformat_minor": 5
}
