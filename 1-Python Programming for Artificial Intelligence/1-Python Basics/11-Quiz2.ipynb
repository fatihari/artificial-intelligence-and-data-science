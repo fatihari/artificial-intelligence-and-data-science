{
 "cells": [
  {
   "cell_type": "code",
   "execution_count": 1,
   "metadata": {},
   "outputs": [],
   "source": [
    "# Century Finder\n",
    "# Year 1671 == 17th Century \n",
    "# Year 109 == 2nd Century \n",
    "# Year 2000 = 20th Century \n",
    "# Year 2022 = 21st Century "
   ]
  },
  {
   "cell_type": "code",
   "execution_count": 2,
   "metadata": {},
   "outputs": [],
   "source": [
    "def printCentury(default_year):\n",
    "    print(yearToCentury(default_year))"
   ]
  },
  {
   "cell_type": "code",
   "execution_count": 3,
   "metadata": {},
   "outputs": [],
   "source": [
    "def yearToCentury(year):\n",
    "    if(year <= 0):\n",
    "        return '0 and negative is not allow for a year'\n",
    "    elif(year <= 100):\n",
    "        return '1st century'\n",
    "    elif(year % 100 == 0):\n",
    "        return '{}th century'.format(int(year / 100))\n",
    "    else:\n",
    "        return '{}th century'.format(int(year / 100)+1)\n",
    "    "
   ]
  },
  {
   "cell_type": "code",
   "execution_count": 4,
   "metadata": {},
   "outputs": [
    {
     "name": "stdout",
     "output_type": "stream",
     "text": [
      "17th century\n",
      "2th century\n",
      "20th century\n",
      "21th century\n"
     ]
    }
   ],
   "source": [
    "printCentury(1671)\n",
    "printCentury(109)\n",
    "printCentury(2000)\n",
    "printCentury(2022)"
   ]
  }
 ],
 "metadata": {
  "interpreter": {
   "hash": "e78dbf5722967f313c4c7f2f73db293759ee911f3cc260e746cc2fb2541b961a"
  },
  "kernelspec": {
   "display_name": "Python 3.9.7 ('base')",
   "language": "python",
   "name": "python3"
  },
  "language_info": {
   "codemirror_mode": {
    "name": "ipython",
    "version": 3
   },
   "file_extension": ".py",
   "mimetype": "text/x-python",
   "name": "python",
   "nbconvert_exporter": "python",
   "pygments_lexer": "ipython3",
   "version": "3.9.7"
  },
  "orig_nbformat": 4
 },
 "nbformat": 4,
 "nbformat_minor": 2
}
