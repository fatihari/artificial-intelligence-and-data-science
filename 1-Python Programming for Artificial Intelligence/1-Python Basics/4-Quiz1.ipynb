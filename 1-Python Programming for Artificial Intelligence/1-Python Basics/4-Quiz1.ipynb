{
 "cells": [
  {
   "cell_type": "code",
   "execution_count": 3,
   "metadata": {},
   "outputs": [
    {
     "name": "stdout",
     "output_type": "stream",
     "text": [
      "Child Firstname:  Ali  age:  10  shoe size:  35\n",
      "<class 'str'>\n",
      "10.0\n",
      "args[0] * age:  VeliVeliVeliVeliVeliVeliVeliVeliVeliVeli\n"
     ]
    }
   ],
   "source": [
    "age = 10\n",
    "firstname = \"Ali\"\n",
    "lastname = \"Veli\"\n",
    "\n",
    "def function_quiz(age, firstname, *args, shoe_size=35):\n",
    "    print(\"Child Firstname: \",firstname, \" age: \",age,\" shoe size: \",shoe_size)\n",
    "    print(type(firstname))\n",
    "    print(float(age))\n",
    "    \n",
    "    output = args[0]  * age # \"Veli\" * 10 \n",
    "    return output\n",
    "\n",
    "print(\"args[0] * age: \", function_quiz(age, firstname, lastname))"
   ]
  },
  {
   "cell_type": "code",
   "execution_count": null,
   "metadata": {},
   "outputs": [],
   "source": []
  }
 ],
 "metadata": {
  "interpreter": {
   "hash": "e78dbf5722967f313c4c7f2f73db293759ee911f3cc260e746cc2fb2541b961a"
  },
  "kernelspec": {
   "display_name": "Python 3.9.7 ('base')",
   "language": "python",
   "name": "python3"
  },
  "language_info": {
   "codemirror_mode": {
    "name": "ipython",
    "version": 3
   },
   "file_extension": ".py",
   "mimetype": "text/x-python",
   "name": "python",
   "nbconvert_exporter": "python",
   "pygments_lexer": "ipython3",
   "version": "3.9.7"
  },
  "orig_nbformat": 4
 },
 "nbformat": 4,
 "nbformat_minor": 2
}
