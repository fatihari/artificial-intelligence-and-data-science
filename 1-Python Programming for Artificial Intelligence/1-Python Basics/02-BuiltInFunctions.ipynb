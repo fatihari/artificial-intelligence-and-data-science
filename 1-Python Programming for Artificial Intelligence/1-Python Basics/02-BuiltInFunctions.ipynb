{
 "cells": [
  {
   "cell_type": "code",
   "execution_count": 2,
   "metadata": {},
   "outputs": [
    {
     "name": "stdout",
     "output_type": "stream",
     "text": [
      "1005\n",
      "10\n",
      "10.0\n",
      "10\n",
      "11\n",
      "4\n"
     ]
    }
   ],
   "source": [
    "# del str\n",
    "str1 = \"1005\"\n",
    "number1 = 10 \n",
    "number2 = 10.6\n",
    "print(int(str1))\n",
    "print(str(number1))\n",
    "print(float(10))\n",
    "print(int(number2))\n",
    "print(round(number2))\n",
    "print(len(str1))"
   ]
  },
  {
   "cell_type": "code",
   "execution_count": 17,
   "metadata": {},
   "outputs": [
    {
     "name": "stdout",
     "output_type": "stream",
     "text": [
      "5\n",
      "5.1\n",
      "5.099\n",
      "5.09877\n",
      "5.09876543\n"
     ]
    }
   ],
   "source": [
    "z = 5.0987654321\n",
    "print(round(z))\n",
    "print(round(z,2))\n",
    "print(round(z,3))\n",
    "print(round(z,5))\n",
    "print(round(z,8))"
   ]
  },
  {
   "cell_type": "markdown",
   "metadata": {},
   "source": [
    "https://www.w3schools.com/python/python_ref_functions.asp"
   ]
  },
  {
   "cell_type": "code",
   "execution_count": 16,
   "metadata": {},
   "outputs": [
    {
     "name": "stdout",
     "output_type": "stream",
     "text": [
      "1\n"
     ]
    }
   ],
   "source": [
    "a = 5\n",
    "b = 3\n",
    "print(int(a // b)) # Floor Division"
   ]
  }
 ],
 "metadata": {
  "interpreter": {
   "hash": "e78dbf5722967f313c4c7f2f73db293759ee911f3cc260e746cc2fb2541b961a"
  },
  "kernelspec": {
   "display_name": "Python 3.9.7 ('base')",
   "language": "python",
   "name": "python3"
  },
  "language_info": {
   "codemirror_mode": {
    "name": "ipython",
    "version": 3
   },
   "file_extension": ".py",
   "mimetype": "text/x-python",
   "name": "python",
   "nbconvert_exporter": "python",
   "pygments_lexer": "ipython3",
   "version": "3.9.7"
  },
  "orig_nbformat": 4
 },
 "nbformat": 4,
 "nbformat_minor": 2
}
