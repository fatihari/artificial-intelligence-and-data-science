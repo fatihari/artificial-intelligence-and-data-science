{
 "cells": [
  {
   "cell_type": "code",
   "execution_count": 57,
   "metadata": {},
   "outputs": [],
   "source": [
    "class Employee:\n",
    "\n",
    "    raise_raite = 1.8\n",
    "    counter = 0\n",
    "\n",
    "    # constructor (self = this keyword in java)\n",
    "    def __init__(self,firstname,lastname,salary): \n",
    "        self.firstname = firstname\n",
    "        self.lastname = lastname\n",
    "        self.salary = salary\n",
    "        self.email = (firstname+lastname+'@asd.com').lower()\n",
    "        Employee.counter = Employee.counter + 1\n",
    "    \n",
    "    def readEmpInfo(self):\n",
    "        return self.firstname + ' ' +self.lastname + '\\nEmail: ' + self.email + '\\nSalary: '  + str(self.salary)\n",
    "    \n",
    "    def raiseSalaryOfEmp(self):\n",
    "        self.salary += self.salary * self.raise_raite"
   ]
  },
  {
   "cell_type": "code",
   "execution_count": 58,
   "metadata": {},
   "outputs": [
    {
     "name": "stdout",
     "output_type": "stream",
     "text": [
      "Ali Veli\n",
      "Email: aliveli@asd.com\n",
      "Salary: 100\n",
      "New Salary: 280\n",
      "\n",
      "Ahmet Mehmet\n",
      "Email: ahmetmehmet@asd.com\n",
      "Salary: 150\n",
      "New Salary: 420\n",
      "\n",
      "Ayse Hatice\n",
      "Email: aysehatice@asd.com\n",
      "Salary: 500\n",
      "New Salary: 1400\n"
     ]
    }
   ],
   "source": [
    "emp1 = Employee(\"Ali\", \"Veli\",100)\n",
    "print(emp1.readEmpInfo())\n",
    "emp1.raiseSalaryOfEmp()\n",
    "print('New Salary:', int(emp1.salary))\n",
    "\n",
    "print()\n",
    "\n",
    "emp2 = Employee(\"Ahmet\", \"Mehmet\",150)\n",
    "print(emp2.readEmpInfo())\n",
    "emp2.raiseSalaryOfEmp()\n",
    "print('New Salary:', int(emp2.salary))\n",
    "\n",
    "print()\n",
    "\n",
    "emp3 = Employee(\"Ayse\", \"Hatice\",500)\n",
    "print(emp3.readEmpInfo())\n",
    "emp3.raiseSalaryOfEmp()\n",
    "print('New Salary:', int(emp3.salary))"
   ]
  },
  {
   "cell_type": "code",
   "execution_count": 59,
   "metadata": {},
   "outputs": [
    {
     "data": {
      "text/plain": [
       "3"
      ]
     },
     "execution_count": 59,
     "metadata": {},
     "output_type": "execute_result"
    }
   ],
   "source": [
    "Employee.counter # How many employees are there? "
   ]
  },
  {
   "cell_type": "code",
   "execution_count": 64,
   "metadata": {},
   "outputs": [
    {
     "data": {
      "text/plain": [
       "'Ali'"
      ]
     },
     "execution_count": 64,
     "metadata": {},
     "output_type": "execute_result"
    }
   ],
   "source": [
    "list  = [emp1, emp2, emp3]\n",
    "list"
   ]
  },
  {
   "cell_type": "code",
   "execution_count": 66,
   "metadata": {},
   "outputs": [
    {
     "name": "stdout",
     "output_type": "stream",
     "text": [
      "1400.0\n",
      "Ayse Hatice\n",
      "Email: aysehatice@asd.com\n",
      "Salary: 1400.0\n"
     ]
    }
   ],
   "source": [
    "max_salary = -1\n",
    "whichEmployee = -1\n",
    "for each in list:\n",
    "    if(each.salary>max_salary):\n",
    "        max_salary = each.salary\n",
    "        whichEmployee = each\n",
    "print(max_salary)\n",
    "print(whichEmployee.readEmpInfo())"
   ]
  },
  {
   "cell_type": "code",
   "execution_count": 1,
   "metadata": {},
   "outputs": [
    {
     "name": "stdout",
     "output_type": "stream",
     "text": [
      "hi\n"
     ]
    }
   ],
   "source": [
    "class SampleClass:\n",
    "\n",
    "    def __init__(self, x = \"hi\"): # constructor\n",
    "        self.x = x\n",
    "\n",
    "    def show(self):\n",
    "        print(self.x)\n",
    "\n",
    "my_class = SampleClass()\n",
    "my_class.show()"
   ]
  }
 ],
 "metadata": {
  "interpreter": {
   "hash": "e78dbf5722967f313c4c7f2f73db293759ee911f3cc260e746cc2fb2541b961a"
  },
  "kernelspec": {
   "display_name": "Python 3.9.7 ('base')",
   "language": "python",
   "name": "python3"
  },
  "language_info": {
   "codemirror_mode": {
    "name": "ipython",
    "version": 3
   },
   "file_extension": ".py",
   "mimetype": "text/x-python",
   "name": "python",
   "nbconvert_exporter": "python",
   "pygments_lexer": "ipython3",
   "version": "3.9.7"
  },
  "orig_nbformat": 4
 },
 "nbformat": 4,
 "nbformat_minor": 2
}
