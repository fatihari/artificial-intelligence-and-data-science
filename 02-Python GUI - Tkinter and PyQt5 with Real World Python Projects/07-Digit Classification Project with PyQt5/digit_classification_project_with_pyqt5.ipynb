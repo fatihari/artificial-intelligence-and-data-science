{
 "cells": [
  {
   "cell_type": "code",
   "execution_count": 1,
   "metadata": {},
   "outputs": [],
   "source": [
    "# libraries\n",
    "from PyQt5.QtWidgets import *\n",
    "from PyQt5.QtGui import QIcon, QPixmap, QImage, QPainter, QPen # icon and load image\n",
    "from PyQt5.QtCore import Qt, QPoint\n",
    "\n",
    "import numpy as np\n",
    "import matplotlib.pyplot as plt\n",
    "import matplotlib.image as mpimg # load image\n",
    "\n",
    "import cv2 # open-cv use for image resize\n",
    "\n",
    "## Convolutional Neural Network\n",
    "\n",
    "from tensorflow.keras.datasets import mnist\n",
    "from tensorflow.keras.models import Sequential, load_model\n",
    "from tensorflow.keras.layers import Dense, Dropout, Flatten, Conv2D, MaxPooling2D\n",
    "from tensorflow.keras import utils as np_utils\n",
    "\n",
    "import sys\n",
    "import os\n",
    "os.environ['KMP_DUPLICATE_LIB_OK']='True'"
   ]
  },
  {
   "cell_type": "markdown",
   "metadata": {},
   "source": [
    "## 1-Preprocess"
   ]
  },
  {
   "cell_type": "code",
   "execution_count": null,
   "metadata": {},
   "outputs": [],
   "source": [
    "(x_train, y_train),(x_test, y_test) = mnist.load_data()"
   ]
  },
  {
   "cell_type": "code",
   "execution_count": null,
   "metadata": {},
   "outputs": [],
   "source": [
    "plt.figure()\n",
    "i = 55\n",
    "plt.imshow(x_train[i], cmap = \"gray\")\n",
    "print(\"Label: \",y_train[i])\n",
    "plt.axis(\"off\") #resim göstereceğim için eksenleri kapatmak istiyorum\n",
    "plt.grid(False) #resim göstereceğim için plotumun üzerinde gridler olsun istemiyorum."
   ]
  },
  {
   "cell_type": "code",
   "execution_count": null,
   "metadata": {},
   "outputs": [],
   "source": [
    "x_train.shape # rgb için 3, tek renk için 1 yazılmalı. Biz bu projede tek renk çalışacağız."
   ]
  },
  {
   "cell_type": "markdown",
   "metadata": {},
   "source": [
    "#### **Keras** **shape(60000, 28, 28, 1)** yapısını kabul ediyor. O yüzden sonuna renk ekleriz. Boyutta bir değişiklik yapmayacağız."
   ]
  },
  {
   "cell_type": "code",
   "execution_count": null,
   "metadata": {},
   "outputs": [],
   "source": [
    "# x_train = x_train.reshape( x_train.shape[0], x_train.shape[1],x_train.shape[2], 1)\n",
    "# x_test = x_test.reshape( x_test.shape[0], x_test.shape[1], x_test.shape[2],1)\n",
    "# input_shape = (x_train.shape[1],x_train.shape[2], 1)\n",
    "img_rows = 28\n",
    "img_cols = 28\n",
    "x_train = x_train.reshape( x_train.shape[0],img_rows,img_cols,1)\n",
    "x_test = x_test.reshape( x_test.shape[0],img_rows,img_cols,1)\n",
    "input_shape = (img_rows,img_cols,1)"
   ]
  },
  {
   "cell_type": "markdown",
   "metadata": {},
   "source": [
    "## 2-Normalization"
   ]
  },
  {
   "cell_type": "markdown",
   "metadata": {},
   "source": [
    "Note\n",
    "Bilgi kaybetmemek adına, verileri float formatında cast ediyoruz ki her bir basamak değeri bizim için önemli diye ! :)"
   ]
  },
  {
   "cell_type": "code",
   "execution_count": null,
   "metadata": {},
   "outputs": [],
   "source": [
    "x_train = x_train.astype(\"float32\")\n",
    "x_test = x_test.astype(\"float32\")"
   ]
  },
  {
   "cell_type": "markdown",
   "metadata": {},
   "source": [
    "- Normalization ile verilerimizi [0, 1] arasına sıkıştırmış oluyoruz. \n",
    "\n",
    "- 0 ve 1 arasına dönüştürmek için, 255'e böleriz bunun sebebi siyah renk 0, beyaz renk 255 olarak ifade edilir. \n",
    "- 0 en küçük 255 en büyük sayıya karşılık renk olduğu için 0 ile 1'e dönüştürmek için 255'e böleriz."
   ]
  },
  {
   "cell_type": "code",
   "execution_count": null,
   "metadata": {},
   "outputs": [],
   "source": [
    "x_train /= 255 # x_train = x_train/255\n",
    "x_test /= 255"
   ]
  },
  {
   "cell_type": "markdown",
   "metadata": {},
   "source": [
    "**y_train** ve **y_test** değerlerini eğitimde kullanabilmek için categorical hale getirmem gerekiyor.\n",
    "One hot encoding metodunu kullanabiliriz. \n",
    "\n",
    "0 => 0000000000\n",
    "\n",
    "1 => 0100000000\n",
    "\n",
    "*\n",
    "\n",
    "*\n",
    "\n",
    "9 => 0010000001"
   ]
  },
  {
   "cell_type": "code",
   "execution_count": null,
   "metadata": {},
   "outputs": [],
   "source": [
    "target_class_count = 10\n",
    "y_train = np_utils.to_categorical(y_train, target_class_count)\n",
    "y_test = np_utils.to_categorical(y_test, target_class_count)\n"
   ]
  },
  {
   "cell_type": "markdown",
   "metadata": {},
   "source": [
    "## 3-CNN"
   ]
  },
  {
   "cell_type": "code",
   "execution_count": null,
   "metadata": {},
   "outputs": [],
   "source": [
    "model_list = []\n",
    "score_list = []\n",
    "batch_size = 64\n",
    "epochs = 5"
   ]
  },
  {
   "cell_type": "markdown",
   "metadata": {},
   "source": [
    "#### Modeller arasında farklıklar: İlk model 16, 32 ve 64 nörondan oluşan 3 layerdan, ikinci model 8, 16, ve 32 nöronlara sahip layerlardan oluşur."
   ]
  },
  {
   "cell_type": "code",
   "execution_count": null,
   "metadata": {},
   "outputs": [],
   "source": [
    "filter_numbers = np.array([[16, 32, 64], \n",
    "                           [8, 16, 32]])"
   ]
  },
  {
   "cell_type": "code",
   "execution_count": null,
   "metadata": {},
   "outputs": [],
   "source": [
    "for i in range(2): # 2 adet modelimiz var\n",
    "    \n",
    "    print(filter_numbers[i])\n",
    "\n",
    "    model = Sequential()\n",
    "    \n",
    "    model.add(Conv2D(filter_numbers[i,0], kernel_size = (3,3), activation = \"relu\",input_shape = input_shape))\n",
    "    model.add(Conv2D(filter_numbers[i,1], kernel_size = (3,3), activation = \"relu\"))\n",
    "    model.add(MaxPooling2D(pool_size = (2,2)))\n",
    "    model.add(Dropout(0.25)) # 4te 1 oranında nöronları söndürecek.\n",
    "    \n",
    "    model.add(Flatten())\n",
    "\n",
    "    model.add(Dense(filter_numbers[i,2], activation = \"relu\")) \n",
    "    model.add(Dropout(0.5))\n",
    "    model.add(Dense(target_class_count, activation = \"softmax\")) # output layer\n",
    "    \n",
    "    # COMPILING THE MODEL\n",
    "\n",
    "    model.compile(loss = keras.losses.categorical_crossentropy, optimizer = keras.optimizers.Adadelta(), metrics = [\"accuracy\"])\n",
    "    \n",
    "    # TRAINING THE MODEL\n",
    "    history = model.fit(x_train, \n",
    "                        y_train, \n",
    "                        batch_size = batch_size, \n",
    "                        epochs = epochs, \n",
    "                        verbose = 1,\n",
    "                        validation_data = (x_test, y_test))\n",
    "\n",
    "    # Normalde validation kısmında x_test, y_test kullanmış olsak da, modelin testini yine x_test ve y_test dataseti ile yapacağız. Normalde bunu ayrı yapmak gerekirdi. Şu an için gerek yok. Çünkü bu modelin çalışıp çalışmadığını kendi kullanıcı arayüzüne yazacağımız sayılardan anlayacağız.\n",
    "\n",
    "    # TESTING THE MODEL\n",
    "    score = model.evaluate(x_test, y_test, verbose = 0) # verbose = 0 görek istemiyoruz.\n",
    "    print(\"Model {} Test Loss: {}\".format(i+1, score[0]))\n",
    "    print(\"Model {} Test Accuracy: {}\".format(i+1, score[1]))\n",
    "\n",
    "    # SAVE THE MODEL\n",
    "    model_list.append(model) # modelimizi depolarız.\n",
    "    score_list.append(score) # score larımızı depolarız.\n",
    "    \n",
    "    model.save(\"model\"+str(i+1)+\".h5\") # model1.h5"
   ]
  },
  {
   "cell_type": "code",
   "execution_count": 2,
   "metadata": {},
   "outputs": [],
   "source": [
    "model1 = load_model(\"model1.h5\")\n",
    "model2 = load_model(\"model2.h5\")"
   ]
  },
  {
   "cell_type": "markdown",
   "metadata": {},
   "source": [
    "## 4-GUI"
   ]
  },
  {
   "cell_type": "markdown",
   "metadata": {},
   "source": [
    "### Canvas\n",
    "Çizilen sayının siyah kısımları(arka plan) 0, beyaz kısımları 1 olacak"
   ]
  },
  {
   "cell_type": "code",
   "execution_count": 3,
   "metadata": {},
   "outputs": [],
   "source": [
    "class Canvas(QMainWindow):\n",
    "    \n",
    "    def __init__(self):\n",
    "        super().__init__()\n",
    "        \n",
    "        self.width = 400\n",
    "        self.height = 400\n",
    "        self.setWindowTitle(\"Draw Digit App\")\n",
    "        self.setGeometry(50, 100, self.width, self.height)\n",
    "        \n",
    "        self.image = QImage(self.size(), QImage.Format_RGB32) #QImage ile boş bir image alanı ekleniyor.\n",
    "        self.image.fill(Qt.black)\n",
    "        \n",
    "        self.lastPoint = QPoint()\n",
    "        self.drawing = False # başlangıçta çiziyoruz.\n",
    "        \n",
    "        # image_array\n",
    "        self.im_np = np.zeros([self.width, self.height])\n",
    "        \n",
    "        button1 = QPushButton(\"Ok!\", self)\n",
    "        button1.move(2,2)\n",
    "        button1.clicked.connect(self.enterFunction)\n",
    "        \n",
    "        self.show()\n",
    "        \n",
    "    def paintEvent(self,event):\n",
    "        canvasPainter = QPainter(self)\n",
    "        canvasPainter.drawImage(self.rect(),self.image, self.image.rect())\n",
    "        \n",
    "    def enterFunction(self):\n",
    "        ptr = self.image.constBits()\n",
    "        ptr.setsize(self.image.byteCount())\n",
    "        \n",
    "        self.im_np = np.array(ptr).reshape(self.width, self.height, 4)\n",
    "        self.im_np = self.im_np[:,:,0] # rgb renklerinden birini almak yeterli(tek renk çünkü), 0'ı aldık.\n",
    "        self.im_np = self.im_np/255.0 # normalize ettik. rgb için normalize (255,255,255)/255\n",
    "        \n",
    "        if np.sum(self.im_np) == 0: # her yer siyahsa => siyah=0, beyaz=255\n",
    "            print(\"Please write a digit\")\n",
    "        else: #bir şeyler yazdıysak (beyaz bir şey)\n",
    "            plt.figure(figsize = (1,1),dpi = 200)\n",
    "            plt.imshow(self.im_np, cmap = \"gray\") # bir de biz görelim bir şey yazdık mı?\n",
    "            plt.axis(\"off\")\n",
    "            plt.grid(False)\n",
    "            plt.savefig(\"input_img.png\") # çizdiğimiz resmi kaydedediriz.\n",
    "            \n",
    "            self.close() # bu işlemler sonrası canvas windowu kapatabiliriz.\n",
    "            \n",
    "    def mousePressEvent(self,event): # butona basıldıysa(sol butonla)\n",
    "        \n",
    "        if event.button() == Qt.LeftButton:\n",
    "            self.lastPoint = event.pos() # bastığım noktanın pozisyonunu al,lastPointe eşitle\n",
    "            self.drawing = True # çizme işlemi başladı\n",
    "            print(self.lastPoint)\n",
    "        \n",
    "    def mouseMoveEvent(self,event): # butona basılmış ve çizmeye başlandıysa\n",
    "        if (event.buttons() == Qt.LeftButton) & self.drawing: #basılı tutulduğunda, butona birden fazla tıklanmış gibi algılar. O yüzden buttons => çoğul\n",
    "            painter = QPainter(self.image)\n",
    "            painter.setPen(QPen(Qt.white,20,Qt.SolidLine,Qt.RoundCap,Qt.RoundJoin)) #çizim\n",
    "            painter.drawLine(self.lastPoint, event.pos())\n",
    "            self.lastPoint = event.pos()\n",
    "            self.update()\n",
    "            \n",
    "    def mouseReleaseEvent(self, event):\n",
    "        if event.button == Qt.LeftButton: # çizme işlemi bittiyse\n",
    "            self.drawing = False"
   ]
  },
  {
   "cell_type": "markdown",
   "metadata": {},
   "source": [
    "### Window"
   ]
  },
  {
   "cell_type": "code",
   "execution_count": 4,
   "metadata": {},
   "outputs": [],
   "source": [
    "class Window(QMainWindow):\n",
    "    \n",
    "    def __init__(self): # constructor\n",
    "        super().__init__() \n",
    "        \n",
    "        # main window\n",
    "        self.width = 1080\n",
    "        self.height = 640\n",
    "        \n",
    "        self.setWindowTitle(\"Digit Classification\")\n",
    "        self.setGeometry(50,100,self.width, self.height) #50,100 windowun default açılacağı location\n",
    "        self.setWindowIcon(QIcon(\"icon-hi.png\"))\n",
    "        \n",
    "        self.create_canvas = Canvas()\n",
    "        \n",
    "        self.tabWidget()\n",
    "        self.widgets()\n",
    "        self.layouts()\n",
    "        self.show() # yapılanları görselleştirmek için\n",
    "        \n",
    "    def tabWidget(self):\n",
    "        self.tabs = QTabWidget()\n",
    "        self.setCentralWidget(self.tabs)\n",
    "        \n",
    "        self.tab1 = QWidget()\n",
    "        self.tab2 = QWidget()\n",
    "\n",
    "        self.tabs.addTab(self.tab1, \"Classification\")\n",
    "        self.tabs.addTab(self.tab2, \"Parameters\")\n",
    "\n",
    "    def widgets(self):\n",
    "        \n",
    "        # tab1 left\n",
    "        self.drawCanvas = QPushButton(\"Draw Canvas\")\n",
    "        self.drawCanvas.clicked.connect(self.drawCanvasFunction)\n",
    "        \n",
    "        self.openCanvas = QPushButton(\"Open Canvas\")\n",
    "        self.openCanvas.clicked.connect(self.openCanvasFunction)\n",
    "\n",
    "        self.inputImage = QLabel(self)\n",
    "        self.inputImage.setPixmap(QPixmap(\"input.png\")) # çizdiğimiz resmin ismi\n",
    "        \n",
    "        self.searchText = QLabel(\"Real number: \")\n",
    "        \n",
    "        self.searchEntry = QLineEdit()\n",
    "        self.searchEntry.setPlaceholderText(\"Which number do you write?\")\n",
    "\n",
    "        # tab1 left middle\n",
    "        self.methodSelection = QComboBox(self)\n",
    "        self.methodSelection.addItems([\"model1\",\"model2\"])\n",
    "        \n",
    "        # Güzel bir sayı çizdik ama ona gürültü eklediğimizde de o sayı ne tanıyabilecek mi?\n",
    "        self.noiseText = QLabel(\"Add Noise: % \" + \"0\")\n",
    "        self.noiseSlider = QSlider(Qt.Horizontal)\n",
    "        self.noiseSlider.setMinimum(0)\n",
    "        self.noiseSlider.setMaximum(100)\n",
    "        self.noiseSlider.setTickPosition(QSlider.TicksBelow)\n",
    "        self.noiseSlider.setTickInterval(1)\n",
    "        self.noiseSlider.valueChanged.connect(self.noiseSliderFunction)\n",
    "        \n",
    "        self.remember = QCheckBox(\"Save Result\",self)\n",
    "        \n",
    "        self.predict = QPushButton(\"Predict\")\n",
    "        self.predict.clicked.connect(self.predictionFunction)\n",
    "        \n",
    "        # tab1 right middle\n",
    "        self.outputImage = QLabel(self)\n",
    "        self.outputImage.setPixmap(QPixmap(\"icon-hi.png\")) # bir resmi yüklemek için\n",
    "        \n",
    "        self.outputLabel = QLabel(\"\",self) # başlangıçta output yok\n",
    "        self.outputLabel.setAlignment(Qt.AlignCenter)\n",
    "        \n",
    "        # tab1 right\n",
    "        self.resultTable = QTableWidget()\n",
    "        self.resultTable.setColumnCount(2)\n",
    "        self.resultTable.setRowCount(10)\n",
    "        self.resultTable.setHorizontalHeaderItem(0, QTableWidgetItem(\"Label(Class)\"))\n",
    "        self.resultTable.setHorizontalHeaderItem(1, QTableWidgetItem(\"Probability\"))\n",
    "        \n",
    "        # tab2 method1\n",
    "        self.parameter_list1  = QListWidget(self)\n",
    "        self.parameter_list1.addItems([\"batch_size = 256\",\"epochs = 5\",\"img_rows = 28\",\n",
    "                                       \"img_cols = 28\",\"Filter # = [16,32,64]\",\"Activation Function = Relu\",\n",
    "                                       \"loss = categorical cross entropy\",\n",
    "                                       \"optimizer = Adadelta\",\"metrics = accuracy\"])\n",
    "        \n",
    "        # tab2 method2\n",
    "        self.parameter_list2  = QListWidget(self)\n",
    "        self.parameter_list2.addItems([\"batch_size = 256\",\"epochs = 5\",\"img_rows = 28\",\n",
    "                                       \"img_cols = 28\",\"Filter # = [8,16,32]\",\"Activation Function = Relu\",\n",
    "                                       \"loss = categorical cross entropy\",\n",
    "                                       \"optimizer = Adadelta\",\"metrics = accuracy\"])\n",
    "\n",
    "\n",
    "    def predictionFunction(self):\n",
    "        save_string = \"\"\n",
    "        \n",
    "        real_entry = self.searchEntry.text() # \n",
    "        save_string = save_string + \" real entry: \"+str(real_entry) + \", \" #real number'a girdiğim değerleri depolarım.\n",
    "        \n",
    "        # CNN model selection\n",
    "        model_name = self.methodSelection.currentText()\n",
    "        \n",
    "        if model_name == \"model1\":\n",
    "            model = load_model(\"model1.h5\")\n",
    "        elif model_name == \"model2\":\n",
    "            model = load_model(\"model2.h5\")\n",
    "        else:\n",
    "            print(\"Error\")\n",
    "            \n",
    "        save_string = save_string + \"model name: \"+str(model_name) + \", \"\n",
    "        \n",
    "        # slider noise => işlemi zorlaştımak, resmi bozmak istiyoruz\n",
    "        \n",
    "        noise_val = self.noiseSlider.value()\n",
    "        \n",
    "        # Ornek: noise_value 50 seçilsin. Sonra 0 ile 50 arasında 28x28 (CNN bu boyutta resimlerle çalışsın demiştik) matris şeklinde noise değerleri üretilecek. daha sonra bunu 100'e bölerek normalize et (0,1 arasında olsun) diyoruz.\n",
    "        if noise_val != 0:\n",
    "            noise_array = np.random.randint(0, noise_val, (28, 28)) / 100\n",
    "        else:\n",
    "            noise_array = np.zeros([28,28]) # noise yok hepsi 0 olan bir array yaratırız\n",
    "            \n",
    "        save_string = save_string + \"noise value: \" + str(noise_val) + \", \"\n",
    "        print(save_string)\n",
    "\n",
    "        # load image as numpy\n",
    "        img_array = mpimg.imread(\"input_img.png\")[26:175, 26:175, 0] # 0,26 arası boş sayfa olarak görülüyor istemsiz. Bu yüzden 26dan başlatırız\n",
    "        \n",
    "        resized_img_array = cv2.resize(img_array, dsize=(28,28),interpolation = cv2.INTER_CUBIC) #resmi 28x28e küçültürüz.\n",
    "        \n",
    "        # add noise\n",
    "        resized_img_array = resized_img_array + noise_array\n",
    "        \n",
    "        # vis noise image\n",
    "        plt.imshow(resized_img_array, cmap = \"gray\")\n",
    "        plt.title(\"image after adding noise and resize\")\n",
    "        \n",
    "        # predict\n",
    "        result = model.predict(resized_img_array.reshape(1,28,28,1))\n",
    "        QMessageBox.information(self,\"Information\",\"Classification is completed.\")\n",
    "        predicted_class = np.argmax(result)\n",
    "        print(\"Prediction: \",predicted_class)\n",
    "        \n",
    "        save_string = save_string + \"Predicted class: \"+str(predicted_class)\n",
    "        \n",
    "        # save result\n",
    "        if self.remember.isChecked():\n",
    "            text_file = open(\"Output.txt\",\"w\")\n",
    "            text_file.write(save_string)\n",
    "            text_file.close()\n",
    "        else:\n",
    "            print(\"not save\")\n",
    "        \n",
    "        # output image and its text\n",
    "        self.outputImage.setPixmap(QPixmap(\"img\\\\\"+str(predicted_class)+\".png\"))\n",
    "        self.outputLabel.setText(\"Real: \"+str(real_entry)+ \" and Predicted: \"+str(predicted_class))\n",
    "        \n",
    "        # set result\n",
    "        for row in range(10):\n",
    "            self.resultTable.setItem(row,0,QTableWidgetItem(str(row)))\n",
    "            self.resultTable.setItem(row,1,QTableWidgetItem(str(np.round(result[0][row],5))))\n",
    "        \n",
    "    def drawCanvasFunction(self):\n",
    "        self.create_canvas.show()\n",
    "        \n",
    "    def openCanvasFunction(self): # çizilen kaydedilen resmi açma.\n",
    "        self.inputImage.setPixmap(QPixmap(\"input_img.png\"))\n",
    "    \n",
    "    def noiseSliderFunction(self):\n",
    "        val = self.noiseSlider.value()\n",
    "        self.noiseText.setText(\"Add Noise: % \" + str(val))\n",
    "    \n",
    "    def layouts(self):\n",
    "        \n",
    "        # tab1 layout\n",
    "        self.mainLayout = QHBoxLayout()\n",
    "        self.leftLayout = QFormLayout()\n",
    "        self.leftMiddleLayout = QFormLayout()\n",
    "        self.rightMiddleLayout = QFormLayout()\n",
    "        self.rightLayout = QFormLayout()\n",
    "    \n",
    "        # left\n",
    "        self.leftLayoutGroupBox = QGroupBox(\"Input Image\")\n",
    "        self.leftLayout.addRow(self.drawCanvas)\n",
    "        self.leftLayout.addRow(self.openCanvas)\n",
    "        self.leftLayout.addRow(self.inputImage)\n",
    "        self.leftLayout.addRow(self.searchText)\n",
    "        self.leftLayout.addRow(self.searchEntry)\n",
    "        self.leftLayoutGroupBox.setLayout(self.leftLayout)\n",
    "        \n",
    "        # left middle\n",
    "        self.leftMiddleLayoutGroupBox = QGroupBox(\"Settings\")\n",
    "        self.leftMiddleLayout.addRow(self.methodSelection)\n",
    "        self.leftMiddleLayout.addRow(self.noiseText)\n",
    "        self.leftMiddleLayout.addRow(self.noiseSlider)\n",
    "        self.leftMiddleLayout.addRow(self.remember)\n",
    "        self.leftMiddleLayout.addRow(self.predict)\n",
    "        self.leftMiddleLayoutGroupBox.setLayout(self.leftMiddleLayout)\n",
    "    \n",
    "        # right middle \n",
    "        self.rightMiddleLayoutGroupBox = QGroupBox(\"Output\")\n",
    "        self.rightMiddleLayout.addRow(self.outputImage)\n",
    "        self.rightMiddleLayout.addRow(self.outputLabel)\n",
    "        self.rightMiddleLayoutGroupBox.setLayout(self.rightMiddleLayout)\n",
    "    \n",
    "        # right \n",
    "        self.rightLayoutGroupBox = QGroupBox(\"Result\")\n",
    "        self.rightLayout.addRow(self.resultTable)\n",
    "        self.rightLayoutGroupBox.setLayout(self.rightLayout)\n",
    "    \n",
    "        # tab1 main layout\n",
    "        self.mainLayout.addWidget(self.leftLayoutGroupBox,25)\n",
    "        self.mainLayout.addWidget(self.leftMiddleLayoutGroupBox,25)\n",
    "        self.mainLayout.addWidget(self.rightMiddleLayoutGroupBox,25)\n",
    "        self.mainLayout.addWidget(self.rightLayoutGroupBox,25)\n",
    "        self.tab1.setLayout(self.mainLayout)\n",
    "        \n",
    "        # tab2 layout\n",
    "        self.tab2Layout = QHBoxLayout()\n",
    "        self.tab2Method1Layout = QFormLayout()\n",
    "        self.tab2Method2Layout = QFormLayout()\n",
    "        \n",
    "        # tab2 Method1 Layout\n",
    "        self.tab2Method1LayoutGroupBox = QGroupBox(\"Method1\")\n",
    "        self.tab2Method1Layout.addRow(self.parameter_list1)\n",
    "        self.tab2Method1LayoutGroupBox.setLayout(self.tab2Method1Layout)\n",
    "        \n",
    "        # tab2 Method2 Layout\n",
    "        self.tab2Method2LayoutGroupBox = QGroupBox(\"Method2\")\n",
    "        self.tab2Method2Layout.addRow(self.parameter_list2)\n",
    "        self.tab2Method2LayoutGroupBox.setLayout(self.tab2Method2Layout)\n",
    "    \n",
    "        # tab2 main layout\n",
    "        self.tab2Layout.addWidget(self.tab2Method1LayoutGroupBox, 50)\n",
    "        self.tab2Layout.addWidget(self.tab2Method2LayoutGroupBox, 50)\n",
    "        self.tab2.setLayout(self.tab2Layout)"
   ]
  },
  {
   "cell_type": "code",
   "execution_count": 5,
   "metadata": {},
   "outputs": [
    {
     "name": "stdout",
     "output_type": "stream",
     "text": [
      "PyQt5.QtCore.QPoint(194, 81)\n",
      " real entry: 1, model name: model1, noise value: 0, \n",
      "Prediction:  1\n",
      "not save\n",
      "PyQt5.QtCore.QPoint(189, 74)\n",
      "PyQt5.QtCore.QPoint(148, 208)\n",
      " real entry: 1, model name: model1, noise value: 0, \n",
      "Prediction:  6\n",
      "not save\n",
      " real entry: 1, model name: model2, noise value: 0, \n",
      "Prediction:  3\n",
      "not save\n"
     ]
    },
    {
     "data": {
      "text/plain": [
       "0"
      ]
     },
     "execution_count": 5,
     "metadata": {},
     "output_type": "execute_result"
    },
    {
     "data": {
      "image/png": "[encoded data removed]",
      "text/plain": [
       "<Figure size 200x200 with 1 Axes>"
      ]
     },
     "metadata": {
      "needs_background": "light"
     },
     "output_type": "display_data"
    },
    {
     "data": {
      "image/png": "[encoded data removed]",
      "text/plain": [
       "<Figure size 200x200 with 1 Axes>"
      ]
     },
     "metadata": {
      "needs_background": "light"
     },
     "output_type": "display_data"
    }
   ],
   "source": [
    "app = QApplication(sys.argv)\n",
    "w = Window()\n",
    "w.show()\n",
    "app.exec()"
   ]
  },
  {
   "cell_type": "code",
   "execution_count": null,
   "metadata": {},
   "outputs": [],
   "source": []
  },
  {
   "cell_type": "code",
   "execution_count": null,
   "metadata": {},
   "outputs": [],
   "source": []
  }
 ],
 "metadata": {
  "interpreter": {
   "hash": "e78dbf5722967f313c4c7f2f73db293759ee911f3cc260e746cc2fb2541b961a"
  },
  "kernelspec": {
   "display_name": "Python 3 (ipykernel)",
   "language": "python",
   "name": "python3"
  },
  "language_info": {
   "codemirror_mode": {
    "name": "ipython",
    "version": 3
   },
   "file_extension": ".py",
   "mimetype": "text/x-python",
   "name": "python",
   "nbconvert_exporter": "python",
   "pygments_lexer": "ipython3",
   "version": "3.9.7"
  }
 },
 "nbformat": 4,
 "nbformat_minor": 2
}
