{
 "cells": [
  {
   "cell_type": "code",
   "execution_count": 27,
   "metadata": {},
   "outputs": [],
   "source": [
    "import tkinter as tk\n",
    "from tkinter import ttk \n",
    "\n",
    "window = tk.Tk() # parent widget"
   ]
  },
  {
   "cell_type": "markdown",
   "metadata": {},
   "source": [
    "#### PANED WINDOW NEDİR?\n",
    "PANED WINDOW, Frames yapısına çok benzerdir. Bir arayüz üzerinde widget componentlerimizi organize etmemizi ve gruplamamıza olanak sağlayan yapılardır. Arayüz horizontal ve vertical şeklinde 2 gruba ayrılır.\n",
    "\n",
    "Eklenecek frameler horizantal paned windowa yan yana eklenir. <br>\n",
    "Eklenecek frameler veritacal paned windowa alt alta eklenir. <br>\n",
    "**relief**  yapısı border türünü gösterir."
   ]
  },
  {
   "cell_type": "code",
   "execution_count": 28,
   "metadata": {},
   "outputs": [],
   "source": [
    "pw1 = ttk.Panedwindow(window, orient = tk.HORIZONTAL) # parent window\n",
    "pw1.pack(fill = tk.BOTH, expand = True)\n",
    "\n",
    "pw2 = ttk.Panedwindow(pw1, orient = tk. VERTICAL)\n",
    "\n",
    "frame2 = ttk.LabelFrame(pw1, text=\"frame2\", width = 720, height = 400, relief = tk.RIDGE)\n",
    "frame3 = ttk.LabelFrame(pw1, text=\"frame3\",width = 720, height = 240, relief = tk.RAISED)\n",
    "pw2.add(frame2)\n",
    "pw2.add(frame3)\n",
    "\n",
    "# pw2 ve frame1 yan yana (horizontal)\n",
    "frame1 = ttk.LabelFrame(pw1, text=\"frame1\",width = 360, height = 640, relief = tk.GROOVE)\n",
    "pw1.add(pw2)\n",
    "pw1.add(frame1)"
   ]
  },
  {
   "cell_type": "code",
   "execution_count": 29,
   "metadata": {},
   "outputs": [],
   "source": [
    "window.mainloop()"
   ]
  }
 ],
 "metadata": {
  "interpreter": {
   "hash": "e78dbf5722967f313c4c7f2f73db293759ee911f3cc260e746cc2fb2541b961a"
  },
  "kernelspec": {
   "display_name": "Python 3.9.7 ('base')",
   "language": "python",
   "name": "python3"
  },
  "language_info": {
   "codemirror_mode": {
    "name": "ipython",
    "version": 3
   },
   "file_extension": ".py",
   "mimetype": "text/x-python",
   "name": "python",
   "nbconvert_exporter": "python",
   "pygments_lexer": "ipython3",
   "version": "3.9.7"
  },
  "orig_nbformat": 4
 },
 "nbformat": 4,
 "nbformat_minor": 2
}
