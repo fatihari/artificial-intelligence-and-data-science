{
 "cells": [
  {
   "cell_type": "code",
   "execution_count": 1,
   "metadata": {},
   "outputs": [
    {
     "data": {
      "text/plain": [
       "''"
      ]
     },
     "execution_count": 1,
     "metadata": {},
     "output_type": "execute_result"
    }
   ],
   "source": [
    "import tkinter as tk\n",
    "from tkinter import ttk \n",
    "\n",
    "window = tk.Tk() # parent widget\n",
    "window.geometry(\"800x600\")"
   ]
  },
  {
   "cell_type": "markdown",
   "metadata": {},
   "source": [
    "#### 1-Menu"
   ]
  },
  {
   "cell_type": "code",
   "execution_count": 2,
   "metadata": {},
   "outputs": [],
   "source": [
    "# menu \n",
    "def newFileFunction():\n",
    "    print(\"This is file menu\")\n",
    "def editFileFunction():\n",
    "    print(\"This is edit menu\")"
   ]
  },
  {
   "cell_type": "code",
   "execution_count": 3,
   "metadata": {},
   "outputs": [],
   "source": [
    "menubar = tk.Menu(window) # menubar, window'un üzerinde yer alır.\n",
    "window.config(menu = menubar) # menubar'ı window'un menusüne ekledik."
   ]
  },
  {
   "cell_type": "code",
   "execution_count": 4,
   "metadata": {},
   "outputs": [],
   "source": [
    "file = tk.Menu(menubar) # file menü itemi, menubar'ın üzerinde yer alır.\n",
    "edit = tk.Menu(menubar) # edit menü itemi, menubar'ın üzerinde yer alır."
   ]
  },
  {
   "cell_type": "code",
   "execution_count": 5,
   "metadata": {},
   "outputs": [],
   "source": [
    "# Add hierarchical menu item.\n",
    "menubar.add_cascade(label = \"file\", menu = file)\n",
    "menubar.add_cascade(label = \"edit\", menu = edit)"
   ]
  },
  {
   "cell_type": "code",
   "execution_count": 6,
   "metadata": {},
   "outputs": [],
   "source": [
    "file.add_command(label = \"New file\", command = newFileFunction )\n",
    "edit.add_command(label = \"Undo\", command = editFileFunction )"
   ]
  },
  {
   "cell_type": "markdown",
   "metadata": {},
   "source": [
    "#### 2-Tabs"
   ]
  },
  {
   "cell_type": "code",
   "execution_count": 7,
   "metadata": {},
   "outputs": [],
   "source": [
    "tabs = ttk.Notebook(window, width = 540, height = 300)\n",
    "tabs.place(x = 25, y = 25)"
   ]
  },
  {
   "cell_type": "code",
   "execution_count": 8,
   "metadata": {},
   "outputs": [],
   "source": [
    "tab1 = ttk.LabelFrame(tabs, text = \"tab1\", width = 50, height = 50) # ikinci bir yöntem olarak:\n",
    "tab1 = ttk.Frame(tabs, width = 50, height = 50)\n",
    "tk.Label(tab1, text = \"tab1\").pack()\n",
    "\n",
    "tab2 = ttk.LabelFrame(tabs, text = \"tab2\", width = 50, height = 50)\n",
    "tab3 = ttk.LabelFrame(tabs, text = \"tab3\", width = 50, height = 50)"
   ]
  },
  {
   "cell_type": "code",
   "execution_count": 9,
   "metadata": {},
   "outputs": [],
   "source": [
    "tabs.add(tab1, text = \"treeview\")\n",
    "tabs.add(tab2, text = \"list box\")\n",
    "tabs.add(tab3, text = \"text editor\")"
   ]
  },
  {
   "cell_type": "markdown",
   "metadata": {},
   "source": [
    "#### 3-Tree View"
   ]
  },
  {
   "cell_type": "code",
   "execution_count": 10,
   "metadata": {},
   "outputs": [],
   "source": [
    "treeview = ttk.Treeview(tab1)\n",
    "treeview.place(x = 5, y = 5)"
   ]
  },
  {
   "cell_type": "code",
   "execution_count": 11,
   "metadata": {},
   "outputs": [
    {
     "data": {
      "text/plain": [
       "'item4'"
      ]
     },
     "execution_count": 11,
     "metadata": {},
     "output_type": "execute_result"
    }
   ],
   "source": [
    "treeview.insert(\"\",\"0\",\"item1\", text = \"Spain\") # parent'ı yok, ismi item1\n",
    "treeview.insert(\"item1\",\"1\",\"item2\", text = \"Madrid\") # parent'ı Spain, ismi item2\n",
    "treeview.insert(\"\",\"2\",\"item3\", text = \"France\") # parenti yok, ismi item3\n",
    "treeview.insert(\"item3\",\"3\",\"item4\", text = \"Paris\") # parenti France(item3), ismi item4"
   ]
  },
  {
   "cell_type": "markdown",
   "metadata": {},
   "source": [
    "> <br>\n",
    "> window'da herhangi bir hareket yapıldığı zaman, bu event, yapılan hareketin farkında olacak ve bu hareketi(hangi konumda olduğunu bilerek) bize return edecektir.\n",
    "> <br> <br>\n",
    ">"
   ]
  },
  {
   "cell_type": "code",
   "execution_count": 12,
   "metadata": {},
   "outputs": [],
   "source": [
    "def callback(event): \n",
    "    item = treeview.identify(\"item\",event.x,event.y)\n",
    "    print(item)"
   ]
  },
  {
   "cell_type": "code",
   "execution_count": 13,
   "metadata": {},
   "outputs": [
    {
     "data": {
      "text/plain": [
       "'2669499403520callback'"
      ]
     },
     "execution_count": 13,
     "metadata": {},
     "output_type": "execute_result"
    }
   ],
   "source": [
    "# treeview üzerinde mouse ile çift tıklama gerçekleşirse callback'i çağır\n",
    "treeview.bind(\"<Double-1>\",callback)"
   ]
  },
  {
   "cell_type": "markdown",
   "metadata": {},
   "source": [
    "#### 4-List Box"
   ]
  },
  {
   "cell_type": "code",
   "execution_count": 14,
   "metadata": {},
   "outputs": [],
   "source": [
    "# tab2 üzerinde olacak. Ayrıca birden fazla eleman/dosya seçebilmek için multiple yapılır. \n",
    "listBox = tk.Listbox(tab2, selectmode = tk.MULTIPLE) \n",
    "listBox.insert(0, \"Spain\") # (index, item_name)\n",
    "listBox.insert(1, \"France\")\n",
    "listBox.insert(2, \"China\")\n",
    "listBox.place(x = 5, y = 5) # tab2 üzerinde 5,5 konumuna yerleştirilir."
   ]
  },
  {
   "cell_type": "code",
   "execution_count": 15,
   "metadata": {},
   "outputs": [],
   "source": [
    "def getItem():\n",
    "    index_list = listBox.curselection() # return the indices of currently selected item.\n",
    "    print(index_list)\n",
    "    for each in index_list: # multiple yaptığımız için birden fazla olabilir. Bu yüzden for açarız.\n",
    "        print(listBox.get(each))"
   ]
  },
  {
   "cell_type": "code",
   "execution_count": 16,
   "metadata": {},
   "outputs": [],
   "source": [
    "button = tk.Button(tab2, text = \"button\", command = getItem)\n",
    "button.place(x = 150, y = 5)"
   ]
  },
  {
   "cell_type": "markdown",
   "metadata": {},
   "source": [
    "#### 5-Text Editor"
   ]
  },
  {
   "cell_type": "code",
   "execution_count": 17,
   "metadata": {},
   "outputs": [],
   "source": [
    "# wrap = 'none', 'char', 'word' => word ise kelimelerle çalışacağız demek oluyor.\n",
    "textEditor = tk.Text(tab3, width = 25, height = 25, wrap = tk.WORD)\n",
    "textEditor.grid(row = 0, column = 0, padx = 10, pady = 10) #farklılık olsun diye grid yapıldı."
   ]
  },
  {
   "cell_type": "code",
   "execution_count": 18,
   "metadata": {},
   "outputs": [],
   "source": [
    "def textFunction():\n",
    "    print(textEditor.get(1.0, tk.END)) # textEditor.get(yazılan yazının başından sonuna demek.)"
   ]
  },
  {
   "cell_type": "code",
   "execution_count": 19,
   "metadata": {},
   "outputs": [],
   "source": [
    "button = tk.Button(tab3, text = \"save\", command = textFunction)\n",
    "button.grid(row = 0, column = 2, padx = 10, pady = 10)"
   ]
  },
  {
   "cell_type": "markdown",
   "metadata": {},
   "source": [
    "#### 6-Scroll Bar"
   ]
  },
  {
   "cell_type": "code",
   "execution_count": 20,
   "metadata": {},
   "outputs": [],
   "source": [
    "#yview=text editorunun y ekseninde (sağında) olacak demek.\n",
    "scroll = tk.Scrollbar(tab3, orient = tk.VERTICAL, command = textEditor.yview) \n",
    "scroll.grid(row = 0, column = 1, sticky = tk.N + tk.S) # sticky ile yukarı aşağıya bağlanır.\n",
    "textEditor.config(yscrollcommand = scroll.set)"
   ]
  },
  {
   "cell_type": "code",
   "execution_count": 21,
   "metadata": {},
   "outputs": [
    {
     "name": "stdout",
     "output_type": "stream",
     "text": [
      "This is file menu\n",
      "This is edit menu\n",
      "item2\n",
      "(0, 1)\n",
      "Spain\n",
      "France\n",
      "sa\n",
      "as\n",
      "\n",
      "\n"
     ]
    }
   ],
   "source": [
    "window.mainloop()"
   ]
  }
 ],
 "metadata": {
  "interpreter": {
   "hash": "e78dbf5722967f313c4c7f2f73db293759ee911f3cc260e746cc2fb2541b961a"
  },
  "kernelspec": {
   "display_name": "Python 3.9.7 ('base')",
   "language": "python",
   "name": "python3"
  },
  "language_info": {
   "codemirror_mode": {
    "name": "ipython",
    "version": 3
   },
   "file_extension": ".py",
   "mimetype": "text/x-python",
   "name": "python",
   "nbconvert_exporter": "python",
   "pygments_lexer": "ipython3",
   "version": "3.9.7"
  },
  "orig_nbformat": 4
 },
 "nbformat": 4,
 "nbformat_minor": 2
}
