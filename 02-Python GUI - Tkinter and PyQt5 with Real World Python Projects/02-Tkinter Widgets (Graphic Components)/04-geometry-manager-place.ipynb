{
 "cells": [
  {
   "cell_type": "code",
   "execution_count": 104,
   "metadata": {},
   "outputs": [],
   "source": [
    "import tkinter as tk\n",
    "from tkinter import ttk"
   ]
  },
  {
   "cell_type": "code",
   "execution_count": 105,
   "metadata": {},
   "outputs": [
    {
     "data": {
      "text/plain": [
       "''"
      ]
     },
     "execution_count": 105,
     "metadata": {},
     "output_type": "execute_result"
    }
   ],
   "source": [
    "window = tk.Tk()\n",
    "window.title(\"Geometry Manager\")"
   ]
  },
  {
   "cell_type": "markdown",
   "metadata": {},
   "source": [
    "### 3- PLACE MANAGER"
   ]
  },
  {
   "cell_type": "code",
   "execution_count": 106,
   "metadata": {},
   "outputs": [],
   "source": [
    "label1 = tk.Label(window, text = \"place1\")\n",
    "label1.place(x = 20, y = 20) # x=20px, y=20px\n",
    "\n",
    "label2 = tk.Label(window, text = \"place2\")\n",
    "label2.place(x = 40, y = 40) # x=40px, y=40px\n",
    "\n",
    "label3 = tk.Label(window, text = \"place3\")\n",
    "label3.place(x = 60, y = 60) # x=60px, y=60px\n",
    "\n",
    "# piksel piksel eklemek istenmiyorsa, relx ve rely: 0-1 arasında olmak üzere pratik değerler atanabilir. \n",
    "# (relx=0, rely=0)     : sol üst, \n",
    "# (relx=0, rely=0.5)   : sol orta, \n",
    "# (relx=0, rely=0.9)   : sol alt,\n",
    "\n",
    "# (relx=0.8, rely=0)   : sağ üst, \n",
    "# (relx=0.8, rely=0.5) : sağ orta\n",
    "# (relx=0.8, rely=0.9) : sağ alt, \n",
    "\n",
    "# (relx=0.5, rely=0)   : üst orta\n",
    "# (relx=0.5, rely=0.9) : alt orta\n",
    "\n",
    "label4 = tk.Label(window, text = \"place4\")\n",
    "label4.place(relx = 0.5, rely = 0.9)"
   ]
  },
  {
   "cell_type": "code",
   "execution_count": 107,
   "metadata": {},
   "outputs": [],
   "source": [
    "window.mainloop()"
   ]
  }
 ],
 "metadata": {
  "interpreter": {
   "hash": "e78dbf5722967f313c4c7f2f73db293759ee911f3cc260e746cc2fb2541b961a"
  },
  "kernelspec": {
   "display_name": "Python 3.9.7 ('base')",
   "language": "python",
   "name": "python3"
  },
  "language_info": {
   "codemirror_mode": {
    "name": "ipython",
    "version": 3
   },
   "file_extension": ".py",
   "mimetype": "text/x-python",
   "name": "python",
   "nbconvert_exporter": "python",
   "pygments_lexer": "ipython3",
   "version": "3.9.7"
  },
  "orig_nbformat": 4
 },
 "nbformat": 4,
 "nbformat_minor": 2
}
