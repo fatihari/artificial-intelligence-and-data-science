{
 "cells": [
  {
   "cell_type": "code",
   "execution_count": 1,
   "metadata": {},
   "outputs": [],
   "source": [
    "import tkinter as tk\n",
    "from tkinter import ttk"
   ]
  },
  {
   "cell_type": "code",
   "execution_count": 2,
   "metadata": {},
   "outputs": [
    {
     "data": {
      "text/plain": [
       "''"
      ]
     },
     "execution_count": 2,
     "metadata": {},
     "output_type": "execute_result"
    }
   ],
   "source": [
    "window = tk.Tk()\n",
    "window.title(\"Geometry Manager\")\n",
    "window.geometry(\"512x512\")"
   ]
  },
  {
   "cell_type": "markdown",
   "metadata": {},
   "source": [
    "### 1- PACK\n",
    "> <br>\n",
    "> Pack yapısı kullanırken, yeni bir eleman tanımlandığında, left/right olarak yani x ekseninde tanımlanmış componentlerın soluna ya da sağına eklenir.\n",
    "> <br>\n",
    "> Eğer bottom/top şeklinde yani y ekseninde tanımlanmışsa aynı şekilde tanımlanmış componentin aşağısına/üstüne gelecek şekilde eklenir.\n",
    "> <br><br>"
   ]
  },
  {
   "cell_type": "code",
   "execution_count": 3,
   "metadata": {},
   "outputs": [],
   "source": [
    "red = tk.Button(window, text= 'Red', fg = 'red', bg='white')\n",
    "red.pack(side = tk.LEFT)\n",
    "\n",
    "green = tk.Button(window, text = \"Green\", fg= \"green\", bg='white')\n",
    "green.pack(side = tk.LEFT)\n",
    "\n",
    "blue = tk.Button(window, text = \"Blue\", fg= \"blue\", bg='white')\n",
    "blue.pack(side = tk.LEFT)\n",
    "\n",
    "black = tk.Button(window, text = \"Black\", fg= \"black\", bg='white')\n",
    "black.pack(side = tk.BOTTOM)\n",
    "\n",
    "brown = tk.Button(window, text = \"Brown\",fg= \"brown\", bg='white')\n",
    "brown.pack(side = tk.BOTTOM)\n",
    "\n",
    "yellow = tk.Button(window, text = \"Yellow\",fg= \"yellow\", bg='white')\n",
    "yellow.pack(side = tk.TOP, fill = tk.BOTH, expand = True) # fill element dikeyse yatayda uzatır, expand = dikeyse dikey yönde genişletir."
   ]
  },
  {
   "cell_type": "code",
   "execution_count": 4,
   "metadata": {},
   "outputs": [],
   "source": [
    "window.mainloop()"
   ]
  }
 ],
 "metadata": {
  "interpreter": {
   "hash": "e78dbf5722967f313c4c7f2f73db293759ee911f3cc260e746cc2fb2541b961a"
  },
  "kernelspec": {
   "display_name": "Python 3.9.7 ('base')",
   "language": "python",
   "name": "python3"
  },
  "language_info": {
   "codemirror_mode": {
    "name": "ipython",
    "version": 3
   },
   "file_extension": ".py",
   "mimetype": "text/x-python",
   "name": "python",
   "nbconvert_exporter": "python",
   "pygments_lexer": "ipython3",
   "version": "3.9.7"
  },
  "orig_nbformat": 4
 },
 "nbformat": 4,
 "nbformat_minor": 2
}
