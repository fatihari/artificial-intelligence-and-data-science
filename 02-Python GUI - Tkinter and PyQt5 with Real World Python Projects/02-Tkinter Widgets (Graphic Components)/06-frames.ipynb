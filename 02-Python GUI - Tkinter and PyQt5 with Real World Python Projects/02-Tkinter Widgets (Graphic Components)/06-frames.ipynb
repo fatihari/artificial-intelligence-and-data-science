{
 "cells": [
  {
   "cell_type": "code",
   "execution_count": 1,
   "metadata": {},
   "outputs": [],
   "source": [
    "import tkinter as tk\n",
    "from tkinter import ttk \n",
    "\n",
    "window = tk.Tk() # parent widget"
   ]
  },
  {
   "cell_type": "markdown",
   "metadata": {},
   "source": [
    "#### FRAME NEDİR?\n",
    "Frameler, bir arayüz üzerinde widget componentlerimizi organize etmemizi ve gruplamamıza olanak sağlayan yapılardır."
   ]
  },
  {
   "cell_type": "markdown",
   "metadata": {},
   "source": [
    "\n",
    "``` \n",
    "tk.Frame()\n",
    "``` \n",
    "yerine\n",
    "``` \n",
    "tk.LabelFrame()\n",
    "``` \n",
    "kullanabiliriz. Eğer bu yapıyı kullanırsak ilaveten parametre olarak ,\n",
    "``` \n",
    "tk.LabelFrame(text =  \"frame1\")\n",
    "```  \n",
    "yazarız.<br><br>\n",
    "Bu yapı framelerin daha fazla organize görülmesini sağlar. <br>\n",
    "Frame'in sol üstüne **frame1** adında küçük label ekler.\n",
    "\n"
   ]
  },
  {
   "cell_type": "code",
   "execution_count": 2,
   "metadata": {},
   "outputs": [],
   "source": [
    "## frame left\n",
    "frame_left = tk.Frame(window, width = 540, height = 640,bg = \"red\")\n",
    "frame_left.grid(row = 0, column = 0, padx = 10, pady = 10)\n",
    "\n",
    "frame1 = tk.LabelFrame(frame_left, text =  \"frame1\", width = 540, height = 500,bg = \"yellow\")\n",
    "frame1.grid(row = 0, column = 0, padx = 10, pady = 10)\n",
    "\n",
    "frame2 = tk.LabelFrame(frame_left, text =  \"frame2\", width = 540, height = 140,bg = \"yellow\")\n",
    "frame2.grid(row = 1, column = 0, padx = 10, pady = 10)\n",
    "\n",
    "label1 = tk.Label(frame2, text=\"label in frame2\")\n",
    "label1.grid(row=1,column=0, padx = 10, pady = 10)\n",
    "\n",
    "## frame right\n",
    "frame_right = tk.Frame(window, width = 540, height = 640, bg = \"green\")\n",
    "frame_right.grid(row = 0, column = 1, padx = 10, pady = 10)"
   ]
  },
  {
   "cell_type": "code",
   "execution_count": 3,
   "metadata": {},
   "outputs": [],
   "source": [
    "window.mainloop()"
   ]
  }
 ],
 "metadata": {
  "interpreter": {
   "hash": "e78dbf5722967f313c4c7f2f73db293759ee911f3cc260e746cc2fb2541b961a"
  },
  "kernelspec": {
   "display_name": "Python 3.9.7 ('base')",
   "language": "python",
   "name": "python3"
  },
  "language_info": {
   "codemirror_mode": {
    "name": "ipython",
    "version": 3
   },
   "file_extension": ".py",
   "mimetype": "text/x-python",
   "name": "python",
   "nbconvert_exporter": "python",
   "pygments_lexer": "ipython3",
   "version": "3.9.7"
  },
  "orig_nbformat": 4
 },
 "nbformat": 4,
 "nbformat_minor": 2
}
