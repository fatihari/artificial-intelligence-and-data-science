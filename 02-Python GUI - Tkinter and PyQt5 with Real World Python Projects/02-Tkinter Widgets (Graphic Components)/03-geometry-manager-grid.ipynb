{
 "cells": [
  {
   "cell_type": "code",
   "execution_count": 18,
   "metadata": {},
   "outputs": [],
   "source": [
    "import tkinter as tk\n",
    "from tkinter import ttk"
   ]
  },
  {
   "cell_type": "code",
   "execution_count": 19,
   "metadata": {},
   "outputs": [
    {
     "data": {
      "text/plain": [
       "''"
      ]
     },
     "execution_count": 19,
     "metadata": {},
     "output_type": "execute_result"
    }
   ],
   "source": [
    "window = tk.Tk()\n",
    "window.title(\"Geometry Manager\")"
   ]
  },
  {
   "cell_type": "markdown",
   "metadata": {},
   "source": [
    "### 2- GRID MANAGER\n",
    "\n",
    "> <br>\n",
    "> Bir matris şeklinde (0,0), (0,1) diye devam edecek şekilde gridlere bölerek oluşturulan managerdir. \n",
    ">\n",
    "> Başlangıçta Pack biraz ileri seviyede de Grid yapısı tercih edilir. Oldukça kullanışlıdır. \n",
    "> <br><br>"
   ]
  },
  {
   "cell_type": "code",
   "execution_count": 20,
   "metadata": {},
   "outputs": [],
   "source": [
    "for row in range(5): # There will be 5 rows\n",
    "    for col in range(5): # There will be 5 columns\n",
    "        label = tk.Label(window, text = 'Row%s/Col%s' %(row,col),borderwidth = 20) # borderwith indexler arası boşluk\n",
    "        label.grid(row = row, column = col, padx = 3, pady = 3)"
   ]
  },
  {
   "cell_type": "code",
   "execution_count": 21,
   "metadata": {},
   "outputs": [],
   "source": [
    "window.mainloop()"
   ]
  }
 ],
 "metadata": {
  "interpreter": {
   "hash": "e78dbf5722967f313c4c7f2f73db293759ee911f3cc260e746cc2fb2541b961a"
  },
  "kernelspec": {
   "display_name": "Python 3.9.7 ('base')",
   "language": "python",
   "name": "python3"
  },
  "language_info": {
   "codemirror_mode": {
    "name": "ipython",
    "version": 3
   },
   "file_extension": ".py",
   "mimetype": "text/x-python",
   "name": "python",
   "nbconvert_exporter": "python",
   "pygments_lexer": "ipython3",
   "version": "3.9.7"
  },
  "orig_nbformat": 4
 },
 "nbformat": 4,
 "nbformat_minor": 2
}
