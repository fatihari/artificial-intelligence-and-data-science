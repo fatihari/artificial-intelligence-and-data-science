{
 "cells": [
  {
   "cell_type": "markdown",
   "metadata": {},
   "source": [
    "> <br>\n",
    "> Aşağıda 2 adet tkinter import işlemi yapılmıştır. Bunun sebebi: Bazı widget'lar tk sınıfına, bazı widget'lar da ttk'ya ait oldukları içindir.\n",
    "> <br> <br>"
   ]
  },
  {
   "cell_type": "code",
   "execution_count": 1,
   "metadata": {},
   "outputs": [],
   "source": [
    "import tkinter as tk \n",
    "from tkinter import ttk\n",
    "from tkinter import messagebox"
   ]
  },
  {
   "cell_type": "markdown",
   "metadata": {},
   "source": [
    "#### 1- Window"
   ]
  },
  {
   "cell_type": "markdown",
   "metadata": {},
   "source": [
    "##### Note\n",
    "> <br>\n",
    "> window'un görülebilmesi için window.mainloop() en son çağrılmalıdır. \n",
    ">\n",
    "> O yüzden ekleyeceğimiz (button, label, entry) başka componentler de varsa hemen alttaki <b>window.mainloop()</b> kodunu yorum satırına alır, tüm kodların en aşağısına ekleriz.\n",
    "> <br> <br>"
   ]
  },
  {
   "cell_type": "code",
   "execution_count": 2,
   "metadata": {},
   "outputs": [
    {
     "data": {
      "text/plain": [
       "''"
      ]
     },
     "execution_count": 2,
     "metadata": {},
     "output_type": "execute_result"
    }
   ],
   "source": [
    "window = tk.Tk()\n",
    "window.geometry(\"512x512\")\n",
    "window.title(\"Welcome to first app\")\n",
    "# window.mainloop()"
   ]
  },
  {
   "cell_type": "markdown",
   "metadata": {},
   "source": [
    "#### 2-Button"
   ]
  },
  {
   "cell_type": "markdown",
   "metadata": {},
   "source": [
    "##### Note\n",
    "> #### tk.Button()'un parametreleri:\n",
    "> 1-<b>window</b> => <b>button</b> isimli Button nesnesi, <b>window</b> isimli pencerenin üzerinde olduğunu belirtir.\n",
    "> \n",
    "> 2-<b>text</b> => buttonun üzerindeki yazı\n",
    ">\n",
    "> 3-<b>bg/fg</b> => arka plan/metin rengi\n",
    ">\n",
    "> 4-<b>activebackground/activeforeground</b> => buttona basıldığında arka plan/metin rengi\n",
    ">\n",
    "> 5-<b>height/weight</b> => yükseklik/genişlik\n",
    ">\n",
    "> 6-<b>command</b> => buttona basıldığında buttonFunction adındaki function'a yönlendirir.\n",
    "> <br> <br>"
   ]
  },
  {
   "cell_type": "code",
   "execution_count": 3,
   "metadata": {},
   "outputs": [],
   "source": [
    "def buttonFunction():\n",
    "    print(\"Push button\") # yazdırılan metni en alttaki mainloop'ta görebileceğiz.\n",
    "\n",
    "    label.config(text = \"hello fa\", fg = \"black\", bg = \"red\", font = \"Times 25\") # buttona basıldığında labeldaki yazı değişsin istiyorsak config ile set işlemi yaparak bu işlemi gerçekleştirebiliriz.\n",
    "\n",
    "    entry_value = entry.get()\n",
    "    print(entry_value)\n",
    "\n",
    "    # config = configure\n",
    "    label.configure(text = entry_value) # girilen entrydeki metin labelda gösterilir.\n",
    "    entry.configure(state = \"disabled\") # butona basıldığında entry alanına yazılması engellenir.\n",
    "\n",
    "    # 5-Message Box\n",
    "#    message_box = messagebox.showinfo(title = \"info\", message = \"information\")\n",
    "#    message_box = messagebox.askretrycancel(title = \"info\", message = \"information\")\n",
    "#    message_box = messagebox.askquestion(title = \"info\", message = \"information\")\n",
    "#    message_box = messagebox.askyesnocancel(title = \"info\", message = \"information\")\n",
    "    message_box = messagebox.showerror(title = \"info\", message = \"information\")\n",
    "    print(message_box)\n"
   ]
  },
  {
   "cell_type": "code",
   "execution_count": 4,
   "metadata": {},
   "outputs": [],
   "source": [
    "button = tk.Button(window, text = \"First button\", activebackground = \"red\", activeforeground = \"black\", bg = \"black\", fg = \"white\", height = 15, width = 50, command = buttonFunction)"
   ]
  },
  {
   "cell_type": "markdown",
   "metadata": {},
   "source": [
    "##### Note\n",
    "> #### tk.Button()'un parametreleri:\n",
    "> <b>window</b> u button'da belitmiştik. \n",
    "> \n",
    "> Tanımlanan button, label gibi tüm widgetlar ya da diğer adıyla componentler <b>window</b> değişkenini parametre olarak eklenmesine rağmen, tamamen map'lemek için ilaveten aşağıda olduğu gibi <b>button.pack()</b> komutunu kullanmamız gerekir. \n",
    ">\n",
    "> Bu işlem bir widget'ı (button), ana widgeta(window) paketleme işlemi olarak tanımı yapılmıştır.\n",
    ">\n",
    "> <br>"
   ]
  },
  {
   "cell_type": "code",
   "execution_count": 5,
   "metadata": {},
   "outputs": [],
   "source": [
    "button.pack()"
   ]
  },
  {
   "cell_type": "markdown",
   "metadata": {},
   "source": [
    "#### 3-Label"
   ]
  },
  {
   "cell_type": "code",
   "execution_count": 6,
   "metadata": {},
   "outputs": [],
   "source": [
    "label = tk.Label(window, text = \"Hello World\", font= 'Times 16', fg = 'white', bg = 'black', wraplength = 150) # wraplength = text length as px"
   ]
  },
  {
   "cell_type": "code",
   "execution_count": 7,
   "metadata": {},
   "outputs": [],
   "source": [
    "label.pack(side = tk.RIGHT, padx = 25) # sağa yasladık ve sağdan 25px boşluk verdik."
   ]
  },
  {
   "cell_type": "markdown",
   "metadata": {},
   "source": [
    "#### 4-Entry"
   ]
  },
  {
   "cell_type": "code",
   "execution_count": 8,
   "metadata": {},
   "outputs": [],
   "source": [
    "entry = tk.Entry(window, width = 50)\n",
    "entry.insert(string = \"write something only one time\", index = 0) # string=placeholder\n",
    "entry.pack(side = tk.LEFT, padx = 25)"
   ]
  },
  {
   "cell_type": "code",
   "execution_count": 9,
   "metadata": {},
   "outputs": [
    {
     "name": "stdout",
     "output_type": "stream",
     "text": [
      "Push button\n",
      "sa\n",
      "ok\n"
     ]
    }
   ],
   "source": [
    "window.mainloop()"
   ]
  }
 ],
 "metadata": {
  "interpreter": {
   "hash": "e78dbf5722967f313c4c7f2f73db293759ee911f3cc260e746cc2fb2541b961a"
  },
  "kernelspec": {
   "display_name": "Python 3.9.7 ('base')",
   "language": "python",
   "name": "python3"
  },
  "language_info": {
   "codemirror_mode": {
    "name": "ipython",
    "version": 3
   },
   "file_extension": ".py",
   "mimetype": "text/x-python",
   "name": "python",
   "nbconvert_exporter": "python",
   "pygments_lexer": "ipython3",
   "version": "3.9.7"
  },
  "orig_nbformat": 4
 },
 "nbformat": 4,
 "nbformat_minor": 2
}
