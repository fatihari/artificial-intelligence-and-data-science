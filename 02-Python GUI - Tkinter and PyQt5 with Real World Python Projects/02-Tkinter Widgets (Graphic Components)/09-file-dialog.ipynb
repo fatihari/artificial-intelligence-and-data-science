{
 "cells": [
  {
   "cell_type": "code",
   "execution_count": 1,
   "metadata": {},
   "outputs": [
    {
     "data": {
      "text/plain": [
       "''"
      ]
     },
     "execution_count": 1,
     "metadata": {},
     "output_type": "execute_result"
    }
   ],
   "source": [
    "import tkinter as tk\n",
    "from tkinter import filedialog\n",
    "from PIL import ImageTk, Image\n",
    "from matplotlib.figure import Figure\n",
    "from matplotlib.backends.backend_tkagg import FigureCanvasTkAgg\n",
    "import numpy as np\n",
    "\n",
    "window = tk.Tk() # parent widget\n",
    "window.geometry(\"500x800\")"
   ]
  },
  {
   "cell_type": "markdown",
   "metadata": {},
   "source": [
    "#### 1-File Dialog"
   ]
  },
  {
   "cell_type": "code",
   "execution_count": 2,
   "metadata": {},
   "outputs": [],
   "source": [
    "def openFile():\n",
    "    file_path = filedialog.askopenfilename(initialdir = \"img\", title = \"select a file...\") #open file'a basıldığında açılan ilk klasör \"img\" nin içidir.\n",
    "    print(file_path)\n",
    "    photo = Image.open(file_path)\n",
    "    photo = ImageTk.PhotoImage(photo)\n",
    "    \n",
    "    label = tk.Label(window, image = photo)\n",
    "    label.image = photo\n",
    "    label.pack(padx = 15, pady = 15)"
   ]
  },
  {
   "cell_type": "markdown",
   "metadata": {},
   "source": [
    "#### Note\n",
    "Labellar ile hem textler hem imageler eklenebilir."
   ]
  },
  {
   "cell_type": "code",
   "execution_count": 3,
   "metadata": {},
   "outputs": [],
   "source": [
    "button = tk.Button(window, text = \"open file\", command = openFile)\n",
    "button.pack()"
   ]
  },
  {
   "cell_type": "markdown",
   "metadata": {},
   "source": [
    "#### 2-Plot"
   ]
  },
  {
   "cell_type": "code",
   "execution_count": 4,
   "metadata": {},
   "outputs": [
    {
     "data": {
      "text/plain": [
       "[<matplotlib.lines.Line2D at 0x2acdeb796d0>]"
      ]
     },
     "execution_count": 4,
     "metadata": {},
     "output_type": "execute_result"
    }
   ],
   "source": [
    "fig = Figure(figsize = (5,4), dpi = 100) #5x100, 4x100 = 500x400 piksele sahip bir figure oluşturulur. \n",
    "data = np.arange(0,3,0.1) # 0 ile 3 arasında 0.1 aralıklarla array oluşturulur.\n",
    "# x=data, y=data*2+10\n",
    "fig.add_subplot(111).plot(data,data*2+10) # 111=1satır, 1sütun, 1subplot\n"
   ]
  },
  {
   "cell_type": "code",
   "execution_count": 5,
   "metadata": {},
   "outputs": [],
   "source": [
    "canvas = FigureCanvasTkAgg(fig, master = window) # figure'u windowa yerleştireceğiz demek.\n",
    "canvas.draw()\n",
    "canvas.get_tk_widget().pack() # pack ile yerleştirilir."
   ]
  },
  {
   "cell_type": "markdown",
   "metadata": {},
   "source": [
    "#### 3-Mouse Event"
   ]
  },
  {
   "cell_type": "code",
   "execution_count": 6,
   "metadata": {},
   "outputs": [],
   "source": [
    "def leftClick(event):\n",
    "    tk.Label(window,text = \"left\").pack()\n",
    "    \n",
    "def middleClick(event):\n",
    "    tk.Label(window,text = \"middle\").pack()\n",
    "\n",
    "def rightClick(event):\n",
    "    tk.Label(window,text = \"right\").pack()"
   ]
  },
  {
   "cell_type": "markdown",
   "metadata": {},
   "source": [
    "#### Note\n",
    "Double click için \n",
    "```<Double-1>``` yazarız.\n"
   ]
  },
  {
   "cell_type": "code",
   "execution_count": 7,
   "metadata": {},
   "outputs": [
    {
     "data": {
      "text/plain": [
       "'2941501520960rightClick'"
      ]
     },
     "execution_count": 7,
     "metadata": {},
     "output_type": "execute_result"
    }
   ],
   "source": [
    "window.bind(\"<Button-1>\", leftClick)   # Tek Click ve Sol\n",
    "window.bind(\"<Button-2>\", middleClick) # Tek Click ve Orta\n",
    "window.bind(\"<Button-3>\", rightClick)  # Tek Click ve Sağ"
   ]
  },
  {
   "cell_type": "code",
   "execution_count": 8,
   "metadata": {},
   "outputs": [
    {
     "name": "stdout",
     "output_type": "stream",
     "text": [
      "C:/Users/Pointo2/Desktop/Artifical Intelligence/02-Python GUI - Tkinter and PyQt5 with Real World Python Projects/02-Tkinter Widgets (Graphic Components)/img/cell.jpg\n"
     ]
    }
   ],
   "source": [
    "window.mainloop()"
   ]
  }
 ],
 "metadata": {
  "interpreter": {
   "hash": "e78dbf5722967f313c4c7f2f73db293759ee911f3cc260e746cc2fb2541b961a"
  },
  "kernelspec": {
   "display_name": "Python 3.9.7 ('base')",
   "language": "python",
   "name": "python3"
  },
  "language_info": {
   "codemirror_mode": {
    "name": "ipython",
    "version": 3
   },
   "file_extension": ".py",
   "mimetype": "text/x-python",
   "name": "python",
   "nbconvert_exporter": "python",
   "pygments_lexer": "ipython3",
   "version": "3.9.7"
  },
  "orig_nbformat": 4
 },
 "nbformat": 4,
 "nbformat_minor": 2
}
