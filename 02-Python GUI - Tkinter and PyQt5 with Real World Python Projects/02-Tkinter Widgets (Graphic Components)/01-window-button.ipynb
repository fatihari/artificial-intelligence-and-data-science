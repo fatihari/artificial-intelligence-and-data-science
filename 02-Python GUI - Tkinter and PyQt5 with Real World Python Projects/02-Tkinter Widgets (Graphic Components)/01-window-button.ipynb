{
 "cells": [
  {
   "cell_type": "markdown",
   "metadata": {},
   "source": [
    "> <br>\n",
    "> Aşağıda 2 adet tkinter import işlemi yapılmıştır. Bunun sebebi: Bazı widget'lar tk sınıfına, bazı widget'lar da ttk'ya ait oldukları içindir.\n",
    "> <br> <br>"
   ]
  },
  {
   "cell_type": "code",
   "execution_count": 1,
   "metadata": {},
   "outputs": [],
   "source": [
    "import tkinter as tk \n",
    "from tkinter import ttk"
   ]
  },
  {
   "cell_type": "markdown",
   "metadata": {},
   "source": [
    "#### 1- Window"
   ]
  },
  {
   "cell_type": "markdown",
   "metadata": {},
   "source": [
    "##### Note\n",
    "> <br>\n",
    "> window'un görülebilmesi için window.mainloop() en son çağrılmalıdır. \n",
    ">\n",
    "> O yüzden ekleyeceğimiz (button, label, entry) başka componentler de varsa hemen alttaki <b>window.mainloop()</b> kodunu yorum satırına alır, tüm kodların en aşağısına ekleriz.\n",
    "> <br> <br>"
   ]
  },
  {
   "cell_type": "code",
   "execution_count": 2,
   "metadata": {},
   "outputs": [
    {
     "data": {
      "text/plain": [
       "''"
      ]
     },
     "execution_count": 2,
     "metadata": {},
     "output_type": "execute_result"
    }
   ],
   "source": [
    "window = tk.Tk()\n",
    "window.geometry(\"512x512\")\n",
    "window.title(\"Welcome to first app\")\n",
    "# window.mainloop()"
   ]
  },
  {
   "cell_type": "markdown",
   "metadata": {},
   "source": [
    "#### 2-Button"
   ]
  },
  {
   "cell_type": "markdown",
   "metadata": {},
   "source": [
    "##### Note\n",
    "> #### tk.Button()'un parametreleri:\n",
    "> 1-<b>window</b> => <b>button</b> isimli Button nesnesi, <b>window</b> isimli pencerenin üzerinde olduğunu belirtir.\n",
    "> \n",
    "> 2-<b>text</b> => buttonun üzerindeki yazı\n",
    ">\n",
    "> 3-<b>bg/fg</b> => arka plan/metin rengi\n",
    ">\n",
    "> 4-<b>activebackground/activeforeground</b> => buttona basıldığında arka plan/metin rengi\n",
    ">\n",
    "> 5-<b>height/weight</b> => yükseklik/genişlik\n",
    ">\n",
    "> 6-<b>command</b> => buttona basıldığında buttonFunction adındaki function'a yönlendirir.\n",
    "> <br> <br>"
   ]
  },
  {
   "cell_type": "code",
   "execution_count": 3,
   "metadata": {},
   "outputs": [],
   "source": [
    "def buttonFunction():\n",
    "    print(\"Push button\") # yazdırılan metni en alttaki mainloop'ta görebileceğiz.\n"
   ]
  },
  {
   "cell_type": "code",
   "execution_count": 4,
   "metadata": {},
   "outputs": [],
   "source": [
    "button = tk.Button(window, text = \"First button\", activebackground = \"red\", activeforeground = \"black\", bg = \"black\", fg = \"white\", height = 15, width = 50, command = buttonFunction)"
   ]
  },
  {
   "cell_type": "markdown",
   "metadata": {},
   "source": [
    "##### Note\n",
    "> #### tk.Button()'un parametreleri:\n",
    "> <b>window</b> u button'da belitmiştik. \n",
    "> \n",
    "> Tanımlanan button, label gibi tüm widgetlar ya da diğer adıyla componentler <b>window</b> değişkenini parametre olarak eklenmesine rağmen, tamamen map'lemek için ilaveten aşağıda olduğu gibi <b>button.pack()</b> komutunu kullanmamız gerekir. \n",
    ">\n",
    "> Bu işlem bir widget'ı (button), ana widgeta(window) paketleme işlemi olarak tanımı yapılmıştır.\n",
    ">\n",
    "> <br>"
   ]
  },
  {
   "cell_type": "code",
   "execution_count": 5,
   "metadata": {},
   "outputs": [],
   "source": [
    "button.pack()"
   ]
  },
  {
   "cell_type": "code",
   "execution_count": 6,
   "metadata": {},
   "outputs": [
    {
     "name": "stdout",
     "output_type": "stream",
     "text": [
      "Push button\n",
      "Push button\n"
     ]
    }
   ],
   "source": [
    "window.mainloop()"
   ]
  }
 ],
 "metadata": {
  "interpreter": {
   "hash": "e78dbf5722967f313c4c7f2f73db293759ee911f3cc260e746cc2fb2541b961a"
  },
  "kernelspec": {
   "display_name": "Python 3.9.7 ('base')",
   "language": "python",
   "name": "python3"
  },
  "language_info": {
   "codemirror_mode": {
    "name": "ipython",
    "version": 3
   },
   "file_extension": ".py",
   "mimetype": "text/x-python",
   "name": "python",
   "nbconvert_exporter": "python",
   "pygments_lexer": "ipython3",
   "version": "3.9.7"
  },
  "orig_nbformat": 4
 },
 "nbformat": 4,
 "nbformat_minor": 2
}
