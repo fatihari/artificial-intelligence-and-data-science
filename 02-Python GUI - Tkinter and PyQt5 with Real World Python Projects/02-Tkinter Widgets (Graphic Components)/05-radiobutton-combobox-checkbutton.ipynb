{
 "cells": [
  {
   "cell_type": "code",
   "execution_count": 43,
   "metadata": {},
   "outputs": [],
   "source": [
    "import tkinter as tk\n",
    "from tkinter import ttk"
   ]
  },
  {
   "cell_type": "code",
   "execution_count": 44,
   "metadata": {},
   "outputs": [
    {
     "data": {
      "text/plain": [
       "''"
      ]
     },
     "execution_count": 44,
     "metadata": {},
     "output_type": "execute_result"
    }
   ],
   "source": [
    "window = tk.Tk()# parent level window\n",
    "window.geometry(\"512x512\") # window size x*y"
   ]
  },
  {
   "cell_type": "code",
   "execution_count": 45,
   "metadata": {},
   "outputs": [],
   "source": [
    "def buttonFunction():\n",
    "    print(\"here\")\n",
    "    \n",
    "    # radio button\n",
    "    method_value = method.get()\n",
    "    if method_value ==\"1\":\n",
    "        print(\"method1\")\n",
    "    elif method_value ==\"2\":\n",
    "        print(\"method2\")\n",
    "    else:\n",
    "        print(\"method1 & method2\")\n",
    "\n",
    "    # combobox\n",
    "    print(combo_element.get())\n",
    "\n",
    "    # checkButton\n",
    "    value = save_var.get()\n",
    "    if value == 1:\n",
    "        print(\"Save__\")\n",
    "    else:\n",
    "        print(\"not save\")"
   ]
  },
  {
   "cell_type": "code",
   "execution_count": 46,
   "metadata": {},
   "outputs": [],
   "source": [
    "button = tk.Button(window, text = \"button\", activebackground = \"red\", bg = \"black\", fg = \"white\", activeforeground = \"black\", height = 15, width = 50, command = buttonFunction)\n",
    "\n",
    "button.grid(row = 0, column = 0, pady = 15)"
   ]
  },
  {
   "cell_type": "markdown",
   "metadata": {},
   "source": [
    "#### 1-Radio Button"
   ]
  },
  {
   "cell_type": "code",
   "execution_count": 47,
   "metadata": {},
   "outputs": [],
   "source": [
    "method = tk.StringVar() # basılan radio buttonun metin değerini method değişkeninde tutarım.\n",
    "tk.Radiobutton(window, \n",
    "                text = \"method1: \", \n",
    "                value = \"1\", \n",
    "                activebackground = \"red\", \n",
    "                bg = \"green\",\n",
    "                height = 5, \n",
    "                width = 5, \n",
    "                borderwidth = 15,\n",
    "                variable = method).grid(row=1,column=0)\n",
    "\n",
    "tk.Radiobutton(window, \n",
    "                text = \"method2: \", \n",
    "                value = \"2\", \n",
    "                variable = method).grid(row=1,column=1, pady=15)"
   ]
  },
  {
   "cell_type": "markdown",
   "metadata": {},
   "source": [
    "#### 2-Combo Box"
   ]
  },
  {
   "cell_type": "code",
   "execution_count": 48,
   "metadata": {},
   "outputs": [],
   "source": [
    "combo_element = tk.StringVar()\n",
    "comboBox = ttk.Combobox(window, \n",
    "                        textvariable = combo_element, \n",
    "                        values = (\"1\",\"2\",\"3\"), \n",
    "                        state= \"readonly\")\n",
    "comboBox.grid(row=2,column=0, pady=15)"
   ]
  },
  {
   "cell_type": "markdown",
   "metadata": {},
   "source": [
    "#### 3-Check Button"
   ]
  },
  {
   "cell_type": "code",
   "execution_count": 49,
   "metadata": {},
   "outputs": [],
   "source": [
    "def checkButtonFunction():\n",
    "    print(\"clicked save check button\")"
   ]
  },
  {
   "cell_type": "code",
   "execution_count": 50,
   "metadata": {},
   "outputs": [],
   "source": [
    "save_var = tk.IntVar()\n",
    "save_var.set(0)\n",
    "c_button = tk.Checkbutton(window, text = \"Save\", variable = save_var, font = \"Times 25\", activebackground = \"green\",\n",
    "                          activeforeground = \"white\",\n",
    "                          bg = \"yellow\", command = checkButtonFunction)\n",
    "c_button.grid(row=2,column=1, pady=15)"
   ]
  },
  {
   "cell_type": "code",
   "execution_count": 51,
   "metadata": {},
   "outputs": [
    {
     "name": "stdout",
     "output_type": "stream",
     "text": [
      "here\n",
      "method1\n",
      "\n",
      "not save\n",
      "clicked\n",
      "here\n",
      "method1\n",
      "\n",
      "Save__\n",
      "here\n",
      "method1\n",
      "1\n",
      "Save__\n",
      "here\n",
      "method2\n",
      "2\n",
      "Save__\n",
      "here\n",
      "method2\n",
      "2\n",
      "Save__\n",
      "here\n",
      "method2\n",
      "2\n",
      "Save__\n"
     ]
    }
   ],
   "source": [
    "window.mainloop()"
   ]
  }
 ],
 "metadata": {
  "interpreter": {
   "hash": "e78dbf5722967f313c4c7f2f73db293759ee911f3cc260e746cc2fb2541b961a"
  },
  "kernelspec": {
   "display_name": "Python 3.9.7 ('base')",
   "language": "python",
   "name": "python3"
  },
  "language_info": {
   "codemirror_mode": {
    "name": "ipython",
    "version": 3
   },
   "file_extension": ".py",
   "mimetype": "text/x-python",
   "name": "python",
   "nbconvert_exporter": "python",
   "pygments_lexer": "ipython3",
   "version": "3.9.7"
  },
  "orig_nbformat": 4
 },
 "nbformat": 4,
 "nbformat_minor": 2
}
