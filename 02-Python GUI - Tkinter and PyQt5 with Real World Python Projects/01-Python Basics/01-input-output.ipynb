{
 "cells": [
  {
   "cell_type": "code",
   "execution_count": 1,
   "metadata": {},
   "outputs": [],
   "source": [
    "# write file\n",
    "save_txt = \"Hello World. \\nThis txt file was written by \\'Fatih ARI\\'. \\nBest Regards.\" # text to be written\n",
    "text_file = open('doc\\save_strings.txt', 'w') # w=write\n",
    "text_file.write(save_txt)\n",
    "text_file.close()"
   ]
  },
  {
   "cell_type": "code",
   "execution_count": 2,
   "metadata": {},
   "outputs": [
    {
     "name": "stdout",
     "output_type": "stream",
     "text": [
      "Hello World. \n",
      "This txt file was written by 'Fatih ARI'. \n",
      "Best Regards.\n"
     ]
    }
   ],
   "source": [
    "# read file\n",
    "load_file = open('doc\\save_strings.txt', 'r') # r = read\n",
    "print(load_file.read())"
   ]
  }
 ],
 "metadata": {
  "interpreter": {
   "hash": "e78dbf5722967f313c4c7f2f73db293759ee911f3cc260e746cc2fb2541b961a"
  },
  "kernelspec": {
   "display_name": "Python 3.9.7 ('base')",
   "language": "python",
   "name": "python3"
  },
  "language_info": {
   "codemirror_mode": {
    "name": "ipython",
    "version": 3
   },
   "file_extension": ".py",
   "mimetype": "text/x-python",
   "name": "python",
   "nbconvert_exporter": "python",
   "pygments_lexer": "ipython3",
   "version": "3.9.7"
  },
  "orig_nbformat": 4
 },
 "nbformat": 4,
 "nbformat_minor": 2
}
