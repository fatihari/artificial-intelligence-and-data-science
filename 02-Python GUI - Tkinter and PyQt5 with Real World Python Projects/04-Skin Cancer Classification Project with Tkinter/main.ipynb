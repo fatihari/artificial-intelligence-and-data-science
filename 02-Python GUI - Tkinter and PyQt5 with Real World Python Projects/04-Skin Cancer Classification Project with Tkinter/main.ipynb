{
 "cells": [
  {
   "cell_type": "code",
   "execution_count": null,
   "metadata": {},
   "outputs": [],
   "source": [
    "# libraries\n",
    "import tkinter as tk\n",
    "from tkinter import ttk\n",
    "from tkinter import filedialog\n",
    "from tkinter import messagebox\n",
    "\n",
    "from PIL import ImageTk, Image\n",
    "import matplotlib.pyplot as plt\n",
    "import pandas as pd\n",
    "import numpy as np\n",
    "import seaborn as sns\n",
    "\n",
    "from keras.models import Sequential\n",
    "from keras.layers import Conv2D, MaxPool2D, Dropout, Flatten, Dense\n",
    "from tensorflow.keras.optimizers import Adam\n",
    "\n",
    "from keras.utils.np_utils import to_categorical \n",
    "from keras.models import load_model\n",
    "from sklearn.model_selection import train_test_split\n"
   ]
  },
  {
   "cell_type": "markdown",
   "metadata": {},
   "source": [
    "## 2-Read Pickle File"
   ]
  },
  {
   "cell_type": "code",
   "execution_count": null,
   "metadata": {},
   "outputs": [],
   "source": [
    "df = pd.read_pickle(\"df.pkl\") # verilerimizi hızlıca yukarıdaki adımları yapmaya gerek kalmadan bu bloku debug ederiz, dataFrame nesnesine dönüştürürek."
   ]
  },
  {
   "cell_type": "code",
   "execution_count": null,
   "metadata": {},
   "outputs": [],
   "source": [
    "x_train = np.asarray(df[\"image\"].tolist())\n",
    "#  stardardization\n",
    "x_train_mean = np.mean(x_train)\n",
    "x_train_std = np.std(x_train)\n",
    "x_train = (x_train - x_train_mean)/x_train_std"
   ]
  },
  {
   "cell_type": "markdown",
   "metadata": {},
   "source": [
    "# 4- Building the Model => Bir Deep Learning Algoritması: CNN"
   ]
  },
  {
   "cell_type": "code",
   "execution_count": null,
   "metadata": {},
   "outputs": [],
   "source": [
    "# load models\n",
    "model1 = load_model(\"my_model1.h5\")\n",
    "model2 = load_model(\"my_model2.h5\")"
   ]
  },
  {
   "cell_type": "markdown",
   "metadata": {},
   "source": [
    "# Skin Cancer Classification GUI"
   ]
  },
  {
   "cell_type": "code",
   "execution_count": null,
   "metadata": {},
   "outputs": [],
   "source": [
    "## global variables\n",
    "img_name = \"\"\n",
    "count = 0\n",
    "img_jpg = \"\""
   ]
  },
  {
   "cell_type": "code",
   "execution_count": null,
   "metadata": {},
   "outputs": [],
   "source": [
    "# parent widget => window\n",
    "window = tk.Tk()\n",
    "window.geometry(\"1080x640\")\n",
    "window.wm_title(\"Skin Cancer Classification\")\n",
    "\n",
    "## frames\n",
    "frame_left = tk.Frame(window, width = 540, height = 640, bd = \"2\") #border size=bd=sınırlarının genişliği\n",
    "frame_left.grid(row = 0, column = 0)\n",
    "\n",
    "frame_right = tk.Frame(window, width = 540, height = 640, bd = \"2\")\n",
    "frame_right.grid(row = 0, column = 1)\n",
    "\n",
    "frame1 = tk.LabelFrame(frame_left, text = \"Image\", width = 540, height = 500)\n",
    "frame1.grid(row = 0, column = 0)\n",
    "\n",
    "frame2 = tk.LabelFrame(frame_left, text = \"Model and Save\", width = 540, height = 140)\n",
    "frame2.grid(row = 1, column = 0)\n",
    "\n",
    "frame3 = tk.LabelFrame(frame_right, text = \"Features\", width = 270, height = 640)\n",
    "frame3.grid(row = 0, column = 0)\n",
    "\n",
    "frame4 = tk.LabelFrame(frame_right, text = \"Result\", width = 270, height = 640)\n",
    "frame4.grid(row = 0, column = 1, padx = 10)"
   ]
  },
  {
   "cell_type": "code",
   "execution_count": null,
   "metadata": {},
   "outputs": [],
   "source": [
    "# frame1\n",
    "def imageResize(img):\n",
    "    # For example: img.size= 1000x1200\n",
    "    basewidth = 500\n",
    "\n",
    "    # img.size[0] = 1000, So, 500/1000 = 0.5 = wpercent\n",
    "    wpercent = (basewidth/float(img.size[0]))    \n",
    "\n",
    "    # img.size[1] = 1200, So, 1200*0.5 = 600 = hsize\n",
    "    hsize = int((float(img.size[1])*float(wpercent))) \n",
    "\n",
    "    # img.resize boyutları => 500x600 olmuş oldu\n",
    "    img = img.resize((basewidth, hsize),Image.ANTIALIAS) # resize yaparken araları doldurmak için antialiasing yöntemi kullanılır. Ayrıntıya gerek yok.\n",
    "    return img"
   ]
  },
  {
   "cell_type": "code",
   "execution_count": null,
   "metadata": {},
   "outputs": [],
   "source": [
    "def openImage():\n",
    "    \n",
    "    global img_name\n",
    "    global count # yalnızca bir resim görüntülenmesi sağlamak için\n",
    "    global img_jpg\n",
    "    \n",
    "    count += 1\n",
    "    if count != 1:\n",
    "        messagebox.showinfo(title = \"Warning\", message = \"Only one image can be opened\")\n",
    "    else:\n",
    "        img_name = filedialog.askopenfilename(initialdir = \"img\",title = \"Select an image file\")\n",
    "        \n",
    "        #02-Python GUI - Tkinter and PyQt5 with Real World Python Projects/04-Skin Cancer Classification Project with Tkinter/img/ISIC_0024306.jpg\n",
    "        img_jpg = img_name.split(\"/\")[-1].split(\".\")[0] # ISIC_0024306 (resim adı alınır)\n",
    "        # image label\n",
    "        tk.Label(frame1, text =img_jpg, bd = 3 ).pack(pady = 10)\n",
    "    \n",
    "        # open and show image\n",
    "        img = Image.open(img_name)\n",
    "        img = imageResize(img)\n",
    "        img = ImageTk.PhotoImage(img) # Tk kütüphanesiyle kullanabilmek için uygun formata sokmak zorundayız. \n",
    "        panel = tk.Label(frame1, image = img) # frame1'de duracak olan resmi belirttik.\n",
    "        panel.image = img\n",
    "        panel.pack(padx = 15, pady = 10)\n",
    "        \n",
    "        # image feature\n",
    "        data = pd.read_csv(\"data\\HAM10000_metadata.csv\")\n",
    "        cancer = data[data.image_id == img_jpg]\n",
    "        # print(cancer) dersek aşağıdaki gibi output verir. Size'ı 7 dir.\n",
    "        # lesion_id   image_id      dx  dx_type     age  sex   localization\n",
    "        # HAM_0000550 ISIC_0024306  nv  follow_up  45.0  male    trunk\n",
    "\n",
    "        for i in range(cancer.size):\n",
    "            x = 0.4 # labellar 0.1di biraz sağa koyuyorum\n",
    "            y = (i/10)/2\n",
    "            tk.Label(frame3, font = (\"Times\",12), text = str(cancer.iloc[0,i])).place(relx = x, rely = y)"
   ]
  },
  {
   "cell_type": "code",
   "execution_count": null,
   "metadata": {},
   "outputs": [],
   "source": [
    "# menu\n",
    "menubar = tk.Menu(window)\n",
    "window.config(menu = menubar)\n",
    "file = tk.Menu(menubar)\n",
    "menubar.add_cascade(label = \"File\",menu = file)\n",
    "file.add_command(label = \"Open\", command = openImage)"
   ]
  },
  {
   "cell_type": "code",
   "execution_count": null,
   "metadata": {},
   "outputs": [],
   "source": [
    "# frame3\n",
    "def classification():\n",
    "    \n",
    "    if img_name != \"\" and models.get() != \"\": #image ve modeller boş olmaması lazım\n",
    "        \n",
    "        # model selection\n",
    "        if models.get() == \"Model1\":\n",
    "            classification_model = model1 # cnn'de kaydediğimiz model1\n",
    "        else:\n",
    "            classification_model = model2 # cnn'de kaydediğimiz model1\n",
    "        \n",
    "        z = df[df.image_id == img_jpg] # filtering\n",
    "        z = z.image.values[0].reshape(1,75,100,3) #values[0]=image_id column\n",
    "        \n",
    "        # datasetini train etmeden önce standardize etmiştik, aynı şekilde predict edilecek datayı da standardize ederiz.\n",
    "        z = (z - x_train_mean)/x_train_std\n",
    "\n",
    "        pred = classification_model.predict(z)[0]\n",
    "        p_index = np.argmax(pred)\n",
    "        p_filter = df[\"dx_idx\"]==p_index\n",
    "        pred_cancer=df[\"dx\"][p_filter].unique()\n",
    "        pred_cancer[0]\n",
    "    \n",
    "        for i in range(len(pred)):\n",
    "            x = 0.5\n",
    "            y = (i/10)/2\n",
    "            \n",
    "            if i != p_index: #outputu farklı renkte yapacağız.\n",
    "                tk.Label(frame4,text = str(pred[i])).place(relx = x, rely = y)\n",
    "            else:\n",
    "                tk.Label(frame4,bg = \"yellow\",text = str(pred[i])).place(relx = x, rely = y)\n",
    "        \n",
    "        if chvar.get() == 1: #sonucları kaydedeceğiz. defaut 0 ayarlamıştık. 0 => seçili değil, 1 => seçili anlamına gelir.\n",
    "            \n",
    "            val = entry.get()\n",
    "            entry.config(state = \"disabled\") # enrtry'yi get ettikten sonra, disabled yapacağız.\n",
    "            path_name = val + \".txt\" # result1.txt\n",
    "            \n",
    "            save_txt = img_name + \"--\" + str(pred_cancer[0])\n",
    "            \n",
    "            text_file = open(path_name,\"w\")\n",
    "            text_file.write(save_txt)\n",
    "            text_file.close()\n",
    "        else:\n",
    "            print(\"Save is not selected\")\n",
    "    else:\n",
    "        messagebox.showinfo(title = \"Warning\", message = \"Choose image and Model First!\")\n",
    "        tk.Label(frame3, text = \"Choose image and Model First!\" ).place(relx = 0.1, rely = 0.6)"
   ]
  },
  {
   "cell_type": "code",
   "execution_count": null,
   "metadata": {},
   "outputs": [],
   "source": [
    "columns = [\"lesion_id\",\"image_id\",\"dx\",\"dx_type\",\"age\",\"sex\",\"localization\"]\n",
    "for i in range(len(columns)):\n",
    "    x = 0.1\n",
    "    y = (i/10)/2 #featureslerı alt alta artacak şekilde yazdırma için\n",
    "    tk.Label(frame3, font = (\"Times\",12), text = str(columns[i]) + \": \").place(relx = x, rely = y)"
   ]
  },
  {
   "cell_type": "code",
   "execution_count": null,
   "metadata": {},
   "outputs": [],
   "source": [
    "classify_button = tk.Button(frame3, bg = \"red\", bd = 4, font = (\"Times\", 13),activebackground = \"orange\", text = \"Classify\", command = classification)\n",
    "classify_button.place(relx = 0.1, rely = 0.5)"
   ]
  },
  {
   "cell_type": "code",
   "execution_count": null,
   "metadata": {},
   "outputs": [],
   "source": [
    "# frame 4 => classication labels\n",
    "labels = df.dx.unique()\n",
    "\n",
    "for i in range(len(labels)):\n",
    "    x = 0.1\n",
    "    y = (i/10)/2\n",
    "    p_filter = df[\"dx_idx\"]==i\n",
    "    pred_cancer=df[\"dx\"][p_filter].unique()\n",
    "    tk.Label(frame4, font = (\"Times\",12), text = str(pred_cancer[0]) + \": \").place(relx = x, rely = y)"
   ]
  },
  {
   "cell_type": "code",
   "execution_count": null,
   "metadata": {},
   "outputs": [],
   "source": [
    "# frame 2 \n",
    "# combo box\n",
    "model_selection_label = tk.Label(frame2, text = \"Choose classification model: \")\n",
    "model_selection_label.grid(row = 0, column = 0, padx = 5)\n",
    "\n",
    "models = tk.StringVar() #modelerimi string variable olarak okuyacağız.\n",
    "model_selection = ttk.Combobox(frame2, textvariable = models, values = (\"Model1\",\"Model2\"), state = \"readonly\")\n",
    "model_selection.grid(row = 0, column = 1, padx = 5)\n",
    "\n",
    "# check box\n",
    "chvar = tk.IntVar()\n",
    "chvar.set(0) # default 0\n",
    "xbox = tk.Checkbutton(frame2, text = \"Save Classification Result\", variable = chvar)\n",
    "xbox.grid(row = 1, column =0 , pady = 5)\n",
    "\n",
    "# entry\n",
    "entry = tk.Entry(frame2, width = 23)\n",
    "entry.insert(string = \"Saving name...\",index = 0) #placeholder => txt file name\n",
    "entry.grid(row = 1, column =1 )"
   ]
  },
  {
   "cell_type": "code",
   "execution_count": null,
   "metadata": {},
   "outputs": [],
   "source": [
    "window.mainloop()"
   ]
  }
 ],
 "metadata": {
  "interpreter": {
   "hash": "e78dbf5722967f313c4c7f2f73db293759ee911f3cc260e746cc2fb2541b961a"
  },
  "kernelspec": {
   "display_name": "Python 3.9.7 ('base')",
   "language": "python",
   "name": "python3"
  },
  "language_info": {
   "codemirror_mode": {
    "name": "ipython",
    "version": 3
   },
   "file_extension": ".py",
   "mimetype": "text/x-python",
   "name": "python",
   "nbconvert_exporter": "python",
   "pygments_lexer": "ipython3",
   "version": "3.9.7"
  },
  "orig_nbformat": 4
 },
 "nbformat": 4,
 "nbformat_minor": 2
}
