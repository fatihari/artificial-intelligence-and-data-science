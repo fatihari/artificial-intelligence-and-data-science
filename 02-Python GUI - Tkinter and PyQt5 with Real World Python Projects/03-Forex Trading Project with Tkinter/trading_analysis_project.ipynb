{
 "cells": [
  {
   "cell_type": "code",
   "execution_count": 1,
   "metadata": {},
   "outputs": [],
   "source": [
    "# libraries\n",
    "import tkinter as tk\n",
    "from tkinter import ttk\n",
    "from tkinter import messagebox\n",
    "\n",
    "from matplotlib.backends.backend_tkagg import FigureCanvasTkAgg\n",
    "import matplotlib.pyplot as plt\n",
    "\n",
    "import pandas as pd\n",
    "import numpy as np"
   ]
  },
  {
   "cell_type": "code",
   "execution_count": 2,
   "metadata": {},
   "outputs": [
    {
     "data": {
      "text/plain": [
       "''"
      ]
     },
     "execution_count": 2,
     "metadata": {},
     "output_type": "execute_result"
    }
   ],
   "source": [
    "window = tk.Tk() # parent widget\n",
    "window.geometry(\"1080x640\")\n",
    "window.wm_title(\"Trading\")"
   ]
  },
  {
   "cell_type": "markdown",
   "metadata": {},
   "source": [
    "### 1-Main Paned Window (pw_parent): contains Left Side and Right Side.\n",
    "\n",
    "#### Note\n",
    "Solda **altlı üstlü(vertical)** iki adet **frame**'i kapsayan bir adet **paned window (pw1)**, sağ tarafta da bir adet **frame** olacağı için, **horizontal** olacak şekilde, hem sol hem sağ tarafı kapsayan bir **paned window(pw_parent)** oluşturuldu."
   ]
  },
  {
   "cell_type": "code",
   "execution_count": 3,
   "metadata": {},
   "outputs": [],
   "source": [
    "pw_parent = ttk.PanedWindow(window, orient = tk.HORIZONTAL)\n",
    "pw_parent.pack(fill = tk.BOTH, expand = True)"
   ]
  },
  {
   "cell_type": "code",
   "execution_count": 4,
   "metadata": {},
   "outputs": [],
   "source": [
    "pw1 = ttk.PanedWindow(pw_parent, orient = tk.VERTICAL)"
   ]
  },
  {
   "cell_type": "code",
   "execution_count": 5,
   "metadata": {},
   "outputs": [],
   "source": [
    "# relief = tk.SUNKEN => kenarların nasıl görüneceği ile ilgili bir görsellik.\n",
    "frame1 = ttk.Frame(pw_parent, width = 360, height = 640, relief = tk.SUNKEN)\n",
    "frame2 = ttk.Frame(pw_parent, width = 720, height = 400, relief = tk.SUNKEN)\n",
    "frame3 = ttk.Frame(pw_parent, width = 720, height = 240, relief = tk.SUNKEN)"
   ]
  },
  {
   "cell_type": "code",
   "execution_count": 6,
   "metadata": {},
   "outputs": [],
   "source": [
    "pw1.add(frame2)\n",
    "pw1.add(frame3)"
   ]
  },
  {
   "cell_type": "code",
   "execution_count": 7,
   "metadata": {},
   "outputs": [],
   "source": [
    "pw_parent.add(pw1)\n",
    "pw_parent.add(frame1)"
   ]
  },
  {
   "cell_type": "markdown",
   "metadata": {},
   "source": [
    "### 2-Right Side(**frame1**) : contains a **i. treeview** and a **ii. button**."
   ]
  },
  {
   "cell_type": "markdown",
   "metadata": {},
   "source": [
    "#### i. treeview"
   ]
  },
  {
   "cell_type": "markdown",
   "metadata": {},
   "source": [
    "#### Note\n",
    "**item** değişkenini başka fonksiyonlar içinde de kullanabilmek için **global** olarak tanımlarız."
   ]
  },
  {
   "cell_type": "code",
   "execution_count": 8,
   "metadata": {},
   "outputs": [],
   "source": [
    "item = \"\"\n",
    "def callback(event):\n",
    "    global item \n",
    "    item = treeview.identify(\"item\", event.x,event.y)\n",
    "    #print(\"Clicked: \", item)"
   ]
  },
  {
   "cell_type": "code",
   "execution_count": 9,
   "metadata": {},
   "outputs": [
    {
     "data": {
      "text/plain": [
       "'2611635679296callback'"
      ]
     },
     "execution_count": 9,
     "metadata": {},
     "output_type": "execute_result"
    }
   ],
   "source": [
    "treeview = ttk.Treeview(frame1)\n",
    "treeview.grid(row = 0, column = 1, padx = 25 , pady = 25)\n",
    "treeview.insert(\"\", \"0\", \"Major\", text = \"Major\")\n",
    "treeview.insert(\"Major\", \"1\", \"EUR/USD\", text =\"EUR/USD\") #USD varsa Major'un altına gelecek.\n",
    "treeview.insert(\"\", \"2\", \"Minor\", text = \"Minor\")\n",
    "treeview.insert(\"Minor\", \"3\", \"EUR/GBR\", text =\"EUR/GBR\") #USD yoksa Minor'un altına gelecek.\n",
    "treeview.bind(\"<Double-1>\", callback)"
   ]
  },
  {
   "cell_type": "markdown",
   "metadata": {},
   "source": [
    "#### ii. button"
   ]
  },
  {
   "cell_type": "markdown",
   "metadata": {},
   "source": [
    "#### Note\n",
    "We need use a **raw string** (**r**) for the path variable in reading **txt** files."
   ]
  },
  {
   "cell_type": "code",
   "execution_count": 10,
   "metadata": {},
   "outputs": [],
   "source": [
    "def readNews(item):\n",
    "    if item == \"EUR/USD\":\n",
    "        news = pd.read_csv(r\"data\\news_eur_usd.txt\")\n",
    "    elif item == \"EUR/GBR\":\n",
    "        news = pd.read_csv(r\"data\\news_eur_gbr.txt\")\n",
    "    textBox.insert(tk.INSERT, news)"
   ]
  },
  {
   "cell_type": "code",
   "execution_count": 11,
   "metadata": {},
   "outputs": [],
   "source": [
    "def openTrade():\n",
    "    global data, future, line, canvas, data_close_array, future_array, ax1,line2,canvas2,ax2,line3,canvas3,ax3,line4,canvas4,ax4\n",
    "    print('openTrade')\n",
    "    if item != \"\":\n",
    "        print(\"Chosen item: \", item)\n",
    "        if item == \"EUR/USD\":\n",
    "            # button setting\n",
    "            open_button.config(state = \"disabled\")\n",
    "            start_button.config(state = \"normal\")\n",
    "            \n",
    "            # read data\n",
    "            data = pd.read_csv(\"data\\eurusd.csv\")\n",
    "\n",
    "            # split data\n",
    "            future = data[-1000:] # son 1000 tanesini similasyon olarak devamlı eklenecek şekilde gösterilecek.\n",
    "            data = data[:len(data)-1000]\n",
    "            data_close_array = data.close1.values # kur'un kapanış değeri\n",
    "            future_array = list(future.close1.values)\n",
    "\n",
    "            # line plot\n",
    "            fig1 = plt.Figure(figsize =(5,4), dpi = 100)\n",
    "            ax1 = fig1.add_subplot(111) #1. satır, 1. sütun, 1 subplot\n",
    "            # 2 adet variable dönüyor, birini line yaptık, diğeri önemsiz (,)\n",
    "            line, = ax1.plot(range(len(data)), data.close1,color = \"blue\")\n",
    "            \n",
    "            canvas = FigureCanvasTkAgg(fig1, master = tab1)\n",
    "            canvas.draw()\n",
    "            canvas.get_tk_widget().pack(side = tk.TOP, fill = tk.BOTH, expand = 1)\n",
    "\n",
    "            # scatter\n",
    "            # 1 adet variable dönüyor, o yüzden line2 demek yeterli\n",
    "            fig2 = plt.Figure(figsize =(5,4), dpi = 100)\n",
    "            ax2 = fig2.add_subplot(111)\n",
    "            line2 = ax2.scatter(range(len(data)), data.close1,s = 1, alpha = 0.5, color = \"blue\") # s=size=1, opacity=alpha=0.5\n",
    "            \n",
    "            canvas2 = FigureCanvasTkAgg(fig2, master = tab2)\n",
    "            canvas2.draw()\n",
    "            canvas2.get_tk_widget().pack(side = tk.TOP, fill = tk.BOTH, expand = 1)\n",
    "\n",
    "            # read news about EUR/USD\n",
    "            readNews(item)\n",
    "\n",
    "        elif item == \"EUR/GBR\":\n",
    "            \n",
    "            # button setting\n",
    "            open_button.config(state = \"disabled\")\n",
    "            start_button.config(state = \"normal\")\n",
    "            \n",
    "            # read data\n",
    "            data = pd.read_csv(\"data\\eurgbr.csv\")\n",
    "            \n",
    "            # split data\n",
    "            future = data[-1000:]\n",
    "            data = data[:len(data)-1000]\n",
    "            data_close_array = data.close1.values\n",
    "            future_array = list(future.close1.values)\n",
    "            \n",
    "            # line\n",
    "            fig3 = plt.Figure(figsize =(5,4), dpi = 100)\n",
    "            ax3 = fig3.add_subplot(111)\n",
    "            line3, = ax3.plot(range(len(data)),data.close1,color = \"blue\")\n",
    "            \n",
    "            canvas3 = FigureCanvasTkAgg(fig3, master = tab1)\n",
    "            canvas3.draw()\n",
    "            canvas3.get_tk_widget().pack(side = tk.TOP, fill = tk.BOTH, expand = 1)\n",
    "\n",
    "            # scatter\n",
    "            fig4 = plt.Figure(figsize =(5,4), dpi = 100)\n",
    "            ax4 = fig4.add_subplot(111)\n",
    "            line4 = ax4.scatter(range(len(data)),data.close1,s = 1, alpha = 0.5, color = \"blue\")\n",
    "            \n",
    "            canvas4 = FigureCanvasTkAgg(fig4, master = tab2)\n",
    "            canvas4.draw()\n",
    "            canvas4.get_tk_widget().pack(side = tk.TOP, fill = tk.BOTH, expand = 1)\n",
    "\n",
    "            # read news about EUR/GBR\n",
    "            readNews(item)\n",
    "\n",
    "        else: # seçilen item EUR/USD ya da EUR/GBR değilse hata versin\n",
    "            messagebox.showinfo(title = \"Warning\", message = \"Double click to choose currency pair\")\n",
    "    else: # hiçbir şey seçmeden open trading butonuna basılırsa, alert versin.\n",
    "        messagebox.showinfo(title = \"Warning\", message = \"Double click to choose currency pair\") "
   ]
  },
  {
   "cell_type": "code",
   "execution_count": 12,
   "metadata": {},
   "outputs": [],
   "source": [
    "open_button = tk.Button(frame1, text = \"Open Trading\", command = openTrade)\n",
    "open_button.grid(row = 2, column = 1, padx = 5, pady = 5)"
   ]
  },
  {
   "cell_type": "markdown",
   "metadata": {},
   "source": [
    "### 3-Left Side(**pw1**) contains **frame2** and **frame3**\n",
    "#### A) **frame3**: contains **text editor** and **scroll bar**"
   ]
  },
  {
   "cell_type": "code",
   "execution_count": 13,
   "metadata": {},
   "outputs": [],
   "source": [
    "textBox = tk.Text(frame3, width = 70, height = 10, wrap = \"word\") # contains word(string)\n",
    "textBox.grid(row = 0, column = 0, padx =25, pady = 25)"
   ]
  },
  {
   "cell_type": "code",
   "execution_count": 14,
   "metadata": {},
   "outputs": [],
   "source": [
    "scroll = tk.Scrollbar(frame3, orient = tk.VERTICAL, command = textBox.yview)\n",
    "scroll.grid(row = 0, column = 1, sticky = tk.N + tk.S, pady=10)\n",
    "textBox.config(yscrollcommand = scroll.set) # textbox'a scroll özelliği ekledik."
   ]
  },
  {
   "cell_type": "markdown",
   "metadata": {},
   "source": [
    "#### B) **frame2**: contains **tabs**, **radio button**, **button**, **result(labelframe)**, **plot**"
   ]
  },
  {
   "cell_type": "code",
   "execution_count": 15,
   "metadata": {},
   "outputs": [],
   "source": [
    "# tabs\n",
    "tabs = ttk.Notebook(frame2, width = 540, height = 300)\n",
    "tabs.place(x = 25, y= 25)\n",
    "\n",
    "tab1 = ttk.Frame(tabs, width = 50, height = 50)\n",
    "tab2 = ttk.Frame(tabs)\n",
    "\n",
    "tabs.add(tab1, text = \"Line\")\n",
    "tabs.add(tab2, text = \"Scatter\", compound = tk.LEFT)"
   ]
  },
  {
   "cell_type": "code",
   "execution_count": 16,
   "metadata": {},
   "outputs": [],
   "source": [
    "# radio button\n",
    "method = tk.StringVar()\n",
    "tk.Radiobutton(frame2, text = \"m1: \", value = \"m1\", variable = method).place(x = 580, y= 100)\n",
    "tk.Radiobutton(frame2, text = \"m2: \", value = \"m2\", variable = method).place(x = 580, y= 125)"
   ]
  },
  {
   "cell_type": "code",
   "execution_count": 17,
   "metadata": {},
   "outputs": [],
   "source": [
    "# label frame: result\n",
    "label_frame = tk.LabelFrame(frame2, text = \"Result\", width = 100, height = 150)\n",
    "label_frame.place(x = 580, y = 25)\n",
    "tk.Label(label_frame, text = \"Buy: \", bd = 3).grid(row = 0, column = 0)\n",
    "tk.Label(label_frame, text = \"Sell: \", bd = 3).grid(row = 1, column = 0)"
   ]
  },
  {
   "cell_type": "code",
   "execution_count": 18,
   "metadata": {},
   "outputs": [],
   "source": [
    "# buy sell labels \n",
    "# aşağıdaki value'lar plot update edildikçe güncellenecek.\n",
    "buy_value = tk.Label(label_frame, text = \"1\", bd = 3)\n",
    "buy_value.grid(row = 0, column = 1)\n",
    "sell_value = tk.Label(label_frame, text = \"0\", bd = 3)\n",
    "sell_value.grid(row = 1, column = 1)"
   ]
  },
  {
   "cell_type": "markdown",
   "metadata": {},
   "source": [
    "#### cumsum nedir?\n",
    "```python\n",
    "a = np.array([1,2,3,4])\n",
    "result = np.cumsum(a)\n",
    "\n",
    "print(result)\n",
    "[ 1  3  6 10] \n",
    "```"
   ]
  },
  {
   "cell_type": "code",
   "execution_count": 19,
   "metadata": {},
   "outputs": [],
   "source": [
    "def moving_average(a, n = 50):\n",
    "    result = np.cumsum(a, dtype= float) # kümülatif toplama işlemi\n",
    "    # n. indexten sonraki değerleri, n. indexe kadar olan değerlerinden çıkartıyorum(moving operation)\n",
    "    result[n:] = result[n:] - result[:-n]\n",
    "    return result[n-1:]/n # n-1 indexten sonuna kadar git ve n'e böl. (Average)"
   ]
  },
  {
   "cell_type": "code",
   "execution_count": 20,
   "metadata": {},
   "outputs": [],
   "source": [
    "def update():\n",
    "    global data_close_array, ax1,ax2,ax3,ax4\n",
    "    \n",
    "    spread = 0.0002 # buy ve sell value'ları farklı olsun diye aralarında küçük bir spread farkı oluşturuldu.\n",
    "    \n",
    "    # data_close_array inin en son elemanı olsun ve spread çıkarılsın ve virgülden sonra 5 basamağı göster.\n",
    "    buy_value.config(text = str((data_close_array[-1]-spread).round(5)))\n",
    "    sell_value.config(text = str((data_close_array[-1]+spread).round(5)))\n",
    "    \n",
    "    window.after(599, update) # 500 milisaniyede bir data_close_array güncellenecek.\n",
    "    \n",
    "    # değerleri ekranda güncellemek için:\n",
    "    # future_array'in ilk elemanını, dataclosearray'in en sonuna append(ekleme) yaparız.\n",
    "    data_close_array = np.append(data_close_array,future_array.pop(0))\n",
    "    \n",
    "    if method.get() == \"m1\": # metot1\n",
    "        if item == \"EUR/USD\":\n",
    "            # line\n",
    "            ax1.set_xlim(0,len(data_close_array) + 10) # eklenen verinin sınırını genişletmek gerekir.\n",
    "            line.set_ydata(data_close_array)\n",
    "            line.set_xdata(range(len(data_close_array)))\n",
    "            \n",
    "            # scatter\n",
    "            ax2.set_xlim(0,len(data_close_array) + 10)\n",
    "            ax2.scatter(range(len(data_close_array)), data_close_array, s = 1, alpha = 0.5, color = \"blue\")\n",
    "            \n",
    "            # moving average\n",
    "            n = 50\n",
    "            mid_rolling = moving_average(data_close_array,n)\n",
    "            ax1.plot(range(n-1,len(data_close_array)), mid_rolling, linestyle = \"--\", color = \"red\")\n",
    "            ax2.plot(range(n-1,len(data_close_array)) ,mid_rolling, linestyle = \"--\", color = \"red\")\n",
    "            \n",
    "            canvas.draw()\n",
    "            canvas2.draw()\n",
    "        \n",
    "        elif item == \"EUR/GBR\":\n",
    "            # line\n",
    "            ax3.set_xlim(0,len(data_close_array) + 10)\n",
    "            line3.set_ydata(data_close_array)\n",
    "            line3.set_xdata(range(len(data_close_array)))\n",
    "            \n",
    "            # scatter\n",
    "            ax4.set_xlim(0,len(data_close_array) + 10)\n",
    "            ax4.scatter(range(len(data_close_array)), data_close_array, s = 1, alpha = 0.5, color = \"blue\")\n",
    "            \n",
    "            # moving average\n",
    "            n = 50\n",
    "            mid_rolling = moving_average(data_close_array,n)\n",
    "            ax3.plot(range(n-1,len(data_close_array)),mid_rolling,linestyle = \"--\", color = \"red\")\n",
    "            ax4.plot(range(n-1,len(data_close_array)),mid_rolling,linestyle = \"--\", color = \"red\")\n",
    "            \n",
    "            canvas3.draw()\n",
    "            canvas4.draw()\n",
    "            \n",
    "    elif method.get() == \"m2\":\n",
    "        if item == \"EUR/USD\":\n",
    "            # line\n",
    "            ax1.set_xlim(0,len(data_close_array) + 10)\n",
    "            line.set_ydata(data_close_array)\n",
    "            line.set_xdata(range(len(data_close_array)))\n",
    "            \n",
    "            # scatter\n",
    "            ax2.set_xlim(0,len(data_close_array) + 10)\n",
    "            ax2.scatter(range(len(data_close_array)), data_close_array, s = 1, alpha = 0.5, color = \"blue\")\n",
    "            \n",
    "            # moving average\n",
    "            n = 200\n",
    "            long_rolling = moving_average(data_close_array,n)\n",
    "            ax1.plot(range(n-1,len(data_close_array)),long_rolling,linestyle = \"--\", color = \"green\")\n",
    "            ax2.plot(range(n-1,len(data_close_array)),long_rolling,linestyle = \"--\", color = \"green\")\n",
    "            \n",
    "            canvas.draw()\n",
    "            canvas2.draw()\n",
    "        \n",
    "        elif item == \"EUR/GBR\":\n",
    "            # line\n",
    "            ax3.set_xlim(0,len(data_close_array) + 10)\n",
    "            line3.set_ydata(data_close_array)\n",
    "            line3.set_xdata(range(len(data_close_array)))\n",
    "            \n",
    "            # scatter\n",
    "            ax4.set_xlim(0,len(data_close_array) + 10)\n",
    "            ax4.scatter(range(len(data_close_array)), data_close_array, s = 1, alpha = 0.5, color = \"blue\")\n",
    "            \n",
    "            # moving average\n",
    "            n = 200\n",
    "            long_rolling = moving_average(data_close_array,n)\n",
    "            ax3.plot(range(n-1,len(data_close_array)),long_rolling,linestyle = \"--\", color = \"green\")\n",
    "            ax4.plot(range(n-1,len(data_close_array)),long_rolling,linestyle = \"--\", color = \"green\")\n",
    "            \n",
    "            canvas3.draw()\n",
    "            canvas4.draw()\n",
    "    else:\n",
    "        if item == \"EUR/USD\":\n",
    "            # line\n",
    "            ax1.set_xlim(0,len(data_close_array) + 10)\n",
    "            line.set_ydata(data_close_array)\n",
    "            line.set_xdata(range(len(data_close_array)))\n",
    "            \n",
    "            # scatter\n",
    "            ax2.set_xlim(0,len(data_close_array) + 10)\n",
    "            ax2.scatter(range(len(data_close_array)), data_close_array, s = 1, alpha = 0.5, color = \"blue\")\n",
    "            \n",
    "            canvas.draw()\n",
    "            canvas2.draw()\n",
    "        elif item == \"EUR/GBR\":\n",
    "            # line\n",
    "            ax3.set_xlim(0,len(data_close_array) + 10)\n",
    "            line3.set_ydata(data_close_array)\n",
    "            line3.set_xdata(range(len(data_close_array)))\n",
    "            \n",
    "            # scatter\n",
    "            ax4.set_xlim(0,len(data_close_array) + 10)\n",
    "            ax4.scatter(range(len(data_close_array)), data_close_array, s = 1, alpha = 0.5, color = \"blue\")\n",
    "            \n",
    "            canvas3.draw()\n",
    "            canvas4.draw()"
   ]
  },
  {
   "cell_type": "code",
   "execution_count": 21,
   "metadata": {},
   "outputs": [],
   "source": [
    "# button\n",
    "def startTrading():\n",
    "    # after(time(ms), function) = Call the specified function after the given time.\n",
    "    # 0 = butona basılır basılmaz hemen update function'una git anlamına geliyor.\n",
    "    window.after(0, update)\n",
    "    print(\"startTrading\")\n",
    "start_button = tk.Button(frame2, text = \"Start Trading\", command = startTrading)\n",
    "start_button.place(x=580, y = 150)\n",
    "start_button.config(state = \"disabled\")\n"
   ]
  },
  {
   "cell_type": "code",
   "execution_count": 22,
   "metadata": {},
   "outputs": [
    {
     "name": "stdout",
     "output_type": "stream",
     "text": [
      "openTrade\n",
      "Chosen item:  EUR/USD\n",
      "startTrading\n"
     ]
    }
   ],
   "source": [
    "window.mainloop()"
   ]
  }
 ],
 "metadata": {
  "interpreter": {
   "hash": "e78dbf5722967f313c4c7f2f73db293759ee911f3cc260e746cc2fb2541b961a"
  },
  "kernelspec": {
   "display_name": "Python 3.9.7 ('base')",
   "language": "python",
   "name": "python3"
  },
  "language_info": {
   "codemirror_mode": {
    "name": "ipython",
    "version": 3
   },
   "file_extension": ".py",
   "mimetype": "text/x-python",
   "name": "python",
   "nbconvert_exporter": "python",
   "pygments_lexer": "ipython3",
   "version": "3.9.7"
  },
  "orig_nbformat": 4
 },
 "nbformat": 4,
 "nbformat_minor": 2
}
