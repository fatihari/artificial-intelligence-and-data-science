{
 "cells": [
  {
   "cell_type": "code",
   "execution_count": null,
   "metadata": {},
   "outputs": [],
   "source": [
    "import pandas as pd"
   ]
  },
  {
   "cell_type": "markdown",
   "metadata": {},
   "source": [
    "# 1) Read Datasets"
   ]
  },
  {
   "cell_type": "code",
   "execution_count": null,
   "metadata": {},
   "outputs": [],
   "source": [
    "movie = pd.read_csv(\"data/movie.csv\")\n",
    "movie.columns"
   ]
  },
  {
   "cell_type": "code",
   "execution_count": null,
   "metadata": {},
   "outputs": [],
   "source": [
    "movie.head(5)"
   ]
  },
  {
   "cell_type": "code",
   "execution_count": null,
   "metadata": {},
   "outputs": [],
   "source": [
    "# what we need is that movie id and title\n",
    "movie = movie.loc[:,[\"movieId\", \"title\"]] #drop genre column\n",
    "movie.head()"
   ]
  },
  {
   "cell_type": "code",
   "execution_count": null,
   "metadata": {},
   "outputs": [],
   "source": [
    "# import rating data and look at columsn\n",
    "rating = pd.read_csv(\"data/rating.csv\")\n",
    "rating.columns"
   ]
  },
  {
   "cell_type": "code",
   "execution_count": null,
   "metadata": {},
   "outputs": [],
   "source": [
    "rating.head()"
   ]
  },
  {
   "cell_type": "code",
   "execution_count": null,
   "metadata": {},
   "outputs": [],
   "source": [
    "# what we need is that user id, movie id and rating\n",
    "rating = rating.loc[:,[\"userId\", \"movieId\", \"rating\"]] # drop timestamp column\n",
    "rating.head()"
   ]
  },
  {
   "cell_type": "markdown",
   "metadata": {},
   "source": [
    "# 2-Merge Datasets"
   ]
  },
  {
   "cell_type": "code",
   "execution_count": null,
   "metadata": {},
   "outputs": [],
   "source": [
    "# then merge movie and rating data\n",
    "data = pd.merge(movie,rating)\n",
    "data.head()"
   ]
  },
  {
   "cell_type": "code",
   "execution_count": null,
   "metadata": {},
   "outputs": [],
   "source": [
    "data.shape"
   ]
  },
  {
   "cell_type": "code",
   "execution_count": null,
   "metadata": {},
   "outputs": [],
   "source": [
    "data = data.iloc[:10000000,:] # 20 milyon veri uzun sürer diye 10 milyona indirdik."
   ]
  },
  {
   "cell_type": "markdown",
   "metadata": {},
   "source": [
    "Örneğin 3. ve 5. userları karşılaştıracağız ve bunların zevkleri, izledikleri filmler uyuşuyor mu kontrol edeceğiz."
   ]
  },
  {
   "cell_type": "code",
   "execution_count": null,
   "metadata": {},
   "outputs": [],
   "source": [
    "pivot_table = data.pivot_table(index = [\"userId\"], columns = [\"title\"], values = \"rating\") # satırları user, sütunları movie yapılır.\n",
    "pivot_table.head()"
   ]
  },
  {
   "cell_type": "markdown",
   "metadata": {},
   "source": [
    "### SORU: \"Usual Suspects, The (1995)\" Filmini seven bir kişi için hangi filmleri önerebiliriz?"
   ]
  },
  {
   "cell_type": "code",
   "execution_count": 18,
   "metadata": {},
   "outputs": [
    {
     "data": {
      "text/plain": [
       "title\n",
       "Rude (1995)                                                1.000000\n",
       "12 Angry Men (1957)                                        1.000000\n",
       "Ill Gotten Gains (1997)                                    1.000000\n",
       "Unforgotten: Twenty-Five Years After Willowbrook (1996)    1.000000\n",
       "To Cross the Rubicon (1991)                                0.970725\n",
       "Inside (1996)                                              0.960769\n",
       "Fire on the Mountain (1996)                                0.878455\n",
       "Hedd Wyn (1992)                                            0.875000\n",
       "Curtis's Charm (1995)                                      0.872872\n",
       "Tickle in the Heart, A (1996)                              0.872107\n",
       "dtype: float64"
      ]
     },
     "execution_count": 18,
     "metadata": {},
     "output_type": "execute_result"
    }
   ],
   "source": [
    "movie_watched = pivot_table[\"12 Angry Men (1957)\"]\n",
    "# corr 1'e yakınsa doğru orantılı, 0 ise benzemiyor, -1 ise ters orantılı\n",
    "similarity_with_other_movies = pivot_table.corrwith(movie_watched)  # find correlation between \"Usual Suspects, The (1995)\" and other movies\n",
    "similarity_with_other_movies = similarity_with_other_movies.sort_values(ascending=False) # Descending\n",
    "similarity_with_other_movies.head(10)"
   ]
  },
  {
   "cell_type": "code",
   "execution_count": null,
   "metadata": {},
   "outputs": [],
   "source": []
  }
 ],
 "metadata": {
  "interpreter": {
   "hash": "74156147804e2a01f94a3790aedbb2aa695f9a428eee8a505618a6d74e6c12c0"
  },
  "kernelspec": {
   "display_name": "Python 3.9.7 ('base')",
   "language": "python",
   "name": "python3"
  },
  "language_info": {
   "codemirror_mode": {
    "name": "ipython",
    "version": 3
   },
   "file_extension": ".py",
   "mimetype": "text/x-python",
   "name": "python",
   "nbconvert_exporter": "python",
   "pygments_lexer": "ipython3",
   "version": "3.9.7"
  },
  "orig_nbformat": 4
 },
 "nbformat": 4,
 "nbformat_minor": 2
}
