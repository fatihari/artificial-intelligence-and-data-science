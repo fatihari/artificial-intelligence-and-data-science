{
 "cells": [
  {
   "cell_type": "code",
   "execution_count": 1,
   "metadata": {},
   "outputs": [],
   "source": [
    "from sklearn.datasets import load_iris\n",
    "import pandas as pd\n",
    "import numpy as np\n",
    "from sklearn.model_selection import train_test_split\n",
    "from sklearn.neighbors import KNeighborsClassifier\n",
    "from sklearn.model_selection import cross_val_score\n",
    "from sklearn.model_selection import GridSearchCV\n",
    "from sklearn.linear_model import LogisticRegression"
   ]
  },
  {
   "cell_type": "markdown",
   "metadata": {},
   "source": [
    "## Model Selection: En iyi parametreleri seçmek demektir.\n",
    "1. Öğrenilen parametreler: Seçme şansı yok.\n",
    "2. Seçilen parametreler(Hyper parameters):\n",
    "   - KNN'de K değeri\n",
    "\n",
    "Eğer bir datayı öğrenmek yerine ezberlersek bu bizim için hiç iyi olmaz. Çünkü eski test datası ile accuracy yüksek ve ezberlediysek, yeni bir test datası geldiğinde accuracy düşük çıkabilir. Buna overfitting denir.\n",
    "\n",
    "**K FOLD CROSS VALIDATION**: avoid overfitting! :)\n",
    "\n",
    "1. İlk önce train ve test diye data ayrılır! \n",
    "2. **Cross Validation:** K = 3 için 3'e böler ve 3 ayrı train edilecek veri olur ve her seferinde olmak üzere 2 train 1 test olmak üzere 3 ayrı accuracy verir, bunları en son ortalamasını alırız:\n",
    "\n",
    "   - Train-Train-Validation (Accuracy1)\n",
    "   - Train-Validation-Train (Accuracy2)\n",
    "   - Validation-Train-Train (Accuracy3)"
   ]
  },
  {
   "cell_type": "markdown",
   "metadata": {},
   "source": [
    "# 1) Read Data"
   ]
  },
  {
   "cell_type": "code",
   "execution_count": 2,
   "metadata": {},
   "outputs": [],
   "source": [
    "iris = load_iris()\n",
    "x = iris.data\n",
    "y = iris.target"
   ]
  },
  {
   "cell_type": "markdown",
   "metadata": {},
   "source": [
    "# 2) Preprocessing"
   ]
  },
  {
   "cell_type": "code",
   "execution_count": 3,
   "metadata": {},
   "outputs": [],
   "source": [
    "x = (x-np.min(x)) / (np.max(x) - np.min(x))"
   ]
  },
  {
   "cell_type": "markdown",
   "metadata": {},
   "source": [
    "# 3) Split Data"
   ]
  },
  {
   "cell_type": "code",
   "execution_count": 4,
   "metadata": {},
   "outputs": [],
   "source": [
    "x_train, x_test, y_train, y_test = train_test_split(x, y, test_size = 0.3, random_state = 42)"
   ]
  },
  {
   "cell_type": "markdown",
   "metadata": {},
   "source": [
    "# 4) Create KNN Model"
   ]
  },
  {
   "cell_type": "code",
   "execution_count": 5,
   "metadata": {},
   "outputs": [],
   "source": [
    "knn = KNeighborsClassifier(n_neighbors = 3)  # k = n_neighbors"
   ]
  },
  {
   "cell_type": "markdown",
   "metadata": {},
   "source": [
    "# 5) Cross Validation with K Fold Cross Validation"
   ]
  },
  {
   "cell_type": "code",
   "execution_count": 6,
   "metadata": {},
   "outputs": [
    {
     "name": "stdout",
     "output_type": "stream",
     "text": [
      "[0.90909091 1.         1.         0.81818182 0.81818182 1.\n",
      " 1.         1.         1.         0.9       ]\n"
     ]
    }
   ],
   "source": [
    "# %% K fold CV=K = 10 => GENELDE K=10 SEÇİLİR\n",
    "accuracies = cross_val_score(estimator = knn, X = x_train, y = y_train, cv = 10)\n",
    "print(accuracies)"
   ]
  },
  {
   "cell_type": "code",
   "execution_count": 7,
   "metadata": {},
   "outputs": [
    {
     "name": "stdout",
     "output_type": "stream",
     "text": [
      "average accuracy:  0.9445454545454547\n",
      "average std:  0.073231208629623\n"
     ]
    }
   ],
   "source": [
    "print(\"average accuracy: \", np.mean(accuracies))\n",
    "print(\"average std: \", np.std(accuracies)) # standart deviation(yayılım) => ne kadar tutarlı (0 a ne kadar yakınsa o kadar tutarlıdır)"
   ]
  },
  {
   "cell_type": "markdown",
   "metadata": {},
   "source": [
    "# 6) Test Data"
   ]
  },
  {
   "cell_type": "code",
   "execution_count": 8,
   "metadata": {},
   "outputs": [
    {
     "name": "stdout",
     "output_type": "stream",
     "text": [
      "test accuracy:  1.0\n"
     ]
    }
   ],
   "source": [
    "knn.fit(x_train, y_train)\n",
    "print(\"test accuracy: \", knn.score(x_test, y_test))"
   ]
  },
  {
   "cell_type": "code",
   "execution_count": null,
   "metadata": {},
   "outputs": [],
   "source": []
  }
 ],
 "metadata": {
  "interpreter": {
   "hash": "74156147804e2a01f94a3790aedbb2aa695f9a428eee8a505618a6d74e6c12c0"
  },
  "kernelspec": {
   "display_name": "Python 3.9.7 ('base')",
   "language": "python",
   "name": "python3"
  },
  "language_info": {
   "codemirror_mode": {
    "name": "ipython",
    "version": 3
   },
   "file_extension": ".py",
   "mimetype": "text/x-python",
   "name": "python",
   "nbconvert_exporter": "python",
   "pygments_lexer": "ipython3",
   "version": "3.9.7"
  },
  "orig_nbformat": 4
 },
 "nbformat": 4,
 "nbformat_minor": 2
}
