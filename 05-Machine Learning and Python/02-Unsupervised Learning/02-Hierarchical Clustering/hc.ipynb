{
 "cells": [
  {
   "cell_type": "code",
   "execution_count": 1,
   "metadata": {},
   "outputs": [],
   "source": [
    "import numpy as np\n",
    "import pandas as pd\n",
    "import matplotlib.pyplot as plt\n",
    "from scipy.cluster.hierarchy import linkage, dendrogram\n",
    "from sklearn.cluster import AgglomerativeClustering"
   ]
  },
  {
   "cell_type": "markdown",
   "metadata": {},
   "source": [
    "# 1-Create Dataset\n",
    "Verisetini kendimiz oluşturacağımız için k sayısını ve haliyle sınıf sayısını 3 olara belirledik.\n",
    "\n",
    "- normal=gaussian.normal(25, 5, 1000) \n",
    "\n",
    "- 25 ortalamaya sahip, 5 sigmaya sahip(20 ile 30 arasında değerler olacak), 1000 tane rasgele veri üret."
   ]
  },
  {
   "cell_type": "code",
   "execution_count": 2,
   "metadata": {},
   "outputs": [],
   "source": [
    "# class1 2 feature\n",
    "x1 = np.random.normal(25, 5, 100)\n",
    "y1 = np.random.normal(25, 5, 100)\n",
    "\n",
    "# class2\n",
    "x2 = np.random.normal(55, 5, 100)\n",
    "y2 = np.random.normal(60, 5, 100)\n",
    "\n",
    "# class3\n",
    "x3 = np.random.normal(55, 5, 100)\n",
    "y3 = np.random.normal(15, 5, 100)"
   ]
  },
  {
   "cell_type": "code",
   "execution_count": 3,
   "metadata": {},
   "outputs": [
    {
     "data": {
      "text/html": [
       "<div>\n",
       "<style scoped>\n",
       "    .dataframe tbody tr th:only-of-type {\n",
       "        vertical-align: middle;\n",
       "    }\n",
       "\n",
       "    .dataframe tbody tr th {\n",
       "        vertical-align: top;\n",
       "    }\n",
       "\n",
       "    .dataframe thead th {\n",
       "        text-align: right;\n",
       "    }\n",
       "</style>\n",
       "<table border=\"1\" class=\"dataframe\">\n",
       "  <thead>\n",
       "    <tr style=\"text-align: right;\">\n",
       "      <th></th>\n",
       "      <th>x</th>\n",
       "      <th>y</th>\n",
       "    </tr>\n",
       "  </thead>\n",
       "  <tbody>\n",
       "    <tr>\n",
       "      <th>0</th>\n",
       "      <td>26.894102</td>\n",
       "      <td>31.672449</td>\n",
       "    </tr>\n",
       "    <tr>\n",
       "      <th>1</th>\n",
       "      <td>26.183077</td>\n",
       "      <td>15.891294</td>\n",
       "    </tr>\n",
       "    <tr>\n",
       "      <th>2</th>\n",
       "      <td>15.042764</td>\n",
       "      <td>22.587380</td>\n",
       "    </tr>\n",
       "    <tr>\n",
       "      <th>3</th>\n",
       "      <td>20.486141</td>\n",
       "      <td>31.713876</td>\n",
       "    </tr>\n",
       "    <tr>\n",
       "      <th>4</th>\n",
       "      <td>23.031970</td>\n",
       "      <td>13.409704</td>\n",
       "    </tr>\n",
       "  </tbody>\n",
       "</table>\n",
       "</div>"
      ],
      "text/plain": [
       "           x          y\n",
       "0  26.894102  31.672449\n",
       "1  26.183077  15.891294\n",
       "2  15.042764  22.587380\n",
       "3  20.486141  31.713876\n",
       "4  23.031970  13.409704"
      ]
     },
     "execution_count": 3,
     "metadata": {},
     "output_type": "execute_result"
    }
   ],
   "source": [
    "x = np.concatenate((x1, x2, x3), axis = 0) #yukarıdan aşağı merge et. \n",
    "y = np.concatenate((y1, y2, y3), axis = 0)\n",
    "\n",
    "dictionary = {\"x\":x, \"y\":y}\n",
    "\n",
    "data = pd.DataFrame(dictionary)\n",
    "data.head()"
   ]
  },
  {
   "cell_type": "code",
   "execution_count": 4,
   "metadata": {},
   "outputs": [
    {
     "data": {
      "text/html": [
       "<div>\n",
       "<style scoped>\n",
       "    .dataframe tbody tr th:only-of-type {\n",
       "        vertical-align: middle;\n",
       "    }\n",
       "\n",
       "    .dataframe tbody tr th {\n",
       "        vertical-align: top;\n",
       "    }\n",
       "\n",
       "    .dataframe thead th {\n",
       "        text-align: right;\n",
       "    }\n",
       "</style>\n",
       "<table border=\"1\" class=\"dataframe\">\n",
       "  <thead>\n",
       "    <tr style=\"text-align: right;\">\n",
       "      <th></th>\n",
       "      <th>x</th>\n",
       "      <th>y</th>\n",
       "    </tr>\n",
       "  </thead>\n",
       "  <tbody>\n",
       "    <tr>\n",
       "      <th>count</th>\n",
       "      <td>300.000000</td>\n",
       "      <td>300.000000</td>\n",
       "    </tr>\n",
       "    <tr>\n",
       "      <th>mean</th>\n",
       "      <td>44.996318</td>\n",
       "      <td>33.215365</td>\n",
       "    </tr>\n",
       "    <tr>\n",
       "      <th>std</th>\n",
       "      <td>15.034707</td>\n",
       "      <td>19.996420</td>\n",
       "    </tr>\n",
       "    <tr>\n",
       "      <th>min</th>\n",
       "      <td>11.482837</td>\n",
       "      <td>4.205034</td>\n",
       "    </tr>\n",
       "    <tr>\n",
       "      <th>25%</th>\n",
       "      <td>28.366212</td>\n",
       "      <td>17.135024</td>\n",
       "    </tr>\n",
       "    <tr>\n",
       "      <th>50%</th>\n",
       "      <td>51.852213</td>\n",
       "      <td>24.890741</td>\n",
       "    </tr>\n",
       "    <tr>\n",
       "      <th>75%</th>\n",
       "      <td>56.592940</td>\n",
       "      <td>56.761493</td>\n",
       "    </tr>\n",
       "    <tr>\n",
       "      <th>max</th>\n",
       "      <td>70.430548</td>\n",
       "      <td>70.392530</td>\n",
       "    </tr>\n",
       "  </tbody>\n",
       "</table>\n",
       "</div>"
      ],
      "text/plain": [
       "                x           y\n",
       "count  300.000000  300.000000\n",
       "mean    44.996318   33.215365\n",
       "std     15.034707   19.996420\n",
       "min     11.482837    4.205034\n",
       "25%     28.366212   17.135024\n",
       "50%     51.852213   24.890741\n",
       "75%     56.592940   56.761493\n",
       "max     70.430548   70.392530"
      ]
     },
     "execution_count": 4,
     "metadata": {},
     "output_type": "execute_result"
    }
   ],
   "source": [
    "data.describe()"
   ]
  },
  {
   "cell_type": "markdown",
   "metadata": {},
   "source": [
    "# 2- Visualize Data"
   ]
  },
  {
   "cell_type": "code",
   "execution_count": 5,
   "metadata": {},
   "outputs": [
    {
     "data": {
      "image/png": "[encoded data removed]",
      "text/plain": [
       "<Figure size 432x288 with 1 Axes>"
      ]
     },
     "metadata": {
      "needs_background": "light"
     },
     "output_type": "display_data"
    }
   ],
   "source": [
    "plt.scatter(x1, y1, color = \"black\")\n",
    "plt.scatter(x2, y2, color = \"black\")\n",
    "plt.scatter(x3, y3, color = \"black\")\n",
    "plt.show()"
   ]
  },
  {
   "cell_type": "markdown",
   "metadata": {},
   "source": [
    "# 3- Create and Visualize Denrogram Model"
   ]
  },
  {
   "cell_type": "markdown",
   "metadata": {},
   "source": [
    "### Note\n",
    "- Bu plota göre **kendisini kesmeyen maximum distance** bulunur. \n",
    "- Örneğin 300-50=250, 500-300=200'dür yani 250>200. \n",
    "- Dolayısıyla yeşil kenarı alırız. \n",
    "- Bu kenarın üzerinden geçecek, yatay bir şekilde bir threshold olarak adlandırdığımız bir line çizdiğimizde ve bu line'ın **3** noktayı kestiğini görürüz. \n",
    "- Dolayısıyla **3** tane cluster'a ayırırız."
   ]
  },
  {
   "cell_type": "code",
   "execution_count": 6,
   "metadata": {},
   "outputs": [
    {
     "data": {
      "image/png": "[encoded data removed]",
      "text/plain": [
       "<Figure size 432x288 with 1 Axes>"
      ]
     },
     "metadata": {
      "needs_background": "light"
     },
     "output_type": "display_data"
    }
   ],
   "source": [
    "merg = linkage(data, method=\"ward\") # linkage=dendogramı çizdiren algoritma, method=ward: yayılımları minimize et demek.\n",
    "dendrogram(merg, leaf_rotation = 90) # leaf_rotation = 90 => x eksenindeki labelları dik yazıya çevirir.\n",
    "plt.xlabel(\"data points\")\n",
    "plt.ylabel(\"euclidean distance\")\n",
    "plt.show()"
   ]
  },
  {
   "cell_type": "markdown",
   "metadata": {},
   "source": [
    "## 4-Create Hierartical Model"
   ]
  },
  {
   "cell_type": "markdown",
   "metadata": {},
   "source": [
    "### Note\n",
    "Yukarıdaki dendogramda cluster sayısını **3** bulduğumuz için aşağıda **n_clusters**, **3** olarak belirtilir."
   ]
  },
  {
   "cell_type": "code",
   "execution_count": 7,
   "metadata": {},
   "outputs": [
    {
     "data": {
      "text/html": [
       "<div>\n",
       "<style scoped>\n",
       "    .dataframe tbody tr th:only-of-type {\n",
       "        vertical-align: middle;\n",
       "    }\n",
       "\n",
       "    .dataframe tbody tr th {\n",
       "        vertical-align: top;\n",
       "    }\n",
       "\n",
       "    .dataframe thead th {\n",
       "        text-align: right;\n",
       "    }\n",
       "</style>\n",
       "<table border=\"1\" class=\"dataframe\">\n",
       "  <thead>\n",
       "    <tr style=\"text-align: right;\">\n",
       "      <th></th>\n",
       "      <th>x</th>\n",
       "      <th>y</th>\n",
       "      <th>label</th>\n",
       "    </tr>\n",
       "  </thead>\n",
       "  <tbody>\n",
       "    <tr>\n",
       "      <th>0</th>\n",
       "      <td>26.894102</td>\n",
       "      <td>31.672449</td>\n",
       "      <td>0</td>\n",
       "    </tr>\n",
       "    <tr>\n",
       "      <th>1</th>\n",
       "      <td>26.183077</td>\n",
       "      <td>15.891294</td>\n",
       "      <td>0</td>\n",
       "    </tr>\n",
       "    <tr>\n",
       "      <th>2</th>\n",
       "      <td>15.042764</td>\n",
       "      <td>22.587380</td>\n",
       "      <td>0</td>\n",
       "    </tr>\n",
       "    <tr>\n",
       "      <th>3</th>\n",
       "      <td>20.486141</td>\n",
       "      <td>31.713876</td>\n",
       "      <td>0</td>\n",
       "    </tr>\n",
       "    <tr>\n",
       "      <th>4</th>\n",
       "      <td>23.031970</td>\n",
       "      <td>13.409704</td>\n",
       "      <td>0</td>\n",
       "    </tr>\n",
       "  </tbody>\n",
       "</table>\n",
       "</div>"
      ],
      "text/plain": [
       "           x          y  label\n",
       "0  26.894102  31.672449      0\n",
       "1  26.183077  15.891294      0\n",
       "2  15.042764  22.587380      0\n",
       "3  20.486141  31.713876      0\n",
       "4  23.031970  13.409704      0"
      ]
     },
     "execution_count": 7,
     "metadata": {},
     "output_type": "execute_result"
    }
   ],
   "source": [
    "hiyerartical_cluster = AgglomerativeClustering(n_clusters = 3, affinity= \"euclidean\", linkage = \"ward\")\n",
    "cluster = hiyerartical_cluster.fit_predict(data) # hem modeli hem clusterları oluşturur\n",
    "data[\"label\"] = cluster # data'ya label adında bir sütun oluştururuz.\n",
    "data.head(5)"
   ]
  },
  {
   "cell_type": "code",
   "execution_count": 8,
   "metadata": {},
   "outputs": [
    {
     "data": {
      "image/png": "[encoded data removed]",
      "text/plain": [
       "<Figure size 432x288 with 1 Axes>"
      ]
     },
     "metadata": {
      "needs_background": "light"
     },
     "output_type": "display_data"
    }
   ],
   "source": [
    "plt.scatter(data.x[data.label == 0 ], data.y[data.label == 0], color = \"red\")\n",
    "plt.scatter(data.x[data.label == 1 ], data.y[data.label == 1], color = \"green\")\n",
    "plt.scatter(data.x[data.label == 2 ], data.y[data.label == 2], color = \"blue\")\n",
    "plt.show()"
   ]
  }
 ],
 "metadata": {
  "interpreter": {
   "hash": "74156147804e2a01f94a3790aedbb2aa695f9a428eee8a505618a6d74e6c12c0"
  },
  "kernelspec": {
   "display_name": "Python 3.9.7 ('base')",
   "language": "python",
   "name": "python3"
  },
  "language_info": {
   "codemirror_mode": {
    "name": "ipython",
    "version": 3
   },
   "file_extension": ".py",
   "mimetype": "text/x-python",
   "name": "python",
   "nbconvert_exporter": "python",
   "pygments_lexer": "ipython3",
   "version": "3.9.7"
  },
  "orig_nbformat": 4
 },
 "nbformat": 4,
 "nbformat_minor": 2
}
