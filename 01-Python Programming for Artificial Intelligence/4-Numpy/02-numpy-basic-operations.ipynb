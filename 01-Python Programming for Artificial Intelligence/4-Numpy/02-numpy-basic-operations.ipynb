{
 "cells": [
  {
   "cell_type": "code",
   "execution_count": 1,
   "metadata": {},
   "outputs": [
    {
     "name": "stdout",
     "output_type": "stream",
     "text": [
      "a + b: [5 7 9]\n",
      "a - b: [-3 -3 -3]\n",
      "a ^ 2: [1 4 9]\n",
      "a < 2: [ True False False]\n",
      "sin(a): [0.84147098 0.90929743 0.14112001]\n"
     ]
    }
   ],
   "source": [
    "import numpy as np\n",
    "\n",
    "a = np.array([1,2,3])\n",
    "b = np.array([4,5,6])\n",
    "\n",
    "print('a + b:', a + b)\n",
    "print('a - b:', a - b)\n",
    "print('a ^ 2:', a ** 2)\n",
    "print('a < 2:', a < 2)\n",
    "print('sin(a):', np.sin(a))"
   ]
  },
  {
   "cell_type": "code",
   "execution_count": 2,
   "metadata": {},
   "outputs": [],
   "source": [
    "a = np.array([[1,2,3],[4,5,6]])\n",
    "b = np.array([[1,2,3],[4,5,6]])"
   ]
  },
  {
   "cell_type": "code",
   "execution_count": 3,
   "metadata": {},
   "outputs": [
    {
     "name": "stdout",
     "output_type": "stream",
     "text": [
      "[[ 1  4  9]\n",
      " [16 25 36]]\n"
     ]
    }
   ],
   "source": [
    "print(a*b) # element wise prodcut"
   ]
  },
  {
   "cell_type": "code",
   "execution_count": 4,
   "metadata": {},
   "outputs": [
    {
     "data": {
      "text/plain": [
       "array([[1, 2, 3],\n",
       "       [4, 5, 6]])"
      ]
     },
     "execution_count": 4,
     "metadata": {},
     "output_type": "execute_result"
    }
   ],
   "source": [
    "# matrix prodcut (satır ve sütün uyumlu olmalı. a=2,3 ise b=3,2 olmalı\n",
    "a.dot(b.T)\n",
    "a"
   ]
  },
  {
   "cell_type": "code",
   "execution_count": 5,
   "metadata": {},
   "outputs": [
    {
     "name": "stdout",
     "output_type": "stream",
     "text": [
      "[[  2.71828183   7.3890561   20.08553692]\n",
      " [ 54.59815003 148.4131591  403.42879349]]\n"
     ]
    }
   ],
   "source": [
    "print(np.exp(a))"
   ]
  },
  {
   "cell_type": "code",
   "execution_count": 6,
   "metadata": {},
   "outputs": [
    {
     "name": "stdout",
     "output_type": "stream",
     "text": [
      "Matrix: [[0.33997935 0.94255535 0.3721431  0.94751957 0.50454908]\n",
      " [0.99223389 0.13478773 0.16776122 0.15497322 0.53092283]\n",
      " [0.57487383 0.26390591 0.61863428 0.76787484 0.89896636]\n",
      " [0.04846562 0.20356757 0.58589615 0.34666501 0.93725573]\n",
      " [0.32338884 0.05046775 0.51572915 0.77045534 0.97305838]]\n",
      "\n",
      "Sum of elements: 12.966630119594845\n",
      "Maximum value of elements: 0.9922338934654449\n",
      "Minimum value of elements: 0.048465615849364485\n",
      "Sum of columns: [5 7 9]\n",
      "Sum of rows: [ 6 15]\n",
      "Square root of elements:\n",
      " [[1.         1.41421356 1.73205081]\n",
      " [2.         2.23606798 2.44948974]]\n",
      "Square of elements:\n",
      " [[ 1  4  9]\n",
      " [16 25 36]]\n",
      "Sum of a+a:\n",
      " [[ 2  4  6]\n",
      " [ 8 10 12]]\n"
     ]
    }
   ],
   "source": [
    "array1 = np.random.random((5,5)) # 5x5 lik 0-1 arasında rasgele elemanları olan matris oluşturur.\n",
    "print('Matrix:', array1)\n",
    "print('\\nSum of elements:', array1.sum()) # arrayin içindeki elemanların toplamı\n",
    "print('Maximum value of elements:', array1.max()) # arrayin içindeki elemanların toplamı\n",
    "print('Minimum value of elements:', array1.min()) # arrayin içindeki elemanların toplamı\n",
    "print('Sum of columns:', a.sum(axis=0))\n",
    "print('Sum of rows:', a.sum(axis=1))\n",
    "print('Square root of elements:\\n', np.sqrt(a))\n",
    "print('Square of elements:\\n', np.square(a)) # a ** 2\n",
    "print('Sum of a+a:\\n', np.add(a,a)) # or a+a"
   ]
  },
  {
   "cell_type": "markdown",
   "metadata": {},
   "source": [
    "### Generate Random Array"
   ]
  },
  {
   "cell_type": "code",
   "execution_count": 15,
   "metadata": {},
   "outputs": [
    {
     "name": "stdout",
     "output_type": "stream",
     "text": [
      "[3 2 5 8 1]\n"
     ]
    }
   ],
   "source": [
    "random_array1 = np.random.randint(10, size = (5)) # Five numbers from 0 to 10 are added to the array. \n",
    "print(random_array1)"
   ]
  },
  {
   "cell_type": "code",
   "execution_count": 16,
   "metadata": {},
   "outputs": [
    {
     "name": "stdout",
     "output_type": "stream",
     "text": [
      "[[6 7 5 0 3]\n",
      " [2 4 7 9 5]\n",
      " [1 8 1 3 7]\n",
      " [5 1 8 5 3]\n",
      " [7 7 4 4 9]]\n"
     ]
    }
   ],
   "source": [
    "random_array2 = np.random.randint(10, size = (5,5)) # Numbers from 0 to 10 are added to the 5x5 array. \n",
    "print(random_array2)"
   ]
  }
 ],
 "metadata": {
  "interpreter": {
   "hash": "e78dbf5722967f313c4c7f2f73db293759ee911f3cc260e746cc2fb2541b961a"
  },
  "kernelspec": {
   "display_name": "Python 3.9.7 ('base')",
   "language": "python",
   "name": "python3"
  },
  "language_info": {
   "codemirror_mode": {
    "name": "ipython",
    "version": 3
   },
   "file_extension": ".py",
   "mimetype": "text/x-python",
   "name": "python",
   "nbconvert_exporter": "python",
   "pygments_lexer": "ipython3",
   "version": "3.9.7"
  },
  "orig_nbformat": 4
 },
 "nbformat": 4,
 "nbformat_minor": 2
}
