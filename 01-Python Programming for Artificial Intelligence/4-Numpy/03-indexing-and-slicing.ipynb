{
 "cells": [
  {
   "cell_type": "code",
   "execution_count": 1,
   "metadata": {},
   "outputs": [],
   "source": [
    "import numpy as np\n",
    "array1 = np.array([1,2,3,4,5,6,7])   #  vector dimension = 1 (arrayler list yapısına çok benzer pythonda da)"
   ]
  },
  {
   "cell_type": "code",
   "execution_count": 2,
   "metadata": {},
   "outputs": [
    {
     "name": "stdout",
     "output_type": "stream",
     "text": [
      "1\n",
      "[1 2 3 4]\n"
     ]
    }
   ],
   "source": [
    "print(array1[0])\n",
    "print(array1[0:4]) # 0.intexten 4. indexe kadar(4 exclusive)"
   ]
  },
  {
   "cell_type": "code",
   "execution_count": 3,
   "metadata": {},
   "outputs": [],
   "source": [
    "reverse_array = array1[::-1]"
   ]
  },
  {
   "cell_type": "code",
   "execution_count": 4,
   "metadata": {},
   "outputs": [
    {
     "name": "stdout",
     "output_type": "stream",
     "text": [
      "[[ 1  2  3  4  5]\n",
      " [ 6  7  8  9 10]]\n",
      "\n",
      "array2[1][1] : 7\n",
      "array2[:,1]  : [2 7]\n",
      "array2[:,1]  : [2 7]\n",
      "array2[1,1:4]: [7 8 9]\n",
      "array2[-1,:] : [ 6  7  8  9 10]\n",
      "array2[:,-1] : [ 5 10]\n"
     ]
    }
   ],
   "source": [
    "array2 = np.array([[1,2,3,4,5],[6,7,8,9,10]])\n",
    "print(array2)\n",
    "print()\n",
    "print('array2[1][1] :', array2[1][1])\n",
    "print('array2[:,1]  :', array2[:,1]) # : ile satırların hepsini ve 1. sütunu al\n",
    "print('array2[:,1]  :',array2[:,1]) # : 1. satırı al ve tüm sütunları al.\n",
    "print('array2[1,1:4]:',array2[1,1:4]) # 1. satırı al ve 1,2 ve 3. sütunları al.\n",
    "print('array2[-1,:] :',array2[-1,:]) # en son satırı ve tüm sütunları al.\n",
    "print('array2[:,-1] :',array2[:,-1]) # en son sütunu ve tüm satırları al."
   ]
  }
 ],
 "metadata": {
  "interpreter": {
   "hash": "e78dbf5722967f313c4c7f2f73db293759ee911f3cc260e746cc2fb2541b961a"
  },
  "kernelspec": {
   "display_name": "Python 3.9.7 ('base')",
   "language": "python",
   "name": "python3"
  },
  "language_info": {
   "codemirror_mode": {
    "name": "ipython",
    "version": 3
   },
   "file_extension": ".py",
   "mimetype": "text/x-python",
   "name": "python",
   "nbconvert_exporter": "python",
   "pygments_lexer": "ipython3",
   "version": "3.9.7"
  },
  "orig_nbformat": 4
 },
 "nbformat": 4,
 "nbformat_minor": 2
}
