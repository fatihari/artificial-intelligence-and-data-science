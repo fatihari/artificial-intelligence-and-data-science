{
 "cells": [
  {
   "cell_type": "markdown",
   "metadata": {},
   "source": [
    "<img src=\"img/imdb.png\">"
   ]
  },
  {
   "cell_type": "markdown",
   "metadata": {},
   "source": [
    "Kullanılan Keras modülleri\n",
    "- imdb dataset: https://www.tensorflow.org/api_docs/python/tf/keras/datasets/imdb\n",
    "- pad_sequences: https://www.tensorflow.org/api_docs/python/tf/keras/preprocessing/sequence/pad_sequences\n",
    "- Sequential: https://www.tensorflow.org/api_docs/python/tf/keras/Sequential\n",
    "- Embedding: https://www.tensorflow.org/api_docs/python/tf/keras/layers/Embedding\n",
    "- SimpleRNN: https://www.tensorflow.org/api_docs/python/tf/keras/layers/SimpleRNN\n",
    "- Dense: https://www.tensorflow.org/api_docs/python/tf/keras/layers/Dense\n",
    "- Activation: https://www.tensorflow.org/api_docs/python/tf/keras/layers/Activation"
   ]
  },
  {
   "cell_type": "code",
   "execution_count": 1,
   "metadata": {},
   "outputs": [],
   "source": [
    "import numpy as np\n",
    "import matplotlib.pyplot as plt\n",
    "import seaborn as sns\n",
    "from scipy import stats\n",
    "from keras.datasets import imdb\n",
    "from keras.preprocessing.sequence import pad_sequences # for fixed word size.\n",
    "from keras.models import Sequential\n",
    "from keras.layers.embeddings import Embedding\n",
    "from keras.layers import SimpleRNN, Dense, Activation"
   ]
  },
  {
   "cell_type": "markdown",
   "metadata": {},
   "source": [
    "# 1-Read Dataset"
   ]
  },
  {
   "cell_type": "code",
   "execution_count": 2,
   "metadata": {},
   "outputs": [],
   "source": [
    "(X_train, Y_train), (X_test, Y_test) = imdb.load_data(  path = \"ibdb.npz\", \n",
    "                                                        num_words = None, # 10000 most used words. None=all words\n",
    "                                                        skip_top = 0, #ignore most used 0 word\n",
    "                                                        maxlen = None,# Maximum sequence length. crops reviews lenght.\n",
    "                                                        seed = 113, #Seed for reproducible data shuffling.  \n",
    "                                                        start_char = 1, #padding character.\n",
    "                                                        oov_char = 2, # The out-of-vocabulary character\n",
    "                                                        index_from = 3)"
   ]
  },
  {
   "cell_type": "code",
   "execution_count": 3,
   "metadata": {},
   "outputs": [
    {
     "name": "stdout",
     "output_type": "stream",
     "text": [
      "Type:  <class 'numpy.ndarray'>\n",
      "Type:  <class 'numpy.ndarray'>\n",
      "Type:  <class 'numpy.ndarray'>\n",
      "Type:  <class 'numpy.ndarray'>\n",
      "X train shape:  (25000,)\n",
      "X test shape :  (25000,)\n",
      "Y train shape:  (25000,)\n",
      "Y test shape :  (25000,)\n"
     ]
    }
   ],
   "source": [
    "print(\"Type: \", type(X_train))\n",
    "print(\"Type: \", type(X_test))\n",
    "print(\"Type: \", type(Y_train))\n",
    "print(\"Type: \", type(Y_test))\n",
    "\n",
    "print(\"X train shape: \",X_train.shape)\n",
    "print(\"X test shape : \",X_test.shape)\n",
    "print(\"Y train shape: \",Y_train.shape)\n",
    "print(\"Y test shape : \",Y_test.shape)"
   ]
  },
  {
   "cell_type": "markdown",
   "metadata": {},
   "source": [
    "# 2-EDA"
   ]
  },
  {
   "cell_type": "code",
   "execution_count": 4,
   "metadata": {},
   "outputs": [
    {
     "name": "stdout",
     "output_type": "stream",
     "text": [
      "Y train values:  [0 1]\n",
      "Y test values:  [0 1]\n",
      "Y train distribution:  {0: 12500, 1: 12500}\n",
      "Y testdistribution:  {0: 12500, 1: 12500}\n"
     ]
    }
   ],
   "source": [
    "print(\"Y train values: \", np.unique(Y_train)) # There 2 target class values: 0 and 1\n",
    "print(\"Y test values: \", np.unique(Y_test))\n",
    "\n",
    "unique, counts = np.unique(Y_train, return_counts = True)\n",
    "print(\"Y train distribution: \", dict(zip(unique, counts))) # 100% balanced dataset\n",
    "\n",
    "unique, counts = np.unique(Y_test, return_counts = True)\n",
    "print(\"Y testdistribution: \", dict(zip(unique, counts))) # 100% balanced dataset"
   ]
  },
  {
   "cell_type": "code",
   "execution_count": 5,
   "metadata": {},
   "outputs": [
    {
     "data": {
      "image/png": "[encoded data removed]",
      "text/plain": [
       "<Figure size 432x288 with 1 Axes>"
      ]
     },
     "metadata": {
      "needs_background": "light"
     },
     "output_type": "display_data"
    },
    {
     "data": {
      "image/png": "[encoded data removed]",
      "text/plain": [
       "<Figure size 432x288 with 1 Axes>"
      ]
     },
     "metadata": {
      "needs_background": "light"
     },
     "output_type": "display_data"
    }
   ],
   "source": [
    "plt.figure()\n",
    "sns.countplot(x=Y_train)\n",
    "plt.xlabel(\"Classes\")\n",
    "plt.ylabel(\"Freq\")\n",
    "plt.title(\"Y train\")\n",
    "\n",
    "plt.figure()\n",
    "sns.countplot(x=Y_test)\n",
    "plt.xlabel(\"Classes\")\n",
    "plt.ylabel(\"Freq\")\n",
    "plt.title(\"Y test\")\n",
    "plt.show()"
   ]
  },
  {
   "cell_type": "code",
   "execution_count": 6,
   "metadata": {},
   "outputs": [
    {
     "name": "stdout",
     "output_type": "stream",
     "text": [
      "[1, 14, 22, 16, 43, 530, 973, 1622, 1385, 65, 458, 4468, 66, 3941, 4, 173, 36, 256, 5, 25, 100, 43, 838, 112, 50, 670, 22665, 9, 35, 480, 284, 5, 150, 4, 172, 112, 167, 21631, 336, 385, 39, 4, 172, 4536, 1111, 17, 546, 38, 13, 447, 4, 192, 50, 16, 6, 147, 2025, 19, 14, 22, 4, 1920, 4613, 469, 4, 22, 71, 87, 12, 16, 43, 530, 38, 76, 15, 13, 1247, 4, 22, 17, 515, 17, 12, 16, 626, 18, 19193, 5, 62, 386, 12, 8, 316, 8, 106, 5, 4, 2223, 5244, 16, 480, 66, 3785, 33, 4, 130, 12, 16, 38, 619, 5, 25, 124, 51, 36, 135, 48, 25, 1415, 33, 6, 22, 12, 215, 28, 77, 52, 5, 14, 407, 16, 82, 10311, 8, 4, 107, 117, 5952, 15, 256, 4, 31050, 7, 3766, 5, 723, 36, 71, 43, 530, 476, 26, 400, 317, 46, 7, 4, 12118, 1029, 13, 104, 88, 4, 381, 15, 297, 98, 32, 2071, 56, 26, 141, 6, 194, 7486, 18, 4, 226, 22, 21, 134, 476, 26, 480, 5, 144, 30, 5535, 18, 51, 36, 28, 224, 92, 25, 104, 4, 226, 65, 16, 38, 1334, 88, 12, 16, 283, 5, 16, 4472, 113, 103, 32, 15, 16, 5345, 19, 178, 32]\n",
      "\n",
      "Word length in first review: 218\n"
     ]
    }
   ],
   "source": [
    "d = X_train[0]\n",
    "print(d)\n",
    "print(\"\\nWord length in first review:\", len(d))"
   ]
  },
  {
   "cell_type": "code",
   "execution_count": 7,
   "metadata": {},
   "outputs": [
    {
     "name": "stderr",
     "output_type": "stream",
     "text": [
      "C:\\Users\\Pointo2\\anaconda3\\lib\\site-packages\\seaborn\\distributions.py:2619: FutureWarning: `distplot` is a deprecated function and will be removed in a future version. Please adapt your code to use either `displot` (a figure-level function with similar flexibility) or `histplot` (an axes-level function for histograms).\n",
      "  warnings.warn(msg, FutureWarning)\n",
      "C:\\Users\\Pointo2\\anaconda3\\lib\\site-packages\\seaborn\\distributions.py:2619: FutureWarning: `distplot` is a deprecated function and will be removed in a future version. Please adapt your code to use either `displot` (a figure-level function with similar flexibility) or `histplot` (an axes-level function for histograms).\n",
      "  warnings.warn(msg, FutureWarning)\n"
     ]
    }
   ],
   "source": [
    "%matplotlib qt5\n",
    "len_review_train = []\n",
    "len_review_test = []\n",
    "for i, j in zip(X_train, X_test):\n",
    "    len_review_train.append(len(i))\n",
    "    len_review_test.append(len(j))\n",
    "\n",
    "sns.distplot(len_review_train, hist_kws = {\"alpha\":0.3})\n",
    "sns.distplot(len_review_test, hist_kws = {\"alpha\":0.3})\n",
    "plt.show()"
   ]
  },
  {
   "cell_type": "code",
   "execution_count": 8,
   "metadata": {},
   "outputs": [
    {
     "name": "stdout",
     "output_type": "stream",
     "text": [
      "Train mean: 238.71364\n",
      "Train median: 178.0\n",
      "Train mode: ModeResult(mode=array([132]), count=array([196]))\n",
      "\n",
      "Test mean: 230.8042\n",
      "Test median: 174.0\n",
      "Test mode: ModeResult(mode=array([125]), count=array([184]))\n"
     ]
    }
   ],
   "source": [
    "print(\"Train mean:\", np.mean(len_review_train))\n",
    "print(\"Train median:\", np.median(len_review_train))\n",
    "print(\"Train mode:\", stats.mode(len_review_train)) # en yukarı uç değer=> bu değer 132 civarında, kelime sayısını 132'ye fixleyeceğiz.\n",
    "print(\"\\nTest mean:\", np.mean(len_review_test))\n",
    "print(\"Test median:\", np.median(len_review_test))\n",
    "print(\"Test mode:\", stats.mode(len_review_test))"
   ]
  },
  {
   "cell_type": "code",
   "execution_count": 9,
   "metadata": {},
   "outputs": [
    {
     "name": "stdout",
     "output_type": "stream",
     "text": [
      "<class 'dict'>\n",
      "88584\n"
     ]
    }
   ],
   "source": [
    "# number of words\n",
    "word_index = imdb.get_word_index()\n",
    "print(type(word_index))\n",
    "print(len(word_index))"
   ]
  },
  {
   "cell_type": "code",
   "execution_count": 10,
   "metadata": {},
   "outputs": [
    {
     "name": "stdout",
     "output_type": "stream",
     "text": [
      "you\n"
     ]
    }
   ],
   "source": [
    "for keys, values in word_index.items():\n",
    "    if values == 22: # most used 22th word\n",
    "        print(keys)"
   ]
  },
  {
   "cell_type": "code",
   "execution_count": 11,
   "metadata": {},
   "outputs": [],
   "source": [
    "def whatItSay(index = 24):\n",
    "    \n",
    "    reverse_index = dict([(value, key) for (key, value) in word_index.items()])\n",
    "    decode_review = \" \".join([reverse_index.get(i - 3, \"!\") for i in X_train[index]])\n",
    "    print(decode_review)\n",
    "    print(Y_train[index])\n",
    "    return decode_review"
   ]
  },
  {
   "cell_type": "code",
   "execution_count": 12,
   "metadata": {},
   "outputs": [
    {
     "name": "stdout",
     "output_type": "stream",
     "text": [
      "! sorry i just didn't find the subject matter as compelling as the filmmaker did the robot guy and the mole rat guy were pretty interesting although morris didn't really tell us much about them the other two subjects were a bore and the supposed connections between them didn't hold up\n",
      "0\n"
     ]
    }
   ],
   "source": [
    "decoded_review = whatItSay(36)"
   ]
  },
  {
   "cell_type": "markdown",
   "metadata": {},
   "source": [
    "# 3-Preprocess"
   ]
  },
  {
   "cell_type": "code",
   "execution_count": 13,
   "metadata": {},
   "outputs": [],
   "source": [
    "num_words = 15000 # limited the number of words\n",
    "(X_train, Y_train), (X_test, Y_test) = imdb.load_data(num_words = num_words)\n",
    "maxlen = 130 # max review word length\n",
    "X_train = pad_sequences(X_train, maxlen=maxlen)\n",
    "X_test = pad_sequences(X_test, maxlen=maxlen)"
   ]
  },
  {
   "cell_type": "markdown",
   "metadata": {},
   "source": [
    "### NOTE\n",
    "- aşağıda 5. reviewde kullanıcı 42 kelimeden oluşan bir review yazmış. \n",
    "- Matristeki 1 the'ya karşılık gelir, bu 1'in öncesine, word length'ini 130a tamamlamak için, **pad_sequence** 0'lar ekler! :)"
   ]
  },
  {
   "cell_type": "code",
   "execution_count": 14,
   "metadata": {},
   "outputs": [
    {
     "name": "stdout",
     "output_type": "stream",
     "text": [
      "[   0    0    0    0    0    0    0    0    0    0    0    0    0    0\n",
      "    0    0    0    0    0    0    0    0    0    0    0    0    0    0\n",
      "    0    0    0    0    0    0    0    0    0    0    0    0    0    0\n",
      "    0    0    0    0    0    0    0    0    0    0    0    0    0    0\n",
      "    0    0    0    0    0    0    0    0    0    0    0    0    0    0\n",
      "    0    0    0    0    0    0    0    0    0    0    0    0    0    0\n",
      "    0    0    0    1  778  128   74   12  630  163   15    4 1766 7982\n",
      " 1051    2   32   85  156   45   40  148  139  121  664  665   10   10\n",
      " 1361  173    4  749    2   16 3804    8    4  226   65   12   43  127\n",
      "   24    2   10   10]\n"
     ]
    }
   ],
   "source": [
    "print(X_train[5])"
   ]
  },
  {
   "cell_type": "code",
   "execution_count": 15,
   "metadata": {},
   "outputs": [
    {
     "name": "stdout",
     "output_type": "stream",
     "text": [
      "130\n",
      "130\n",
      "130\n",
      "130\n",
      "130\n",
      "130\n",
      "130\n",
      "130\n",
      "130\n",
      "130\n"
     ]
    }
   ],
   "source": [
    "for i in X_train[0:10]:\n",
    "    print(len(i)) # All reviews consist of 130 words. "
   ]
  },
  {
   "cell_type": "code",
   "execution_count": 16,
   "metadata": {},
   "outputs": [
    {
     "name": "stdout",
     "output_type": "stream",
     "text": [
      "! ! ! ! ! ! ! ! ! ! ! ! ! ! ! ! ! ! ! ! ! ! ! ! ! ! ! ! ! ! ! ! ! ! ! ! ! ! ! ! ! ! ! ! ! ! ! ! ! ! ! ! ! ! ! ! ! ! ! ! ! ! ! ! ! ! ! ! ! ! ! ! ! ! ! ! ! ! ! ! ! ! ! ! ! ! ! ! begins better than it ends funny that the russian submarine crew ! all other actors it's like those scenes where documentary shots br br spoiler part the message ! was contrary to the whole story it just does not ! br br\n",
      "0\n"
     ]
    }
   ],
   "source": [
    "decoded_review = whatItSay(5) # ! = unknown word (it starts \"0\")"
   ]
  },
  {
   "cell_type": "markdown",
   "metadata": {},
   "source": [
    "# 4-Create RNN Model"
   ]
  },
  {
   "cell_type": "code",
   "execution_count": 17,
   "metadata": {},
   "outputs": [],
   "source": [
    "rnn = Sequential()"
   ]
  },
  {
   "cell_type": "code",
   "execution_count": 18,
   "metadata": {},
   "outputs": [],
   "source": [
    "# integerları belirli oranda yoğunluk vektörlerine çevirir\n",
    "rnn.add(Embedding(input_dim = num_words, output_dim = 32, input_length = maxlen))\n",
    "# input_shape = total 15000 words and 130 words in a review\n",
    "rnn.add(SimpleRNN(units = 16, input_shape = (num_words, maxlen), return_sequences= False, activation= \"relu\"))\n",
    "rnn.add(Dense(1))\n",
    "rnn.add(Activation(\"sigmoid\")) # for binary classification"
   ]
  },
  {
   "cell_type": "code",
   "execution_count": 19,
   "metadata": {},
   "outputs": [
    {
     "name": "stdout",
     "output_type": "stream",
     "text": [
      "Model: \"sequential\"\n",
      "_________________________________________________________________\n",
      " Layer (type)                Output Shape              Param #   \n",
      "=================================================================\n",
      " embedding (Embedding)       (None, 130, 32)           480000    \n",
      "                                                                 \n",
      " simple_rnn (SimpleRNN)      (None, 16)                784       \n",
      "                                                                 \n",
      " dense (Dense)               (None, 1)                 17        \n",
      "                                                                 \n",
      " activation (Activation)     (None, 1)                 0         \n",
      "                                                                 \n",
      "=================================================================\n",
      "Total params: 480,801\n",
      "Trainable params: 480,801\n",
      "Non-trainable params: 0\n",
      "_________________________________________________________________\n",
      "None\n"
     ]
    }
   ],
   "source": [
    "print(rnn.summary())"
   ]
  },
  {
   "cell_type": "markdown",
   "metadata": {},
   "source": [
    "# 5-Compile, Train and Test Model"
   ]
  },
  {
   "cell_type": "code",
   "execution_count": 20,
   "metadata": {},
   "outputs": [],
   "source": [
    "rnn.compile(loss = \"binary_crossentropy\", optimizer=\"rmsprop\",metrics= [\"accuracy\"])"
   ]
  },
  {
   "cell_type": "code",
   "execution_count": 21,
   "metadata": {},
   "outputs": [
    {
     "name": "stdout",
     "output_type": "stream",
     "text": [
      "Epoch 1/10\n",
      "196/196 [==============================] - 10s 42ms/step - loss: 0.6177 - accuracy: 0.6670 - val_loss: 0.5236 - val_accuracy: 0.8157\n",
      "Epoch 2/10\n",
      "196/196 [==============================] - 14s 69ms/step - loss: 0.4085 - accuracy: 0.8375 - val_loss: 0.3666 - val_accuracy: 0.8437\n",
      "Epoch 3/10\n",
      "196/196 [==============================] - 18s 92ms/step - loss: 0.3040 - accuracy: 0.8752 - val_loss: 0.4715 - val_accuracy: 0.8172\n",
      "Epoch 4/10\n",
      "196/196 [==============================] - 18s 91ms/step - loss: 0.2603 - accuracy: 0.8958 - val_loss: 0.4204 - val_accuracy: 0.8150\n",
      "Epoch 5/10\n",
      "196/196 [==============================] - 18s 92ms/step - loss: 0.2224 - accuracy: 0.9128 - val_loss: 0.3609 - val_accuracy: 0.8408\n",
      "Epoch 6/10\n",
      "196/196 [==============================] - 17s 89ms/step - loss: 0.1955 - accuracy: 0.9256 - val_loss: 0.3971 - val_accuracy: 0.8326\n",
      "Epoch 7/10\n",
      "196/196 [==============================] - 15s 75ms/step - loss: 0.1739 - accuracy: 0.9348 - val_loss: 0.3852 - val_accuracy: 0.8494\n",
      "Epoch 8/10\n",
      "196/196 [==============================] - 14s 71ms/step - loss: 0.1546 - accuracy: 0.9422 - val_loss: 0.3852 - val_accuracy: 0.8509\n",
      "Epoch 9/10\n",
      "196/196 [==============================] - 14s 73ms/step - loss: 0.1385 - accuracy: 0.9483 - val_loss: 0.4087 - val_accuracy: 0.8462\n",
      "Epoch 10/10\n",
      "196/196 [==============================] - 14s 72ms/step - loss: 0.1177 - accuracy: 0.9555 - val_loss: 0.5161 - val_accuracy: 0.8404\n"
     ]
    }
   ],
   "source": [
    "history = rnn.fit(  X_train, \n",
    "                    Y_train, \n",
    "                    validation_data = (X_test, Y_test), \n",
    "                    epochs = 10, \n",
    "                    batch_size = 128, \n",
    "                    verbose=1)"
   ]
  },
  {
   "cell_type": "markdown",
   "metadata": {},
   "source": [
    "# 6-Evauluate Data"
   ]
  },
  {
   "cell_type": "code",
   "execution_count": 22,
   "metadata": {},
   "outputs": [
    {
     "name": "stdout",
     "output_type": "stream",
     "text": [
      "782/782 [==============================] - 11s 13ms/step - loss: 0.5161 - accuracy: 0.8404\n",
      "Accuracy: % 51.61392688751221\n"
     ]
    }
   ],
   "source": [
    "score = rnn.evaluate(X_test, Y_test)\n",
    "print(\"Accuracy: %\",score[0]*100) # örnek olarak ilk score'u yazdırdık."
   ]
  },
  {
   "cell_type": "code",
   "execution_count": 23,
   "metadata": {},
   "outputs": [
    {
     "data": {
      "text/plain": [
       "dict_keys(['loss', 'accuracy', 'val_loss', 'val_accuracy'])"
      ]
     },
     "execution_count": 23,
     "metadata": {},
     "output_type": "execute_result"
    }
   ],
   "source": [
    "history.history.keys()"
   ]
  },
  {
   "cell_type": "code",
   "execution_count": 24,
   "metadata": {},
   "outputs": [],
   "source": [
    "# aşağıdaki plotta en iyi %84te elde edilmiş\n",
    "plt.figure()\n",
    "plt.plot(history.history[\"accuracy\"], label = \"Train\")\n",
    "plt.plot(history.history[\"val_accuracy\"], label = \"Test\")\n",
    "plt.title(\"accuracy\")\n",
    "plt.ylabel(\"accuracy\")\n",
    "plt.xlabel(\"Epochs\")\n",
    "plt.legend() # yukarıda label yazılmazsa hata verir.\n",
    "plt.show() "
   ]
  },
  {
   "cell_type": "code",
   "execution_count": 25,
   "metadata": {},
   "outputs": [],
   "source": [
    "# aşağıdaki plota göre train loss sürekli azalıyor overfitting e doğru gidiyor.\n",
    "# ama test loss bir yere kadar azalıyor, sonra artıyor.\n",
    "plt.figure()\n",
    "plt.plot(history.history[\"loss\"], label = \"Train\")\n",
    "plt.plot(history.history[\"val_loss\"], label = \"Test\")\n",
    "plt.title(\"Loss\")\n",
    "plt.ylabel(\"Loss\")\n",
    "plt.xlabel(\"Epochs\")\n",
    "plt.legend()\n",
    "plt.show()"
   ]
  }
 ],
 "metadata": {
  "interpreter": {
   "hash": "74156147804e2a01f94a3790aedbb2aa695f9a428eee8a505618a6d74e6c12c0"
  },
  "kernelspec": {
   "display_name": "Python 3.9.12 ('base')",
   "language": "python",
   "name": "python3"
  },
  "language_info": {
   "codemirror_mode": {
    "name": "ipython",
    "version": 3
   },
   "file_extension": ".py",
   "mimetype": "text/x-python",
   "name": "python",
   "nbconvert_exporter": "python",
   "pygments_lexer": "ipython3",
   "version": "3.9.12"
  },
  "orig_nbformat": 4
 },
 "nbformat": 4,
 "nbformat_minor": 2
}
